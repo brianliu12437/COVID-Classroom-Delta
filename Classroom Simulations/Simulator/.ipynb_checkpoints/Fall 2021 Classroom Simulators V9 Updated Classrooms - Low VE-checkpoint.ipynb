{
 "cells": [
  {
   "cell_type": "markdown",
   "metadata": {},
   "source": [
    "# Markdown Infection"
   ]
  },
  {
   "cell_type": "code",
   "execution_count": 3,
   "metadata": {},
   "outputs": [],
   "source": [
    "import pandas as pd\n",
    "import sys\n",
    "import warnings\n",
    "import numpy as np\n",
    "import matplotlib.pyplot as plt\n",
    "import pickle\n",
    "if not sys.warnoptions:\n",
    "    warnings.simplefilter(\"ignore\")\n",
    "import seaborn as sns\n",
    "import gc\n",
    "import itertools\n",
    "import random\n",
    "import math\n",
    "from matplotlib.ticker import FormatStrFormatter\n",
    "import ray\n",
    "import shapley\n",
    "sys.path.append('../')\n",
    "\n"
   ]
  },
  {
   "cell_type": "code",
   "execution_count": 4,
   "metadata": {},
   "outputs": [],
   "source": [
    "class_risk_params = {\n",
    "\n",
    "    'vax_effectiveness': .5,\n",
    "    'vax_effectiveness_transmission':.5,\n",
    "    'sensitivity': 0.6,\n",
    "    'mask_efficacy': 0.8\n",
    "}\n",
    "\n",
    "\n",
    "aerosol_params = {\n",
    "    'inhale_air_rate': 6.8,\n",
    "    'dose_response_constant': 1440,\n",
    "    \n",
    "    'nominal_breathe_virus_emitted_hourly': 3300,# corresponding to 10^8 copies / mL\n",
    "    'nominal_talk_virus_emitted_hourly' : 19800,\n",
    "    'nominal_sing_virus_emitted_hourly' : 158400,\n",
    "    'nominal_heavy_breathe_virus_emitted_hourly': 3300*15,\n",
    "\n",
    "    'viral_load_distribution': [0.12, 0.22, 0.3, 0.23, 0.103, 0.0236, 0.0034] # over orders of magnitude from 10^5 to 10^11\n",
    "}\n",
    "\n",
    "\"\"\"\n",
    "Difference of sets\n",
    "\"\"\"\n",
    "def Diff(li1, li2):\n",
    "    li_dif = [i for i in li1 + li2 if i not in li1 or i not in li2]\n",
    "    return li_dif\n",
    "\n",
    "\"\"\"\n",
    "Biased coin flipper\n",
    "\"\"\"\n",
    "def flip(p):\n",
    "    return 1 if random.random() < p else 0\n",
    "\n",
    "\n",
    "def simulate_class_single_aerosol(room,vax_infected, unvax_infected, time,alpha,masked_status,class_type,room_vol,N,pixels_per_foot, air_exchanges_per_hour):\n",
    "    room = room.reset_index()\n",
    "    vax_infect_id = random.sample(list(room[room['seating'] == 'V']['index'].values), vax_infected)\n",
    "    unvax_infect_id = random.sample(list(room[room['seating'] == 'U']['index'].values), unvax_infected)\n",
    "    infected = room[room['index'].isin(np.append(vax_infect_id,unvax_infect_id))]\n",
    "    uninfected = room[ (~room['index'].isin(np.append(vax_infect_id,unvax_infect_id))) & \\\n",
    "                      (room['seating'] != 'E')  ]\n",
    "    \n",
    "    if vax_infected == 1:\n",
    "        source_status = 'V'\n",
    "    elif unvax_infected == 1:\n",
    "        source_status = 'U'\n",
    "    infected_x = infected['x']\n",
    "    infected_y = infected['y']\n",
    "    \n",
    "    unvax_aerosol_risk = (1/air_exchanges_per_hour)*generate_aerosol_risk(room_vol, vax_infected, unvax_infected, time, masked_status, class_type, params = aerosol_params)\n",
    "    \n",
    "    p_infections = []\n",
    "    for i,row in uninfected.iterrows():\n",
    "        \n",
    "        x = row['x']\n",
    "        y = row['y']\n",
    "        v_infect = [x-infected_x,y - infected_y]\n",
    "        v_vert = [0,10000]\n",
    "        dot = v_infect[1]*v_vert[1]\n",
    "        mag1 = 10000\n",
    "        mag2 = np.sqrt((x-infected_x)**2+(y - infected_y)**2)\n",
    "        theta =  math.acos(dot/(mag1*mag2))*180/math.pi\n",
    "        \n",
    "        susceptible_status = row['seating']\n",
    "        \n",
    "        susceptible_aerosol_risk = unvax_aerosol_risk \n",
    "        \n",
    "        if susceptible_status == 'V':\n",
    "            susceptible_aerosol_risk = susceptible_aerosol_risk * (1-class_risk_params['vax_effectiveness'])\n",
    "        \n",
    "        if masked_status == True:\n",
    "            if susceptible_status == 'U':\n",
    "                susceptible_aerosol_risk = susceptible_aerosol_risk * class_risk_params['mask_efficacy']\n",
    "       \n",
    "        if theta < 90 + alpha:\n",
    "            \n",
    "\n",
    "            dist = np.sqrt((infected_x-x)**2+(infected_y-y)**2)\n",
    "            p = updated_distance_to_prob(dist,susceptible_status,source_status,masked_status,time,pixels_per_foot,class_type)\n",
    "            p = max(p,susceptible_aerosol_risk)\n",
    "            p_infections.append(p)\n",
    "            \n",
    "        else:\n",
    "            \n",
    "            p_infections.append(susceptible_aerosol_risk)\n",
    "            \n",
    "    return np.sum(p_infections),unvax_aerosol_risk\n",
    "\n",
    "def updated_distance_to_prob(d,susceptible_status,source_status,masked_status,time,pixels_per_foot,class_type): \n",
    "    \n",
    "    d = d/pixels_per_foot*0.3048\n",
    "    susceptible_const = 1\n",
    "    source_const = 1\n",
    "    masked_const_source = 1\n",
    "    masked_const_susceptible = 1\n",
    "    \n",
    "    if susceptible_status == 'V':\n",
    "        susceptible_const = 1 - class_risk_params['vax_effectiveness'] \n",
    "    if source_status == 'V':\n",
    "        source_const = (1 - class_risk_params['vax_effectiveness_transmission'])\n",
    "        \n",
    "    \n",
    "    if class_type == 'speak':\n",
    "        source_const = source_const*6\n",
    "    \n",
    "    elif class_type == 'sing':\n",
    "        source_const = source_const*48\n",
    "        \n",
    "    elif class_type == 'heavy_breathe':\n",
    "        source_const = source_const*15\n",
    "        \n",
    "    if masked_status == True:\n",
    "        \n",
    "        if source_status == 'U':\n",
    "            masked_const_source = class_risk_params['mask_efficacy']\n",
    "        if susceptible_status == 'U':\n",
    "            masked_const_susceptible = class_risk_params['mask_efficacy']\n",
    "        \n",
    "    prob = 2.4*susceptible_const*masked_const_susceptible *masked_const_source *(1-np.exp(-1 * source_const * 0.0135 *time * (-0.1819*np.log(d)+0.43276)/d))\n",
    "    \n",
    "    prob = float(prob)\n",
    "    return max(prob,0)\n",
    "\n",
    "def generate_aerosol_risk(room_vol, vax_infected, unvax_infected, time, masked_status, class_type, params = aerosol_params):\n",
    "    \n",
    "    if class_type == 'breathe':\n",
    "        v = params['nominal_breathe_virus_emitted_hourly'] \n",
    "    elif class_type == 'speak':\n",
    "        v = params['nominal_talk_virus_emitted_hourly'] \n",
    "    elif class_type == 'sing':\n",
    "        v = params['nominal_sing_virus_emitted_hourly'] \n",
    "    elif class_type == 'heavy_breathe':\n",
    "        v = params['nominal_heavy_breathe_virus_emitted_hourly']\n",
    "    elif class_type == 'no_aerosol':\n",
    "        return 0\n",
    "    \n",
    "    hourly_virus_array = np.array([v/1000, v/100, v/10, v, v*10, v*100, v*1000])\n",
    "    dose_array = hourly_virus_array * params['inhale_air_rate'] / room_vol\n",
    "    \n",
    "    if masked_status == True:\n",
    "        if unvax_infected == 1:\n",
    "            dose_array = dose_array * class_risk_params['mask_efficacy']\n",
    "    \n",
    "    if vax_infected == 1:\n",
    "        dose_array = dose_array * (1 - class_risk_params['vax_effectiveness_transmission'])\n",
    "  \n",
    "    effective_dose_array = dose_array / params['dose_response_constant']\n",
    "\n",
    "    unvax_susceptible_risk_array = 1 - np.exp(-effective_dose_array)\n",
    "    unvax_susceptible_risk = np.dot(unvax_susceptible_risk_array, np.array(params['viral_load_distribution']))\n",
    "    unvax_susceptible_risk_over_time = 2.4*unvax_susceptible_risk * time\n",
    "\n",
    "    return unvax_susceptible_risk_over_time #risk for unvax + no mask"
   ]
  },
  {
   "cell_type": "code",
   "execution_count": 5,
   "metadata": {},
   "outputs": [],
   "source": [
    "def generate_clumpy_plan(N,p,room, clump_size = 3):\n",
    "    Nvax = round(N*p)\n",
    "    Nunvax = N-Nvax\n",
    "    room = room.drop('UnvaxSpot',axis = 1).reset_index()\n",
    "    grid = room.copy()\n",
    "    grid['seating'] = 'E'\n",
    "    \n",
    "    if Nunvax > 0:\n",
    "        clump_size = min(clump_size,Nunvax)\n",
    "        num_clumps = math.floor(Nunvax/clump_size)\n",
    "        remainder = Nunvax - num_clumps*clump_size\n",
    "        clump = 0\n",
    "        while clump < (num_clumps):\n",
    "            ind1 = np.random.choice(room['index'].values,replace = False)\n",
    "            grid['seating'].loc[grid['index'] == ind1] = 'U'\n",
    "            room = room.drop(ind1, axis = 0)\n",
    "            x_temp = grid['x'].loc[grid['index'] == ind1].values[0]\n",
    "            y_temp = grid['y'].loc[grid['index'] == ind1].values[0]  \n",
    "            temp = room.copy()\n",
    "            temp['dist_infected'] = ((temp['x'] -x_temp) ** 2 + (temp['y'] - y_temp) ** 2) ** 0.5\n",
    "            temp = temp.sort_values('dist_infected', ascending = True).head(clump_size-1)\n",
    "            grid['seating'].loc[grid['index'].isin(temp['index'].values)] = 'U'\n",
    "            room = room.drop(temp['index'].values, axis = 0)\n",
    "            clump = clump + 1\n",
    "        remainder_ind = np.random.choice(grid['index'].loc[grid['seating'] == 'E'],remainder,replace = False)\n",
    "        grid['seating'].loc[grid['index'].isin(remainder_ind)] = 'U'\n",
    "\n",
    "    vax_ind = np.random.choice(grid['index'].loc[grid['seating'] == 'E'],Nvax,replace = False) \n",
    "    grid['seating'].loc[grid['index'].isin(vax_ind)] = 'V'\n",
    "    \n",
    "    return grid\n",
    "\n",
    "def generate_random_plan(N,p,room):\n",
    "    Nvax = round(N*p)\n",
    "    Nunvax = N-Nvax\n",
    "    \n",
    "    room = room.drop('UnvaxSpot',axis = 1)\n",
    "    grid = room.copy()\n",
    "    grid = grid.reset_index()\n",
    "    temp = list(np.append(np.append(np.repeat('V',Nvax),np.repeat('U',Nunvax)),np.repeat('E',len(grid)-Nvax-Nunvax)))\n",
    "    random.shuffle(temp)\n",
    "    grid['seating'] = temp\n",
    "    return grid\n"
   ]
  },
  {
   "cell_type": "markdown",
   "metadata": {},
   "source": [
    "# Load Room Plans"
   ]
  },
  {
   "cell_type": "code",
   "execution_count": 6,
   "metadata": {},
   "outputs": [
    {
     "data": {
      "text/plain": [
       "([], [])"
      ]
     },
     "execution_count": 6,
     "metadata": {},
     "output_type": "execute_result"
    },
    {
     "data": {
      "image/png": "[encoded data removed]",
      "text/plain": [
       "<Figure size 432x288 with 1 Axes>"
      ]
     },
     "metadata": {},
     "output_type": "display_data"
    }
   ],
   "source": [
    "# Big Room\n",
    "with open(\"../Data/rk201.pickle\" , 'rb') as handle:\n",
    "    layout = pickle.load(handle)\n",
    "\n",
    "big_pixels_per_foot = (2074-1575)/20\n",
    "big_volume = 1684283\n",
    "\n",
    "x_coord = [i.x for i in layout['Middles']]\n",
    "y_coord = [i.y for i in layout['Middles']]\n",
    "room = pd.DataFrame(np.column_stack((x_coord,y_coord)), columns = ['x','y'])\n",
    "room['UnvaxSpot'] = layout['In Solution']\n",
    "\n",
    "\n",
    "\n",
    "FA2020room = room.copy()\n",
    "FA2020room['label'] = FA2020room.index\n",
    "\n",
    "#label of seats used in 2020\n",
    "indicies = [282,283,284,285, 286,287,288,289,290,365,238,270,273,110,362,358,227,222,260,104,100,348,352,207,20,250,89,\n",
    "           93,76,80,189,193,172,163,339,334,321,168,25,2,61,65,51,14,121,138,149,308,312,299,294,144,124,34,40,36]\n",
    "FA2020room['UnvaxSpot'] = 0\n",
    "FA2020room['UnvaxSpot'].iloc[indicies] = 1\n",
    "FA2020room.drop('label', axis =1,inplace = True)\n",
    "FA2020room['seating'] = 'E'\n",
    "FA2020room['seating'].loc[FA2020room['UnvaxSpot'] == 1] = 'U'\n",
    "plt.figure()\n",
    "plt.scatter(FA2020room[FA2020room['UnvaxSpot'] == 0]['x'],FA2020room[FA2020room['UnvaxSpot'] == 0]['y'])\n",
    "plt.scatter(FA2020room[FA2020room['UnvaxSpot'] == 1]['x'],FA2020room[FA2020room['UnvaxSpot'] == 1]['y'], label = 'Available Seat')\n",
    "plt.title('Rockefeller 201 Seating Plan')\n",
    "FA2020_subset = FA2020room[FA2020room['UnvaxSpot']==1 ].reset_index().drop('index', axis = 1)\n",
    "big_plan = FA2020_subset.copy()\n",
    "plt.legend()\n",
    "plt.xticks([])\n",
    "plt.yticks([])\n",
    "#print([big_pixels_per_foot,big_volume,big_plan])"
   ]
  },
  {
   "cell_type": "code",
   "execution_count": 7,
   "metadata": {},
   "outputs": [
    {
     "data": {
      "text/plain": [
       "<matplotlib.legend.Legend at 0x7fa9d0e31df0>"
      ]
     },
     "execution_count": 7,
     "metadata": {},
     "output_type": "execute_result"
    },
    {
     "data": {
      "image/png": "[encoded data removed]",
      "text/plain": [
       "<Figure size 432x288 with 1 Axes>"
      ]
     },
     "metadata": {},
     "output_type": "display_data"
    }
   ],
   "source": [
    "with open(\"../Data/gtsg01.pickle\" , 'rb') as handle:\n",
    "    layout = pickle.load(handle)\n",
    "\n",
    "medium_pixels_per_foot = (2834-2082)/20\n",
    "medium_volume = 1087931\n",
    "\n",
    "x_coord = [-i.x +3000 for i in layout['Middles']]\n",
    "y_coord = [-i.y +3000 for i in layout['Middles']]\n",
    "room = pd.DataFrame(np.column_stack((x_coord,y_coord)), columns = ['x','y'])\n",
    "room['UnvaxSpot'] = layout['In Solution']\n",
    "room_subset = room[room['UnvaxSpot'] == 1].reset_index().drop('index',axis = 1)\n",
    "medium_plan = room_subset.copy()\n",
    "\n",
    "plt.scatter(room[room['UnvaxSpot'] == 0]['x'],room[room['UnvaxSpot'] == 0]['y'])\n",
    "plt.scatter(room[room['UnvaxSpot'] == 1]['x'],room[room['UnvaxSpot'] == 1]['y'], label = 'Available Seat')\n",
    "plt.title('Gates G01 Seating Plan')\n",
    "plt.xticks([])\n",
    "plt.yticks([])\n",
    "plt.legend()"
   ]
  },
  {
   "cell_type": "code",
   "execution_count": 8,
   "metadata": {},
   "outputs": [
    {
     "data": {
      "text/plain": [
       "([], [])"
      ]
     },
     "execution_count": 8,
     "metadata": {},
     "output_type": "execute_result"
    },
    {
     "data": {
      "image/png": "[encoded data removed]",
      "text/plain": [
       "<Figure size 432x288 with 1 Axes>"
      ]
     },
     "metadata": {},
     "output_type": "display_data"
    }
   ],
   "source": [
    "# Small Room\n",
    "with open(\"../Data/hls206.pickle\" , 'rb') as handle:\n",
    "    layout = pickle.load(handle)\n",
    "\n",
    "small_pixels_per_foot = (2014-1260)/15\n",
    "small_volume = 222004\n",
    "\n",
    "x_coord = [i.x for i in layout['Middles']]\n",
    "y_coord = [i.y for i in layout['Middles']]\n",
    "room = pd.DataFrame(np.column_stack((x_coord,y_coord)), columns = ['x','y'])\n",
    "room['UnvaxSpot'] = layout['In Solution']\n",
    "\n",
    "\n",
    "small_plan = room.copy()\n",
    "\n",
    "\n",
    "plt.figure()\n",
    "plt.scatter(small_plan[small_plan['UnvaxSpot'] == 0]['x'],small_plan[small_plan['UnvaxSpot'] == 0]['y'])\n",
    "plt.scatter(small_plan[small_plan['UnvaxSpot'] == 1]['x'],small_plan[small_plan['UnvaxSpot'] == 1]['y'],  label = 'Available Seat')\n",
    "plt.title('Holister 206 Seating Plan')\n",
    "plt.legend()\n",
    "plt.xticks([])\n",
    "plt.yticks([])\n",
    "\n",
    "#print([small_pixels_per_foot,small_volume,small_plan])"
   ]
  },
  {
   "cell_type": "code",
   "execution_count": 9,
   "metadata": {
    "scrolled": false
   },
   "outputs": [
    {
     "name": "stdout",
     "output_type": "stream",
     "text": [
      "V    35\n",
      "U    15\n",
      "E     6\n",
      "Name: seating, dtype: int64\n",
      "V    35\n",
      "E    27\n",
      "U    15\n",
      "Name: seating, dtype: int64\n",
      "V    35\n",
      "U    15\n",
      "E     2\n",
      "Name: seating, dtype: int64\n",
      "V    35\n",
      "U    15\n",
      "E     6\n",
      "Name: seating, dtype: int64\n",
      "V    35\n",
      "E    27\n",
      "U    15\n",
      "Name: seating, dtype: int64\n",
      "V    35\n",
      "U    15\n",
      "E     2\n",
      "Name: seating, dtype: int64\n"
     ]
    },
    {
     "data": {
      "image/png": "[encoded data removed]",
      "text/plain": [
       "<Figure size 432x288 with 1 Axes>"
      ]
     },
     "metadata": {},
     "output_type": "display_data"
    },
    {
     "data": {
      "image/png": "[encoded data removed]",
      "text/plain": [
       "<Figure size 432x288 with 1 Axes>"
      ]
     },
     "metadata": {},
     "output_type": "display_data"
    },
    {
     "data": {
      "image/png": "[encoded data removed]",
      "text/plain": [
       "<Figure size 432x288 with 1 Axes>"
      ]
     },
     "metadata": {},
     "output_type": "display_data"
    },
    {
     "data": {
      "image/png": "[encoded data removed]",
      "text/plain": [
       "<Figure size 432x288 with 1 Axes>"
      ]
     },
     "metadata": {},
     "output_type": "display_data"
    },
    {
     "data": {
      "image/png": "[encoded data removed]",
      "text/plain": [
       "<Figure size 432x288 with 1 Axes>"
      ]
     },
     "metadata": {},
     "output_type": "display_data"
    },
    {
     "data": {
      "image/png": "[encoded data removed]",
      "text/plain": [
       "<Figure size 432x288 with 1 Axes>"
      ]
     },
     "metadata": {},
     "output_type": "display_data"
    }
   ],
   "source": [
    "grid = generate_clumpy_plan(50,.7,big_plan,3)\n",
    "plt.figure()\n",
    "plt.scatter(grid[grid['seating'] == 'U']['x'],grid[grid['seating'] == 'U']['y'], label = 'Unvax',color = 'red')\n",
    "plt.scatter(grid[grid['seating'] == 'V']['x'],grid[grid['seating'] == 'V']['y'], label = 'Vax',color = 'blue')\n",
    "plt.scatter(grid[grid['seating'] == 'E']['x'],grid[grid['seating'] == 'E']['y'], label = 'Empty',color = 'grey')\n",
    "plt.scatter(FA2020room[FA2020room['UnvaxSpot'] == 0]['x'],FA2020room[FA2020room['UnvaxSpot'] == 0]['y'],color = 'grey')\n",
    "plt.title('Big Room '+ 'Clump Seating')\n",
    "plt.legend()\n",
    "plt.xticks([])\n",
    "plt.yticks([])\n",
    "print(grid['seating'].value_counts())\n",
    "\n",
    "grid = generate_clumpy_plan(50,.7,medium_plan,3)\n",
    "plt.figure()\n",
    "plt.scatter(grid[grid['seating'] == 'U']['x'],grid[grid['seating'] == 'U']['y'], label = 'Unvax',color = 'red')\n",
    "plt.scatter(grid[grid['seating'] == 'V']['x'],grid[grid['seating'] == 'V']['y'], label = 'Vax',color = 'blue')\n",
    "plt.scatter(grid[grid['seating'] == 'E']['x'],grid[grid['seating'] == 'E']['y'], label = 'Empty',color = 'grey')\n",
    "plt.title('Medium Room '+ 'Clump Seating')\n",
    "plt.legend()\n",
    "plt.xticks([])\n",
    "plt.yticks([])\n",
    "print(grid['seating'].value_counts())\n",
    "\n",
    "\n",
    "grid = generate_clumpy_plan(50,.7,small_plan,3)\n",
    "plt.figure()\n",
    "plt.scatter(grid[grid['seating'] == 'U']['x'],grid[grid['seating'] == 'U']['y'], label = 'Unvax',color = 'red')\n",
    "plt.scatter(grid[grid['seating'] == 'V']['x'],grid[grid['seating'] == 'V']['y'], label = 'Vax',color = 'blue')\n",
    "plt.scatter(grid[grid['seating'] == 'E']['x'],grid[grid['seating'] == 'E']['y'], label = 'Empty',color = 'grey')\n",
    "plt.title('Small Room '+ 'Clump Seating')\n",
    "plt.legend()\n",
    "plt.xticks([])\n",
    "plt.yticks([])\n",
    "print(grid['seating'].value_counts())\n",
    "\n",
    "grid = generate_random_plan(50,.7,big_plan)\n",
    "plt.figure()\n",
    "plt.scatter(grid[grid['seating'] == 'U']['x'],grid[grid['seating'] == 'U']['y'], label = 'Unvax',color = 'red')\n",
    "plt.scatter(grid[grid['seating'] == 'V']['x'],grid[grid['seating'] == 'V']['y'], label = 'Vax',color = 'blue')\n",
    "plt.scatter(grid[grid['seating'] == 'E']['x'],grid[grid['seating'] == 'E']['y'], label = 'Empty',color = 'grey')\n",
    "plt.scatter(FA2020room[FA2020room['UnvaxSpot'] == 0]['x'],FA2020room[FA2020room['UnvaxSpot'] == 0]['y'],color = 'grey')\n",
    "plt.title('Big Room '+ 'Random Seating')\n",
    "plt.legend()\n",
    "plt.xticks([])\n",
    "plt.yticks([])\n",
    "print(grid['seating'].value_counts())\n",
    "\n",
    "grid = generate_random_plan(50,.7,medium_plan)\n",
    "plt.figure()\n",
    "plt.scatter(grid[grid['seating'] == 'U']['x'],grid[grid['seating'] == 'U']['y'], label = 'Unvax',color = 'red')\n",
    "plt.scatter(grid[grid['seating'] == 'V']['x'],grid[grid['seating'] == 'V']['y'], label = 'Vax',color = 'blue')\n",
    "plt.scatter(grid[grid['seating'] == 'E']['x'],grid[grid['seating'] == 'E']['y'], label = 'Empty',color = 'grey')\n",
    "plt.title('Medium Room '+ 'Random Seating')\n",
    "plt.legend()\n",
    "plt.xticks([])\n",
    "plt.yticks([])\n",
    "print(grid['seating'].value_counts())\n",
    "\n",
    "grid = generate_random_plan(50,.7,small_plan)\n",
    "plt.figure()\n",
    "plt.scatter(grid[grid['seating'] == 'U']['x'],grid[grid['seating'] == 'U']['y'], label = 'Unvax',color = 'red')\n",
    "plt.scatter(grid[grid['seating'] == 'V']['x'],grid[grid['seating'] == 'V']['y'], label = 'Vax',color = 'blue')\n",
    "plt.scatter(grid[grid['seating'] == 'E']['x'],grid[grid['seating'] == 'E']['y'], label = 'Empty',color = 'grey')\n",
    "plt.title('Small Room '+ 'Random Seating')\n",
    "plt.legend()\n",
    "plt.xticks([])\n",
    "plt.yticks([])\n",
    "print(grid['seating'].value_counts())"
   ]
  },
  {
   "cell_type": "markdown",
   "metadata": {},
   "source": [
    "### Simulator"
   ]
  },
  {
   "cell_type": "code",
   "execution_count": 10,
   "metadata": {},
   "outputs": [],
   "source": [
    "#General Parameters\n",
    "seating_function = generate_clumpy_plan\n",
    "p_range = [0.9]\n",
    "\n",
    "N = 50\n",
    "angle = 15\n",
    "time = 1\n",
    "\n",
    "\n",
    "class_risk_params = {\n",
    " 'vax_effectiveness_transmission':0,\n",
    "    'vax_effectiveness': .5,\n",
    "    'sensitivity': 0.6,\n",
    "    'mask_efficacy': 0.4\n",
    "}\n",
    "\n",
    "\n",
    "aerosol_params = {\n",
    "    'inhale_air_rate': 6.8,\n",
    "    'dose_response_constant': 1440,\n",
    "    \n",
    "    'nominal_breathe_virus_emitted_hourly': 3300,# corresponding to 10^8 copies / mL\n",
    "    'nominal_talk_virus_emitted_hourly' : 27300,\n",
    "    'nominal_sing_virus_emitted_hourly' : 330000,\n",
    "    'nominal_heavy_breathe_virus_emitted_hourly': 3300*15,\n",
    "\n",
    "    'viral_load_distribution': [0.12, 0.22, 0.3, 0.23, 0.103, 0.0236, 0.0034] # over orders of magnitude from 10^5 to 10^11\n",
    "}\n",
    "\n",
    "\n",
    "\n"
   ]
  },
  {
   "cell_type": "code",
   "execution_count": 11,
   "metadata": {},
   "outputs": [],
   "source": [
    "args = [\n",
    "    [False,big_plan,big_volume,big_pixels_per_foot,'speak',2,'distanced_speak_nomask_2x'],\n",
    "    [False,big_plan,big_volume,big_pixels_per_foot,'speak',4,'distanced_speak_nomask_4x'],\n",
    "    \n",
    "    [True,big_plan,big_volume,big_pixels_per_foot,'speak',2,'distanced_speak_unvaxmask_2x'],\n",
    "    [True,big_plan,big_volume,big_pixels_per_foot,'speak',4,'distanced_speak_unvaxmask_4x'],\n",
    "\n",
    "    [False,medium_plan,medium_volume,medium_pixels_per_foot,'speak',2,'moderate_speak_nomask_2x'],\n",
    "    [False,medium_plan,medium_volume,medium_pixels_per_foot,'speak',4,'moderate_speak_nomask_4x'],\n",
    "    \n",
    "    [True,medium_plan,medium_volume,medium_pixels_per_foot,'speak',2,'moderate_speak_unvaxmask_2x'],\n",
    "    [True,medium_plan,medium_volume,medium_pixels_per_foot,'speak',4,'moderate_speak_unvaxmask_4x'],\n",
    "    \n",
    "\n",
    "    [False,small_plan,small_volume,small_pixels_per_foot,'speak',2,'dense_speak_nomask_2x'],\n",
    "    [False,small_plan,small_volume,small_pixels_per_foot,'speak',4,'dense_speak_nomask_4x'],\n",
    "    \n",
    "    [False,big_plan,big_volume,big_pixels_per_foot,'speak',1,'distanced_speak_nomask_1x'],\n",
    "    [True,big_plan,big_volume,big_pixels_per_foot,'speak',1,'distanced_speak_unvaxmask_1x'],\n",
    "    \n",
    "  \n",
    "    [False,medium_plan,medium_volume,medium_pixels_per_foot,'speak',1,'moderate_speak_nomask_1x'],\n",
    "    [True,medium_plan,medium_volume,medium_pixels_per_foot,'speak',1,'moderate_speak_unvaxmask_1x'],\n",
    "\n",
    "\n",
    "  \n",
    "    [False,small_plan,small_volume,small_pixels_per_foot,'speak',1,'dense_speak_nomask_1x'],\n",
    "    [True,small_plan,small_volume,small_pixels_per_foot,'speak',1,'dense_speak_unvaxmask_1x'],\n",
    "    \n",
    "    [True,small_plan,small_volume,small_pixels_per_foot,'speak',2,'dense_speak_unvaxmask_2x'],\n",
    "    [True,small_plan,small_volume,small_pixels_per_foot,'speak',4,'dense_speak_unvaxmask_4x'],\n",
    "    \n",
    "    [False,big_plan,big_volume,big_pixels_per_foot,'sing',2,'distanced_sing_nomask_2x'],\n",
    "    [False,big_plan,big_volume,big_pixels_per_foot,'sing',4,'distanced_sing_nomask_4x'],\n",
    "    \n",
    "    [True,big_plan,big_volume,big_pixels_per_foot,'sing',2,'distanced_sing_unvaxmask_2x'],\n",
    "    [True,big_plan,big_volume,big_pixels_per_foot,'sing',4,'distanced_sing_unvaxmask_4x'],\n",
    "\n",
    "    [False,medium_plan,medium_volume,medium_pixels_per_foot,'sing',2,'moderate_sing_nomask_2x'],\n",
    "    [False,medium_plan,medium_volume,medium_pixels_per_foot,'sing',4,'moderate_sing_nomask_4x'],\n",
    "    \n",
    "    [True,medium_plan,medium_volume,medium_pixels_per_foot,'sing',2,'moderate_sing_unvaxmask_2x'],\n",
    "    [True,medium_plan,medium_volume,medium_pixels_per_foot,'sing',4,'moderate_sing_unvaxmask_4x'],\n",
    "    \n",
    "\n",
    "    [False,small_plan,small_volume,small_pixels_per_foot,'sing',2,'dense_sing_nomask_2x'],\n",
    "    [False,small_plan,small_volume,small_pixels_per_foot,'sing',4,'dense_sing_nomask_4x'],\n",
    "    \n",
    "    [False,big_plan,big_volume,big_pixels_per_foot,'sing',1,'distanced_sing_nomask_1x'],\n",
    "    [True,big_plan,big_volume,big_pixels_per_foot,'sing',1,'distanced_sing_unvaxmask_1x'],\n",
    "    \n",
    "  \n",
    "    [False,medium_plan,medium_volume,medium_pixels_per_foot,'sing',1,'moderate_sing_nomask_1x'],\n",
    "    [True,medium_plan,medium_volume,medium_pixels_per_foot,'sing',1,'moderate_sing_unvaxmask_1x'],\n",
    "\n",
    "\n",
    "  \n",
    "    [False,small_plan,small_volume,small_pixels_per_foot,'sing',1,'dense_sing_nomask_1x'],\n",
    "    [True,small_plan,small_volume,small_pixels_per_foot,'sing',1,'dense_sing_unvaxmask_1x'],\n",
    "    \n",
    "    [True,small_plan,small_volume,small_pixels_per_foot,'sing',2,'dense_sing_unvaxmask_2x'],\n",
    "    [True,small_plan,small_volume,small_pixels_per_foot,'sing',4,'dense_sing_unvaxmask_4x'],\n",
    "]\n",
    "\n"
   ]
  },
  {
   "cell_type": "code",
   "execution_count": 12,
   "metadata": {},
   "outputs": [],
   "source": [
    "@ray.remote\n",
    "def parallel_wrapper(p):\n",
    "    trial = 0\n",
    "    results = []\n",
    "    results_aerosol = []\n",
    "    while trial < 500:\n",
    "        grid = seating_function(N,p,room)\n",
    "        p_generate = (1-class_risk_params['vax_effectiveness'])*p/(1-class_risk_params['vax_effectiveness']*p)\n",
    "        ind = flip(p_generate)\n",
    "        if sum(grid['seating'] == 'V') == 0:\n",
    "            ind = 0\n",
    "        elif sum(grid['seating'] == 'U') == 0:\n",
    "            ind = 1\n",
    "        \n",
    "        infect,aerosol = simulate_class_single_aerosol(grid,ind, 1-ind, time,angle,masked_status,class_type,room_vol,N,pixels_per_foot,air_exchanges_per_hour)\n",
    "        results.append(infect)\n",
    "        results_aerosol.append(aerosol)\n",
    "        trial = trial + 1\n",
    "    return [p,np.mean(results),np.std(results), np.mean(results_aerosol)]"
   ]
  },
  {
   "cell_type": "code",
   "execution_count": 13,
   "metadata": {
    "scrolled": true
   },
   "outputs": [
    {
     "name": "stdout",
     "output_type": "stream",
     "text": [
      "distanced_speak_nomask_2x\n"
     ]
    },
    {
     "name": "stderr",
     "output_type": "stream",
     "text": [
      "2021-09-02 12:47:50,550\tINFO services.py:1245 -- View the Ray dashboard at \u001b[1m\u001b[32mhttp://127.0.0.1:8265\u001b[39m\u001b[22m\n"
     ]
    },
    {
     "name": "stdout",
     "output_type": "stream",
     "text": [
      "distanced_speak_nomask_4x\n"
     ]
    },
    {
     "name": "stderr",
     "output_type": "stream",
     "text": [
      "2021-09-02 12:48:22,853\tINFO services.py:1245 -- View the Ray dashboard at \u001b[1m\u001b[32mhttp://127.0.0.1:8265\u001b[39m\u001b[22m\n"
     ]
    },
    {
     "name": "stdout",
     "output_type": "stream",
     "text": [
      "distanced_speak_unvaxmask_2x\n"
     ]
    },
    {
     "name": "stderr",
     "output_type": "stream",
     "text": [
      "2021-09-02 12:48:55,451\tINFO services.py:1245 -- View the Ray dashboard at \u001b[1m\u001b[32mhttp://127.0.0.1:8265\u001b[39m\u001b[22m\n"
     ]
    },
    {
     "name": "stdout",
     "output_type": "stream",
     "text": [
      "distanced_speak_unvaxmask_4x\n"
     ]
    },
    {
     "name": "stderr",
     "output_type": "stream",
     "text": [
      "2021-09-02 12:49:27,597\tINFO services.py:1245 -- View the Ray dashboard at \u001b[1m\u001b[32mhttp://127.0.0.1:8265\u001b[39m\u001b[22m\n"
     ]
    },
    {
     "name": "stdout",
     "output_type": "stream",
     "text": [
      "moderate_speak_nomask_2x\n"
     ]
    },
    {
     "name": "stderr",
     "output_type": "stream",
     "text": [
      "2021-09-02 12:50:00,147\tINFO services.py:1245 -- View the Ray dashboard at \u001b[1m\u001b[32mhttp://127.0.0.1:8265\u001b[39m\u001b[22m\n"
     ]
    },
    {
     "name": "stdout",
     "output_type": "stream",
     "text": [
      "moderate_speak_nomask_4x\n"
     ]
    },
    {
     "name": "stderr",
     "output_type": "stream",
     "text": [
      "2021-09-02 12:50:34,087\tINFO services.py:1245 -- View the Ray dashboard at \u001b[1m\u001b[32mhttp://127.0.0.1:8265\u001b[39m\u001b[22m\n"
     ]
    },
    {
     "name": "stdout",
     "output_type": "stream",
     "text": [
      "moderate_speak_unvaxmask_2x\n"
     ]
    },
    {
     "name": "stderr",
     "output_type": "stream",
     "text": [
      "2021-09-02 12:51:06,221\tINFO services.py:1245 -- View the Ray dashboard at \u001b[1m\u001b[32mhttp://127.0.0.1:8265\u001b[39m\u001b[22m\n"
     ]
    },
    {
     "name": "stdout",
     "output_type": "stream",
     "text": [
      "moderate_speak_unvaxmask_4x\n"
     ]
    },
    {
     "name": "stderr",
     "output_type": "stream",
     "text": [
      "2021-09-02 12:51:38,398\tINFO services.py:1245 -- View the Ray dashboard at \u001b[1m\u001b[32mhttp://127.0.0.1:8265\u001b[39m\u001b[22m\n"
     ]
    },
    {
     "name": "stdout",
     "output_type": "stream",
     "text": [
      "dense_speak_nomask_2x\n"
     ]
    },
    {
     "name": "stderr",
     "output_type": "stream",
     "text": [
      "2021-09-02 12:52:09,534\tINFO services.py:1245 -- View the Ray dashboard at \u001b[1m\u001b[32mhttp://127.0.0.1:8265\u001b[39m\u001b[22m\n"
     ]
    },
    {
     "name": "stdout",
     "output_type": "stream",
     "text": [
      "dense_speak_nomask_4x\n"
     ]
    },
    {
     "name": "stderr",
     "output_type": "stream",
     "text": [
      "2021-09-02 12:52:42,323\tINFO services.py:1245 -- View the Ray dashboard at \u001b[1m\u001b[32mhttp://127.0.0.1:8265\u001b[39m\u001b[22m\n"
     ]
    },
    {
     "name": "stdout",
     "output_type": "stream",
     "text": [
      "distanced_speak_nomask_1x\n"
     ]
    },
    {
     "name": "stderr",
     "output_type": "stream",
     "text": [
      "2021-09-02 12:53:15,120\tINFO services.py:1245 -- View the Ray dashboard at \u001b[1m\u001b[32mhttp://127.0.0.1:8265\u001b[39m\u001b[22m\n"
     ]
    },
    {
     "name": "stdout",
     "output_type": "stream",
     "text": [
      "distanced_speak_unvaxmask_1x\n"
     ]
    },
    {
     "name": "stderr",
     "output_type": "stream",
     "text": [
      "2021-09-02 12:53:47,572\tINFO services.py:1245 -- View the Ray dashboard at \u001b[1m\u001b[32mhttp://127.0.0.1:8265\u001b[39m\u001b[22m\n"
     ]
    },
    {
     "name": "stdout",
     "output_type": "stream",
     "text": [
      "moderate_speak_nomask_1x\n"
     ]
    },
    {
     "name": "stderr",
     "output_type": "stream",
     "text": [
      "2021-09-02 12:54:20,138\tINFO services.py:1245 -- View the Ray dashboard at \u001b[1m\u001b[32mhttp://127.0.0.1:8265\u001b[39m\u001b[22m\n"
     ]
    },
    {
     "name": "stdout",
     "output_type": "stream",
     "text": [
      "moderate_speak_unvaxmask_1x\n"
     ]
    },
    {
     "name": "stderr",
     "output_type": "stream",
     "text": [
      "2021-09-02 12:54:52,942\tINFO services.py:1245 -- View the Ray dashboard at \u001b[1m\u001b[32mhttp://127.0.0.1:8265\u001b[39m\u001b[22m\n"
     ]
    },
    {
     "name": "stdout",
     "output_type": "stream",
     "text": [
      "dense_speak_nomask_1x\n"
     ]
    },
    {
     "name": "stderr",
     "output_type": "stream",
     "text": [
      "2021-09-02 12:55:25,517\tINFO services.py:1245 -- View the Ray dashboard at \u001b[1m\u001b[32mhttp://127.0.0.1:8265\u001b[39m\u001b[22m\n"
     ]
    },
    {
     "name": "stdout",
     "output_type": "stream",
     "text": [
      "dense_speak_unvaxmask_1x\n"
     ]
    },
    {
     "name": "stderr",
     "output_type": "stream",
     "text": [
      "2021-09-02 12:55:59,187\tINFO services.py:1245 -- View the Ray dashboard at \u001b[1m\u001b[32mhttp://127.0.0.1:8265\u001b[39m\u001b[22m\n"
     ]
    },
    {
     "name": "stdout",
     "output_type": "stream",
     "text": [
      "dense_speak_unvaxmask_2x\n"
     ]
    },
    {
     "name": "stderr",
     "output_type": "stream",
     "text": [
      "2021-09-02 12:56:32,158\tINFO services.py:1245 -- View the Ray dashboard at \u001b[1m\u001b[32mhttp://127.0.0.1:8265\u001b[39m\u001b[22m\n"
     ]
    },
    {
     "name": "stdout",
     "output_type": "stream",
     "text": [
      "dense_speak_unvaxmask_4x\n"
     ]
    },
    {
     "name": "stderr",
     "output_type": "stream",
     "text": [
      "2021-09-02 12:57:06,394\tINFO services.py:1245 -- View the Ray dashboard at \u001b[1m\u001b[32mhttp://127.0.0.1:8265\u001b[39m\u001b[22m\n"
     ]
    },
    {
     "name": "stdout",
     "output_type": "stream",
     "text": [
      "distanced_sing_nomask_2x\n"
     ]
    },
    {
     "name": "stderr",
     "output_type": "stream",
     "text": [
      "2021-09-02 12:57:38,778\tINFO services.py:1245 -- View the Ray dashboard at \u001b[1m\u001b[32mhttp://127.0.0.1:8265\u001b[39m\u001b[22m\n"
     ]
    },
    {
     "name": "stdout",
     "output_type": "stream",
     "text": [
      "distanced_sing_nomask_4x\n"
     ]
    },
    {
     "name": "stderr",
     "output_type": "stream",
     "text": [
      "2021-09-02 12:58:11,246\tINFO services.py:1245 -- View the Ray dashboard at \u001b[1m\u001b[32mhttp://127.0.0.1:8265\u001b[39m\u001b[22m\n"
     ]
    },
    {
     "name": "stdout",
     "output_type": "stream",
     "text": [
      "distanced_sing_unvaxmask_2x\n"
     ]
    },
    {
     "name": "stderr",
     "output_type": "stream",
     "text": [
      "2021-09-02 12:58:43,374\tINFO services.py:1245 -- View the Ray dashboard at \u001b[1m\u001b[32mhttp://127.0.0.1:8265\u001b[39m\u001b[22m\n"
     ]
    },
    {
     "name": "stdout",
     "output_type": "stream",
     "text": [
      "distanced_sing_unvaxmask_4x\n"
     ]
    },
    {
     "name": "stderr",
     "output_type": "stream",
     "text": [
      "2021-09-02 12:59:15,831\tINFO services.py:1245 -- View the Ray dashboard at \u001b[1m\u001b[32mhttp://127.0.0.1:8265\u001b[39m\u001b[22m\n"
     ]
    },
    {
     "name": "stdout",
     "output_type": "stream",
     "text": [
      "moderate_sing_nomask_2x\n"
     ]
    },
    {
     "name": "stderr",
     "output_type": "stream",
     "text": [
      "2021-09-02 12:59:49,924\tINFO services.py:1245 -- View the Ray dashboard at \u001b[1m\u001b[32mhttp://127.0.0.1:8265\u001b[39m\u001b[22m\n"
     ]
    },
    {
     "name": "stdout",
     "output_type": "stream",
     "text": [
      "moderate_sing_nomask_4x\n"
     ]
    },
    {
     "name": "stderr",
     "output_type": "stream",
     "text": [
      "2021-09-02 13:00:22,272\tINFO services.py:1245 -- View the Ray dashboard at \u001b[1m\u001b[32mhttp://127.0.0.1:8265\u001b[39m\u001b[22m\n"
     ]
    },
    {
     "name": "stdout",
     "output_type": "stream",
     "text": [
      "moderate_sing_unvaxmask_2x\n"
     ]
    },
    {
     "name": "stderr",
     "output_type": "stream",
     "text": [
      "2021-09-02 13:00:54,419\tINFO services.py:1245 -- View the Ray dashboard at \u001b[1m\u001b[32mhttp://127.0.0.1:8265\u001b[39m\u001b[22m\n"
     ]
    },
    {
     "name": "stdout",
     "output_type": "stream",
     "text": [
      "moderate_sing_unvaxmask_4x\n"
     ]
    },
    {
     "name": "stderr",
     "output_type": "stream",
     "text": [
      "2021-09-02 13:01:26,834\tINFO services.py:1245 -- View the Ray dashboard at \u001b[1m\u001b[32mhttp://127.0.0.1:8265\u001b[39m\u001b[22m\n",
      "2021-09-02 13:01:28,148\tWARNING worker.py:1189 -- The agent on node dhcp-10-31-98-180.dyn.mit.edu failed with the following error:\n",
      "Traceback (most recent call last):\n",
      "  File \"/Users/brianliu/opt/anaconda3/lib/python3.8/site-packages/ray/new_dashboard/agent.py\", line 354, in <module>\n",
      "    loop.run_until_complete(agent.run())\n",
      "  File \"/Users/brianliu/opt/anaconda3/lib/python3.8/asyncio/base_events.py\", line 616, in run_until_complete\n",
      "    return future.result()\n",
      "  File \"/Users/brianliu/opt/anaconda3/lib/python3.8/site-packages/ray/new_dashboard/agent.py\", line 144, in run\n",
      "    modules = self._load_modules()\n",
      "  File \"/Users/brianliu/opt/anaconda3/lib/python3.8/site-packages/ray/new_dashboard/agent.py\", line 98, in _load_modules\n",
      "    c = cls(self)\n",
      "  File \"/Users/brianliu/opt/anaconda3/lib/python3.8/site-packages/ray/new_dashboard/modules/reporter/reporter_agent.py\", line 148, in __init__\n",
      "    self._metrics_agent = MetricsAgent(dashboard_agent.metrics_export_port)\n",
      "  File \"/Users/brianliu/opt/anaconda3/lib/python3.8/site-packages/ray/_private/metrics_agent.py\", line 75, in __init__\n",
      "    prometheus_exporter.new_stats_exporter(\n",
      "  File \"/Users/brianliu/opt/anaconda3/lib/python3.8/site-packages/ray/_private/prometheus_exporter.py\", line 333, in new_stats_exporter\n",
      "    exporter = PrometheusStatsExporter(\n",
      "  File \"/Users/brianliu/opt/anaconda3/lib/python3.8/site-packages/ray/_private/prometheus_exporter.py\", line 266, in __init__\n",
      "    self.serve_http()\n",
      "  File \"/Users/brianliu/opt/anaconda3/lib/python3.8/site-packages/ray/_private/prometheus_exporter.py\", line 320, in serve_http\n",
      "    start_http_server(\n",
      "  File \"/Users/brianliu/opt/anaconda3/lib/python3.8/site-packages/prometheus_client/exposition.py\", line 149, in start_wsgi_server\n",
      "    httpd = make_server(addr, port, app, ThreadingWSGIServer, handler_class=_SilentHandler)\n",
      "  File \"/Users/brianliu/opt/anaconda3/lib/python3.8/wsgiref/simple_server.py\", line 154, in make_server\n",
      "    server = server_class((host, port), handler_class)\n",
      "  File \"/Users/brianliu/opt/anaconda3/lib/python3.8/socketserver.py\", line 452, in __init__\n",
      "    self.server_bind()\n",
      "  File \"/Users/brianliu/opt/anaconda3/lib/python3.8/wsgiref/simple_server.py\", line 50, in server_bind\n",
      "    HTTPServer.server_bind(self)\n",
      "  File \"/Users/brianliu/opt/anaconda3/lib/python3.8/http/server.py\", line 138, in server_bind\n",
      "    socketserver.TCPServer.server_bind(self)\n",
      "  File \"/Users/brianliu/opt/anaconda3/lib/python3.8/socketserver.py\", line 466, in server_bind\n",
      "    self.socket.bind(self.server_address)\n",
      "OSError: [Errno 48] Address already in use\n",
      "\n",
      "2021-09-02 13:01:30,154\tWARNING worker.py:1189 -- The agent on node dhcp-10-31-98-180.dyn.mit.edu failed with the following error:\n",
      "Traceback (most recent call last):\n",
      "  File \"/Users/brianliu/opt/anaconda3/lib/python3.8/site-packages/ray/new_dashboard/agent.py\", line 354, in <module>\n",
      "    loop.run_until_complete(agent.run())\n",
      "  File \"/Users/brianliu/opt/anaconda3/lib/python3.8/asyncio/base_events.py\", line 616, in run_until_complete\n",
      "    return future.result()\n",
      "  File \"/Users/brianliu/opt/anaconda3/lib/python3.8/site-packages/ray/new_dashboard/agent.py\", line 144, in run\n",
      "    modules = self._load_modules()\n",
      "  File \"/Users/brianliu/opt/anaconda3/lib/python3.8/site-packages/ray/new_dashboard/agent.py\", line 98, in _load_modules\n",
      "    c = cls(self)\n",
      "  File \"/Users/brianliu/opt/anaconda3/lib/python3.8/site-packages/ray/new_dashboard/modules/reporter/reporter_agent.py\", line 148, in __init__\n",
      "    self._metrics_agent = MetricsAgent(dashboard_agent.metrics_export_port)\n",
      "  File \"/Users/brianliu/opt/anaconda3/lib/python3.8/site-packages/ray/_private/metrics_agent.py\", line 75, in __init__\n",
      "    prometheus_exporter.new_stats_exporter(\n",
      "  File \"/Users/brianliu/opt/anaconda3/lib/python3.8/site-packages/ray/_private/prometheus_exporter.py\", line 333, in new_stats_exporter\n",
      "    exporter = PrometheusStatsExporter(\n",
      "  File \"/Users/brianliu/opt/anaconda3/lib/python3.8/site-packages/ray/_private/prometheus_exporter.py\", line 266, in __init__\n",
      "    self.serve_http()\n",
      "  File \"/Users/brianliu/opt/anaconda3/lib/python3.8/site-packages/ray/_private/prometheus_exporter.py\", line 320, in serve_http\n",
      "    start_http_server(\n",
      "  File \"/Users/brianliu/opt/anaconda3/lib/python3.8/site-packages/prometheus_client/exposition.py\", line 149, in start_wsgi_server\n",
      "    httpd = make_server(addr, port, app, ThreadingWSGIServer, handler_class=_SilentHandler)\n",
      "  File \"/Users/brianliu/opt/anaconda3/lib/python3.8/wsgiref/simple_server.py\", line 154, in make_server\n",
      "    server = server_class((host, port), handler_class)\n",
      "  File \"/Users/brianliu/opt/anaconda3/lib/python3.8/socketserver.py\", line 452, in __init__\n",
      "    self.server_bind()\n",
      "  File \"/Users/brianliu/opt/anaconda3/lib/python3.8/wsgiref/simple_server.py\", line 50, in server_bind\n",
      "    HTTPServer.server_bind(self)\n",
      "  File \"/Users/brianliu/opt/anaconda3/lib/python3.8/http/server.py\", line 138, in server_bind\n",
      "    socketserver.TCPServer.server_bind(self)\n",
      "  File \"/Users/brianliu/opt/anaconda3/lib/python3.8/socketserver.py\", line 466, in server_bind\n",
      "    self.socket.bind(self.server_address)\n",
      "OSError: [Errno 48] Address already in use\n",
      "\n",
      "2021-09-02 13:01:32,094\tWARNING worker.py:1189 -- The agent on node dhcp-10-31-98-180.dyn.mit.edu failed with the following error:\n",
      "Traceback (most recent call last):\n",
      "  File \"/Users/brianliu/opt/anaconda3/lib/python3.8/site-packages/ray/new_dashboard/agent.py\", line 354, in <module>\n",
      "    loop.run_until_complete(agent.run())\n",
      "  File \"/Users/brianliu/opt/anaconda3/lib/python3.8/asyncio/base_events.py\", line 616, in run_until_complete\n",
      "    return future.result()\n",
      "  File \"/Users/brianliu/opt/anaconda3/lib/python3.8/site-packages/ray/new_dashboard/agent.py\", line 144, in run\n",
      "    modules = self._load_modules()\n",
      "  File \"/Users/brianliu/opt/anaconda3/lib/python3.8/site-packages/ray/new_dashboard/agent.py\", line 98, in _load_modules\n",
      "    c = cls(self)\n",
      "  File \"/Users/brianliu/opt/anaconda3/lib/python3.8/site-packages/ray/new_dashboard/modules/reporter/reporter_agent.py\", line 148, in __init__\n",
      "    self._metrics_agent = MetricsAgent(dashboard_agent.metrics_export_port)\n",
      "  File \"/Users/brianliu/opt/anaconda3/lib/python3.8/site-packages/ray/_private/metrics_agent.py\", line 75, in __init__\n",
      "    prometheus_exporter.new_stats_exporter(\n",
      "  File \"/Users/brianliu/opt/anaconda3/lib/python3.8/site-packages/ray/_private/prometheus_exporter.py\", line 333, in new_stats_exporter\n",
      "    exporter = PrometheusStatsExporter(\n",
      "  File \"/Users/brianliu/opt/anaconda3/lib/python3.8/site-packages/ray/_private/prometheus_exporter.py\", line 266, in __init__\n",
      "    self.serve_http()\n",
      "  File \"/Users/brianliu/opt/anaconda3/lib/python3.8/site-packages/ray/_private/prometheus_exporter.py\", line 320, in serve_http\n",
      "    start_http_server(\n",
      "  File \"/Users/brianliu/opt/anaconda3/lib/python3.8/site-packages/prometheus_client/exposition.py\", line 149, in start_wsgi_server\n",
      "    httpd = make_server(addr, port, app, ThreadingWSGIServer, handler_class=_SilentHandler)\n",
      "  File \"/Users/brianliu/opt/anaconda3/lib/python3.8/wsgiref/simple_server.py\", line 154, in make_server\n",
      "    server = server_class((host, port), handler_class)\n",
      "  File \"/Users/brianliu/opt/anaconda3/lib/python3.8/socketserver.py\", line 452, in __init__\n",
      "    self.server_bind()\n",
      "  File \"/Users/brianliu/opt/anaconda3/lib/python3.8/wsgiref/simple_server.py\", line 50, in server_bind\n",
      "    HTTPServer.server_bind(self)\n",
      "  File \"/Users/brianliu/opt/anaconda3/lib/python3.8/http/server.py\", line 138, in server_bind\n",
      "    socketserver.TCPServer.server_bind(self)\n",
      "  File \"/Users/brianliu/opt/anaconda3/lib/python3.8/socketserver.py\", line 466, in server_bind\n",
      "    self.socket.bind(self.server_address)\n",
      "OSError: [Errno 48] Address already in use\n",
      "\n",
      "2021-09-02 13:01:34,050\tWARNING worker.py:1189 -- The agent on node dhcp-10-31-98-180.dyn.mit.edu failed with the following error:\n",
      "Traceback (most recent call last):\n",
      "  File \"/Users/brianliu/opt/anaconda3/lib/python3.8/site-packages/ray/new_dashboard/agent.py\", line 354, in <module>\n",
      "    loop.run_until_complete(agent.run())\n",
      "  File \"/Users/brianliu/opt/anaconda3/lib/python3.8/asyncio/base_events.py\", line 616, in run_until_complete\n",
      "    return future.result()\n",
      "  File \"/Users/brianliu/opt/anaconda3/lib/python3.8/site-packages/ray/new_dashboard/agent.py\", line 144, in run\n",
      "    modules = self._load_modules()\n",
      "  File \"/Users/brianliu/opt/anaconda3/lib/python3.8/site-packages/ray/new_dashboard/agent.py\", line 98, in _load_modules\n",
      "    c = cls(self)\n",
      "  File \"/Users/brianliu/opt/anaconda3/lib/python3.8/site-packages/ray/new_dashboard/modules/reporter/reporter_agent.py\", line 148, in __init__\n",
      "    self._metrics_agent = MetricsAgent(dashboard_agent.metrics_export_port)\n",
      "  File \"/Users/brianliu/opt/anaconda3/lib/python3.8/site-packages/ray/_private/metrics_agent.py\", line 75, in __init__\n",
      "    prometheus_exporter.new_stats_exporter(\n",
      "  File \"/Users/brianliu/opt/anaconda3/lib/python3.8/site-packages/ray/_private/prometheus_exporter.py\", line 333, in new_stats_exporter\n",
      "    exporter = PrometheusStatsExporter(\n",
      "  File \"/Users/brianliu/opt/anaconda3/lib/python3.8/site-packages/ray/_private/prometheus_exporter.py\", line 266, in __init__\n",
      "    self.serve_http()\n",
      "  File \"/Users/brianliu/opt/anaconda3/lib/python3.8/site-packages/ray/_private/prometheus_exporter.py\", line 320, in serve_http\n",
      "    start_http_server(\n",
      "  File \"/Users/brianliu/opt/anaconda3/lib/python3.8/site-packages/prometheus_client/exposition.py\", line 149, in start_wsgi_server\n",
      "    httpd = make_server(addr, port, app, ThreadingWSGIServer, handler_class=_SilentHandler)\n",
      "  File \"/Users/brianliu/opt/anaconda3/lib/python3.8/wsgiref/simple_server.py\", line 154, in make_server\n",
      "    server = server_class((host, port), handler_class)\n",
      "  File \"/Users/brianliu/opt/anaconda3/lib/python3.8/socketserver.py\", line 452, in __init__\n",
      "    self.server_bind()\n",
      "  File \"/Users/brianliu/opt/anaconda3/lib/python3.8/wsgiref/simple_server.py\", line 50, in server_bind\n",
      "    HTTPServer.server_bind(self)\n",
      "  File \"/Users/brianliu/opt/anaconda3/lib/python3.8/http/server.py\", line 138, in server_bind\n",
      "    socketserver.TCPServer.server_bind(self)\n",
      "  File \"/Users/brianliu/opt/anaconda3/lib/python3.8/socketserver.py\", line 466, in server_bind\n",
      "    self.socket.bind(self.server_address)\n",
      "OSError: [Errno 48] Address already in use\n",
      "\n"
     ]
    },
    {
     "name": "stderr",
     "output_type": "stream",
     "text": [
      "2021-09-02 13:01:35,996\tWARNING worker.py:1189 -- The agent on node dhcp-10-31-98-180.dyn.mit.edu failed with the following error:\n",
      "Traceback (most recent call last):\n",
      "  File \"/Users/brianliu/opt/anaconda3/lib/python3.8/site-packages/ray/new_dashboard/agent.py\", line 354, in <module>\n",
      "    loop.run_until_complete(agent.run())\n",
      "  File \"/Users/brianliu/opt/anaconda3/lib/python3.8/asyncio/base_events.py\", line 616, in run_until_complete\n",
      "    return future.result()\n",
      "  File \"/Users/brianliu/opt/anaconda3/lib/python3.8/site-packages/ray/new_dashboard/agent.py\", line 144, in run\n",
      "    modules = self._load_modules()\n",
      "  File \"/Users/brianliu/opt/anaconda3/lib/python3.8/site-packages/ray/new_dashboard/agent.py\", line 98, in _load_modules\n",
      "    c = cls(self)\n",
      "  File \"/Users/brianliu/opt/anaconda3/lib/python3.8/site-packages/ray/new_dashboard/modules/reporter/reporter_agent.py\", line 148, in __init__\n",
      "    self._metrics_agent = MetricsAgent(dashboard_agent.metrics_export_port)\n",
      "  File \"/Users/brianliu/opt/anaconda3/lib/python3.8/site-packages/ray/_private/metrics_agent.py\", line 75, in __init__\n",
      "    prometheus_exporter.new_stats_exporter(\n",
      "  File \"/Users/brianliu/opt/anaconda3/lib/python3.8/site-packages/ray/_private/prometheus_exporter.py\", line 333, in new_stats_exporter\n",
      "    exporter = PrometheusStatsExporter(\n",
      "  File \"/Users/brianliu/opt/anaconda3/lib/python3.8/site-packages/ray/_private/prometheus_exporter.py\", line 266, in __init__\n",
      "    self.serve_http()\n",
      "  File \"/Users/brianliu/opt/anaconda3/lib/python3.8/site-packages/ray/_private/prometheus_exporter.py\", line 320, in serve_http\n",
      "    start_http_server(\n",
      "  File \"/Users/brianliu/opt/anaconda3/lib/python3.8/site-packages/prometheus_client/exposition.py\", line 149, in start_wsgi_server\n",
      "    httpd = make_server(addr, port, app, ThreadingWSGIServer, handler_class=_SilentHandler)\n",
      "  File \"/Users/brianliu/opt/anaconda3/lib/python3.8/wsgiref/simple_server.py\", line 154, in make_server\n",
      "    server = server_class((host, port), handler_class)\n",
      "  File \"/Users/brianliu/opt/anaconda3/lib/python3.8/socketserver.py\", line 452, in __init__\n",
      "    self.server_bind()\n",
      "  File \"/Users/brianliu/opt/anaconda3/lib/python3.8/wsgiref/simple_server.py\", line 50, in server_bind\n",
      "    HTTPServer.server_bind(self)\n",
      "  File \"/Users/brianliu/opt/anaconda3/lib/python3.8/http/server.py\", line 138, in server_bind\n",
      "    socketserver.TCPServer.server_bind(self)\n",
      "  File \"/Users/brianliu/opt/anaconda3/lib/python3.8/socketserver.py\", line 466, in server_bind\n",
      "    self.socket.bind(self.server_address)\n",
      "OSError: [Errno 48] Address already in use\n",
      "\n",
      "2021-09-02 13:01:37,950\tWARNING worker.py:1189 -- The agent on node dhcp-10-31-98-180.dyn.mit.edu failed with the following error:\n",
      "Traceback (most recent call last):\n",
      "  File \"/Users/brianliu/opt/anaconda3/lib/python3.8/site-packages/ray/new_dashboard/agent.py\", line 354, in <module>\n",
      "    loop.run_until_complete(agent.run())\n",
      "  File \"/Users/brianliu/opt/anaconda3/lib/python3.8/asyncio/base_events.py\", line 616, in run_until_complete\n",
      "    return future.result()\n",
      "  File \"/Users/brianliu/opt/anaconda3/lib/python3.8/site-packages/ray/new_dashboard/agent.py\", line 144, in run\n",
      "    modules = self._load_modules()\n",
      "  File \"/Users/brianliu/opt/anaconda3/lib/python3.8/site-packages/ray/new_dashboard/agent.py\", line 98, in _load_modules\n",
      "    c = cls(self)\n",
      "  File \"/Users/brianliu/opt/anaconda3/lib/python3.8/site-packages/ray/new_dashboard/modules/reporter/reporter_agent.py\", line 148, in __init__\n",
      "    self._metrics_agent = MetricsAgent(dashboard_agent.metrics_export_port)\n",
      "  File \"/Users/brianliu/opt/anaconda3/lib/python3.8/site-packages/ray/_private/metrics_agent.py\", line 75, in __init__\n",
      "    prometheus_exporter.new_stats_exporter(\n",
      "  File \"/Users/brianliu/opt/anaconda3/lib/python3.8/site-packages/ray/_private/prometheus_exporter.py\", line 333, in new_stats_exporter\n",
      "    exporter = PrometheusStatsExporter(\n",
      "  File \"/Users/brianliu/opt/anaconda3/lib/python3.8/site-packages/ray/_private/prometheus_exporter.py\", line 266, in __init__\n",
      "    self.serve_http()\n",
      "  File \"/Users/brianliu/opt/anaconda3/lib/python3.8/site-packages/ray/_private/prometheus_exporter.py\", line 320, in serve_http\n",
      "    start_http_server(\n",
      "  File \"/Users/brianliu/opt/anaconda3/lib/python3.8/site-packages/prometheus_client/exposition.py\", line 149, in start_wsgi_server\n",
      "    httpd = make_server(addr, port, app, ThreadingWSGIServer, handler_class=_SilentHandler)\n",
      "  File \"/Users/brianliu/opt/anaconda3/lib/python3.8/wsgiref/simple_server.py\", line 154, in make_server\n",
      "    server = server_class((host, port), handler_class)\n",
      "  File \"/Users/brianliu/opt/anaconda3/lib/python3.8/socketserver.py\", line 452, in __init__\n",
      "    self.server_bind()\n",
      "  File \"/Users/brianliu/opt/anaconda3/lib/python3.8/wsgiref/simple_server.py\", line 50, in server_bind\n",
      "    HTTPServer.server_bind(self)\n",
      "  File \"/Users/brianliu/opt/anaconda3/lib/python3.8/http/server.py\", line 138, in server_bind\n",
      "    socketserver.TCPServer.server_bind(self)\n",
      "  File \"/Users/brianliu/opt/anaconda3/lib/python3.8/socketserver.py\", line 466, in server_bind\n",
      "    self.socket.bind(self.server_address)\n",
      "OSError: [Errno 48] Address already in use\n",
      "\n",
      "2021-09-02 13:01:39,900\tWARNING worker.py:1189 -- The agent on node dhcp-10-31-98-180.dyn.mit.edu failed with the following error:\n",
      "Traceback (most recent call last):\n",
      "  File \"/Users/brianliu/opt/anaconda3/lib/python3.8/site-packages/ray/new_dashboard/agent.py\", line 354, in <module>\n",
      "    loop.run_until_complete(agent.run())\n",
      "  File \"/Users/brianliu/opt/anaconda3/lib/python3.8/asyncio/base_events.py\", line 616, in run_until_complete\n",
      "    return future.result()\n",
      "  File \"/Users/brianliu/opt/anaconda3/lib/python3.8/site-packages/ray/new_dashboard/agent.py\", line 144, in run\n",
      "    modules = self._load_modules()\n",
      "  File \"/Users/brianliu/opt/anaconda3/lib/python3.8/site-packages/ray/new_dashboard/agent.py\", line 98, in _load_modules\n",
      "    c = cls(self)\n",
      "  File \"/Users/brianliu/opt/anaconda3/lib/python3.8/site-packages/ray/new_dashboard/modules/reporter/reporter_agent.py\", line 148, in __init__\n",
      "    self._metrics_agent = MetricsAgent(dashboard_agent.metrics_export_port)\n",
      "  File \"/Users/brianliu/opt/anaconda3/lib/python3.8/site-packages/ray/_private/metrics_agent.py\", line 75, in __init__\n",
      "    prometheus_exporter.new_stats_exporter(\n",
      "  File \"/Users/brianliu/opt/anaconda3/lib/python3.8/site-packages/ray/_private/prometheus_exporter.py\", line 333, in new_stats_exporter\n",
      "    exporter = PrometheusStatsExporter(\n",
      "  File \"/Users/brianliu/opt/anaconda3/lib/python3.8/site-packages/ray/_private/prometheus_exporter.py\", line 266, in __init__\n",
      "    self.serve_http()\n",
      "  File \"/Users/brianliu/opt/anaconda3/lib/python3.8/site-packages/ray/_private/prometheus_exporter.py\", line 320, in serve_http\n",
      "    start_http_server(\n",
      "  File \"/Users/brianliu/opt/anaconda3/lib/python3.8/site-packages/prometheus_client/exposition.py\", line 149, in start_wsgi_server\n",
      "    httpd = make_server(addr, port, app, ThreadingWSGIServer, handler_class=_SilentHandler)\n",
      "  File \"/Users/brianliu/opt/anaconda3/lib/python3.8/wsgiref/simple_server.py\", line 154, in make_server\n",
      "    server = server_class((host, port), handler_class)\n",
      "  File \"/Users/brianliu/opt/anaconda3/lib/python3.8/socketserver.py\", line 452, in __init__\n",
      "    self.server_bind()\n",
      "  File \"/Users/brianliu/opt/anaconda3/lib/python3.8/wsgiref/simple_server.py\", line 50, in server_bind\n",
      "    HTTPServer.server_bind(self)\n",
      "  File \"/Users/brianliu/opt/anaconda3/lib/python3.8/http/server.py\", line 138, in server_bind\n",
      "    socketserver.TCPServer.server_bind(self)\n",
      "  File \"/Users/brianliu/opt/anaconda3/lib/python3.8/socketserver.py\", line 466, in server_bind\n",
      "    self.socket.bind(self.server_address)\n",
      "OSError: [Errno 48] Address already in use\n",
      "\n",
      "2021-09-02 13:01:41,839\tWARNING worker.py:1189 -- The agent on node dhcp-10-31-98-180.dyn.mit.edu failed with the following error:\n",
      "Traceback (most recent call last):\n",
      "  File \"/Users/brianliu/opt/anaconda3/lib/python3.8/site-packages/ray/new_dashboard/agent.py\", line 354, in <module>\n",
      "    loop.run_until_complete(agent.run())\n",
      "  File \"/Users/brianliu/opt/anaconda3/lib/python3.8/asyncio/base_events.py\", line 616, in run_until_complete\n",
      "    return future.result()\n",
      "  File \"/Users/brianliu/opt/anaconda3/lib/python3.8/site-packages/ray/new_dashboard/agent.py\", line 144, in run\n",
      "    modules = self._load_modules()\n",
      "  File \"/Users/brianliu/opt/anaconda3/lib/python3.8/site-packages/ray/new_dashboard/agent.py\", line 98, in _load_modules\n",
      "    c = cls(self)\n",
      "  File \"/Users/brianliu/opt/anaconda3/lib/python3.8/site-packages/ray/new_dashboard/modules/reporter/reporter_agent.py\", line 148, in __init__\n",
      "    self._metrics_agent = MetricsAgent(dashboard_agent.metrics_export_port)\n",
      "  File \"/Users/brianliu/opt/anaconda3/lib/python3.8/site-packages/ray/_private/metrics_agent.py\", line 75, in __init__\n",
      "    prometheus_exporter.new_stats_exporter(\n",
      "  File \"/Users/brianliu/opt/anaconda3/lib/python3.8/site-packages/ray/_private/prometheus_exporter.py\", line 333, in new_stats_exporter\n",
      "    exporter = PrometheusStatsExporter(\n",
      "  File \"/Users/brianliu/opt/anaconda3/lib/python3.8/site-packages/ray/_private/prometheus_exporter.py\", line 266, in __init__\n",
      "    self.serve_http()\n",
      "  File \"/Users/brianliu/opt/anaconda3/lib/python3.8/site-packages/ray/_private/prometheus_exporter.py\", line 320, in serve_http\n",
      "    start_http_server(\n",
      "  File \"/Users/brianliu/opt/anaconda3/lib/python3.8/site-packages/prometheus_client/exposition.py\", line 149, in start_wsgi_server\n",
      "    httpd = make_server(addr, port, app, ThreadingWSGIServer, handler_class=_SilentHandler)\n",
      "  File \"/Users/brianliu/opt/anaconda3/lib/python3.8/wsgiref/simple_server.py\", line 154, in make_server\n",
      "    server = server_class((host, port), handler_class)\n",
      "  File \"/Users/brianliu/opt/anaconda3/lib/python3.8/socketserver.py\", line 452, in __init__\n",
      "    self.server_bind()\n",
      "  File \"/Users/brianliu/opt/anaconda3/lib/python3.8/wsgiref/simple_server.py\", line 50, in server_bind\n",
      "    HTTPServer.server_bind(self)\n",
      "  File \"/Users/brianliu/opt/anaconda3/lib/python3.8/http/server.py\", line 138, in server_bind\n",
      "    socketserver.TCPServer.server_bind(self)\n",
      "  File \"/Users/brianliu/opt/anaconda3/lib/python3.8/socketserver.py\", line 466, in server_bind\n",
      "    self.socket.bind(self.server_address)\n",
      "OSError: [Errno 48] Address already in use\n",
      "\n"
     ]
    },
    {
     "name": "stderr",
     "output_type": "stream",
     "text": [
      "2021-09-02 13:01:43,794\tWARNING worker.py:1189 -- The agent on node dhcp-10-31-98-180.dyn.mit.edu failed with the following error:\n",
      "Traceback (most recent call last):\n",
      "  File \"/Users/brianliu/opt/anaconda3/lib/python3.8/site-packages/ray/new_dashboard/agent.py\", line 354, in <module>\n",
      "    loop.run_until_complete(agent.run())\n",
      "  File \"/Users/brianliu/opt/anaconda3/lib/python3.8/asyncio/base_events.py\", line 616, in run_until_complete\n",
      "    return future.result()\n",
      "  File \"/Users/brianliu/opt/anaconda3/lib/python3.8/site-packages/ray/new_dashboard/agent.py\", line 144, in run\n",
      "    modules = self._load_modules()\n",
      "  File \"/Users/brianliu/opt/anaconda3/lib/python3.8/site-packages/ray/new_dashboard/agent.py\", line 98, in _load_modules\n",
      "    c = cls(self)\n",
      "  File \"/Users/brianliu/opt/anaconda3/lib/python3.8/site-packages/ray/new_dashboard/modules/reporter/reporter_agent.py\", line 148, in __init__\n",
      "    self._metrics_agent = MetricsAgent(dashboard_agent.metrics_export_port)\n",
      "  File \"/Users/brianliu/opt/anaconda3/lib/python3.8/site-packages/ray/_private/metrics_agent.py\", line 75, in __init__\n",
      "    prometheus_exporter.new_stats_exporter(\n",
      "  File \"/Users/brianliu/opt/anaconda3/lib/python3.8/site-packages/ray/_private/prometheus_exporter.py\", line 333, in new_stats_exporter\n",
      "    exporter = PrometheusStatsExporter(\n",
      "  File \"/Users/brianliu/opt/anaconda3/lib/python3.8/site-packages/ray/_private/prometheus_exporter.py\", line 266, in __init__\n",
      "    self.serve_http()\n",
      "  File \"/Users/brianliu/opt/anaconda3/lib/python3.8/site-packages/ray/_private/prometheus_exporter.py\", line 320, in serve_http\n",
      "    start_http_server(\n",
      "  File \"/Users/brianliu/opt/anaconda3/lib/python3.8/site-packages/prometheus_client/exposition.py\", line 149, in start_wsgi_server\n",
      "    httpd = make_server(addr, port, app, ThreadingWSGIServer, handler_class=_SilentHandler)\n",
      "  File \"/Users/brianliu/opt/anaconda3/lib/python3.8/wsgiref/simple_server.py\", line 154, in make_server\n",
      "    server = server_class((host, port), handler_class)\n",
      "  File \"/Users/brianliu/opt/anaconda3/lib/python3.8/socketserver.py\", line 452, in __init__\n",
      "    self.server_bind()\n",
      "  File \"/Users/brianliu/opt/anaconda3/lib/python3.8/wsgiref/simple_server.py\", line 50, in server_bind\n",
      "    HTTPServer.server_bind(self)\n",
      "  File \"/Users/brianliu/opt/anaconda3/lib/python3.8/http/server.py\", line 138, in server_bind\n",
      "    socketserver.TCPServer.server_bind(self)\n",
      "  File \"/Users/brianliu/opt/anaconda3/lib/python3.8/socketserver.py\", line 466, in server_bind\n",
      "    self.socket.bind(self.server_address)\n",
      "OSError: [Errno 48] Address already in use\n",
      "\n",
      "2021-09-02 13:01:45,745\tWARNING worker.py:1189 -- The agent on node dhcp-10-31-98-180.dyn.mit.edu failed with the following error:\n",
      "Traceback (most recent call last):\n",
      "  File \"/Users/brianliu/opt/anaconda3/lib/python3.8/site-packages/ray/new_dashboard/agent.py\", line 354, in <module>\n",
      "    loop.run_until_complete(agent.run())\n",
      "  File \"/Users/brianliu/opt/anaconda3/lib/python3.8/asyncio/base_events.py\", line 616, in run_until_complete\n",
      "    return future.result()\n",
      "  File \"/Users/brianliu/opt/anaconda3/lib/python3.8/site-packages/ray/new_dashboard/agent.py\", line 144, in run\n",
      "    modules = self._load_modules()\n",
      "  File \"/Users/brianliu/opt/anaconda3/lib/python3.8/site-packages/ray/new_dashboard/agent.py\", line 98, in _load_modules\n",
      "    c = cls(self)\n",
      "  File \"/Users/brianliu/opt/anaconda3/lib/python3.8/site-packages/ray/new_dashboard/modules/reporter/reporter_agent.py\", line 148, in __init__\n",
      "    self._metrics_agent = MetricsAgent(dashboard_agent.metrics_export_port)\n",
      "  File \"/Users/brianliu/opt/anaconda3/lib/python3.8/site-packages/ray/_private/metrics_agent.py\", line 75, in __init__\n",
      "    prometheus_exporter.new_stats_exporter(\n",
      "  File \"/Users/brianliu/opt/anaconda3/lib/python3.8/site-packages/ray/_private/prometheus_exporter.py\", line 333, in new_stats_exporter\n",
      "    exporter = PrometheusStatsExporter(\n",
      "  File \"/Users/brianliu/opt/anaconda3/lib/python3.8/site-packages/ray/_private/prometheus_exporter.py\", line 266, in __init__\n",
      "    self.serve_http()\n",
      "  File \"/Users/brianliu/opt/anaconda3/lib/python3.8/site-packages/ray/_private/prometheus_exporter.py\", line 320, in serve_http\n",
      "    start_http_server(\n",
      "  File \"/Users/brianliu/opt/anaconda3/lib/python3.8/site-packages/prometheus_client/exposition.py\", line 149, in start_wsgi_server\n",
      "    httpd = make_server(addr, port, app, ThreadingWSGIServer, handler_class=_SilentHandler)\n",
      "  File \"/Users/brianliu/opt/anaconda3/lib/python3.8/wsgiref/simple_server.py\", line 154, in make_server\n",
      "    server = server_class((host, port), handler_class)\n",
      "  File \"/Users/brianliu/opt/anaconda3/lib/python3.8/socketserver.py\", line 452, in __init__\n",
      "    self.server_bind()\n",
      "  File \"/Users/brianliu/opt/anaconda3/lib/python3.8/wsgiref/simple_server.py\", line 50, in server_bind\n",
      "    HTTPServer.server_bind(self)\n",
      "  File \"/Users/brianliu/opt/anaconda3/lib/python3.8/http/server.py\", line 138, in server_bind\n",
      "    socketserver.TCPServer.server_bind(self)\n",
      "  File \"/Users/brianliu/opt/anaconda3/lib/python3.8/socketserver.py\", line 466, in server_bind\n",
      "    self.socket.bind(self.server_address)\n",
      "OSError: [Errno 48] Address already in use\n",
      "\n",
      "2021-09-02 13:01:47,704\tWARNING worker.py:1189 -- The agent on node dhcp-10-31-98-180.dyn.mit.edu failed with the following error:\n",
      "Traceback (most recent call last):\n",
      "  File \"/Users/brianliu/opt/anaconda3/lib/python3.8/site-packages/ray/new_dashboard/agent.py\", line 354, in <module>\n",
      "    loop.run_until_complete(agent.run())\n",
      "  File \"/Users/brianliu/opt/anaconda3/lib/python3.8/asyncio/base_events.py\", line 616, in run_until_complete\n",
      "    return future.result()\n",
      "  File \"/Users/brianliu/opt/anaconda3/lib/python3.8/site-packages/ray/new_dashboard/agent.py\", line 144, in run\n",
      "    modules = self._load_modules()\n",
      "  File \"/Users/brianliu/opt/anaconda3/lib/python3.8/site-packages/ray/new_dashboard/agent.py\", line 98, in _load_modules\n",
      "    c = cls(self)\n",
      "  File \"/Users/brianliu/opt/anaconda3/lib/python3.8/site-packages/ray/new_dashboard/modules/reporter/reporter_agent.py\", line 148, in __init__\n",
      "    self._metrics_agent = MetricsAgent(dashboard_agent.metrics_export_port)\n",
      "  File \"/Users/brianliu/opt/anaconda3/lib/python3.8/site-packages/ray/_private/metrics_agent.py\", line 75, in __init__\n",
      "    prometheus_exporter.new_stats_exporter(\n",
      "  File \"/Users/brianliu/opt/anaconda3/lib/python3.8/site-packages/ray/_private/prometheus_exporter.py\", line 333, in new_stats_exporter\n",
      "    exporter = PrometheusStatsExporter(\n",
      "  File \"/Users/brianliu/opt/anaconda3/lib/python3.8/site-packages/ray/_private/prometheus_exporter.py\", line 266, in __init__\n",
      "    self.serve_http()\n",
      "  File \"/Users/brianliu/opt/anaconda3/lib/python3.8/site-packages/ray/_private/prometheus_exporter.py\", line 320, in serve_http\n",
      "    start_http_server(\n",
      "  File \"/Users/brianliu/opt/anaconda3/lib/python3.8/site-packages/prometheus_client/exposition.py\", line 149, in start_wsgi_server\n",
      "    httpd = make_server(addr, port, app, ThreadingWSGIServer, handler_class=_SilentHandler)\n",
      "  File \"/Users/brianliu/opt/anaconda3/lib/python3.8/wsgiref/simple_server.py\", line 154, in make_server\n",
      "    server = server_class((host, port), handler_class)\n",
      "  File \"/Users/brianliu/opt/anaconda3/lib/python3.8/socketserver.py\", line 452, in __init__\n",
      "    self.server_bind()\n",
      "  File \"/Users/brianliu/opt/anaconda3/lib/python3.8/wsgiref/simple_server.py\", line 50, in server_bind\n",
      "    HTTPServer.server_bind(self)\n",
      "  File \"/Users/brianliu/opt/anaconda3/lib/python3.8/http/server.py\", line 138, in server_bind\n",
      "    socketserver.TCPServer.server_bind(self)\n",
      "  File \"/Users/brianliu/opt/anaconda3/lib/python3.8/socketserver.py\", line 466, in server_bind\n",
      "    self.socket.bind(self.server_address)\n",
      "OSError: [Errno 48] Address already in use\n",
      "\n",
      "2021-09-02 13:01:49,655\tWARNING worker.py:1189 -- The agent on node dhcp-10-31-98-180.dyn.mit.edu failed with the following error:\n",
      "Traceback (most recent call last):\n",
      "  File \"/Users/brianliu/opt/anaconda3/lib/python3.8/site-packages/ray/new_dashboard/agent.py\", line 354, in <module>\n",
      "    loop.run_until_complete(agent.run())\n",
      "  File \"/Users/brianliu/opt/anaconda3/lib/python3.8/asyncio/base_events.py\", line 616, in run_until_complete\n",
      "    return future.result()\n",
      "  File \"/Users/brianliu/opt/anaconda3/lib/python3.8/site-packages/ray/new_dashboard/agent.py\", line 144, in run\n",
      "    modules = self._load_modules()\n",
      "  File \"/Users/brianliu/opt/anaconda3/lib/python3.8/site-packages/ray/new_dashboard/agent.py\", line 98, in _load_modules\n",
      "    c = cls(self)\n",
      "  File \"/Users/brianliu/opt/anaconda3/lib/python3.8/site-packages/ray/new_dashboard/modules/reporter/reporter_agent.py\", line 148, in __init__\n",
      "    self._metrics_agent = MetricsAgent(dashboard_agent.metrics_export_port)\n",
      "  File \"/Users/brianliu/opt/anaconda3/lib/python3.8/site-packages/ray/_private/metrics_agent.py\", line 75, in __init__\n",
      "    prometheus_exporter.new_stats_exporter(\n",
      "  File \"/Users/brianliu/opt/anaconda3/lib/python3.8/site-packages/ray/_private/prometheus_exporter.py\", line 333, in new_stats_exporter\n",
      "    exporter = PrometheusStatsExporter(\n",
      "  File \"/Users/brianliu/opt/anaconda3/lib/python3.8/site-packages/ray/_private/prometheus_exporter.py\", line 266, in __init__\n",
      "    self.serve_http()\n",
      "  File \"/Users/brianliu/opt/anaconda3/lib/python3.8/site-packages/ray/_private/prometheus_exporter.py\", line 320, in serve_http\n",
      "    start_http_server(\n",
      "  File \"/Users/brianliu/opt/anaconda3/lib/python3.8/site-packages/prometheus_client/exposition.py\", line 149, in start_wsgi_server\n",
      "    httpd = make_server(addr, port, app, ThreadingWSGIServer, handler_class=_SilentHandler)\n",
      "  File \"/Users/brianliu/opt/anaconda3/lib/python3.8/wsgiref/simple_server.py\", line 154, in make_server\n",
      "    server = server_class((host, port), handler_class)\n",
      "  File \"/Users/brianliu/opt/anaconda3/lib/python3.8/socketserver.py\", line 452, in __init__\n",
      "    self.server_bind()\n",
      "  File \"/Users/brianliu/opt/anaconda3/lib/python3.8/wsgiref/simple_server.py\", line 50, in server_bind\n",
      "    HTTPServer.server_bind(self)\n",
      "  File \"/Users/brianliu/opt/anaconda3/lib/python3.8/http/server.py\", line 138, in server_bind\n",
      "    socketserver.TCPServer.server_bind(self)\n",
      "  File \"/Users/brianliu/opt/anaconda3/lib/python3.8/socketserver.py\", line 466, in server_bind\n",
      "    self.socket.bind(self.server_address)\n",
      "OSError: [Errno 48] Address already in use\n",
      "\n"
     ]
    },
    {
     "name": "stderr",
     "output_type": "stream",
     "text": [
      "2021-09-02 13:01:51,594\tWARNING worker.py:1189 -- The agent on node dhcp-10-31-98-180.dyn.mit.edu failed with the following error:\n",
      "Traceback (most recent call last):\n",
      "  File \"/Users/brianliu/opt/anaconda3/lib/python3.8/site-packages/ray/new_dashboard/agent.py\", line 354, in <module>\n",
      "    loop.run_until_complete(agent.run())\n",
      "  File \"/Users/brianliu/opt/anaconda3/lib/python3.8/asyncio/base_events.py\", line 616, in run_until_complete\n",
      "    return future.result()\n",
      "  File \"/Users/brianliu/opt/anaconda3/lib/python3.8/site-packages/ray/new_dashboard/agent.py\", line 144, in run\n",
      "    modules = self._load_modules()\n",
      "  File \"/Users/brianliu/opt/anaconda3/lib/python3.8/site-packages/ray/new_dashboard/agent.py\", line 98, in _load_modules\n",
      "    c = cls(self)\n",
      "  File \"/Users/brianliu/opt/anaconda3/lib/python3.8/site-packages/ray/new_dashboard/modules/reporter/reporter_agent.py\", line 148, in __init__\n",
      "    self._metrics_agent = MetricsAgent(dashboard_agent.metrics_export_port)\n",
      "  File \"/Users/brianliu/opt/anaconda3/lib/python3.8/site-packages/ray/_private/metrics_agent.py\", line 75, in __init__\n",
      "    prometheus_exporter.new_stats_exporter(\n",
      "  File \"/Users/brianliu/opt/anaconda3/lib/python3.8/site-packages/ray/_private/prometheus_exporter.py\", line 333, in new_stats_exporter\n",
      "    exporter = PrometheusStatsExporter(\n",
      "  File \"/Users/brianliu/opt/anaconda3/lib/python3.8/site-packages/ray/_private/prometheus_exporter.py\", line 266, in __init__\n",
      "    self.serve_http()\n",
      "  File \"/Users/brianliu/opt/anaconda3/lib/python3.8/site-packages/ray/_private/prometheus_exporter.py\", line 320, in serve_http\n",
      "    start_http_server(\n",
      "  File \"/Users/brianliu/opt/anaconda3/lib/python3.8/site-packages/prometheus_client/exposition.py\", line 149, in start_wsgi_server\n",
      "    httpd = make_server(addr, port, app, ThreadingWSGIServer, handler_class=_SilentHandler)\n",
      "  File \"/Users/brianliu/opt/anaconda3/lib/python3.8/wsgiref/simple_server.py\", line 154, in make_server\n",
      "    server = server_class((host, port), handler_class)\n",
      "  File \"/Users/brianliu/opt/anaconda3/lib/python3.8/socketserver.py\", line 452, in __init__\n",
      "    self.server_bind()\n",
      "  File \"/Users/brianliu/opt/anaconda3/lib/python3.8/wsgiref/simple_server.py\", line 50, in server_bind\n",
      "    HTTPServer.server_bind(self)\n",
      "  File \"/Users/brianliu/opt/anaconda3/lib/python3.8/http/server.py\", line 138, in server_bind\n",
      "    socketserver.TCPServer.server_bind(self)\n",
      "  File \"/Users/brianliu/opt/anaconda3/lib/python3.8/socketserver.py\", line 466, in server_bind\n",
      "    self.socket.bind(self.server_address)\n",
      "OSError: [Errno 48] Address already in use\n",
      "\n",
      "2021-09-02 13:01:53,543\tWARNING worker.py:1189 -- The agent on node dhcp-10-31-98-180.dyn.mit.edu failed with the following error:\n",
      "Traceback (most recent call last):\n",
      "  File \"/Users/brianliu/opt/anaconda3/lib/python3.8/site-packages/ray/new_dashboard/agent.py\", line 354, in <module>\n",
      "    loop.run_until_complete(agent.run())\n",
      "  File \"/Users/brianliu/opt/anaconda3/lib/python3.8/asyncio/base_events.py\", line 616, in run_until_complete\n",
      "    return future.result()\n",
      "  File \"/Users/brianliu/opt/anaconda3/lib/python3.8/site-packages/ray/new_dashboard/agent.py\", line 144, in run\n",
      "    modules = self._load_modules()\n",
      "  File \"/Users/brianliu/opt/anaconda3/lib/python3.8/site-packages/ray/new_dashboard/agent.py\", line 98, in _load_modules\n",
      "    c = cls(self)\n",
      "  File \"/Users/brianliu/opt/anaconda3/lib/python3.8/site-packages/ray/new_dashboard/modules/reporter/reporter_agent.py\", line 148, in __init__\n",
      "    self._metrics_agent = MetricsAgent(dashboard_agent.metrics_export_port)\n",
      "  File \"/Users/brianliu/opt/anaconda3/lib/python3.8/site-packages/ray/_private/metrics_agent.py\", line 75, in __init__\n",
      "    prometheus_exporter.new_stats_exporter(\n",
      "  File \"/Users/brianliu/opt/anaconda3/lib/python3.8/site-packages/ray/_private/prometheus_exporter.py\", line 333, in new_stats_exporter\n",
      "    exporter = PrometheusStatsExporter(\n",
      "  File \"/Users/brianliu/opt/anaconda3/lib/python3.8/site-packages/ray/_private/prometheus_exporter.py\", line 266, in __init__\n",
      "    self.serve_http()\n",
      "  File \"/Users/brianliu/opt/anaconda3/lib/python3.8/site-packages/ray/_private/prometheus_exporter.py\", line 320, in serve_http\n",
      "    start_http_server(\n",
      "  File \"/Users/brianliu/opt/anaconda3/lib/python3.8/site-packages/prometheus_client/exposition.py\", line 149, in start_wsgi_server\n",
      "    httpd = make_server(addr, port, app, ThreadingWSGIServer, handler_class=_SilentHandler)\n",
      "  File \"/Users/brianliu/opt/anaconda3/lib/python3.8/wsgiref/simple_server.py\", line 154, in make_server\n",
      "    server = server_class((host, port), handler_class)\n",
      "  File \"/Users/brianliu/opt/anaconda3/lib/python3.8/socketserver.py\", line 452, in __init__\n",
      "    self.server_bind()\n",
      "  File \"/Users/brianliu/opt/anaconda3/lib/python3.8/wsgiref/simple_server.py\", line 50, in server_bind\n",
      "    HTTPServer.server_bind(self)\n",
      "  File \"/Users/brianliu/opt/anaconda3/lib/python3.8/http/server.py\", line 138, in server_bind\n",
      "    socketserver.TCPServer.server_bind(self)\n",
      "  File \"/Users/brianliu/opt/anaconda3/lib/python3.8/socketserver.py\", line 466, in server_bind\n",
      "    self.socket.bind(self.server_address)\n",
      "OSError: [Errno 48] Address already in use\n",
      "\n",
      "2021-09-02 13:01:55,506\tWARNING worker.py:1189 -- The agent on node dhcp-10-31-98-180.dyn.mit.edu failed with the following error:\n",
      "Traceback (most recent call last):\n",
      "  File \"/Users/brianliu/opt/anaconda3/lib/python3.8/site-packages/ray/new_dashboard/agent.py\", line 354, in <module>\n",
      "    loop.run_until_complete(agent.run())\n",
      "  File \"/Users/brianliu/opt/anaconda3/lib/python3.8/asyncio/base_events.py\", line 616, in run_until_complete\n",
      "    return future.result()\n",
      "  File \"/Users/brianliu/opt/anaconda3/lib/python3.8/site-packages/ray/new_dashboard/agent.py\", line 144, in run\n",
      "    modules = self._load_modules()\n",
      "  File \"/Users/brianliu/opt/anaconda3/lib/python3.8/site-packages/ray/new_dashboard/agent.py\", line 98, in _load_modules\n",
      "    c = cls(self)\n",
      "  File \"/Users/brianliu/opt/anaconda3/lib/python3.8/site-packages/ray/new_dashboard/modules/reporter/reporter_agent.py\", line 148, in __init__\n",
      "    self._metrics_agent = MetricsAgent(dashboard_agent.metrics_export_port)\n",
      "  File \"/Users/brianliu/opt/anaconda3/lib/python3.8/site-packages/ray/_private/metrics_agent.py\", line 75, in __init__\n",
      "    prometheus_exporter.new_stats_exporter(\n",
      "  File \"/Users/brianliu/opt/anaconda3/lib/python3.8/site-packages/ray/_private/prometheus_exporter.py\", line 333, in new_stats_exporter\n",
      "    exporter = PrometheusStatsExporter(\n",
      "  File \"/Users/brianliu/opt/anaconda3/lib/python3.8/site-packages/ray/_private/prometheus_exporter.py\", line 266, in __init__\n",
      "    self.serve_http()\n",
      "  File \"/Users/brianliu/opt/anaconda3/lib/python3.8/site-packages/ray/_private/prometheus_exporter.py\", line 320, in serve_http\n",
      "    start_http_server(\n",
      "  File \"/Users/brianliu/opt/anaconda3/lib/python3.8/site-packages/prometheus_client/exposition.py\", line 149, in start_wsgi_server\n",
      "    httpd = make_server(addr, port, app, ThreadingWSGIServer, handler_class=_SilentHandler)\n",
      "  File \"/Users/brianliu/opt/anaconda3/lib/python3.8/wsgiref/simple_server.py\", line 154, in make_server\n",
      "    server = server_class((host, port), handler_class)\n",
      "  File \"/Users/brianliu/opt/anaconda3/lib/python3.8/socketserver.py\", line 452, in __init__\n",
      "    self.server_bind()\n",
      "  File \"/Users/brianliu/opt/anaconda3/lib/python3.8/wsgiref/simple_server.py\", line 50, in server_bind\n",
      "    HTTPServer.server_bind(self)\n",
      "  File \"/Users/brianliu/opt/anaconda3/lib/python3.8/http/server.py\", line 138, in server_bind\n",
      "    socketserver.TCPServer.server_bind(self)\n",
      "  File \"/Users/brianliu/opt/anaconda3/lib/python3.8/socketserver.py\", line 466, in server_bind\n",
      "    self.socket.bind(self.server_address)\n",
      "OSError: [Errno 48] Address already in use\n",
      "\n"
     ]
    },
    {
     "name": "stdout",
     "output_type": "stream",
     "text": [
      "dense_sing_nomask_2x\n"
     ]
    },
    {
     "name": "stderr",
     "output_type": "stream",
     "text": [
      "2021-09-02 13:01:59,080\tINFO services.py:1245 -- View the Ray dashboard at \u001b[1m\u001b[32mhttp://127.0.0.1:8265\u001b[39m\u001b[22m\n"
     ]
    },
    {
     "name": "stdout",
     "output_type": "stream",
     "text": [
      "dense_sing_nomask_4x\n"
     ]
    },
    {
     "name": "stderr",
     "output_type": "stream",
     "text": [
      "2021-09-02 13:02:31,467\tINFO services.py:1245 -- View the Ray dashboard at \u001b[1m\u001b[32mhttp://127.0.0.1:8265\u001b[39m\u001b[22m\n"
     ]
    },
    {
     "name": "stdout",
     "output_type": "stream",
     "text": [
      "distanced_sing_nomask_1x\n"
     ]
    },
    {
     "name": "stderr",
     "output_type": "stream",
     "text": [
      "2021-09-02 13:03:04,015\tINFO services.py:1245 -- View the Ray dashboard at \u001b[1m\u001b[32mhttp://127.0.0.1:8265\u001b[39m\u001b[22m\n"
     ]
    },
    {
     "name": "stdout",
     "output_type": "stream",
     "text": [
      "distanced_sing_unvaxmask_1x\n"
     ]
    },
    {
     "name": "stderr",
     "output_type": "stream",
     "text": [
      "2021-09-02 13:03:36,402\tINFO services.py:1245 -- View the Ray dashboard at \u001b[1m\u001b[32mhttp://127.0.0.1:8265\u001b[39m\u001b[22m\n"
     ]
    },
    {
     "name": "stdout",
     "output_type": "stream",
     "text": [
      "moderate_sing_nomask_1x\n"
     ]
    },
    {
     "name": "stderr",
     "output_type": "stream",
     "text": [
      "2021-09-02 13:04:08,853\tINFO services.py:1245 -- View the Ray dashboard at \u001b[1m\u001b[32mhttp://127.0.0.1:8265\u001b[39m\u001b[22m\n"
     ]
    },
    {
     "name": "stdout",
     "output_type": "stream",
     "text": [
      "moderate_sing_unvaxmask_1x\n"
     ]
    },
    {
     "name": "stderr",
     "output_type": "stream",
     "text": [
      "2021-09-02 13:04:39,402\tINFO services.py:1245 -- View the Ray dashboard at \u001b[1m\u001b[32mhttp://127.0.0.1:8265\u001b[39m\u001b[22m\n"
     ]
    },
    {
     "name": "stdout",
     "output_type": "stream",
     "text": [
      "dense_sing_nomask_1x\n"
     ]
    },
    {
     "name": "stderr",
     "output_type": "stream",
     "text": [
      "2021-09-02 13:05:10,315\tINFO services.py:1245 -- View the Ray dashboard at \u001b[1m\u001b[32mhttp://127.0.0.1:8265\u001b[39m\u001b[22m\n"
     ]
    },
    {
     "name": "stdout",
     "output_type": "stream",
     "text": [
      "dense_sing_unvaxmask_1x\n"
     ]
    },
    {
     "name": "stderr",
     "output_type": "stream",
     "text": [
      "2021-09-02 13:05:42,612\tINFO services.py:1245 -- View the Ray dashboard at \u001b[1m\u001b[32mhttp://127.0.0.1:8265\u001b[39m\u001b[22m\n"
     ]
    },
    {
     "name": "stdout",
     "output_type": "stream",
     "text": [
      "dense_sing_unvaxmask_2x\n"
     ]
    },
    {
     "name": "stderr",
     "output_type": "stream",
     "text": [
      "2021-09-02 13:06:14,654\tINFO services.py:1245 -- View the Ray dashboard at \u001b[1m\u001b[32mhttp://127.0.0.1:8265\u001b[39m\u001b[22m\n"
     ]
    },
    {
     "name": "stdout",
     "output_type": "stream",
     "text": [
      "dense_sing_unvaxmask_4x\n"
     ]
    },
    {
     "name": "stderr",
     "output_type": "stream",
     "text": [
      "2021-09-02 13:06:46,645\tINFO services.py:1245 -- View the Ray dashboard at \u001b[1m\u001b[32mhttp://127.0.0.1:8265\u001b[39m\u001b[22m\n"
     ]
    }
   ],
   "source": [
    "import warnings\n",
    "warnings.filterwarnings(\"ignore\")\n",
    "final_results = {}\n",
    "for arg in args:\n",
    "    print(arg[-1])\n",
    "    masked_status = arg[0]\n",
    "    room = arg[1]\n",
    "    room_vol = arg[2]\n",
    "    pixels_per_foot = arg[3]\n",
    "    class_type = arg[4]\n",
    "    air_exchanges_per_hour = arg[5]\n",
    "    label = arg[6]\n",
    "    \n",
    "    \n",
    "    ray.shutdown()\n",
    "    ray.init(log_to_driver=False)\n",
    "    result_ids = []\n",
    "    for p in p_range:\n",
    "        result_ids.append(parallel_wrapper.remote(p))    \n",
    "    results = ray.get(result_ids)  \n",
    "    ray.shutdown()\n",
    "    results = pd.DataFrame(results, columns = ['p','mean','std','unvax_aerosol'])\n",
    "    final_results[label] = results\n",
    "    gc.collect()"
   ]
  },
  {
   "cell_type": "code",
   "execution_count": 14,
   "metadata": {},
   "outputs": [],
   "source": [
    "with open('sim_results/COVID_class_922021_50VE_0VET.pickle', 'wb') as handle:\n",
    "    pickle.dump(final_results, handle, protocol=pickle.HIGHEST_PROTOCOL)"
   ]
  },
  {
   "cell_type": "code",
   "execution_count": 21,
   "metadata": {},
   "outputs": [
    {
     "data": {
      "text/plain": [
       "dict_keys(['distanced_breathe_nomask_2x', 'distanced_breathe_nomask_4x', 'distanced_breathe_unvaxmask_2x', 'distanced_breathe_unvaxmask_4x', 'moderate_breathe_nomask_2x', 'moderate_breathe_nomask_4x', 'moderate_breathe_unvaxmask_2x', 'moderate_breathe_unvaxmask_4x', 'dense_breathe_nomask_2x', 'dense_breathe_nomask_4x', 'distanced_breathe_nomask_1x', 'distanced_breathe_unvaxmask_1x', 'moderate_breathe_nomask_1x', 'moderate_breathe_unvaxmask_1x', 'dense_breathe_nomask_1x', 'dense_breathe_unvaxmask_1x', 'dense_breathe_unvaxmask_2x', 'dense_breathe_unvaxmask_4x'])"
      ]
     },
     "execution_count": 21,
     "metadata": {},
     "output_type": "execute_result"
    }
   ],
   "source": [
    "final_results.keys()"
   ]
  },
  {
   "cell_type": "code",
   "execution_count": 43,
   "metadata": {},
   "outputs": [
    {
     "data": {
      "text/html": [
       "<div>\n",
       "<style scoped>\n",
       "    .dataframe tbody tr th:only-of-type {\n",
       "        vertical-align: middle;\n",
       "    }\n",
       "\n",
       "    .dataframe tbody tr th {\n",
       "        vertical-align: top;\n",
       "    }\n",
       "\n",
       "    .dataframe thead th {\n",
       "        text-align: right;\n",
       "    }\n",
       "</style>\n",
       "<table border=\"1\" class=\"dataframe\">\n",
       "  <thead>\n",
       "    <tr style=\"text-align: right;\">\n",
       "      <th></th>\n",
       "      <th>p</th>\n",
       "      <th>mean</th>\n",
       "      <th>std</th>\n",
       "      <th>unvax_aerosol</th>\n",
       "    </tr>\n",
       "  </thead>\n",
       "  <tbody>\n",
       "    <tr>\n",
       "      <th>0</th>\n",
       "      <td>0.9</td>\n",
       "      <td>0.080538</td>\n",
       "      <td>0.030185</td>\n",
       "      <td>0.00104</td>\n",
       "    </tr>\n",
       "  </tbody>\n",
       "</table>\n",
       "</div>"
      ],
      "text/plain": [
       "     p      mean       std  unvax_aerosol\n",
       "0  0.9  0.080538  0.030185        0.00104"
      ]
     },
     "execution_count": 43,
     "metadata": {},
     "output_type": "execute_result"
    }
   ],
   "source": [
    "final_results['dense_breathe_unvaxmask_1x']"
   ]
  },
  {
   "cell_type": "code",
   "execution_count": null,
   "metadata": {},
   "outputs": [],
   "source": []
  }
 ],
 "metadata": {
  "kernelspec": {
   "display_name": "Python 3",
   "language": "python",
   "name": "python3"
  },
  "language_info": {
   "codemirror_mode": {
    "name": "ipython",
    "version": 3
   },
   "file_extension": ".py",
   "mimetype": "text/x-python",
   "name": "python",
   "nbconvert_exporter": "python",
   "pygments_lexer": "ipython3",
   "version": "3.8.8"
  }
 },
 "nbformat": 4,
 "nbformat_minor": 4
}
