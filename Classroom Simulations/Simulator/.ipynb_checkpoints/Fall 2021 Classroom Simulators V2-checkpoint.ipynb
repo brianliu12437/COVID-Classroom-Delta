{
 "cells": [
  {
   "cell_type": "code",
   "execution_count": 1,
   "metadata": {},
   "outputs": [],
   "source": [
    "import pandas as pd\n",
    "import sys\n",
    "import warnings\n",
    "import numpy as np\n",
    "import matplotlib.pyplot as plt\n",
    "import pickle\n",
    "if not sys.warnoptions:\n",
    "    warnings.simplefilter(\"ignore\")\n",
    "import seaborn as sns\n",
    "import gc\n",
    "import itertools\n",
    "import random\n",
    "import math\n",
    "from matplotlib.ticker import FormatStrFormatter\n",
    "import ray\n",
    "import shapley\n",
    "sys.path.append('../')"
   ]
  },
  {
   "cell_type": "code",
   "execution_count": 2,
   "metadata": {},
   "outputs": [],
   "source": [
    "class_risk_params = {\n",
    "    'prevalence': 5*10**(-4),\n",
    "    'vax_effectiveness': .715,\n",
    "    'sensitivity': 0.6\n",
    "}\n",
    "\n",
    "\n",
    "aerosol_params = {\n",
    "    'inhale_air_rate': 6.8,\n",
    "    'dose_response_constant': 1440,\n",
    "    'nominal_breathe_virus_emitted_hourly': 3300,# corresponding to 10^8 copies / mL\n",
    "    'nominal_talk_virus_emitted_hourly' : 27300,\n",
    "    'nominal_sing_virus_emitted_hourly' : 330000,\n",
    "    'viral_load_distribution': [0.12, 0.22, 0.3, 0.23, 0.103, 0.0236, 0.0034] # over orders of magnitude from 10^5 to 10^11\n",
    "}\n",
    "\n",
    "\"\"\"\n",
    "Difference of sets\n",
    "\"\"\"\n",
    "def Diff(li1, li2):\n",
    "    li_dif = [i for i in li1 + li2 if i not in li1 or i not in li2]\n",
    "    return li_dif\n",
    "\n",
    "\"\"\"\n",
    "Biased coin flipper\n",
    "\"\"\"\n",
    "def flip(p):\n",
    "    return 1 if random.random() < p else 0\n",
    "\n",
    "def exists_pos_in_class(frac_vax, N, params = class_risk_params):\n",
    "    num_vax = np.floor(N*frac_vax)\n",
    "    num_unvax = N-num_vax\n",
    "\n",
    "    prev_unvax = params['prevalence']\n",
    "    prev_vax = prev_unvax * (1-params['vax_effectiveness'])\n",
    "\n",
    "    p_pos_unvax = prev_unvax * (1-params['sensitivity'])\n",
    "    p_pos_vax = prev_vax * (1-params['sensitivity'])\n",
    "\n",
    "    prob_exists_positive = 1 - (1-p_pos_unvax)**num_unvax * (1-p_pos_vax)**num_vax\n",
    "    prob_one_positive = num_unvax * p_pos_unvax * (1-p_pos_unvax)**(num_unvax-1) * (1-p_pos_vax)**num_vax + \\\n",
    "                      (1-p_pos_unvax)**num_unvax * num_vax * p_pos_vax * (1-p_pos_vax)**(num_vax-1)\n",
    "    approx_error = prob_exists_positive - prob_one_positive\n",
    "\n",
    "    return prob_exists_positive, prob_one_positive, approx_error*N\n",
    "\n",
    "\n",
    "def simulate_class_single_aerosol(room,vax_infected, unvax_infected, time,alpha,masked_status,frac_vax,class_type,room_vol,N,pixels_per_foot):\n",
    "    room = room.reset_index()\n",
    "    vax_infect_id = random.sample(list(room[room['seating'] == 'V']['index'].values), vax_infected)\n",
    "    unvax_infect_id = random.sample(list(room[room['seating'] == 'U']['index'].values), unvax_infected)\n",
    "    infected = room[room['index'].isin(np.append(vax_infect_id,unvax_infect_id))]\n",
    "    uninfected = room[ (~room['index'].isin(np.append(vax_infect_id,unvax_infect_id))) & \\\n",
    "                      (room['seating'] != 'E')  ]\n",
    "    if vax_infected == 1:\n",
    "        source_status = 'V'\n",
    "    elif unvax_infected == 1:\n",
    "        source_status = 'U'\n",
    "    infected_x = infected['x']\n",
    "    infected_y = infected['y']\n",
    "    \n",
    "    aerosol_risk = 0.5*generate_aerosol_risk(room_vol, vax_infected, unvax_infected, time, masked_status, frac_vax,class_type, params = aerosol_params)\n",
    "    #p_exist = exists_pos_in_class(frac_vax, N, params = class_risk_params)[0]\n",
    "    \n",
    "    p_infections = []\n",
    "    for i,row in uninfected.iterrows():\n",
    "        x = row['x']\n",
    "        y = row['y']\n",
    "        v_infect = [x-infected_x,y - infected_y]\n",
    "        v_vert = [0,10000]\n",
    "        dot = v_infect[1]*v_vert[1]\n",
    "        mag1 = 10000\n",
    "        mag2 = np.sqrt((x-infected_x)**2+(y - infected_y)**2)\n",
    "        theta =  math.acos(dot/(mag1*mag2))*180/math.pi\n",
    "        if theta < 90 + alpha:\n",
    "       \n",
    "            susceptible_status = row['seating']\n",
    "            dist = np.sqrt((infected_x-x)**2+(infected_y-y)**2)\n",
    "            p = updated_distance_to_prob(dist,susceptible_status,source_status,masked_status,time,pixels_per_foot)\n",
    "            p = max(p,aerosol_risk)\n",
    "            p_infections.append(p)\n",
    "        else:\n",
    "            p_infections.append(aerosol_risk)\n",
    "            \n",
    "    return np.sum(p_infections)#*p_exist\n",
    "\n",
    "def updated_distance_to_prob(d,susceptible_status,source_status,masked_status,time,pixels_per_foot): \n",
    "    d = d/pixels_per_foot*0.3048\n",
    "    susceptible_const = 1\n",
    "    source_const = 1\n",
    "    masked_const = 1\n",
    "    if susceptible_status == 'V':\n",
    "        susceptible_const = 1 - class_risk_params['vax_effectiveness'] \n",
    "    if source_status == 'V':\n",
    "        source_const = 0.29 \n",
    "    if masked_status == True:\n",
    "        masked_const = 0.8\n",
    "        \n",
    "    prob = 2.4*susceptible_const*(1-np.exp(-1 * source_const* masked_const * 0.0135 *time * (-0.1819*np.log(d)+0.43276)/d))\n",
    "    prob = float(prob)\n",
    "    return max(prob,0)\n",
    "\n",
    "def generate_aerosol_risk(room_vol, vax_infected, unvax_infected, time, masked_status, frac_vax, class_type, params = aerosol_params):\n",
    "    \n",
    "    if class_type == 'breathe':\n",
    "        v = params['nominal_breathe_virus_emitted_hourly'] \n",
    "    elif class_type == 'speak':\n",
    "        v = params['nominal_talk_virus_emitted_hourly'] \n",
    "    elif class_type == 'sing':\n",
    "        v = params['nominal_sing_virus_emitted_hourly'] \n",
    "    \n",
    "    hourly_virus_array = np.array([v/1000, v/100, v/10, v, v*10, v*100, v*1000])\n",
    "\n",
    "  # variables: source vaccinated? susceptible vaccinated? susceptible masked?\n",
    "    dose_array = hourly_virus_array * params['inhale_air_rate'] / room_vol\n",
    "    if masked_status == 1:\n",
    "        dose_array = dose_array * 0.8\n",
    "    if vax_infected == 1:\n",
    "        dose_array = dose_array * 0.29 \n",
    "  \n",
    "    effective_dose_array = dose_array / params['dose_response_constant']\n",
    "\n",
    "    unvax_susceptible_risk_array = 1 - np.exp(-effective_dose_array)\n",
    "\n",
    "    vax_susceptible_risk_array = (1 - class_risk_params['vax_effectiveness']) * unvax_susceptible_risk_array\n",
    "    \n",
    "    susceptible_risk_array = unvax_susceptible_risk_array * (1-frac_vax) + vax_susceptible_risk_array * frac_vax\n",
    "\n",
    "    susceptible_risk = np.dot(susceptible_risk_array, np.array(params['viral_load_distribution']))\n",
    "\n",
    "    individual_susceptible_risk_over_time = 2.4*susceptible_risk * time\n",
    "\n",
    "    return individual_susceptible_risk_over_time"
   ]
  },
  {
   "cell_type": "code",
   "execution_count": 3,
   "metadata": {},
   "outputs": [],
   "source": [
    "def generate_clumpy_plan(N,p,room, clump_size = 3):\n",
    "    Nvax = round(N*p)\n",
    "    Nunvax = N-Nvax\n",
    "    room = room.drop('UnvaxSpot',axis = 1).reset_index()\n",
    "    grid = room.copy()\n",
    "    grid['seating'] = 'E'\n",
    "    \n",
    "    if Nunvax > 0:\n",
    "        clump_size = min(clump_size,Nunvax)\n",
    "        num_clumps = math.floor(Nunvax/clump_size)\n",
    "        remainder = Nunvax - num_clumps*clump_size\n",
    "        clump = 0\n",
    "        while clump < (num_clumps):\n",
    "            ind1 = np.random.choice(room['index'].values,replace = False)\n",
    "            grid['seating'].loc[grid['index'] == ind1] = 'U'\n",
    "            room = room.drop(ind1, axis = 0)\n",
    "            x_temp = grid['x'].loc[grid['index'] == ind1].values[0]\n",
    "            y_temp = grid['y'].loc[grid['index'] == ind1].values[0]  \n",
    "            temp = room.copy()\n",
    "            temp['dist_infected'] = ((temp['x'] -x_temp) ** 2 + (temp['y'] - y_temp) ** 2) ** 0.5\n",
    "            temp = temp.sort_values('dist_infected', ascending = True).head(clump_size-1)\n",
    "            grid['seating'].loc[grid['index'].isin(temp['index'].values)] = 'U'\n",
    "            room = room.drop(temp['index'].values, axis = 0)\n",
    "            clump = clump + 1\n",
    "        remainder_ind = np.random.choice(grid['index'].loc[grid['seating'] == 'E'],remainder,replace = False)\n",
    "        grid['seating'].loc[grid['index'].isin(remainder_ind)] = 'U'\n",
    "\n",
    "    vax_ind = np.random.choice(grid['index'].loc[grid['seating'] == 'E'],Nvax,replace = False) \n",
    "    grid['seating'].loc[grid['index'].isin(vax_ind)] = 'V'\n",
    "    \n",
    "    return grid\n",
    "\n",
    "def generate_random_plan(N,p,room):\n",
    "    Nvax = round(N*p)\n",
    "    Nunvax = N-Nvax\n",
    "    \n",
    "    room = room.drop('UnvaxSpot',axis = 1)\n",
    "    grid = room.copy()\n",
    "    grid = grid.reset_index()\n",
    "    temp = list(np.append(np.append(np.repeat('V',Nvax),np.repeat('U',Nunvax)),np.repeat('E',len(grid)-Nvax-Nunvax)))\n",
    "    random.shuffle(temp)\n",
    "    grid['seating'] = temp\n",
    "    return grid\n"
   ]
  },
  {
   "cell_type": "markdown",
   "metadata": {},
   "source": [
    "# Load Room Plans"
   ]
  },
  {
   "cell_type": "code",
   "execution_count": 4,
   "metadata": {},
   "outputs": [
    {
     "data": {
      "text/plain": [
       "([], [])"
      ]
     },
     "execution_count": 4,
     "metadata": {},
     "output_type": "execute_result"
    },
    {
     "data": {
      "image/png": "[encoded data removed]",
      "text/plain": [
       "<Figure size 432x288 with 1 Axes>"
      ]
     },
     "metadata": {},
     "output_type": "display_data"
    }
   ],
   "source": [
    "# Big Room\n",
    "with open(\"../Data/rk201.pickle\" , 'rb') as handle:\n",
    "    layout = pickle.load(handle)\n",
    "\n",
    "big_pixels_per_foot = (2074-1575)/20\n",
    "big_volume = 1684283\n",
    "\n",
    "x_coord = [i.x for i in layout['Middles']]\n",
    "y_coord = [i.y for i in layout['Middles']]\n",
    "room = pd.DataFrame(np.column_stack((x_coord,y_coord)), columns = ['x','y'])\n",
    "room['UnvaxSpot'] = layout['In Solution']\n",
    "\n",
    "\n",
    "\n",
    "FA2020room = room.copy()\n",
    "FA2020room['label'] = FA2020room.index\n",
    "\n",
    "#label of seats used in 2020\n",
    "indicies = [282,283,284,285, 286,287,288,289,290,365,238,270,273,110,362,358,227,222,260,104,100,348,352,207,20,250,89,\n",
    "           93,76,80,189,193,172,163,339,334,321,168,25,2,61,65,51,14,121,138,149,308,312,299,294,144,124,34,40,36]\n",
    "FA2020room['UnvaxSpot'] = 0\n",
    "FA2020room['UnvaxSpot'].iloc[indicies] = 1\n",
    "FA2020room.drop('label', axis =1,inplace = True)\n",
    "FA2020room['seating'] = 'E'\n",
    "FA2020room['seating'].loc[FA2020room['UnvaxSpot'] == 1] = 'U'\n",
    "plt.figure()\n",
    "plt.scatter(FA2020room[FA2020room['UnvaxSpot'] == 0]['x'],FA2020room[FA2020room['UnvaxSpot'] == 0]['y'])\n",
    "plt.scatter(FA2020room[FA2020room['UnvaxSpot'] == 1]['x'],FA2020room[FA2020room['UnvaxSpot'] == 1]['y'], label = 'Available Seat')\n",
    "plt.title('Rockefeller 201 Seating Plan')\n",
    "FA2020_subset = FA2020room[FA2020room['UnvaxSpot']==1 ].reset_index().drop('index', axis = 1)\n",
    "big_plan = FA2020_subset.copy()\n",
    "plt.legend()\n",
    "plt.xticks([])\n",
    "plt.yticks([])\n",
    "#print([big_pixels_per_foot,big_volume,big_plan])"
   ]
  },
  {
   "cell_type": "code",
   "execution_count": 5,
   "metadata": {},
   "outputs": [
    {
     "data": {
      "text/plain": [
       "<matplotlib.legend.Legend at 0x7ff280adfaf0>"
      ]
     },
     "execution_count": 5,
     "metadata": {},
     "output_type": "execute_result"
    },
    {
     "data": {
      "image/png": "[encoded data removed]",
      "text/plain": [
       "<Figure size 432x288 with 1 Axes>"
      ]
     },
     "metadata": {},
     "output_type": "display_data"
    }
   ],
   "source": [
    "with open(\"../Data/gtsg01.pickle\" , 'rb') as handle:\n",
    "    layout = pickle.load(handle)\n",
    "\n",
    "medium_pixels_per_foot = (2834-2082)/20\n",
    "medium_volume = 1087931\n",
    "\n",
    "x_coord = [-i.x +3000 for i in layout['Middles']]\n",
    "y_coord = [-i.y +3000 for i in layout['Middles']]\n",
    "room = pd.DataFrame(np.column_stack((x_coord,y_coord)), columns = ['x','y'])\n",
    "room['UnvaxSpot'] = layout['In Solution']\n",
    "room_subset = room[room['UnvaxSpot'] == 1].reset_index().drop('index',axis = 1)\n",
    "medium_plan = room_subset.copy()\n",
    "\n",
    "plt.scatter(room[room['UnvaxSpot'] == 0]['x'],room[room['UnvaxSpot'] == 0]['y'])\n",
    "plt.scatter(room[room['UnvaxSpot'] == 1]['x'],room[room['UnvaxSpot'] == 1]['y'], label = 'Available Seat')\n",
    "plt.title('Gates G01 Seating Plan')\n",
    "plt.xticks([])\n",
    "plt.yticks([])\n",
    "plt.legend()"
   ]
  },
  {
   "cell_type": "code",
   "execution_count": 6,
   "metadata": {},
   "outputs": [
    {
     "data": {
      "text/plain": [
       "([], [])"
      ]
     },
     "execution_count": 6,
     "metadata": {},
     "output_type": "execute_result"
    },
    {
     "data": {
      "image/png": "[encoded data removed]",
      "text/plain": [
       "<Figure size 432x288 with 1 Axes>"
      ]
     },
     "metadata": {},
     "output_type": "display_data"
    }
   ],
   "source": [
    "# Small Room\n",
    "with open(\"../Data/hls206.pickle\" , 'rb') as handle:\n",
    "    layout = pickle.load(handle)\n",
    "\n",
    "small_pixels_per_foot = (2014-1260)/15\n",
    "small_volume = 222004\n",
    "\n",
    "x_coord = [i.x for i in layout['Middles']]\n",
    "y_coord = [i.y for i in layout['Middles']]\n",
    "room = pd.DataFrame(np.column_stack((x_coord,y_coord)), columns = ['x','y'])\n",
    "room['UnvaxSpot'] = layout['In Solution']\n",
    "\n",
    "\n",
    "small_plan = room.copy()\n",
    "\n",
    "\n",
    "plt.figure()\n",
    "plt.scatter(small_plan[small_plan['UnvaxSpot'] == 0]['x'],small_plan[small_plan['UnvaxSpot'] == 0]['y'])\n",
    "plt.scatter(small_plan[small_plan['UnvaxSpot'] == 1]['x'],small_plan[small_plan['UnvaxSpot'] == 1]['y'],  label = 'Available Seat')\n",
    "plt.title('Holister 206 Seating Plan')\n",
    "plt.legend()\n",
    "plt.xticks([])\n",
    "plt.yticks([])\n",
    "\n",
    "#print([small_pixels_per_foot,small_volume,small_plan])"
   ]
  },
  {
   "cell_type": "code",
   "execution_count": 7,
   "metadata": {
    "scrolled": false
   },
   "outputs": [
    {
     "name": "stdout",
     "output_type": "stream",
     "text": [
      "V    35\n",
      "U    15\n",
      "E     6\n",
      "Name: seating, dtype: int64\n",
      "V    35\n",
      "E    27\n",
      "U    15\n",
      "Name: seating, dtype: int64\n",
      "V    35\n",
      "U    15\n",
      "E     2\n",
      "Name: seating, dtype: int64\n",
      "V    35\n",
      "U    15\n",
      "E     6\n",
      "Name: seating, dtype: int64\n",
      "V    35\n",
      "E    27\n",
      "U    15\n",
      "Name: seating, dtype: int64\n",
      "V    35\n",
      "U    15\n",
      "E     2\n",
      "Name: seating, dtype: int64\n"
     ]
    },
    {
     "data": {
      "image/png": "[encoded data removed]",
      "text/plain": [
       "<Figure size 432x288 with 1 Axes>"
      ]
     },
     "metadata": {},
     "output_type": "display_data"
    },
    {
     "data": {
      "image/png": "[encoded data removed]",
      "text/plain": [
       "<Figure size 432x288 with 1 Axes>"
      ]
     },
     "metadata": {},
     "output_type": "display_data"
    },
    {
     "data": {
      "image/png": "[encoded data removed]",
      "text/plain": [
       "<Figure size 432x288 with 1 Axes>"
      ]
     },
     "metadata": {},
     "output_type": "display_data"
    },
    {
     "data": {
      "image/png": "[encoded data removed]",
      "text/plain": [
       "<Figure size 432x288 with 1 Axes>"
      ]
     },
     "metadata": {},
     "output_type": "display_data"
    },
    {
     "data": {
      "image/png": "[encoded data removed]",
      "text/plain": [
       "<Figure size 432x288 with 1 Axes>"
      ]
     },
     "metadata": {},
     "output_type": "display_data"
    },
    {
     "data": {
      "image/png": "[encoded data removed]",
      "text/plain": [
       "<Figure size 432x288 with 1 Axes>"
      ]
     },
     "metadata": {},
     "output_type": "display_data"
    }
   ],
   "source": [
    "grid = generate_clumpy_plan(50,.7,big_plan,3)\n",
    "plt.figure()\n",
    "plt.scatter(grid[grid['seating'] == 'U']['x'],grid[grid['seating'] == 'U']['y'], label = 'Unvax',color = 'red')\n",
    "plt.scatter(grid[grid['seating'] == 'V']['x'],grid[grid['seating'] == 'V']['y'], label = 'Vax',color = 'blue')\n",
    "plt.scatter(grid[grid['seating'] == 'E']['x'],grid[grid['seating'] == 'E']['y'], label = 'Empty',color = 'grey')\n",
    "plt.scatter(FA2020room[FA2020room['UnvaxSpot'] == 0]['x'],FA2020room[FA2020room['UnvaxSpot'] == 0]['y'],color = 'grey')\n",
    "plt.title('Big Room '+ 'Clump Seating')\n",
    "plt.legend()\n",
    "plt.xticks([])\n",
    "plt.yticks([])\n",
    "print(grid['seating'].value_counts())\n",
    "\n",
    "grid = generate_clumpy_plan(50,.7,medium_plan,3)\n",
    "plt.figure()\n",
    "plt.scatter(grid[grid['seating'] == 'U']['x'],grid[grid['seating'] == 'U']['y'], label = 'Unvax',color = 'red')\n",
    "plt.scatter(grid[grid['seating'] == 'V']['x'],grid[grid['seating'] == 'V']['y'], label = 'Vax',color = 'blue')\n",
    "plt.scatter(grid[grid['seating'] == 'E']['x'],grid[grid['seating'] == 'E']['y'], label = 'Empty',color = 'grey')\n",
    "plt.title('Medium Room '+ 'Clump Seating')\n",
    "plt.legend()\n",
    "plt.xticks([])\n",
    "plt.yticks([])\n",
    "print(grid['seating'].value_counts())\n",
    "\n",
    "\n",
    "grid = generate_clumpy_plan(50,.7,small_plan,3)\n",
    "plt.figure()\n",
    "plt.scatter(grid[grid['seating'] == 'U']['x'],grid[grid['seating'] == 'U']['y'], label = 'Unvax',color = 'red')\n",
    "plt.scatter(grid[grid['seating'] == 'V']['x'],grid[grid['seating'] == 'V']['y'], label = 'Vax',color = 'blue')\n",
    "plt.scatter(grid[grid['seating'] == 'E']['x'],grid[grid['seating'] == 'E']['y'], label = 'Empty',color = 'grey')\n",
    "plt.title('Small Room '+ 'Clump Seating')\n",
    "plt.legend()\n",
    "plt.xticks([])\n",
    "plt.yticks([])\n",
    "print(grid['seating'].value_counts())\n",
    "\n",
    "grid = generate_random_plan(50,.7,big_plan)\n",
    "plt.figure()\n",
    "plt.scatter(grid[grid['seating'] == 'U']['x'],grid[grid['seating'] == 'U']['y'], label = 'Unvax',color = 'red')\n",
    "plt.scatter(grid[grid['seating'] == 'V']['x'],grid[grid['seating'] == 'V']['y'], label = 'Vax',color = 'blue')\n",
    "plt.scatter(grid[grid['seating'] == 'E']['x'],grid[grid['seating'] == 'E']['y'], label = 'Empty',color = 'grey')\n",
    "plt.scatter(FA2020room[FA2020room['UnvaxSpot'] == 0]['x'],FA2020room[FA2020room['UnvaxSpot'] == 0]['y'],color = 'grey')\n",
    "plt.title('Big Room '+ 'Random Seating')\n",
    "plt.legend()\n",
    "plt.xticks([])\n",
    "plt.yticks([])\n",
    "print(grid['seating'].value_counts())\n",
    "\n",
    "grid = generate_random_plan(50,.7,medium_plan)\n",
    "plt.figure()\n",
    "plt.scatter(grid[grid['seating'] == 'U']['x'],grid[grid['seating'] == 'U']['y'], label = 'Unvax',color = 'red')\n",
    "plt.scatter(grid[grid['seating'] == 'V']['x'],grid[grid['seating'] == 'V']['y'], label = 'Vax',color = 'blue')\n",
    "plt.scatter(grid[grid['seating'] == 'E']['x'],grid[grid['seating'] == 'E']['y'], label = 'Empty',color = 'grey')\n",
    "plt.title('Medium Room '+ 'Random Seating')\n",
    "plt.legend()\n",
    "plt.xticks([])\n",
    "plt.yticks([])\n",
    "print(grid['seating'].value_counts())\n",
    "\n",
    "grid = generate_random_plan(50,.7,small_plan)\n",
    "plt.figure()\n",
    "plt.scatter(grid[grid['seating'] == 'U']['x'],grid[grid['seating'] == 'U']['y'], label = 'Unvax',color = 'red')\n",
    "plt.scatter(grid[grid['seating'] == 'V']['x'],grid[grid['seating'] == 'V']['y'], label = 'Vax',color = 'blue')\n",
    "plt.scatter(grid[grid['seating'] == 'E']['x'],grid[grid['seating'] == 'E']['y'], label = 'Empty',color = 'grey')\n",
    "plt.title('Small Room '+ 'Random Seating')\n",
    "plt.legend()\n",
    "plt.xticks([])\n",
    "plt.yticks([])\n",
    "print(grid['seating'].value_counts())"
   ]
  },
  {
   "cell_type": "markdown",
   "metadata": {},
   "source": [
    "### Simulator"
   ]
  },
  {
   "cell_type": "code",
   "execution_count": 8,
   "metadata": {},
   "outputs": [],
   "source": [
    "#General Parameters\n",
    "seating_function = generate_clumpy_plan\n",
    "p_range = np.arange(0,1.1,.1)\n",
    "N = 50\n",
    "time = 1\n",
    "\n",
    "\n",
    "#Arguments\n",
    "#[masked_status, room, room_vol,pixels_per_foot,class_type,label]\n",
    "args = [[True, small_plan, small_volume, small_pixels_per_foot, 'breathe', 'mask_small_breathe'],\n",
    "[True, small_plan, small_volume, small_pixels_per_foot, 'speak', 'mask_small_speak'],\n",
    "[True, small_plan, small_volume, small_pixels_per_foot, 'sing','mask_small_sing'],\n",
    "[False, small_plan, small_volume, small_pixels_per_foot, 'breathe','nomask_small_breathe'],\n",
    "[False, small_plan, small_volume, small_pixels_per_foot, 'speak','nomask_small_speak'],\n",
    "[False, small_plan, small_volume, small_pixels_per_foot, 'sing','nomask_small_sing'],\n",
    "[True, medium_plan, medium_volume, medium_pixels_per_foot, 'breathe','mask_medium_breathe'],\n",
    "[True, medium_plan, medium_volume, medium_pixels_per_foot,  'speak','mask_medium_speak'],\n",
    "[True, medium_plan, medium_volume, medium_pixels_per_foot, 'sing', 'mask_medium_sing'],\n",
    "[False, medium_plan, medium_volume, medium_pixels_per_foot, 'breathe', 'nomask_medium_breathe'],\n",
    "[False, medium_plan, medium_volume, medium_pixels_per_foot, 'speak', 'nomask_medium_speak'],\n",
    "[False, medium_plan, medium_volume, medium_pixels_per_foot, 'sing', 'nomask_medium_sing'],\n",
    "[True, big_plan, big_volume, big_pixels_per_foot, 'breathe', 'mask_big_breathe'],\n",
    "[True, big_plan, big_volume, big_pixels_per_foot,  'speak','mask_big_speak'],\n",
    "[True, big_plan, big_volume, big_pixels_per_foot, 'sing','mask_big_sing'],\n",
    "[False, big_plan, big_volume, big_pixels_per_foot, 'breathe', 'nomask_big_breathe'],\n",
    "[False, big_plan, big_volume, big_pixels_per_foot, 'speak','nomask_big_speak'],\n",
    "[False, big_plan, big_volume, big_pixels_per_foot, 'sing','nomask_big_sing']]\n"
   ]
  },
  {
   "cell_type": "code",
   "execution_count": 9,
   "metadata": {},
   "outputs": [],
   "source": [
    "@ray.remote\n",
    "def parallel_wrapper(p):\n",
    "    trial = 0\n",
    "    results = []\n",
    "    while trial < 500:\n",
    "        grid = seating_function(N,p,room)\n",
    "        p_generate = (1-class_risk_params['vax_effectiveness'])*p/(1-class_risk_params['vax_effectiveness']*p)\n",
    "        ind = flip(p_generate)\n",
    "        if sum(grid['seating'] == 'V') == 0:\n",
    "            ind = 0\n",
    "        elif sum(grid['seating'] == 'U') == 0:\n",
    "            ind = 1\n",
    "        infect = simulate_class_single_aerosol(grid,ind, 1-ind, time,15,masked_status,p,class_type,room_vol,N,pixels_per_foot)\n",
    "        results.append(infect)\n",
    "        trial = trial + 1\n",
    "    return [p,np.mean(results),np.std(results)]"
   ]
  },
  {
   "cell_type": "code",
   "execution_count": null,
   "metadata": {
    "scrolled": true
   },
   "outputs": [
    {
     "name": "stdout",
     "output_type": "stream",
     "text": [
      "mask_small_breathe\n"
     ]
    },
    {
     "name": "stderr",
     "output_type": "stream",
     "text": [
      "2021-07-29 12:52:40,972\tINFO services.py:1245 -- View the Ray dashboard at \u001b[1m\u001b[32mhttp://127.0.0.1:8265\u001b[39m\u001b[22m\n"
     ]
    }
   ],
   "source": [
    "import warnings\n",
    "warnings.filterwarnings(\"ignore\")\n",
    "final_results = {}\n",
    "for arg in args:\n",
    "    print(arg[-1])\n",
    "    masked_status = arg[0]\n",
    "    room = arg[1]\n",
    "    room_vol = arg[2]\n",
    "    pixels_per_foot = arg[3]\n",
    "    class_type = arg[4]\n",
    "    label = arg[5]\n",
    "    \n",
    "    ray.shutdown()\n",
    "    ray.init(log_to_driver=False)\n",
    "    result_ids = []\n",
    "    for p in p_range:\n",
    "        result_ids.append(parallel_wrapper.remote(p))    \n",
    "    results = ray.get(result_ids)  \n",
    "    ray.shutdown()\n",
    "    results = pd.DataFrame(results, columns = ['p','mean','std'])\n",
    "    final_results[label] = results"
   ]
  },
  {
   "cell_type": "raw",
   "metadata": {},
   "source": [
    "#big_clump_mask = results.copy()\n",
    "#big_clump_nomask = results.copy()\n",
    "#big_random_mask = results.copy()\n",
    "#big_random_nomask = results.copy()\n",
    "\n",
    "#medium_clump_mask = results.copy()\n",
    "#medium_clump_nomask = results.copy()\n",
    "#medium_random_mask = results.copy()\n",
    "#medium_random_nomask = results.copy()\n",
    "\n",
    "#small_clump_mask = results.copy()\n",
    "#small_clump_nomask = results.copy()\n",
    "#small_random_mask = results.copy()\n",
    "small_random_nomask = results.copy()"
   ]
  },
  {
   "cell_type": "raw",
   "metadata": {},
   "source": [
    "plt.figure(figsize = (16,12))\n",
    "mark = 'd'\n",
    "big_clump_mask = big_clump_mask[big_clump_mask['p']>=.4]\n",
    "big_clump_nomask = big_clump_nomask[big_clump_nomask['p']>=.4]\n",
    "big_random_mask = big_random_mask[big_random_mask['p']>=.4]\n",
    "big_random_nomask = big_random_nomask[big_random_nomask['p']>=.4]\n",
    "\n",
    "medium_clump_mask = medium_clump_mask[medium_clump_mask['p']>=.4]\n",
    "medium_clump_nomask = medium_clump_nomask[medium_clump_nomask['p']>=.4]\n",
    "medium_random_mask = medium_random_mask[medium_random_mask['p']>=.4]\n",
    "medium_random_nomask = medium_random_nomask[medium_random_nomask['p']>=.4]\n",
    "\n",
    "small_clump_mask = small_clump_mask[small_clump_mask['p']>=.4]\n",
    "small_clump_nomask = small_clump_nomask[small_clump_nomask['p']>=.4]\n",
    "small_random_mask = small_random_mask[small_random_mask['p']>=.4]\n",
    "small_random_nomask = small_random_nomask[small_random_nomask['p']>=.4]\n",
    "\n",
    "plt.plot(big_clump_mask['p'],big_clump_mask['mean'],label = 'Big Room, Clump, Mask', color = 'blue')\n",
    "plt.plot(big_clump_nomask['p'],big_clump_nomask['mean'], label = 'Big Room, Clump, no Mask', color = 'blue', marker = mark)\n",
    "plt.plot(big_random_mask['p'],big_random_mask['mean'],label = 'Big Room, Random, Mask', color = 'blue', linestyle = '--')\n",
    "plt.plot(big_random_nomask['p'],big_random_nomask['mean'], label = 'Big Room, Random, no Mask', color = 'blue',linestyle = '--', marker = mark)\n",
    "\n",
    "\n",
    "plt.plot(medium_clump_mask['p'],medium_clump_mask['mean'],label = 'Medium Room, Clump, Mask', color = 'purple')\n",
    "plt.plot(medium_clump_nomask['p'],medium_clump_nomask['mean'], label = 'Medium Room, Clump, no Mask', color = 'purple',marker = mark)\n",
    "plt.plot(medium_random_mask['p'],medium_random_mask['mean'],label = 'Medium Room, Random, Mask', color = 'purple' ,linestyle = '--')\n",
    "plt.plot(medium_random_nomask['p'],medium_random_nomask['mean'], label = 'Medium Room, Random, no Mask', color = 'purple',linestyle = '--' , marker = mark)\n",
    "\n",
    "\n",
    "plt.plot(small_clump_mask['p'],small_clump_mask['mean'],label = 'Small Room, Clump, Mask', color = 'green')\n",
    "plt.plot(small_clump_nomask['p'],small_clump_nomask['mean'], label = 'Small Room, Clump, no Mask', color = 'green', marker = mark)\n",
    "plt.plot(small_random_mask['p'],small_random_mask['mean'],label = 'Small Room, Random, Mask', color = 'green' , linestyle = '--')\n",
    "plt.plot(small_random_nomask['p'],small_random_nomask['mean'], label = 'Small Room, Random, no Mask', color = 'green',linestyle = '--', marker = mark)\n",
    "\n",
    "\n",
    "plt.title('Fall 2021')\n",
    "plt.xlabel('Percent Vaccinated')\n",
    "plt.xticks(ticks = [.4,.5,.6,.7,.8,.9,1], labels = [ '40%','50%', '60%','70%', '80%','90%','100%'])\n",
    "#plt.xticks(ticks = [.5,.6,.7,.8,.9,1], labels = [ '50%', '60%','70%', '80%','90%','100%'])\n",
    "plt.ylabel('Average Number of Secondary Infections')\n",
    "plt.legend()"
   ]
  },
  {
   "cell_type": "code",
   "execution_count": null,
   "metadata": {},
   "outputs": [],
   "source": []
  }
 ],
 "metadata": {
  "kernelspec": {
   "display_name": "Python 3",
   "language": "python",
   "name": "python3"
  },
  "language_info": {
   "codemirror_mode": {
    "name": "ipython",
    "version": 3
   },
   "file_extension": ".py",
   "mimetype": "text/x-python",
   "name": "python",
   "nbconvert_exporter": "python",
   "pygments_lexer": "ipython3",
   "version": "3.8.8"
  }
 },
 "nbformat": 4,
 "nbformat_minor": 4
}
