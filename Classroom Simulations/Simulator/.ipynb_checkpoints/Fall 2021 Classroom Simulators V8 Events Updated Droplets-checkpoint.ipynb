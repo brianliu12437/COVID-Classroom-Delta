{
 "cells": [
  {
   "cell_type": "markdown",
   "metadata": {},
   "source": [
    "# Markdown Infection"
   ]
  },
  {
   "cell_type": "code",
   "execution_count": 13,
   "metadata": {},
   "outputs": [],
   "source": [
    "import pandas as pd\n",
    "import sys\n",
    "import warnings\n",
    "import numpy as np\n",
    "import matplotlib.pyplot as plt\n",
    "import pickle\n",
    "if not sys.warnoptions:\n",
    "    warnings.simplefilter(\"ignore\")\n",
    "import seaborn as sns\n",
    "import gc\n",
    "import itertools\n",
    "import random\n",
    "import math\n",
    "from matplotlib.ticker import FormatStrFormatter\n",
    "import ray\n",
    "import shapley\n",
    "sys.path.append('../')\n",
    "\n"
   ]
  },
  {
   "cell_type": "code",
   "execution_count": 14,
   "metadata": {},
   "outputs": [],
   "source": [
    "class_risk_params = {\n",
    "    'prevalence': 5*10**(-4),\n",
    "    'vax_effectiveness': .715,\n",
    "    'sensitivity': 0.6,\n",
    "    'mask_efficacy': 0.8\n",
    "}\n",
    "\n",
    "\n",
    "aerosol_params = {\n",
    "    'inhale_air_rate': 6.8,\n",
    "    'dose_response_constant': 1440,\n",
    "    \n",
    "    'nominal_breathe_virus_emitted_hourly': 3300,# corresponding to 10^8 copies / mL\n",
    "    'nominal_talk_virus_emitted_hourly' : 19800,\n",
    "    'nominal_sing_virus_emitted_hourly' : 158400,\n",
    "    'nominal_heavy_breathe_virus_emitted_hourly': 3300*15,\n",
    "\n",
    "    'viral_load_distribution': [0.12, 0.22, 0.3, 0.23, 0.103, 0.0236, 0.0034] # over orders of magnitude from 10^5 to 10^11\n",
    "}\n",
    "\n",
    "\"\"\"\n",
    "Difference of sets\n",
    "\"\"\"\n",
    "def Diff(li1, li2):\n",
    "    li_dif = [i for i in li1 + li2 if i not in li1 or i not in li2]\n",
    "    return li_dif\n",
    "\n",
    "\"\"\"\n",
    "Biased coin flipper\n",
    "\"\"\"\n",
    "def flip(p):\n",
    "    return 1 if random.random() < p else 0\n",
    "\n",
    "\n",
    "def simulate_class_single_aerosol(room,vax_infected, unvax_infected, time,alpha,masked_status,class_type,room_vol,N,pixels_per_foot, air_exchanges_per_hour):\n",
    "    room = room.reset_index()\n",
    "    vax_infect_id = random.sample(list(room[room['seating'] == 'V']['index'].values), vax_infected)\n",
    "    unvax_infect_id = random.sample(list(room[room['seating'] == 'U']['index'].values), unvax_infected)\n",
    "    infected = room[room['index'].isin(np.append(vax_infect_id,unvax_infect_id))]\n",
    "    uninfected = room[ (~room['index'].isin(np.append(vax_infect_id,unvax_infect_id))) & \\\n",
    "                      (room['seating'] != 'E')  ]\n",
    "    \n",
    "    if vax_infected == 1:\n",
    "        source_status = 'V'\n",
    "    elif unvax_infected == 1:\n",
    "        source_status = 'U'\n",
    "    infected_x = infected['x']\n",
    "    infected_y = infected['y']\n",
    "    \n",
    "    unvax_aerosol_risk = (1/air_exchanges_per_hour)*generate_aerosol_risk(room_vol, vax_infected, unvax_infected, time, masked_status, class_type, params = aerosol_params)\n",
    "    \n",
    "    p_infections = []\n",
    "    for i,row in uninfected.iterrows():\n",
    "        \n",
    "        x = row['x']\n",
    "        y = row['y']\n",
    "        v_infect = [x-infected_x,y - infected_y]\n",
    "        v_vert = [0,10000]\n",
    "        dot = v_infect[1]*v_vert[1]\n",
    "        mag1 = 10000\n",
    "        mag2 = np.sqrt((x-infected_x)**2+(y - infected_y)**2)\n",
    "        theta =  math.acos(dot/(mag1*mag2))*180/math.pi\n",
    "        \n",
    "        susceptible_status = row['seating']\n",
    "        \n",
    "        susceptible_aerosol_risk = unvax_aerosol_risk \n",
    "        \n",
    "        if susceptible_status == 'V':\n",
    "            susceptible_aerosol_risk = susceptible_aerosol_risk * (1-class_risk_params['vax_effectiveness'])\n",
    "        \n",
    "        if masked_status == True:\n",
    "            if susceptible_status == 'U':\n",
    "                susceptible_aerosol_risk = susceptible_aerosol_risk * class_risk_params['mask_efficacy']\n",
    "       \n",
    "        if theta < 90 + alpha:\n",
    "            \n",
    "\n",
    "            dist = np.sqrt((infected_x-x)**2+(infected_y-y)**2)\n",
    "            p = updated_distance_to_prob(dist,susceptible_status,source_status,masked_status,time,pixels_per_foot,class_type)\n",
    "            p = max(p,susceptible_aerosol_risk)\n",
    "            p_infections.append(p)\n",
    "            \n",
    "        else:\n",
    "            \n",
    "            p_infections.append(susceptible_aerosol_risk)\n",
    "            \n",
    "    return np.sum(p_infections),unvax_aerosol_risk\n",
    "\n",
    "def updated_distance_to_prob(d,susceptible_status,source_status,masked_status,time,pixels_per_foot,class_type): \n",
    "    \n",
    "    d = d/pixels_per_foot*0.3048\n",
    "    susceptible_const = 1\n",
    "    source_const = 1\n",
    "    masked_const_source = 1\n",
    "    masked_const_susceptible = 1\n",
    "    \n",
    "    if susceptible_status == 'V':\n",
    "        susceptible_const = 1 - class_risk_params['vax_effectiveness'] \n",
    "    if source_status == 'V':\n",
    "        source_const = 0.29 \n",
    "        \n",
    "    \n",
    "    if class_type == 'speak':\n",
    "        source_const = source_const*6\n",
    "    \n",
    "    elif class_type == 'sing':\n",
    "        source_const = source_const*48\n",
    "        \n",
    "    elif class_type == 'heavy_breathe':\n",
    "        source_const = source_const*15\n",
    "        \n",
    "    if masked_status == True:\n",
    "        \n",
    "        if source_status == 'U':\n",
    "            masked_const_source = class_risk_params['mask_efficacy']\n",
    "        if susceptible_status == 'U':\n",
    "            masked_const_susceptible = class_risk_params['mask_efficacy']\n",
    "        \n",
    "    prob = 2.4*susceptible_const*masked_const_susceptible *masked_const_source *(1-np.exp(-1 * source_const * 0.0135 *time * (-0.1819*np.log(d)+0.43276)/d))\n",
    "    \n",
    "    prob = float(prob)\n",
    "    return max(prob,0)\n",
    "\n",
    "def generate_aerosol_risk(room_vol, vax_infected, unvax_infected, time, masked_status, class_type, params = aerosol_params):\n",
    "    \n",
    "    if class_type == 'breathe':\n",
    "        v = params['nominal_breathe_virus_emitted_hourly'] \n",
    "    elif class_type == 'speak':\n",
    "        v = params['nominal_talk_virus_emitted_hourly'] \n",
    "    elif class_type == 'sing':\n",
    "        v = params['nominal_sing_virus_emitted_hourly'] \n",
    "    elif class_type == 'heavy_breathe':\n",
    "        v = params['nominal_heavy_breathe_virus_emitted_hourly']\n",
    "    elif class_type == 'no_aerosol':\n",
    "        return 0\n",
    "    \n",
    "    hourly_virus_array = np.array([v/1000, v/100, v/10, v, v*10, v*100, v*1000])\n",
    "    dose_array = hourly_virus_array * params['inhale_air_rate'] / room_vol\n",
    "    \n",
    "    if masked_status == True:\n",
    "        if unvax_infected == 1:\n",
    "            dose_array = dose_array * class_risk_params['mask_efficacy']\n",
    "    \n",
    "    if vax_infected == 1:\n",
    "        dose_array = dose_array * 0.29 \n",
    "  \n",
    "    effective_dose_array = dose_array / params['dose_response_constant']\n",
    "\n",
    "    unvax_susceptible_risk_array = 1 - np.exp(-effective_dose_array)\n",
    "    unvax_susceptible_risk = np.dot(unvax_susceptible_risk_array, np.array(params['viral_load_distribution']))\n",
    "    unvax_susceptible_risk_over_time = 2.4*unvax_susceptible_risk * time\n",
    "\n",
    "    return unvax_susceptible_risk_over_time #risk for unvax + no mask"
   ]
  },
  {
   "cell_type": "code",
   "execution_count": 15,
   "metadata": {},
   "outputs": [],
   "source": [
    "def generate_clumpy_plan(N,p,room, clump_size = 3):\n",
    "    Nvax = round(N*p)\n",
    "    Nunvax = N-Nvax\n",
    "    room = room.drop('UnvaxSpot',axis = 1).reset_index()\n",
    "    grid = room.copy()\n",
    "    grid['seating'] = 'E'\n",
    "    \n",
    "    if Nunvax > 0:\n",
    "        clump_size = min(clump_size,Nunvax)\n",
    "        num_clumps = math.floor(Nunvax/clump_size)\n",
    "        remainder = Nunvax - num_clumps*clump_size\n",
    "        clump = 0\n",
    "        while clump < (num_clumps):\n",
    "            ind1 = np.random.choice(room['index'].values,replace = False)\n",
    "            grid['seating'].loc[grid['index'] == ind1] = 'U'\n",
    "            room = room.drop(ind1, axis = 0)\n",
    "            x_temp = grid['x'].loc[grid['index'] == ind1].values[0]\n",
    "            y_temp = grid['y'].loc[grid['index'] == ind1].values[0]  \n",
    "            temp = room.copy()\n",
    "            temp['dist_infected'] = ((temp['x'] -x_temp) ** 2 + (temp['y'] - y_temp) ** 2) ** 0.5\n",
    "            temp = temp.sort_values('dist_infected', ascending = True).head(clump_size-1)\n",
    "            grid['seating'].loc[grid['index'].isin(temp['index'].values)] = 'U'\n",
    "            room = room.drop(temp['index'].values, axis = 0)\n",
    "            clump = clump + 1\n",
    "        remainder_ind = np.random.choice(grid['index'].loc[grid['seating'] == 'E'],remainder,replace = False)\n",
    "        grid['seating'].loc[grid['index'].isin(remainder_ind)] = 'U'\n",
    "\n",
    "    vax_ind = np.random.choice(grid['index'].loc[grid['seating'] == 'E'],Nvax,replace = False) \n",
    "    grid['seating'].loc[grid['index'].isin(vax_ind)] = 'V'\n",
    "    \n",
    "    return grid\n",
    "\n",
    "def generate_random_plan(N,p,room):\n",
    "    Nvax = round(N*p)\n",
    "    Nunvax = N-Nvax\n",
    "    \n",
    "    room = room.drop('UnvaxSpot',axis = 1)\n",
    "    grid = room.copy()\n",
    "    grid = grid.reset_index()\n",
    "    temp = list(np.append(np.append(np.repeat('V',Nvax),np.repeat('U',Nunvax)),np.repeat('E',len(grid)-Nvax-Nunvax)))\n",
    "    random.shuffle(temp)\n",
    "    grid['seating'] = temp\n",
    "    return grid\n"
   ]
  },
  {
   "cell_type": "markdown",
   "metadata": {},
   "source": [
    "# Load Room Plans"
   ]
  },
  {
   "cell_type": "code",
   "execution_count": 16,
   "metadata": {},
   "outputs": [
    {
     "data": {
      "text/plain": [
       "([], [])"
      ]
     },
     "execution_count": 16,
     "metadata": {},
     "output_type": "execute_result"
    },
    {
     "data": {
      "image/png": "[encoded data removed]",
      "text/plain": [
       "<Figure size 432x288 with 1 Axes>"
      ]
     },
     "metadata": {},
     "output_type": "display_data"
    }
   ],
   "source": [
    "# Big Room\n",
    "with open(\"../Data/rk201.pickle\" , 'rb') as handle:\n",
    "    layout = pickle.load(handle)\n",
    "\n",
    "big_pixels_per_foot = (2074-1575)/20\n",
    "big_volume = 1684283\n",
    "\n",
    "x_coord = [i.x for i in layout['Middles']]\n",
    "y_coord = [i.y for i in layout['Middles']]\n",
    "room = pd.DataFrame(np.column_stack((x_coord,y_coord)), columns = ['x','y'])\n",
    "room['UnvaxSpot'] = layout['In Solution']\n",
    "\n",
    "\n",
    "\n",
    "FA2020room = room.copy()\n",
    "FA2020room['label'] = FA2020room.index\n",
    "\n",
    "#label of seats used in 2020\n",
    "indicies = [282,283,284,285, 286,287,288,289,290,365,238,270,273,110,362,358,227,222,260,104,100,348,352,207,20,250,89,\n",
    "           93,76,80,189,193,172,163,339,334,321,168,25,2,61,65,51,14,121,138,149,308,312,299,294,144,124,34,40,36]\n",
    "FA2020room['UnvaxSpot'] = 0\n",
    "FA2020room['UnvaxSpot'].iloc[indicies] = 1\n",
    "FA2020room.drop('label', axis =1,inplace = True)\n",
    "FA2020room['seating'] = 'E'\n",
    "FA2020room['seating'].loc[FA2020room['UnvaxSpot'] == 1] = 'U'\n",
    "plt.figure()\n",
    "plt.scatter(FA2020room[FA2020room['UnvaxSpot'] == 0]['x'],FA2020room[FA2020room['UnvaxSpot'] == 0]['y'])\n",
    "plt.scatter(FA2020room[FA2020room['UnvaxSpot'] == 1]['x'],FA2020room[FA2020room['UnvaxSpot'] == 1]['y'], label = 'Available Seat')\n",
    "plt.title('Rockefeller 201 Seating Plan')\n",
    "FA2020_subset = FA2020room[FA2020room['UnvaxSpot']==1 ].reset_index().drop('index', axis = 1)\n",
    "big_plan = FA2020_subset.copy()\n",
    "plt.legend()\n",
    "plt.xticks([])\n",
    "plt.yticks([])\n",
    "#print([big_pixels_per_foot,big_volume,big_plan])"
   ]
  },
  {
   "cell_type": "code",
   "execution_count": 17,
   "metadata": {},
   "outputs": [
    {
     "data": {
      "text/plain": [
       "<matplotlib.legend.Legend at 0x7feaa8454a90>"
      ]
     },
     "execution_count": 17,
     "metadata": {},
     "output_type": "execute_result"
    },
    {
     "data": {
      "image/png": "[encoded data removed]",
      "text/plain": [
       "<Figure size 432x288 with 1 Axes>"
      ]
     },
     "metadata": {},
     "output_type": "display_data"
    }
   ],
   "source": [
    "with open(\"../Data/gtsg01.pickle\" , 'rb') as handle:\n",
    "    layout = pickle.load(handle)\n",
    "\n",
    "medium_pixels_per_foot = (2834-2082)/20\n",
    "medium_volume = 1087931\n",
    "\n",
    "x_coord = [-i.x +3000 for i in layout['Middles']]\n",
    "y_coord = [-i.y +3000 for i in layout['Middles']]\n",
    "room = pd.DataFrame(np.column_stack((x_coord,y_coord)), columns = ['x','y'])\n",
    "room['UnvaxSpot'] = layout['In Solution']\n",
    "room_subset = room[room['UnvaxSpot'] == 1].reset_index().drop('index',axis = 1)\n",
    "medium_plan = room_subset.copy()\n",
    "\n",
    "plt.scatter(room[room['UnvaxSpot'] == 0]['x'],room[room['UnvaxSpot'] == 0]['y'])\n",
    "plt.scatter(room[room['UnvaxSpot'] == 1]['x'],room[room['UnvaxSpot'] == 1]['y'], label = 'Available Seat')\n",
    "plt.title('Gates G01 Seating Plan')\n",
    "plt.xticks([])\n",
    "plt.yticks([])\n",
    "plt.legend()"
   ]
  },
  {
   "cell_type": "code",
   "execution_count": 18,
   "metadata": {},
   "outputs": [
    {
     "data": {
      "text/plain": [
       "([], [])"
      ]
     },
     "execution_count": 18,
     "metadata": {},
     "output_type": "execute_result"
    },
    {
     "data": {
      "image/png": "[encoded data removed]",
      "text/plain": [
       "<Figure size 432x288 with 1 Axes>"
      ]
     },
     "metadata": {},
     "output_type": "display_data"
    }
   ],
   "source": [
    "# Small Room\n",
    "with open(\"../Data/hls206.pickle\" , 'rb') as handle:\n",
    "    layout = pickle.load(handle)\n",
    "\n",
    "small_pixels_per_foot = (2014-1260)/15\n",
    "small_volume = 222004\n",
    "\n",
    "x_coord = [i.x for i in layout['Middles']]\n",
    "y_coord = [i.y for i in layout['Middles']]\n",
    "room = pd.DataFrame(np.column_stack((x_coord,y_coord)), columns = ['x','y'])\n",
    "room['UnvaxSpot'] = layout['In Solution']\n",
    "\n",
    "\n",
    "small_plan = room.copy()\n",
    "\n",
    "\n",
    "plt.figure()\n",
    "plt.scatter(small_plan[small_plan['UnvaxSpot'] == 0]['x'],small_plan[small_plan['UnvaxSpot'] == 0]['y'])\n",
    "plt.scatter(small_plan[small_plan['UnvaxSpot'] == 1]['x'],small_plan[small_plan['UnvaxSpot'] == 1]['y'],  label = 'Available Seat')\n",
    "plt.title('Holister 206 Seating Plan')\n",
    "plt.legend()\n",
    "plt.xticks([])\n",
    "plt.yticks([])\n",
    "\n",
    "#print([small_pixels_per_foot,small_volume,small_plan])"
   ]
  },
  {
   "cell_type": "code",
   "execution_count": 19,
   "metadata": {
    "scrolled": false
   },
   "outputs": [
    {
     "name": "stdout",
     "output_type": "stream",
     "text": [
      "V    35\n",
      "U    15\n",
      "E     6\n",
      "Name: seating, dtype: int64\n",
      "V    35\n",
      "E    27\n",
      "U    15\n",
      "Name: seating, dtype: int64\n",
      "V    35\n",
      "U    15\n",
      "E     2\n",
      "Name: seating, dtype: int64\n",
      "V    35\n",
      "U    15\n",
      "E     6\n",
      "Name: seating, dtype: int64\n",
      "V    35\n",
      "E    27\n",
      "U    15\n",
      "Name: seating, dtype: int64\n",
      "V    35\n",
      "U    15\n",
      "E     2\n",
      "Name: seating, dtype: int64\n"
     ]
    },
    {
     "data": {
      "image/png": "[encoded data removed]",
      "text/plain": [
       "<Figure size 432x288 with 1 Axes>"
      ]
     },
     "metadata": {},
     "output_type": "display_data"
    },
    {
     "data": {
      "image/png": "[encoded data removed]",
      "text/plain": [
       "<Figure size 432x288 with 1 Axes>"
      ]
     },
     "metadata": {},
     "output_type": "display_data"
    },
    {
     "data": {
      "image/png": "[encoded data removed]",
      "text/plain": [
       "<Figure size 432x288 with 1 Axes>"
      ]
     },
     "metadata": {},
     "output_type": "display_data"
    },
    {
     "data": {
      "image/png": "[encoded data removed]",
      "text/plain": [
       "<Figure size 432x288 with 1 Axes>"
      ]
     },
     "metadata": {},
     "output_type": "display_data"
    },
    {
     "data": {
      "image/png": "[encoded data removed]",
      "text/plain": [
       "<Figure size 432x288 with 1 Axes>"
      ]
     },
     "metadata": {},
     "output_type": "display_data"
    },
    {
     "data": {
      "image/png": "[encoded data removed]",
      "text/plain": [
       "<Figure size 432x288 with 1 Axes>"
      ]
     },
     "metadata": {},
     "output_type": "display_data"
    }
   ],
   "source": [
    "grid = generate_clumpy_plan(50,.7,big_plan,3)\n",
    "plt.figure()\n",
    "plt.scatter(grid[grid['seating'] == 'U']['x'],grid[grid['seating'] == 'U']['y'], label = 'Unvax',color = 'red')\n",
    "plt.scatter(grid[grid['seating'] == 'V']['x'],grid[grid['seating'] == 'V']['y'], label = 'Vax',color = 'blue')\n",
    "plt.scatter(grid[grid['seating'] == 'E']['x'],grid[grid['seating'] == 'E']['y'], label = 'Empty',color = 'grey')\n",
    "plt.scatter(FA2020room[FA2020room['UnvaxSpot'] == 0]['x'],FA2020room[FA2020room['UnvaxSpot'] == 0]['y'],color = 'grey')\n",
    "plt.title('Big Room '+ 'Clump Seating')\n",
    "plt.legend()\n",
    "plt.xticks([])\n",
    "plt.yticks([])\n",
    "print(grid['seating'].value_counts())\n",
    "\n",
    "grid = generate_clumpy_plan(50,.7,medium_plan,3)\n",
    "plt.figure()\n",
    "plt.scatter(grid[grid['seating'] == 'U']['x'],grid[grid['seating'] == 'U']['y'], label = 'Unvax',color = 'red')\n",
    "plt.scatter(grid[grid['seating'] == 'V']['x'],grid[grid['seating'] == 'V']['y'], label = 'Vax',color = 'blue')\n",
    "plt.scatter(grid[grid['seating'] == 'E']['x'],grid[grid['seating'] == 'E']['y'], label = 'Empty',color = 'grey')\n",
    "plt.title('Medium Room '+ 'Clump Seating')\n",
    "plt.legend()\n",
    "plt.xticks([])\n",
    "plt.yticks([])\n",
    "print(grid['seating'].value_counts())\n",
    "\n",
    "\n",
    "grid = generate_clumpy_plan(50,.7,small_plan,3)\n",
    "plt.figure()\n",
    "plt.scatter(grid[grid['seating'] == 'U']['x'],grid[grid['seating'] == 'U']['y'], label = 'Unvax',color = 'red')\n",
    "plt.scatter(grid[grid['seating'] == 'V']['x'],grid[grid['seating'] == 'V']['y'], label = 'Vax',color = 'blue')\n",
    "plt.scatter(grid[grid['seating'] == 'E']['x'],grid[grid['seating'] == 'E']['y'], label = 'Empty',color = 'grey')\n",
    "plt.title('Small Room '+ 'Clump Seating')\n",
    "plt.legend()\n",
    "plt.xticks([])\n",
    "plt.yticks([])\n",
    "print(grid['seating'].value_counts())\n",
    "\n",
    "grid = generate_random_plan(50,.7,big_plan)\n",
    "plt.figure()\n",
    "plt.scatter(grid[grid['seating'] == 'U']['x'],grid[grid['seating'] == 'U']['y'], label = 'Unvax',color = 'red')\n",
    "plt.scatter(grid[grid['seating'] == 'V']['x'],grid[grid['seating'] == 'V']['y'], label = 'Vax',color = 'blue')\n",
    "plt.scatter(grid[grid['seating'] == 'E']['x'],grid[grid['seating'] == 'E']['y'], label = 'Empty',color = 'grey')\n",
    "plt.scatter(FA2020room[FA2020room['UnvaxSpot'] == 0]['x'],FA2020room[FA2020room['UnvaxSpot'] == 0]['y'],color = 'grey')\n",
    "plt.title('Big Room '+ 'Random Seating')\n",
    "plt.legend()\n",
    "plt.xticks([])\n",
    "plt.yticks([])\n",
    "print(grid['seating'].value_counts())\n",
    "\n",
    "grid = generate_random_plan(50,.7,medium_plan)\n",
    "plt.figure()\n",
    "plt.scatter(grid[grid['seating'] == 'U']['x'],grid[grid['seating'] == 'U']['y'], label = 'Unvax',color = 'red')\n",
    "plt.scatter(grid[grid['seating'] == 'V']['x'],grid[grid['seating'] == 'V']['y'], label = 'Vax',color = 'blue')\n",
    "plt.scatter(grid[grid['seating'] == 'E']['x'],grid[grid['seating'] == 'E']['y'], label = 'Empty',color = 'grey')\n",
    "plt.title('Medium Room '+ 'Random Seating')\n",
    "plt.legend()\n",
    "plt.xticks([])\n",
    "plt.yticks([])\n",
    "print(grid['seating'].value_counts())\n",
    "\n",
    "grid = generate_random_plan(50,.7,small_plan)\n",
    "plt.figure()\n",
    "plt.scatter(grid[grid['seating'] == 'U']['x'],grid[grid['seating'] == 'U']['y'], label = 'Unvax',color = 'red')\n",
    "plt.scatter(grid[grid['seating'] == 'V']['x'],grid[grid['seating'] == 'V']['y'], label = 'Vax',color = 'blue')\n",
    "plt.scatter(grid[grid['seating'] == 'E']['x'],grid[grid['seating'] == 'E']['y'], label = 'Empty',color = 'grey')\n",
    "plt.title('Small Room '+ 'Random Seating')\n",
    "plt.legend()\n",
    "plt.xticks([])\n",
    "plt.yticks([])\n",
    "print(grid['seating'].value_counts())"
   ]
  },
  {
   "cell_type": "markdown",
   "metadata": {},
   "source": [
    "### Simulator"
   ]
  },
  {
   "cell_type": "code",
   "execution_count": 20,
   "metadata": {},
   "outputs": [],
   "source": [
    "#General Parameters\n",
    "seating_function = generate_clumpy_plan\n",
    "p_range = [0.5,0.6,0.7,0.8,0.9,1.0]\n",
    "\n",
    "N = 50\n",
    "angle = 15\n",
    "time = 1\n",
    "\n",
    "\n",
    "class_risk_params = {\n",
    "    'prevalence': 5*10**(-4),\n",
    "    'vax_effectiveness': .715,\n",
    "    'sensitivity': 0.6,\n",
    "    'mask_efficacy': 0.4\n",
    "}\n",
    "\n",
    "\n",
    "aerosol_params = {\n",
    "    'inhale_air_rate': 6.8,\n",
    "    'dose_response_constant': 1440,\n",
    "    \n",
    "    'nominal_breathe_virus_emitted_hourly': 3300,# corresponding to 10^8 copies / mL\n",
    "    'nominal_talk_virus_emitted_hourly' : 27300,\n",
    "    'nominal_sing_virus_emitted_hourly' : 330000,\n",
    "    'nominal_heavy_breathe_virus_emitted_hourly': 3300*15,\n",
    "\n",
    "    'viral_load_distribution': [0.12, 0.22, 0.3, 0.23, 0.103, 0.0236, 0.0034] # over orders of magnitude from 10^5 to 10^11\n",
    "}\n",
    "\n",
    "\n",
    "\n",
    "\n",
    "args = [\n",
    "    \n",
    "    [False,big_plan,big_volume,big_pixels_per_foot,'no_aerosol',2,'distanced_outside_nomask'],\n",
    "    [True,big_plan,big_volume,big_pixels_per_foot,'no_aerosol',2,'distanced_outside_unvaxmask'],\n",
    "    \n",
    "    [False,big_plan,big_volume,big_pixels_per_foot,'breathe',2,'distanced_breathe_nomask_2x'],\n",
    "    [False,big_plan,big_volume,big_pixels_per_foot,'breathe',4,'distanced_breathe_nomask_4x'],\n",
    "    \n",
    "    [True,big_plan,big_volume,big_pixels_per_foot,'breathe',2,'distanced_breathe_unvaxmask_2x'],\n",
    "    [True,big_plan,big_volume,big_pixels_per_foot,'breathe',4,'distanced_breathe_unvaxmask_4x'],\n",
    "    \n",
    "    [False,big_plan,big_volume,big_pixels_per_foot,'speak',2,'distanced_speak_nomask_2x'],\n",
    "    [False,big_plan,big_volume,big_pixels_per_foot,'speak',4,'distanced_speak_nomask_4x'],\n",
    "    \n",
    "    [True,big_plan,big_volume,big_pixels_per_foot,'speak',2,'distanced_speak_unvaxmask_2x'],\n",
    "    [True,big_plan,big_volume,big_pixels_per_foot,'speak',4,'distanced_speak_unvaxmask_4x'],\n",
    "    \n",
    "    \n",
    "    [False,big_plan,big_volume,big_pixels_per_foot,'sing',2,'distanced_sing_nomask_2x'],  ###\n",
    "    [False,big_plan,big_volume,big_pixels_per_foot,'sing',4,'distanced_sing_nomask_4x'], ###\n",
    "    \n",
    "    [True,big_plan,big_volume,big_pixels_per_foot,'sing',2,'distanced_sing_unvaxmask_2x'], ###\n",
    "    [True,big_plan,big_volume,big_pixels_per_foot,'sing',4,'distanced_sing_unvaxmask_4x'], ###\n",
    "    \n",
    "    \n",
    "    #############################################################################################\n",
    "    \n",
    "    [False,medium_plan,medium_volume,medium_pixels_per_foot,'no_aerosol',2,'moderate_outside_nomask'],\n",
    "    [True,medium_plan,medium_volume,medium_pixels_per_foot,'no_aerosol',2,'moderate_outside_unvaxmask'],\n",
    "    \n",
    "    [False,medium_plan,medium_volume,medium_pixels_per_foot,'breathe',2,'moderate_breathe_nomask_2x'],\n",
    "    [False,medium_plan,medium_volume,medium_pixels_per_foot,'breathe',4,'moderate_breathe_nomask_4x'],\n",
    "    \n",
    "    [True,medium_plan,medium_volume,medium_pixels_per_foot,'breathe',2,'moderate_breathe_unvaxmask_2x'],\n",
    "    [True,medium_plan,medium_volume,medium_pixels_per_foot,'breathe',4,'moderate_breathe_unvaxmask_4x'],\n",
    "    \n",
    "    [False,medium_plan,medium_volume,medium_pixels_per_foot,'speak',2,'moderate_speak_nomask_2x'],\n",
    "    [False,medium_plan,medium_volume,medium_pixels_per_foot,'speak',4,'moderate_speak_nomask_4x'],\n",
    "    \n",
    "    [True,medium_plan,medium_volume,medium_pixels_per_foot,'speak',2,'moderate_speak_unvaxmask_2x'],\n",
    "    [True,medium_plan,medium_volume,medium_pixels_per_foot,'speak',4,'moderate_speak_unvaxmask_4x'],\n",
    "    \n",
    "    \n",
    "    [False,medium_plan,medium_volume,medium_pixels_per_foot,'sing',2,'moderate_sing_nomask_2x'],  \n",
    "    [False,medium_plan,medium_volume,medium_pixels_per_foot,'sing',4,'moderate_sing_nomask_4x'], \n",
    "    \n",
    "    [True,medium_plan,medium_volume,medium_pixels_per_foot,'sing',2,'moderate_sing_unvaxmask_2x'], \n",
    "    [True,medium_plan,medium_volume,medium_pixels_per_foot,'sing',4,'moderate_sing_unvaxmask_4x'], \n",
    "    \n",
    "    \n",
    "    \n",
    "    #############################################################################################\n",
    "    \n",
    "    [False,small_plan,small_volume,small_pixels_per_foot,'no_aerosol',2,'dense_outside_nomask'],\n",
    "    [True,small_plan,small_volume,small_pixels_per_foot,'no_aerosol',2,'dense_outside_unvaxmask'],\n",
    "    \n",
    "    [False,small_plan,small_volume,small_pixels_per_foot,'breathe',2,'dense_breathe_nomask_2x'],\n",
    "    [False,small_plan,small_volume,small_pixels_per_foot,'breathe',4,'dense_breathe_nomask_4x'],\n",
    "    \n",
    "    [True,small_plan,small_volume,small_pixels_per_foot,'breathe',2,'dense_breathe_unvaxmask_2x'],\n",
    "    [True,small_plan,small_volume,small_pixels_per_foot,'breathe',4,'dense_breathe_unvaxmask_4x'],\n",
    "    \n",
    "    [False,small_plan,small_volume,small_pixels_per_foot,'speak',2,'dense_speak_nomask_2x'],\n",
    "    [False,small_plan,small_volume,small_pixels_per_foot,'speak',4,'dense_speak_nomask_4x'],\n",
    "    \n",
    "    [True,small_plan,small_volume,small_pixels_per_foot,'speak',2,'dense_speak_unvaxmask_2x'],\n",
    "    [True,small_plan,small_volume,small_pixels_per_foot,'speak',4,'dense_speak_unvaxmask_4x'],\n",
    "    \n",
    "    \n",
    "    [False,small_plan,small_volume,small_pixels_per_foot,'sing',2,'dense_sing_nomask_2x'],  \n",
    "    [False,small_plan,small_volume,small_pixels_per_foot,'sing',4,'dense_sing_nomask_4x'], \n",
    "    \n",
    "    [True,small_plan,small_volume,small_pixels_per_foot,'sing',2,'dense_sing_unvaxmask_2x'], \n",
    "    [True,small_plan,small_volume,small_pixels_per_foot,'sing',4,'dense_sing_unvaxmask_4x'], \n",
    "    \n",
    "    [False,big_plan,big_volume,big_pixels_per_foot,'breathe',1,'distanced_breathe_nomask_1x'],\n",
    "    [True,big_plan,big_volume,big_pixels_per_foot,'breathe',1,'distanced_breathe_unvaxmask_1x'],\n",
    "    [False,big_plan,big_volume,big_pixels_per_foot,'speak',1,'distanced_speak_nomask_1x'],\n",
    "    [True,big_plan,big_volume,big_pixels_per_foot,'speak',1,'distanced_speak_unvaxmask_1x'],\n",
    "    [False,big_plan,big_volume,big_pixels_per_foot,'sing',1,'distanced_sing_nomask_1x'],  \n",
    "    [True,big_plan,big_volume,big_pixels_per_foot,'sing',1,'distanced_sing_unvaxmask_1x'],\n",
    "\n",
    "    \n",
    "    #############################################################################################\n",
    "    \n",
    "\n",
    "    [False,medium_plan,medium_volume,medium_pixels_per_foot,'breathe',1,'moderate_breathe_nomask_1x'],\n",
    "    [True,medium_plan,medium_volume,medium_pixels_per_foot,'breathe',1,'moderate_breathe_unvaxmask_1x'],\n",
    "    [False,medium_plan,medium_volume,medium_pixels_per_foot,'speak',1,'moderate_speak_nomask_1x'],\n",
    "    [True,medium_plan,medium_volume,medium_pixels_per_foot,'speak',1,'moderate_speak_unvaxmask_1x'],\n",
    "    [False,medium_plan,medium_volume,medium_pixels_per_foot,'sing',1,'moderate_sing_nomask_1x'],  \n",
    "    [True,medium_plan,medium_volume,medium_pixels_per_foot,'sing',1,'moderate_sing_unvaxmask_1x'], \n",
    "\n",
    "    \n",
    "    #############################################################################################\n",
    "    \n",
    "    [False,small_plan,small_volume,small_pixels_per_foot,'breathe',1,'dense_breathe_nomask_1x'],\n",
    "    [True,small_plan,small_volume,small_pixels_per_foot,'breathe',1,'dense_breathe_unvaxmask_1x'],\n",
    "    [False,small_plan,small_volume,small_pixels_per_foot,'speak',1,'dense_speak_nomask_1x'],\n",
    "    [True,small_plan,small_volume,small_pixels_per_foot,'speak',1,'dense_speak_unvaxmask_1x'],\n",
    "    [False,small_plan,small_volume,small_pixels_per_foot,'sing',1,'dense_sing_nomask_1x'],  \n",
    "    [True,small_plan,small_volume,small_pixels_per_foot,'sing',1,'dense_sing_unvaxmask_1x'], \n",
    "    \n",
    "    \n",
    "  \n",
    "       ]\n",
    "\n"
   ]
  },
  {
   "cell_type": "code",
   "execution_count": 21,
   "metadata": {},
   "outputs": [],
   "source": [
    "@ray.remote\n",
    "def parallel_wrapper(p):\n",
    "    trial = 0\n",
    "    results = []\n",
    "    results_aerosol = []\n",
    "    while trial < 500:\n",
    "        grid = seating_function(N,p,room)\n",
    "        p_generate = (1-class_risk_params['vax_effectiveness'])*p/(1-class_risk_params['vax_effectiveness']*p)\n",
    "        ind = flip(p_generate)\n",
    "        if sum(grid['seating'] == 'V') == 0:\n",
    "            ind = 0\n",
    "        elif sum(grid['seating'] == 'U') == 0:\n",
    "            ind = 1\n",
    "        \n",
    "        infect,aerosol = simulate_class_single_aerosol(grid,ind, 1-ind, time,angle,masked_status,class_type,room_vol,N,pixels_per_foot,air_exchanges_per_hour)\n",
    "        results.append(infect)\n",
    "        results_aerosol.append(aerosol)\n",
    "        trial = trial + 1\n",
    "    return [p,np.mean(results),np.std(results), np.mean(results_aerosol)]"
   ]
  },
  {
   "cell_type": "code",
   "execution_count": 22,
   "metadata": {
    "scrolled": true
   },
   "outputs": [
    {
     "name": "stdout",
     "output_type": "stream",
     "text": [
      "distanced_outside_nomask\n"
     ]
    },
    {
     "name": "stderr",
     "output_type": "stream",
     "text": [
      "2021-08-21 22:18:11,431\tINFO services.py:1245 -- View the Ray dashboard at \u001b[1m\u001b[32mhttp://127.0.0.1:8265\u001b[39m\u001b[22m\n"
     ]
    },
    {
     "name": "stdout",
     "output_type": "stream",
     "text": [
      "distanced_outside_unvaxmask\n"
     ]
    },
    {
     "name": "stderr",
     "output_type": "stream",
     "text": [
      "2021-08-21 22:19:13,758\tINFO services.py:1245 -- View the Ray dashboard at \u001b[1m\u001b[32mhttp://127.0.0.1:8265\u001b[39m\u001b[22m\n"
     ]
    },
    {
     "name": "stdout",
     "output_type": "stream",
     "text": [
      "distanced_breathe_nomask_2x\n"
     ]
    },
    {
     "name": "stderr",
     "output_type": "stream",
     "text": [
      "2021-08-21 22:20:14,015\tINFO services.py:1245 -- View the Ray dashboard at \u001b[1m\u001b[32mhttp://127.0.0.1:8265\u001b[39m\u001b[22m\n"
     ]
    },
    {
     "name": "stdout",
     "output_type": "stream",
     "text": [
      "distanced_breathe_nomask_4x\n"
     ]
    },
    {
     "name": "stderr",
     "output_type": "stream",
     "text": [
      "2021-08-21 22:21:15,409\tINFO services.py:1245 -- View the Ray dashboard at \u001b[1m\u001b[32mhttp://127.0.0.1:8265\u001b[39m\u001b[22m\n"
     ]
    },
    {
     "name": "stdout",
     "output_type": "stream",
     "text": [
      "distanced_breathe_unvaxmask_2x\n"
     ]
    },
    {
     "name": "stderr",
     "output_type": "stream",
     "text": [
      "2021-08-21 22:22:15,837\tINFO services.py:1245 -- View the Ray dashboard at \u001b[1m\u001b[32mhttp://127.0.0.1:8265\u001b[39m\u001b[22m\n"
     ]
    },
    {
     "name": "stdout",
     "output_type": "stream",
     "text": [
      "distanced_breathe_unvaxmask_4x\n"
     ]
    },
    {
     "name": "stderr",
     "output_type": "stream",
     "text": [
      "2021-08-21 22:23:16,094\tINFO services.py:1245 -- View the Ray dashboard at \u001b[1m\u001b[32mhttp://127.0.0.1:8265\u001b[39m\u001b[22m\n"
     ]
    },
    {
     "name": "stdout",
     "output_type": "stream",
     "text": [
      "distanced_speak_nomask_2x\n"
     ]
    },
    {
     "name": "stderr",
     "output_type": "stream",
     "text": [
      "2021-08-21 22:24:16,510\tINFO services.py:1245 -- View the Ray dashboard at \u001b[1m\u001b[32mhttp://127.0.0.1:8265\u001b[39m\u001b[22m\n"
     ]
    },
    {
     "name": "stdout",
     "output_type": "stream",
     "text": [
      "distanced_speak_nomask_4x\n"
     ]
    },
    {
     "name": "stderr",
     "output_type": "stream",
     "text": [
      "2021-08-21 22:25:16,426\tINFO services.py:1245 -- View the Ray dashboard at \u001b[1m\u001b[32mhttp://127.0.0.1:8265\u001b[39m\u001b[22m\n"
     ]
    },
    {
     "name": "stdout",
     "output_type": "stream",
     "text": [
      "distanced_speak_unvaxmask_2x\n"
     ]
    },
    {
     "name": "stderr",
     "output_type": "stream",
     "text": [
      "2021-08-21 22:26:15,419\tINFO services.py:1245 -- View the Ray dashboard at \u001b[1m\u001b[32mhttp://127.0.0.1:8265\u001b[39m\u001b[22m\n"
     ]
    },
    {
     "name": "stdout",
     "output_type": "stream",
     "text": [
      "distanced_speak_unvaxmask_4x\n"
     ]
    },
    {
     "name": "stderr",
     "output_type": "stream",
     "text": [
      "2021-08-21 22:27:15,822\tINFO services.py:1245 -- View the Ray dashboard at \u001b[1m\u001b[32mhttp://127.0.0.1:8265\u001b[39m\u001b[22m\n"
     ]
    },
    {
     "name": "stdout",
     "output_type": "stream",
     "text": [
      "distanced_sing_nomask_2x\n"
     ]
    },
    {
     "name": "stderr",
     "output_type": "stream",
     "text": [
      "2021-08-21 22:28:16,465\tINFO services.py:1245 -- View the Ray dashboard at \u001b[1m\u001b[32mhttp://127.0.0.1:8265\u001b[39m\u001b[22m\n"
     ]
    },
    {
     "name": "stdout",
     "output_type": "stream",
     "text": [
      "distanced_sing_nomask_4x\n"
     ]
    },
    {
     "name": "stderr",
     "output_type": "stream",
     "text": [
      "2021-08-21 22:31:18,493\tINFO services.py:1245 -- View the Ray dashboard at \u001b[1m\u001b[32mhttp://127.0.0.1:8265\u001b[39m\u001b[22m\n"
     ]
    },
    {
     "name": "stdout",
     "output_type": "stream",
     "text": [
      "distanced_sing_unvaxmask_2x\n"
     ]
    },
    {
     "name": "stderr",
     "output_type": "stream",
     "text": [
      "2021-08-21 22:32:36,069\tINFO services.py:1245 -- View the Ray dashboard at \u001b[1m\u001b[32mhttp://127.0.0.1:8265\u001b[39m\u001b[22m\n"
     ]
    },
    {
     "name": "stdout",
     "output_type": "stream",
     "text": [
      "distanced_sing_unvaxmask_4x\n"
     ]
    },
    {
     "name": "stderr",
     "output_type": "stream",
     "text": [
      "2021-08-21 22:48:34,757\tINFO services.py:1245 -- View the Ray dashboard at \u001b[1m\u001b[32mhttp://127.0.0.1:8265\u001b[39m\u001b[22m\n"
     ]
    },
    {
     "name": "stdout",
     "output_type": "stream",
     "text": [
      "moderate_outside_nomask\n"
     ]
    },
    {
     "name": "stderr",
     "output_type": "stream",
     "text": [
      "2021-08-21 22:49:37,193\tINFO services.py:1245 -- View the Ray dashboard at \u001b[1m\u001b[32mhttp://127.0.0.1:8265\u001b[39m\u001b[22m\n"
     ]
    },
    {
     "name": "stdout",
     "output_type": "stream",
     "text": [
      "moderate_outside_unvaxmask\n"
     ]
    },
    {
     "name": "stderr",
     "output_type": "stream",
     "text": [
      "2021-08-21 22:50:36,560\tINFO services.py:1245 -- View the Ray dashboard at \u001b[1m\u001b[32mhttp://127.0.0.1:8265\u001b[39m\u001b[22m\n"
     ]
    },
    {
     "name": "stdout",
     "output_type": "stream",
     "text": [
      "moderate_breathe_nomask_2x\n"
     ]
    },
    {
     "name": "stderr",
     "output_type": "stream",
     "text": [
      "2021-08-21 22:51:34,859\tINFO services.py:1245 -- View the Ray dashboard at \u001b[1m\u001b[32mhttp://127.0.0.1:8265\u001b[39m\u001b[22m\n"
     ]
    },
    {
     "name": "stdout",
     "output_type": "stream",
     "text": [
      "moderate_breathe_nomask_4x\n"
     ]
    },
    {
     "name": "stderr",
     "output_type": "stream",
     "text": [
      "2021-08-21 22:52:33,804\tINFO services.py:1245 -- View the Ray dashboard at \u001b[1m\u001b[32mhttp://127.0.0.1:8265\u001b[39m\u001b[22m\n"
     ]
    },
    {
     "name": "stdout",
     "output_type": "stream",
     "text": [
      "moderate_breathe_unvaxmask_2x\n"
     ]
    },
    {
     "name": "stderr",
     "output_type": "stream",
     "text": [
      "2021-08-21 22:53:32,398\tINFO services.py:1245 -- View the Ray dashboard at \u001b[1m\u001b[32mhttp://127.0.0.1:8265\u001b[39m\u001b[22m\n"
     ]
    },
    {
     "name": "stdout",
     "output_type": "stream",
     "text": [
      "moderate_breathe_unvaxmask_4x\n"
     ]
    },
    {
     "name": "stderr",
     "output_type": "stream",
     "text": [
      "2021-08-21 22:54:30,947\tINFO services.py:1245 -- View the Ray dashboard at \u001b[1m\u001b[32mhttp://127.0.0.1:8265\u001b[39m\u001b[22m\n"
     ]
    },
    {
     "name": "stdout",
     "output_type": "stream",
     "text": [
      "moderate_speak_nomask_2x\n"
     ]
    },
    {
     "name": "stderr",
     "output_type": "stream",
     "text": [
      "2021-08-21 22:55:29,608\tINFO services.py:1245 -- View the Ray dashboard at \u001b[1m\u001b[32mhttp://127.0.0.1:8265\u001b[39m\u001b[22m\n"
     ]
    },
    {
     "name": "stdout",
     "output_type": "stream",
     "text": [
      "moderate_speak_nomask_4x\n"
     ]
    },
    {
     "name": "stderr",
     "output_type": "stream",
     "text": [
      "2021-08-21 22:56:29,505\tINFO services.py:1245 -- View the Ray dashboard at \u001b[1m\u001b[32mhttp://127.0.0.1:8265\u001b[39m\u001b[22m\n"
     ]
    },
    {
     "name": "stdout",
     "output_type": "stream",
     "text": [
      "moderate_speak_unvaxmask_2x\n"
     ]
    },
    {
     "name": "stderr",
     "output_type": "stream",
     "text": [
      "2021-08-21 22:57:28,117\tINFO services.py:1245 -- View the Ray dashboard at \u001b[1m\u001b[32mhttp://127.0.0.1:8265\u001b[39m\u001b[22m\n"
     ]
    },
    {
     "name": "stdout",
     "output_type": "stream",
     "text": [
      "moderate_speak_unvaxmask_4x\n"
     ]
    },
    {
     "name": "stderr",
     "output_type": "stream",
     "text": [
      "2021-08-21 22:58:29,119\tINFO services.py:1245 -- View the Ray dashboard at \u001b[1m\u001b[32mhttp://127.0.0.1:8265\u001b[39m\u001b[22m\n"
     ]
    },
    {
     "name": "stdout",
     "output_type": "stream",
     "text": [
      "moderate_sing_nomask_2x\n"
     ]
    },
    {
     "name": "stderr",
     "output_type": "stream",
     "text": [
      "2021-08-21 23:05:26,677\tINFO services.py:1245 -- View the Ray dashboard at \u001b[1m\u001b[32mhttp://127.0.0.1:8265\u001b[39m\u001b[22m\n"
     ]
    },
    {
     "name": "stdout",
     "output_type": "stream",
     "text": [
      "moderate_sing_nomask_4x\n"
     ]
    },
    {
     "name": "stderr",
     "output_type": "stream",
     "text": [
      "2021-08-21 23:06:25,787\tINFO services.py:1245 -- View the Ray dashboard at \u001b[1m\u001b[32mhttp://127.0.0.1:8265\u001b[39m\u001b[22m\n"
     ]
    },
    {
     "name": "stdout",
     "output_type": "stream",
     "text": [
      "moderate_sing_unvaxmask_2x\n"
     ]
    },
    {
     "name": "stderr",
     "output_type": "stream",
     "text": [
      "2021-08-21 23:07:26,193\tINFO services.py:1245 -- View the Ray dashboard at \u001b[1m\u001b[32mhttp://127.0.0.1:8265\u001b[39m\u001b[22m\n"
     ]
    },
    {
     "name": "stdout",
     "output_type": "stream",
     "text": [
      "moderate_sing_unvaxmask_4x\n"
     ]
    },
    {
     "name": "stderr",
     "output_type": "stream",
     "text": [
      "2021-08-21 23:08:25,892\tINFO services.py:1245 -- View the Ray dashboard at \u001b[1m\u001b[32mhttp://127.0.0.1:8265\u001b[39m\u001b[22m\n",
      "2021-08-21 23:08:27,214\tWARNING worker.py:1189 -- The agent on node Brians-MBP.localdomain failed with the following error:\n",
      "Traceback (most recent call last):\n",
      "  File \"/Users/brianliu/opt/anaconda3/lib/python3.8/site-packages/ray/new_dashboard/agent.py\", line 354, in <module>\n",
      "    loop.run_until_complete(agent.run())\n",
      "  File \"/Users/brianliu/opt/anaconda3/lib/python3.8/asyncio/base_events.py\", line 616, in run_until_complete\n",
      "    return future.result()\n",
      "  File \"/Users/brianliu/opt/anaconda3/lib/python3.8/site-packages/ray/new_dashboard/agent.py\", line 144, in run\n",
      "    modules = self._load_modules()\n",
      "  File \"/Users/brianliu/opt/anaconda3/lib/python3.8/site-packages/ray/new_dashboard/agent.py\", line 98, in _load_modules\n",
      "    c = cls(self)\n",
      "  File \"/Users/brianliu/opt/anaconda3/lib/python3.8/site-packages/ray/new_dashboard/modules/reporter/reporter_agent.py\", line 148, in __init__\n",
      "    self._metrics_agent = MetricsAgent(dashboard_agent.metrics_export_port)\n",
      "  File \"/Users/brianliu/opt/anaconda3/lib/python3.8/site-packages/ray/_private/metrics_agent.py\", line 75, in __init__\n",
      "    prometheus_exporter.new_stats_exporter(\n",
      "  File \"/Users/brianliu/opt/anaconda3/lib/python3.8/site-packages/ray/_private/prometheus_exporter.py\", line 333, in new_stats_exporter\n",
      "    exporter = PrometheusStatsExporter(\n",
      "  File \"/Users/brianliu/opt/anaconda3/lib/python3.8/site-packages/ray/_private/prometheus_exporter.py\", line 266, in __init__\n",
      "    self.serve_http()\n",
      "  File \"/Users/brianliu/opt/anaconda3/lib/python3.8/site-packages/ray/_private/prometheus_exporter.py\", line 320, in serve_http\n",
      "    start_http_server(\n",
      "  File \"/Users/brianliu/opt/anaconda3/lib/python3.8/site-packages/prometheus_client/exposition.py\", line 149, in start_wsgi_server\n",
      "    httpd = make_server(addr, port, app, ThreadingWSGIServer, handler_class=_SilentHandler)\n",
      "  File \"/Users/brianliu/opt/anaconda3/lib/python3.8/wsgiref/simple_server.py\", line 154, in make_server\n",
      "    server = server_class((host, port), handler_class)\n",
      "  File \"/Users/brianliu/opt/anaconda3/lib/python3.8/socketserver.py\", line 452, in __init__\n",
      "    self.server_bind()\n",
      "  File \"/Users/brianliu/opt/anaconda3/lib/python3.8/wsgiref/simple_server.py\", line 50, in server_bind\n",
      "    HTTPServer.server_bind(self)\n",
      "  File \"/Users/brianliu/opt/anaconda3/lib/python3.8/http/server.py\", line 138, in server_bind\n",
      "    socketserver.TCPServer.server_bind(self)\n",
      "  File \"/Users/brianliu/opt/anaconda3/lib/python3.8/socketserver.py\", line 466, in server_bind\n",
      "    self.socket.bind(self.server_address)\n",
      "OSError: [Errno 48] Address already in use\n",
      "\n",
      "2021-08-21 23:08:29,747\tWARNING worker.py:1189 -- The agent on node Brians-MBP.localdomain failed with the following error:\n",
      "Traceback (most recent call last):\n",
      "  File \"/Users/brianliu/opt/anaconda3/lib/python3.8/site-packages/ray/new_dashboard/agent.py\", line 354, in <module>\n",
      "    loop.run_until_complete(agent.run())\n",
      "  File \"/Users/brianliu/opt/anaconda3/lib/python3.8/asyncio/base_events.py\", line 616, in run_until_complete\n",
      "    return future.result()\n",
      "  File \"/Users/brianliu/opt/anaconda3/lib/python3.8/site-packages/ray/new_dashboard/agent.py\", line 144, in run\n",
      "    modules = self._load_modules()\n",
      "  File \"/Users/brianliu/opt/anaconda3/lib/python3.8/site-packages/ray/new_dashboard/agent.py\", line 98, in _load_modules\n",
      "    c = cls(self)\n",
      "  File \"/Users/brianliu/opt/anaconda3/lib/python3.8/site-packages/ray/new_dashboard/modules/reporter/reporter_agent.py\", line 148, in __init__\n",
      "    self._metrics_agent = MetricsAgent(dashboard_agent.metrics_export_port)\n",
      "  File \"/Users/brianliu/opt/anaconda3/lib/python3.8/site-packages/ray/_private/metrics_agent.py\", line 75, in __init__\n",
      "    prometheus_exporter.new_stats_exporter(\n",
      "  File \"/Users/brianliu/opt/anaconda3/lib/python3.8/site-packages/ray/_private/prometheus_exporter.py\", line 333, in new_stats_exporter\n",
      "    exporter = PrometheusStatsExporter(\n",
      "  File \"/Users/brianliu/opt/anaconda3/lib/python3.8/site-packages/ray/_private/prometheus_exporter.py\", line 266, in __init__\n",
      "    self.serve_http()\n",
      "  File \"/Users/brianliu/opt/anaconda3/lib/python3.8/site-packages/ray/_private/prometheus_exporter.py\", line 320, in serve_http\n",
      "    start_http_server(\n",
      "  File \"/Users/brianliu/opt/anaconda3/lib/python3.8/site-packages/prometheus_client/exposition.py\", line 149, in start_wsgi_server\n",
      "    httpd = make_server(addr, port, app, ThreadingWSGIServer, handler_class=_SilentHandler)\n",
      "  File \"/Users/brianliu/opt/anaconda3/lib/python3.8/wsgiref/simple_server.py\", line 154, in make_server\n",
      "    server = server_class((host, port), handler_class)\n",
      "  File \"/Users/brianliu/opt/anaconda3/lib/python3.8/socketserver.py\", line 452, in __init__\n",
      "    self.server_bind()\n",
      "  File \"/Users/brianliu/opt/anaconda3/lib/python3.8/wsgiref/simple_server.py\", line 50, in server_bind\n",
      "    HTTPServer.server_bind(self)\n",
      "  File \"/Users/brianliu/opt/anaconda3/lib/python3.8/http/server.py\", line 138, in server_bind\n",
      "    socketserver.TCPServer.server_bind(self)\n",
      "  File \"/Users/brianliu/opt/anaconda3/lib/python3.8/socketserver.py\", line 466, in server_bind\n",
      "    self.socket.bind(self.server_address)\n",
      "OSError: [Errno 48] Address already in use\n",
      "\n",
      "2021-08-21 23:08:32,301\tWARNING worker.py:1189 -- The agent on node Brians-MBP.localdomain failed with the following error:\n",
      "Traceback (most recent call last):\n",
      "  File \"/Users/brianliu/opt/anaconda3/lib/python3.8/site-packages/ray/new_dashboard/agent.py\", line 354, in <module>\n",
      "    loop.run_until_complete(agent.run())\n",
      "  File \"/Users/brianliu/opt/anaconda3/lib/python3.8/asyncio/base_events.py\", line 616, in run_until_complete\n",
      "    return future.result()\n",
      "  File \"/Users/brianliu/opt/anaconda3/lib/python3.8/site-packages/ray/new_dashboard/agent.py\", line 144, in run\n",
      "    modules = self._load_modules()\n",
      "  File \"/Users/brianliu/opt/anaconda3/lib/python3.8/site-packages/ray/new_dashboard/agent.py\", line 98, in _load_modules\n",
      "    c = cls(self)\n",
      "  File \"/Users/brianliu/opt/anaconda3/lib/python3.8/site-packages/ray/new_dashboard/modules/reporter/reporter_agent.py\", line 148, in __init__\n",
      "    self._metrics_agent = MetricsAgent(dashboard_agent.metrics_export_port)\n",
      "  File \"/Users/brianliu/opt/anaconda3/lib/python3.8/site-packages/ray/_private/metrics_agent.py\", line 75, in __init__\n",
      "    prometheus_exporter.new_stats_exporter(\n",
      "  File \"/Users/brianliu/opt/anaconda3/lib/python3.8/site-packages/ray/_private/prometheus_exporter.py\", line 333, in new_stats_exporter\n",
      "    exporter = PrometheusStatsExporter(\n",
      "  File \"/Users/brianliu/opt/anaconda3/lib/python3.8/site-packages/ray/_private/prometheus_exporter.py\", line 266, in __init__\n",
      "    self.serve_http()\n",
      "  File \"/Users/brianliu/opt/anaconda3/lib/python3.8/site-packages/ray/_private/prometheus_exporter.py\", line 320, in serve_http\n",
      "    start_http_server(\n",
      "  File \"/Users/brianliu/opt/anaconda3/lib/python3.8/site-packages/prometheus_client/exposition.py\", line 149, in start_wsgi_server\n",
      "    httpd = make_server(addr, port, app, ThreadingWSGIServer, handler_class=_SilentHandler)\n",
      "  File \"/Users/brianliu/opt/anaconda3/lib/python3.8/wsgiref/simple_server.py\", line 154, in make_server\n",
      "    server = server_class((host, port), handler_class)\n",
      "  File \"/Users/brianliu/opt/anaconda3/lib/python3.8/socketserver.py\", line 452, in __init__\n",
      "    self.server_bind()\n",
      "  File \"/Users/brianliu/opt/anaconda3/lib/python3.8/wsgiref/simple_server.py\", line 50, in server_bind\n",
      "    HTTPServer.server_bind(self)\n",
      "  File \"/Users/brianliu/opt/anaconda3/lib/python3.8/http/server.py\", line 138, in server_bind\n",
      "    socketserver.TCPServer.server_bind(self)\n",
      "  File \"/Users/brianliu/opt/anaconda3/lib/python3.8/socketserver.py\", line 466, in server_bind\n",
      "    self.socket.bind(self.server_address)\n",
      "OSError: [Errno 48] Address already in use\n",
      "\n",
      "2021-08-21 23:08:34,755\tWARNING worker.py:1189 -- The agent on node Brians-MBP.localdomain failed with the following error:\n",
      "Traceback (most recent call last):\n",
      "  File \"/Users/brianliu/opt/anaconda3/lib/python3.8/site-packages/ray/new_dashboard/agent.py\", line 354, in <module>\n",
      "    loop.run_until_complete(agent.run())\n",
      "  File \"/Users/brianliu/opt/anaconda3/lib/python3.8/asyncio/base_events.py\", line 616, in run_until_complete\n",
      "    return future.result()\n",
      "  File \"/Users/brianliu/opt/anaconda3/lib/python3.8/site-packages/ray/new_dashboard/agent.py\", line 144, in run\n",
      "    modules = self._load_modules()\n",
      "  File \"/Users/brianliu/opt/anaconda3/lib/python3.8/site-packages/ray/new_dashboard/agent.py\", line 98, in _load_modules\n",
      "    c = cls(self)\n",
      "  File \"/Users/brianliu/opt/anaconda3/lib/python3.8/site-packages/ray/new_dashboard/modules/reporter/reporter_agent.py\", line 148, in __init__\n",
      "    self._metrics_agent = MetricsAgent(dashboard_agent.metrics_export_port)\n",
      "  File \"/Users/brianliu/opt/anaconda3/lib/python3.8/site-packages/ray/_private/metrics_agent.py\", line 75, in __init__\n",
      "    prometheus_exporter.new_stats_exporter(\n",
      "  File \"/Users/brianliu/opt/anaconda3/lib/python3.8/site-packages/ray/_private/prometheus_exporter.py\", line 333, in new_stats_exporter\n",
      "    exporter = PrometheusStatsExporter(\n",
      "  File \"/Users/brianliu/opt/anaconda3/lib/python3.8/site-packages/ray/_private/prometheus_exporter.py\", line 266, in __init__\n",
      "    self.serve_http()\n",
      "  File \"/Users/brianliu/opt/anaconda3/lib/python3.8/site-packages/ray/_private/prometheus_exporter.py\", line 320, in serve_http\n",
      "    start_http_server(\n",
      "  File \"/Users/brianliu/opt/anaconda3/lib/python3.8/site-packages/prometheus_client/exposition.py\", line 149, in start_wsgi_server\n",
      "    httpd = make_server(addr, port, app, ThreadingWSGIServer, handler_class=_SilentHandler)\n",
      "  File \"/Users/brianliu/opt/anaconda3/lib/python3.8/wsgiref/simple_server.py\", line 154, in make_server\n",
      "    server = server_class((host, port), handler_class)\n",
      "  File \"/Users/brianliu/opt/anaconda3/lib/python3.8/socketserver.py\", line 452, in __init__\n",
      "    self.server_bind()\n",
      "  File \"/Users/brianliu/opt/anaconda3/lib/python3.8/wsgiref/simple_server.py\", line 50, in server_bind\n",
      "    HTTPServer.server_bind(self)\n",
      "  File \"/Users/brianliu/opt/anaconda3/lib/python3.8/http/server.py\", line 138, in server_bind\n",
      "    socketserver.TCPServer.server_bind(self)\n",
      "  File \"/Users/brianliu/opt/anaconda3/lib/python3.8/socketserver.py\", line 466, in server_bind\n",
      "    self.socket.bind(self.server_address)\n",
      "OSError: [Errno 48] Address already in use\n",
      "\n"
     ]
    },
    {
     "name": "stderr",
     "output_type": "stream",
     "text": [
      "2021-08-21 23:08:37,261\tWARNING worker.py:1189 -- The agent on node Brians-MBP.localdomain failed with the following error:\n",
      "Traceback (most recent call last):\n",
      "  File \"/Users/brianliu/opt/anaconda3/lib/python3.8/site-packages/ray/new_dashboard/agent.py\", line 354, in <module>\n",
      "    loop.run_until_complete(agent.run())\n",
      "  File \"/Users/brianliu/opt/anaconda3/lib/python3.8/asyncio/base_events.py\", line 616, in run_until_complete\n",
      "    return future.result()\n",
      "  File \"/Users/brianliu/opt/anaconda3/lib/python3.8/site-packages/ray/new_dashboard/agent.py\", line 144, in run\n",
      "    modules = self._load_modules()\n",
      "  File \"/Users/brianliu/opt/anaconda3/lib/python3.8/site-packages/ray/new_dashboard/agent.py\", line 98, in _load_modules\n",
      "    c = cls(self)\n",
      "  File \"/Users/brianliu/opt/anaconda3/lib/python3.8/site-packages/ray/new_dashboard/modules/reporter/reporter_agent.py\", line 148, in __init__\n",
      "    self._metrics_agent = MetricsAgent(dashboard_agent.metrics_export_port)\n",
      "  File \"/Users/brianliu/opt/anaconda3/lib/python3.8/site-packages/ray/_private/metrics_agent.py\", line 75, in __init__\n",
      "    prometheus_exporter.new_stats_exporter(\n",
      "  File \"/Users/brianliu/opt/anaconda3/lib/python3.8/site-packages/ray/_private/prometheus_exporter.py\", line 333, in new_stats_exporter\n",
      "    exporter = PrometheusStatsExporter(\n",
      "  File \"/Users/brianliu/opt/anaconda3/lib/python3.8/site-packages/ray/_private/prometheus_exporter.py\", line 266, in __init__\n",
      "    self.serve_http()\n",
      "  File \"/Users/brianliu/opt/anaconda3/lib/python3.8/site-packages/ray/_private/prometheus_exporter.py\", line 320, in serve_http\n",
      "    start_http_server(\n",
      "  File \"/Users/brianliu/opt/anaconda3/lib/python3.8/site-packages/prometheus_client/exposition.py\", line 149, in start_wsgi_server\n",
      "    httpd = make_server(addr, port, app, ThreadingWSGIServer, handler_class=_SilentHandler)\n",
      "  File \"/Users/brianliu/opt/anaconda3/lib/python3.8/wsgiref/simple_server.py\", line 154, in make_server\n",
      "    server = server_class((host, port), handler_class)\n",
      "  File \"/Users/brianliu/opt/anaconda3/lib/python3.8/socketserver.py\", line 452, in __init__\n",
      "    self.server_bind()\n",
      "  File \"/Users/brianliu/opt/anaconda3/lib/python3.8/wsgiref/simple_server.py\", line 50, in server_bind\n",
      "    HTTPServer.server_bind(self)\n",
      "  File \"/Users/brianliu/opt/anaconda3/lib/python3.8/http/server.py\", line 138, in server_bind\n",
      "    socketserver.TCPServer.server_bind(self)\n",
      "  File \"/Users/brianliu/opt/anaconda3/lib/python3.8/socketserver.py\", line 466, in server_bind\n",
      "    self.socket.bind(self.server_address)\n",
      "OSError: [Errno 48] Address already in use\n",
      "\n",
      "2021-08-21 23:08:39,787\tWARNING worker.py:1189 -- The agent on node Brians-MBP.localdomain failed with the following error:\n",
      "Traceback (most recent call last):\n",
      "  File \"/Users/brianliu/opt/anaconda3/lib/python3.8/site-packages/ray/new_dashboard/agent.py\", line 354, in <module>\n",
      "    loop.run_until_complete(agent.run())\n",
      "  File \"/Users/brianliu/opt/anaconda3/lib/python3.8/asyncio/base_events.py\", line 616, in run_until_complete\n",
      "    return future.result()\n",
      "  File \"/Users/brianliu/opt/anaconda3/lib/python3.8/site-packages/ray/new_dashboard/agent.py\", line 144, in run\n",
      "    modules = self._load_modules()\n",
      "  File \"/Users/brianliu/opt/anaconda3/lib/python3.8/site-packages/ray/new_dashboard/agent.py\", line 98, in _load_modules\n",
      "    c = cls(self)\n",
      "  File \"/Users/brianliu/opt/anaconda3/lib/python3.8/site-packages/ray/new_dashboard/modules/reporter/reporter_agent.py\", line 148, in __init__\n",
      "    self._metrics_agent = MetricsAgent(dashboard_agent.metrics_export_port)\n",
      "  File \"/Users/brianliu/opt/anaconda3/lib/python3.8/site-packages/ray/_private/metrics_agent.py\", line 75, in __init__\n",
      "    prometheus_exporter.new_stats_exporter(\n",
      "  File \"/Users/brianliu/opt/anaconda3/lib/python3.8/site-packages/ray/_private/prometheus_exporter.py\", line 333, in new_stats_exporter\n",
      "    exporter = PrometheusStatsExporter(\n",
      "  File \"/Users/brianliu/opt/anaconda3/lib/python3.8/site-packages/ray/_private/prometheus_exporter.py\", line 266, in __init__\n",
      "    self.serve_http()\n",
      "  File \"/Users/brianliu/opt/anaconda3/lib/python3.8/site-packages/ray/_private/prometheus_exporter.py\", line 320, in serve_http\n",
      "    start_http_server(\n",
      "  File \"/Users/brianliu/opt/anaconda3/lib/python3.8/site-packages/prometheus_client/exposition.py\", line 149, in start_wsgi_server\n",
      "    httpd = make_server(addr, port, app, ThreadingWSGIServer, handler_class=_SilentHandler)\n",
      "  File \"/Users/brianliu/opt/anaconda3/lib/python3.8/wsgiref/simple_server.py\", line 154, in make_server\n",
      "    server = server_class((host, port), handler_class)\n",
      "  File \"/Users/brianliu/opt/anaconda3/lib/python3.8/socketserver.py\", line 452, in __init__\n",
      "    self.server_bind()\n",
      "  File \"/Users/brianliu/opt/anaconda3/lib/python3.8/wsgiref/simple_server.py\", line 50, in server_bind\n",
      "    HTTPServer.server_bind(self)\n",
      "  File \"/Users/brianliu/opt/anaconda3/lib/python3.8/http/server.py\", line 138, in server_bind\n",
      "    socketserver.TCPServer.server_bind(self)\n",
      "  File \"/Users/brianliu/opt/anaconda3/lib/python3.8/socketserver.py\", line 466, in server_bind\n",
      "    self.socket.bind(self.server_address)\n",
      "OSError: [Errno 48] Address already in use\n",
      "\n",
      "2021-08-21 23:08:42,346\tWARNING worker.py:1189 -- The agent on node Brians-MBP.localdomain failed with the following error:\n",
      "Traceback (most recent call last):\n",
      "  File \"/Users/brianliu/opt/anaconda3/lib/python3.8/site-packages/ray/new_dashboard/agent.py\", line 354, in <module>\n",
      "    loop.run_until_complete(agent.run())\n",
      "  File \"/Users/brianliu/opt/anaconda3/lib/python3.8/asyncio/base_events.py\", line 616, in run_until_complete\n",
      "    return future.result()\n",
      "  File \"/Users/brianliu/opt/anaconda3/lib/python3.8/site-packages/ray/new_dashboard/agent.py\", line 144, in run\n",
      "    modules = self._load_modules()\n",
      "  File \"/Users/brianliu/opt/anaconda3/lib/python3.8/site-packages/ray/new_dashboard/agent.py\", line 98, in _load_modules\n",
      "    c = cls(self)\n",
      "  File \"/Users/brianliu/opt/anaconda3/lib/python3.8/site-packages/ray/new_dashboard/modules/reporter/reporter_agent.py\", line 148, in __init__\n",
      "    self._metrics_agent = MetricsAgent(dashboard_agent.metrics_export_port)\n",
      "  File \"/Users/brianliu/opt/anaconda3/lib/python3.8/site-packages/ray/_private/metrics_agent.py\", line 75, in __init__\n",
      "    prometheus_exporter.new_stats_exporter(\n",
      "  File \"/Users/brianliu/opt/anaconda3/lib/python3.8/site-packages/ray/_private/prometheus_exporter.py\", line 333, in new_stats_exporter\n",
      "    exporter = PrometheusStatsExporter(\n",
      "  File \"/Users/brianliu/opt/anaconda3/lib/python3.8/site-packages/ray/_private/prometheus_exporter.py\", line 266, in __init__\n",
      "    self.serve_http()\n",
      "  File \"/Users/brianliu/opt/anaconda3/lib/python3.8/site-packages/ray/_private/prometheus_exporter.py\", line 320, in serve_http\n",
      "    start_http_server(\n",
      "  File \"/Users/brianliu/opt/anaconda3/lib/python3.8/site-packages/prometheus_client/exposition.py\", line 149, in start_wsgi_server\n",
      "    httpd = make_server(addr, port, app, ThreadingWSGIServer, handler_class=_SilentHandler)\n",
      "  File \"/Users/brianliu/opt/anaconda3/lib/python3.8/wsgiref/simple_server.py\", line 154, in make_server\n",
      "    server = server_class((host, port), handler_class)\n",
      "  File \"/Users/brianliu/opt/anaconda3/lib/python3.8/socketserver.py\", line 452, in __init__\n",
      "    self.server_bind()\n",
      "  File \"/Users/brianliu/opt/anaconda3/lib/python3.8/wsgiref/simple_server.py\", line 50, in server_bind\n",
      "    HTTPServer.server_bind(self)\n",
      "  File \"/Users/brianliu/opt/anaconda3/lib/python3.8/http/server.py\", line 138, in server_bind\n",
      "    socketserver.TCPServer.server_bind(self)\n",
      "  File \"/Users/brianliu/opt/anaconda3/lib/python3.8/socketserver.py\", line 466, in server_bind\n",
      "    self.socket.bind(self.server_address)\n",
      "OSError: [Errno 48] Address already in use\n",
      "\n",
      "2021-08-21 23:08:44,989\tWARNING worker.py:1189 -- The agent on node Brians-MBP.localdomain failed with the following error:\n",
      "Traceback (most recent call last):\n",
      "  File \"/Users/brianliu/opt/anaconda3/lib/python3.8/site-packages/ray/new_dashboard/agent.py\", line 354, in <module>\n",
      "    loop.run_until_complete(agent.run())\n",
      "  File \"/Users/brianliu/opt/anaconda3/lib/python3.8/asyncio/base_events.py\", line 616, in run_until_complete\n",
      "    return future.result()\n",
      "  File \"/Users/brianliu/opt/anaconda3/lib/python3.8/site-packages/ray/new_dashboard/agent.py\", line 144, in run\n",
      "    modules = self._load_modules()\n",
      "  File \"/Users/brianliu/opt/anaconda3/lib/python3.8/site-packages/ray/new_dashboard/agent.py\", line 98, in _load_modules\n",
      "    c = cls(self)\n",
      "  File \"/Users/brianliu/opt/anaconda3/lib/python3.8/site-packages/ray/new_dashboard/modules/reporter/reporter_agent.py\", line 148, in __init__\n",
      "    self._metrics_agent = MetricsAgent(dashboard_agent.metrics_export_port)\n",
      "  File \"/Users/brianliu/opt/anaconda3/lib/python3.8/site-packages/ray/_private/metrics_agent.py\", line 75, in __init__\n",
      "    prometheus_exporter.new_stats_exporter(\n",
      "  File \"/Users/brianliu/opt/anaconda3/lib/python3.8/site-packages/ray/_private/prometheus_exporter.py\", line 333, in new_stats_exporter\n",
      "    exporter = PrometheusStatsExporter(\n",
      "  File \"/Users/brianliu/opt/anaconda3/lib/python3.8/site-packages/ray/_private/prometheus_exporter.py\", line 266, in __init__\n",
      "    self.serve_http()\n",
      "  File \"/Users/brianliu/opt/anaconda3/lib/python3.8/site-packages/ray/_private/prometheus_exporter.py\", line 320, in serve_http\n",
      "    start_http_server(\n",
      "  File \"/Users/brianliu/opt/anaconda3/lib/python3.8/site-packages/prometheus_client/exposition.py\", line 149, in start_wsgi_server\n",
      "    httpd = make_server(addr, port, app, ThreadingWSGIServer, handler_class=_SilentHandler)\n",
      "  File \"/Users/brianliu/opt/anaconda3/lib/python3.8/wsgiref/simple_server.py\", line 154, in make_server\n",
      "    server = server_class((host, port), handler_class)\n",
      "  File \"/Users/brianliu/opt/anaconda3/lib/python3.8/socketserver.py\", line 452, in __init__\n",
      "    self.server_bind()\n",
      "  File \"/Users/brianliu/opt/anaconda3/lib/python3.8/wsgiref/simple_server.py\", line 50, in server_bind\n",
      "    HTTPServer.server_bind(self)\n",
      "  File \"/Users/brianliu/opt/anaconda3/lib/python3.8/http/server.py\", line 138, in server_bind\n",
      "    socketserver.TCPServer.server_bind(self)\n",
      "  File \"/Users/brianliu/opt/anaconda3/lib/python3.8/socketserver.py\", line 466, in server_bind\n",
      "    self.socket.bind(self.server_address)\n",
      "OSError: [Errno 48] Address already in use\n",
      "\n"
     ]
    },
    {
     "name": "stderr",
     "output_type": "stream",
     "text": [
      "2021-08-21 23:08:47,570\tWARNING worker.py:1189 -- The agent on node Brians-MBP.localdomain failed with the following error:\n",
      "Traceback (most recent call last):\n",
      "  File \"/Users/brianliu/opt/anaconda3/lib/python3.8/site-packages/ray/new_dashboard/agent.py\", line 354, in <module>\n",
      "    loop.run_until_complete(agent.run())\n",
      "  File \"/Users/brianliu/opt/anaconda3/lib/python3.8/asyncio/base_events.py\", line 616, in run_until_complete\n",
      "    return future.result()\n",
      "  File \"/Users/brianliu/opt/anaconda3/lib/python3.8/site-packages/ray/new_dashboard/agent.py\", line 144, in run\n",
      "    modules = self._load_modules()\n",
      "  File \"/Users/brianliu/opt/anaconda3/lib/python3.8/site-packages/ray/new_dashboard/agent.py\", line 98, in _load_modules\n",
      "    c = cls(self)\n",
      "  File \"/Users/brianliu/opt/anaconda3/lib/python3.8/site-packages/ray/new_dashboard/modules/reporter/reporter_agent.py\", line 148, in __init__\n",
      "    self._metrics_agent = MetricsAgent(dashboard_agent.metrics_export_port)\n",
      "  File \"/Users/brianliu/opt/anaconda3/lib/python3.8/site-packages/ray/_private/metrics_agent.py\", line 75, in __init__\n",
      "    prometheus_exporter.new_stats_exporter(\n",
      "  File \"/Users/brianliu/opt/anaconda3/lib/python3.8/site-packages/ray/_private/prometheus_exporter.py\", line 333, in new_stats_exporter\n",
      "    exporter = PrometheusStatsExporter(\n",
      "  File \"/Users/brianliu/opt/anaconda3/lib/python3.8/site-packages/ray/_private/prometheus_exporter.py\", line 266, in __init__\n",
      "    self.serve_http()\n",
      "  File \"/Users/brianliu/opt/anaconda3/lib/python3.8/site-packages/ray/_private/prometheus_exporter.py\", line 320, in serve_http\n",
      "    start_http_server(\n",
      "  File \"/Users/brianliu/opt/anaconda3/lib/python3.8/site-packages/prometheus_client/exposition.py\", line 149, in start_wsgi_server\n",
      "    httpd = make_server(addr, port, app, ThreadingWSGIServer, handler_class=_SilentHandler)\n",
      "  File \"/Users/brianliu/opt/anaconda3/lib/python3.8/wsgiref/simple_server.py\", line 154, in make_server\n",
      "    server = server_class((host, port), handler_class)\n",
      "  File \"/Users/brianliu/opt/anaconda3/lib/python3.8/socketserver.py\", line 452, in __init__\n",
      "    self.server_bind()\n",
      "  File \"/Users/brianliu/opt/anaconda3/lib/python3.8/wsgiref/simple_server.py\", line 50, in server_bind\n",
      "    HTTPServer.server_bind(self)\n",
      "  File \"/Users/brianliu/opt/anaconda3/lib/python3.8/http/server.py\", line 138, in server_bind\n",
      "    socketserver.TCPServer.server_bind(self)\n",
      "  File \"/Users/brianliu/opt/anaconda3/lib/python3.8/socketserver.py\", line 466, in server_bind\n",
      "    self.socket.bind(self.server_address)\n",
      "OSError: [Errno 48] Address already in use\n",
      "\n",
      "2021-08-21 23:08:50,113\tWARNING worker.py:1189 -- The agent on node Brians-MBP.localdomain failed with the following error:\n",
      "Traceback (most recent call last):\n",
      "  File \"/Users/brianliu/opt/anaconda3/lib/python3.8/site-packages/ray/new_dashboard/agent.py\", line 354, in <module>\n",
      "    loop.run_until_complete(agent.run())\n",
      "  File \"/Users/brianliu/opt/anaconda3/lib/python3.8/asyncio/base_events.py\", line 616, in run_until_complete\n",
      "    return future.result()\n",
      "  File \"/Users/brianliu/opt/anaconda3/lib/python3.8/site-packages/ray/new_dashboard/agent.py\", line 144, in run\n",
      "    modules = self._load_modules()\n",
      "  File \"/Users/brianliu/opt/anaconda3/lib/python3.8/site-packages/ray/new_dashboard/agent.py\", line 98, in _load_modules\n",
      "    c = cls(self)\n",
      "  File \"/Users/brianliu/opt/anaconda3/lib/python3.8/site-packages/ray/new_dashboard/modules/reporter/reporter_agent.py\", line 148, in __init__\n",
      "    self._metrics_agent = MetricsAgent(dashboard_agent.metrics_export_port)\n",
      "  File \"/Users/brianliu/opt/anaconda3/lib/python3.8/site-packages/ray/_private/metrics_agent.py\", line 75, in __init__\n",
      "    prometheus_exporter.new_stats_exporter(\n",
      "  File \"/Users/brianliu/opt/anaconda3/lib/python3.8/site-packages/ray/_private/prometheus_exporter.py\", line 333, in new_stats_exporter\n",
      "    exporter = PrometheusStatsExporter(\n",
      "  File \"/Users/brianliu/opt/anaconda3/lib/python3.8/site-packages/ray/_private/prometheus_exporter.py\", line 266, in __init__\n",
      "    self.serve_http()\n",
      "  File \"/Users/brianliu/opt/anaconda3/lib/python3.8/site-packages/ray/_private/prometheus_exporter.py\", line 320, in serve_http\n",
      "    start_http_server(\n",
      "  File \"/Users/brianliu/opt/anaconda3/lib/python3.8/site-packages/prometheus_client/exposition.py\", line 149, in start_wsgi_server\n",
      "    httpd = make_server(addr, port, app, ThreadingWSGIServer, handler_class=_SilentHandler)\n",
      "  File \"/Users/brianliu/opt/anaconda3/lib/python3.8/wsgiref/simple_server.py\", line 154, in make_server\n",
      "    server = server_class((host, port), handler_class)\n",
      "  File \"/Users/brianliu/opt/anaconda3/lib/python3.8/socketserver.py\", line 452, in __init__\n",
      "    self.server_bind()\n",
      "  File \"/Users/brianliu/opt/anaconda3/lib/python3.8/wsgiref/simple_server.py\", line 50, in server_bind\n",
      "    HTTPServer.server_bind(self)\n",
      "  File \"/Users/brianliu/opt/anaconda3/lib/python3.8/http/server.py\", line 138, in server_bind\n",
      "    socketserver.TCPServer.server_bind(self)\n",
      "  File \"/Users/brianliu/opt/anaconda3/lib/python3.8/socketserver.py\", line 466, in server_bind\n",
      "    self.socket.bind(self.server_address)\n",
      "OSError: [Errno 48] Address already in use\n",
      "\n",
      "2021-08-21 23:08:52,688\tWARNING worker.py:1189 -- The agent on node Brians-MBP.localdomain failed with the following error:\n",
      "Traceback (most recent call last):\n",
      "  File \"/Users/brianliu/opt/anaconda3/lib/python3.8/site-packages/ray/new_dashboard/agent.py\", line 354, in <module>\n",
      "    loop.run_until_complete(agent.run())\n",
      "  File \"/Users/brianliu/opt/anaconda3/lib/python3.8/asyncio/base_events.py\", line 616, in run_until_complete\n",
      "    return future.result()\n",
      "  File \"/Users/brianliu/opt/anaconda3/lib/python3.8/site-packages/ray/new_dashboard/agent.py\", line 144, in run\n",
      "    modules = self._load_modules()\n",
      "  File \"/Users/brianliu/opt/anaconda3/lib/python3.8/site-packages/ray/new_dashboard/agent.py\", line 98, in _load_modules\n",
      "    c = cls(self)\n",
      "  File \"/Users/brianliu/opt/anaconda3/lib/python3.8/site-packages/ray/new_dashboard/modules/reporter/reporter_agent.py\", line 148, in __init__\n",
      "    self._metrics_agent = MetricsAgent(dashboard_agent.metrics_export_port)\n",
      "  File \"/Users/brianliu/opt/anaconda3/lib/python3.8/site-packages/ray/_private/metrics_agent.py\", line 75, in __init__\n",
      "    prometheus_exporter.new_stats_exporter(\n",
      "  File \"/Users/brianliu/opt/anaconda3/lib/python3.8/site-packages/ray/_private/prometheus_exporter.py\", line 333, in new_stats_exporter\n",
      "    exporter = PrometheusStatsExporter(\n",
      "  File \"/Users/brianliu/opt/anaconda3/lib/python3.8/site-packages/ray/_private/prometheus_exporter.py\", line 266, in __init__\n",
      "    self.serve_http()\n",
      "  File \"/Users/brianliu/opt/anaconda3/lib/python3.8/site-packages/ray/_private/prometheus_exporter.py\", line 320, in serve_http\n",
      "    start_http_server(\n",
      "  File \"/Users/brianliu/opt/anaconda3/lib/python3.8/site-packages/prometheus_client/exposition.py\", line 149, in start_wsgi_server\n",
      "    httpd = make_server(addr, port, app, ThreadingWSGIServer, handler_class=_SilentHandler)\n",
      "  File \"/Users/brianliu/opt/anaconda3/lib/python3.8/wsgiref/simple_server.py\", line 154, in make_server\n",
      "    server = server_class((host, port), handler_class)\n",
      "  File \"/Users/brianliu/opt/anaconda3/lib/python3.8/socketserver.py\", line 452, in __init__\n",
      "    self.server_bind()\n",
      "  File \"/Users/brianliu/opt/anaconda3/lib/python3.8/wsgiref/simple_server.py\", line 50, in server_bind\n",
      "    HTTPServer.server_bind(self)\n",
      "  File \"/Users/brianliu/opt/anaconda3/lib/python3.8/http/server.py\", line 138, in server_bind\n",
      "    socketserver.TCPServer.server_bind(self)\n",
      "  File \"/Users/brianliu/opt/anaconda3/lib/python3.8/socketserver.py\", line 466, in server_bind\n",
      "    self.socket.bind(self.server_address)\n",
      "OSError: [Errno 48] Address already in use\n",
      "\n",
      "2021-08-21 23:08:55,286\tWARNING worker.py:1189 -- The agent on node Brians-MBP.localdomain failed with the following error:\n",
      "Traceback (most recent call last):\n",
      "  File \"/Users/brianliu/opt/anaconda3/lib/python3.8/site-packages/ray/new_dashboard/agent.py\", line 354, in <module>\n",
      "    loop.run_until_complete(agent.run())\n",
      "  File \"/Users/brianliu/opt/anaconda3/lib/python3.8/asyncio/base_events.py\", line 616, in run_until_complete\n",
      "    return future.result()\n",
      "  File \"/Users/brianliu/opt/anaconda3/lib/python3.8/site-packages/ray/new_dashboard/agent.py\", line 144, in run\n",
      "    modules = self._load_modules()\n",
      "  File \"/Users/brianliu/opt/anaconda3/lib/python3.8/site-packages/ray/new_dashboard/agent.py\", line 98, in _load_modules\n",
      "    c = cls(self)\n",
      "  File \"/Users/brianliu/opt/anaconda3/lib/python3.8/site-packages/ray/new_dashboard/modules/reporter/reporter_agent.py\", line 148, in __init__\n",
      "    self._metrics_agent = MetricsAgent(dashboard_agent.metrics_export_port)\n",
      "  File \"/Users/brianliu/opt/anaconda3/lib/python3.8/site-packages/ray/_private/metrics_agent.py\", line 75, in __init__\n",
      "    prometheus_exporter.new_stats_exporter(\n",
      "  File \"/Users/brianliu/opt/anaconda3/lib/python3.8/site-packages/ray/_private/prometheus_exporter.py\", line 333, in new_stats_exporter\n",
      "    exporter = PrometheusStatsExporter(\n",
      "  File \"/Users/brianliu/opt/anaconda3/lib/python3.8/site-packages/ray/_private/prometheus_exporter.py\", line 266, in __init__\n",
      "    self.serve_http()\n",
      "  File \"/Users/brianliu/opt/anaconda3/lib/python3.8/site-packages/ray/_private/prometheus_exporter.py\", line 320, in serve_http\n",
      "    start_http_server(\n",
      "  File \"/Users/brianliu/opt/anaconda3/lib/python3.8/site-packages/prometheus_client/exposition.py\", line 149, in start_wsgi_server\n",
      "    httpd = make_server(addr, port, app, ThreadingWSGIServer, handler_class=_SilentHandler)\n",
      "  File \"/Users/brianliu/opt/anaconda3/lib/python3.8/wsgiref/simple_server.py\", line 154, in make_server\n",
      "    server = server_class((host, port), handler_class)\n",
      "  File \"/Users/brianliu/opt/anaconda3/lib/python3.8/socketserver.py\", line 452, in __init__\n",
      "    self.server_bind()\n",
      "  File \"/Users/brianliu/opt/anaconda3/lib/python3.8/wsgiref/simple_server.py\", line 50, in server_bind\n",
      "    HTTPServer.server_bind(self)\n",
      "  File \"/Users/brianliu/opt/anaconda3/lib/python3.8/http/server.py\", line 138, in server_bind\n",
      "    socketserver.TCPServer.server_bind(self)\n",
      "  File \"/Users/brianliu/opt/anaconda3/lib/python3.8/socketserver.py\", line 466, in server_bind\n",
      "    self.socket.bind(self.server_address)\n",
      "OSError: [Errno 48] Address already in use\n",
      "\n"
     ]
    },
    {
     "name": "stderr",
     "output_type": "stream",
     "text": [
      "2021-08-21 23:08:57,854\tWARNING worker.py:1189 -- The agent on node Brians-MBP.localdomain failed with the following error:\n",
      "Traceback (most recent call last):\n",
      "  File \"/Users/brianliu/opt/anaconda3/lib/python3.8/site-packages/ray/new_dashboard/agent.py\", line 354, in <module>\n",
      "    loop.run_until_complete(agent.run())\n",
      "  File \"/Users/brianliu/opt/anaconda3/lib/python3.8/asyncio/base_events.py\", line 616, in run_until_complete\n",
      "    return future.result()\n",
      "  File \"/Users/brianliu/opt/anaconda3/lib/python3.8/site-packages/ray/new_dashboard/agent.py\", line 144, in run\n",
      "    modules = self._load_modules()\n",
      "  File \"/Users/brianliu/opt/anaconda3/lib/python3.8/site-packages/ray/new_dashboard/agent.py\", line 98, in _load_modules\n",
      "    c = cls(self)\n",
      "  File \"/Users/brianliu/opt/anaconda3/lib/python3.8/site-packages/ray/new_dashboard/modules/reporter/reporter_agent.py\", line 148, in __init__\n",
      "    self._metrics_agent = MetricsAgent(dashboard_agent.metrics_export_port)\n",
      "  File \"/Users/brianliu/opt/anaconda3/lib/python3.8/site-packages/ray/_private/metrics_agent.py\", line 75, in __init__\n",
      "    prometheus_exporter.new_stats_exporter(\n",
      "  File \"/Users/brianliu/opt/anaconda3/lib/python3.8/site-packages/ray/_private/prometheus_exporter.py\", line 333, in new_stats_exporter\n",
      "    exporter = PrometheusStatsExporter(\n",
      "  File \"/Users/brianliu/opt/anaconda3/lib/python3.8/site-packages/ray/_private/prometheus_exporter.py\", line 266, in __init__\n",
      "    self.serve_http()\n",
      "  File \"/Users/brianliu/opt/anaconda3/lib/python3.8/site-packages/ray/_private/prometheus_exporter.py\", line 320, in serve_http\n",
      "    start_http_server(\n",
      "  File \"/Users/brianliu/opt/anaconda3/lib/python3.8/site-packages/prometheus_client/exposition.py\", line 149, in start_wsgi_server\n",
      "    httpd = make_server(addr, port, app, ThreadingWSGIServer, handler_class=_SilentHandler)\n",
      "  File \"/Users/brianliu/opt/anaconda3/lib/python3.8/wsgiref/simple_server.py\", line 154, in make_server\n",
      "    server = server_class((host, port), handler_class)\n",
      "  File \"/Users/brianliu/opt/anaconda3/lib/python3.8/socketserver.py\", line 452, in __init__\n",
      "    self.server_bind()\n",
      "  File \"/Users/brianliu/opt/anaconda3/lib/python3.8/wsgiref/simple_server.py\", line 50, in server_bind\n",
      "    HTTPServer.server_bind(self)\n",
      "  File \"/Users/brianliu/opt/anaconda3/lib/python3.8/http/server.py\", line 138, in server_bind\n",
      "    socketserver.TCPServer.server_bind(self)\n",
      "  File \"/Users/brianliu/opt/anaconda3/lib/python3.8/socketserver.py\", line 466, in server_bind\n",
      "    self.socket.bind(self.server_address)\n",
      "OSError: [Errno 48] Address already in use\n",
      "\n",
      "2021-08-21 23:09:00,383\tWARNING worker.py:1189 -- The agent on node Brians-MBP.localdomain failed with the following error:\n",
      "Traceback (most recent call last):\n",
      "  File \"/Users/brianliu/opt/anaconda3/lib/python3.8/site-packages/ray/new_dashboard/agent.py\", line 354, in <module>\n",
      "    loop.run_until_complete(agent.run())\n",
      "  File \"/Users/brianliu/opt/anaconda3/lib/python3.8/asyncio/base_events.py\", line 616, in run_until_complete\n",
      "    return future.result()\n",
      "  File \"/Users/brianliu/opt/anaconda3/lib/python3.8/site-packages/ray/new_dashboard/agent.py\", line 144, in run\n",
      "    modules = self._load_modules()\n",
      "  File \"/Users/brianliu/opt/anaconda3/lib/python3.8/site-packages/ray/new_dashboard/agent.py\", line 98, in _load_modules\n",
      "    c = cls(self)\n",
      "  File \"/Users/brianliu/opt/anaconda3/lib/python3.8/site-packages/ray/new_dashboard/modules/reporter/reporter_agent.py\", line 148, in __init__\n",
      "    self._metrics_agent = MetricsAgent(dashboard_agent.metrics_export_port)\n",
      "  File \"/Users/brianliu/opt/anaconda3/lib/python3.8/site-packages/ray/_private/metrics_agent.py\", line 75, in __init__\n",
      "    prometheus_exporter.new_stats_exporter(\n",
      "  File \"/Users/brianliu/opt/anaconda3/lib/python3.8/site-packages/ray/_private/prometheus_exporter.py\", line 333, in new_stats_exporter\n",
      "    exporter = PrometheusStatsExporter(\n",
      "  File \"/Users/brianliu/opt/anaconda3/lib/python3.8/site-packages/ray/_private/prometheus_exporter.py\", line 266, in __init__\n",
      "    self.serve_http()\n",
      "  File \"/Users/brianliu/opt/anaconda3/lib/python3.8/site-packages/ray/_private/prometheus_exporter.py\", line 320, in serve_http\n",
      "    start_http_server(\n",
      "  File \"/Users/brianliu/opt/anaconda3/lib/python3.8/site-packages/prometheus_client/exposition.py\", line 149, in start_wsgi_server\n",
      "    httpd = make_server(addr, port, app, ThreadingWSGIServer, handler_class=_SilentHandler)\n",
      "  File \"/Users/brianliu/opt/anaconda3/lib/python3.8/wsgiref/simple_server.py\", line 154, in make_server\n",
      "    server = server_class((host, port), handler_class)\n",
      "  File \"/Users/brianliu/opt/anaconda3/lib/python3.8/socketserver.py\", line 452, in __init__\n",
      "    self.server_bind()\n",
      "  File \"/Users/brianliu/opt/anaconda3/lib/python3.8/wsgiref/simple_server.py\", line 50, in server_bind\n",
      "    HTTPServer.server_bind(self)\n",
      "  File \"/Users/brianliu/opt/anaconda3/lib/python3.8/http/server.py\", line 138, in server_bind\n",
      "    socketserver.TCPServer.server_bind(self)\n",
      "  File \"/Users/brianliu/opt/anaconda3/lib/python3.8/socketserver.py\", line 466, in server_bind\n",
      "    self.socket.bind(self.server_address)\n",
      "OSError: [Errno 48] Address already in use\n",
      "\n",
      "2021-08-21 23:09:02,988\tWARNING worker.py:1189 -- The agent on node Brians-MBP.localdomain failed with the following error:\n",
      "Traceback (most recent call last):\n",
      "  File \"/Users/brianliu/opt/anaconda3/lib/python3.8/site-packages/ray/new_dashboard/agent.py\", line 354, in <module>\n",
      "    loop.run_until_complete(agent.run())\n",
      "  File \"/Users/brianliu/opt/anaconda3/lib/python3.8/asyncio/base_events.py\", line 616, in run_until_complete\n",
      "    return future.result()\n",
      "  File \"/Users/brianliu/opt/anaconda3/lib/python3.8/site-packages/ray/new_dashboard/agent.py\", line 144, in run\n",
      "    modules = self._load_modules()\n",
      "  File \"/Users/brianliu/opt/anaconda3/lib/python3.8/site-packages/ray/new_dashboard/agent.py\", line 98, in _load_modules\n",
      "    c = cls(self)\n",
      "  File \"/Users/brianliu/opt/anaconda3/lib/python3.8/site-packages/ray/new_dashboard/modules/reporter/reporter_agent.py\", line 148, in __init__\n",
      "    self._metrics_agent = MetricsAgent(dashboard_agent.metrics_export_port)\n",
      "  File \"/Users/brianliu/opt/anaconda3/lib/python3.8/site-packages/ray/_private/metrics_agent.py\", line 75, in __init__\n",
      "    prometheus_exporter.new_stats_exporter(\n",
      "  File \"/Users/brianliu/opt/anaconda3/lib/python3.8/site-packages/ray/_private/prometheus_exporter.py\", line 333, in new_stats_exporter\n",
      "    exporter = PrometheusStatsExporter(\n",
      "  File \"/Users/brianliu/opt/anaconda3/lib/python3.8/site-packages/ray/_private/prometheus_exporter.py\", line 266, in __init__\n",
      "    self.serve_http()\n",
      "  File \"/Users/brianliu/opt/anaconda3/lib/python3.8/site-packages/ray/_private/prometheus_exporter.py\", line 320, in serve_http\n",
      "    start_http_server(\n",
      "  File \"/Users/brianliu/opt/anaconda3/lib/python3.8/site-packages/prometheus_client/exposition.py\", line 149, in start_wsgi_server\n",
      "    httpd = make_server(addr, port, app, ThreadingWSGIServer, handler_class=_SilentHandler)\n",
      "  File \"/Users/brianliu/opt/anaconda3/lib/python3.8/wsgiref/simple_server.py\", line 154, in make_server\n",
      "    server = server_class((host, port), handler_class)\n",
      "  File \"/Users/brianliu/opt/anaconda3/lib/python3.8/socketserver.py\", line 452, in __init__\n",
      "    self.server_bind()\n",
      "  File \"/Users/brianliu/opt/anaconda3/lib/python3.8/wsgiref/simple_server.py\", line 50, in server_bind\n",
      "    HTTPServer.server_bind(self)\n",
      "  File \"/Users/brianliu/opt/anaconda3/lib/python3.8/http/server.py\", line 138, in server_bind\n",
      "    socketserver.TCPServer.server_bind(self)\n",
      "  File \"/Users/brianliu/opt/anaconda3/lib/python3.8/socketserver.py\", line 466, in server_bind\n",
      "    self.socket.bind(self.server_address)\n",
      "OSError: [Errno 48] Address already in use\n",
      "\n",
      "2021-08-21 23:09:05,521\tWARNING worker.py:1189 -- The agent on node Brians-MBP.localdomain failed with the following error:\n",
      "Traceback (most recent call last):\n",
      "  File \"/Users/brianliu/opt/anaconda3/lib/python3.8/site-packages/ray/new_dashboard/agent.py\", line 354, in <module>\n",
      "    loop.run_until_complete(agent.run())\n",
      "  File \"/Users/brianliu/opt/anaconda3/lib/python3.8/asyncio/base_events.py\", line 616, in run_until_complete\n",
      "    return future.result()\n",
      "  File \"/Users/brianliu/opt/anaconda3/lib/python3.8/site-packages/ray/new_dashboard/agent.py\", line 144, in run\n",
      "    modules = self._load_modules()\n",
      "  File \"/Users/brianliu/opt/anaconda3/lib/python3.8/site-packages/ray/new_dashboard/agent.py\", line 98, in _load_modules\n",
      "    c = cls(self)\n",
      "  File \"/Users/brianliu/opt/anaconda3/lib/python3.8/site-packages/ray/new_dashboard/modules/reporter/reporter_agent.py\", line 148, in __init__\n",
      "    self._metrics_agent = MetricsAgent(dashboard_agent.metrics_export_port)\n",
      "  File \"/Users/brianliu/opt/anaconda3/lib/python3.8/site-packages/ray/_private/metrics_agent.py\", line 75, in __init__\n",
      "    prometheus_exporter.new_stats_exporter(\n",
      "  File \"/Users/brianliu/opt/anaconda3/lib/python3.8/site-packages/ray/_private/prometheus_exporter.py\", line 333, in new_stats_exporter\n",
      "    exporter = PrometheusStatsExporter(\n",
      "  File \"/Users/brianliu/opt/anaconda3/lib/python3.8/site-packages/ray/_private/prometheus_exporter.py\", line 266, in __init__\n",
      "    self.serve_http()\n",
      "  File \"/Users/brianliu/opt/anaconda3/lib/python3.8/site-packages/ray/_private/prometheus_exporter.py\", line 320, in serve_http\n",
      "    start_http_server(\n",
      "  File \"/Users/brianliu/opt/anaconda3/lib/python3.8/site-packages/prometheus_client/exposition.py\", line 149, in start_wsgi_server\n",
      "    httpd = make_server(addr, port, app, ThreadingWSGIServer, handler_class=_SilentHandler)\n",
      "  File \"/Users/brianliu/opt/anaconda3/lib/python3.8/wsgiref/simple_server.py\", line 154, in make_server\n",
      "    server = server_class((host, port), handler_class)\n",
      "  File \"/Users/brianliu/opt/anaconda3/lib/python3.8/socketserver.py\", line 452, in __init__\n",
      "    self.server_bind()\n",
      "  File \"/Users/brianliu/opt/anaconda3/lib/python3.8/wsgiref/simple_server.py\", line 50, in server_bind\n",
      "    HTTPServer.server_bind(self)\n",
      "  File \"/Users/brianliu/opt/anaconda3/lib/python3.8/http/server.py\", line 138, in server_bind\n",
      "    socketserver.TCPServer.server_bind(self)\n",
      "  File \"/Users/brianliu/opt/anaconda3/lib/python3.8/socketserver.py\", line 466, in server_bind\n",
      "    self.socket.bind(self.server_address)\n",
      "OSError: [Errno 48] Address already in use\n",
      "\n"
     ]
    },
    {
     "name": "stderr",
     "output_type": "stream",
     "text": [
      "2021-08-21 23:09:08,074\tWARNING worker.py:1189 -- The agent on node Brians-MBP.localdomain failed with the following error:\n",
      "Traceback (most recent call last):\n",
      "  File \"/Users/brianliu/opt/anaconda3/lib/python3.8/site-packages/ray/new_dashboard/agent.py\", line 354, in <module>\n",
      "    loop.run_until_complete(agent.run())\n",
      "  File \"/Users/brianliu/opt/anaconda3/lib/python3.8/asyncio/base_events.py\", line 616, in run_until_complete\n",
      "    return future.result()\n",
      "  File \"/Users/brianliu/opt/anaconda3/lib/python3.8/site-packages/ray/new_dashboard/agent.py\", line 144, in run\n",
      "    modules = self._load_modules()\n",
      "  File \"/Users/brianliu/opt/anaconda3/lib/python3.8/site-packages/ray/new_dashboard/agent.py\", line 98, in _load_modules\n",
      "    c = cls(self)\n",
      "  File \"/Users/brianliu/opt/anaconda3/lib/python3.8/site-packages/ray/new_dashboard/modules/reporter/reporter_agent.py\", line 148, in __init__\n",
      "    self._metrics_agent = MetricsAgent(dashboard_agent.metrics_export_port)\n",
      "  File \"/Users/brianliu/opt/anaconda3/lib/python3.8/site-packages/ray/_private/metrics_agent.py\", line 75, in __init__\n",
      "    prometheus_exporter.new_stats_exporter(\n",
      "  File \"/Users/brianliu/opt/anaconda3/lib/python3.8/site-packages/ray/_private/prometheus_exporter.py\", line 333, in new_stats_exporter\n",
      "    exporter = PrometheusStatsExporter(\n",
      "  File \"/Users/brianliu/opt/anaconda3/lib/python3.8/site-packages/ray/_private/prometheus_exporter.py\", line 266, in __init__\n",
      "    self.serve_http()\n",
      "  File \"/Users/brianliu/opt/anaconda3/lib/python3.8/site-packages/ray/_private/prometheus_exporter.py\", line 320, in serve_http\n",
      "    start_http_server(\n",
      "  File \"/Users/brianliu/opt/anaconda3/lib/python3.8/site-packages/prometheus_client/exposition.py\", line 149, in start_wsgi_server\n",
      "    httpd = make_server(addr, port, app, ThreadingWSGIServer, handler_class=_SilentHandler)\n",
      "  File \"/Users/brianliu/opt/anaconda3/lib/python3.8/wsgiref/simple_server.py\", line 154, in make_server\n",
      "    server = server_class((host, port), handler_class)\n",
      "  File \"/Users/brianliu/opt/anaconda3/lib/python3.8/socketserver.py\", line 452, in __init__\n",
      "    self.server_bind()\n",
      "  File \"/Users/brianliu/opt/anaconda3/lib/python3.8/wsgiref/simple_server.py\", line 50, in server_bind\n",
      "    HTTPServer.server_bind(self)\n",
      "  File \"/Users/brianliu/opt/anaconda3/lib/python3.8/http/server.py\", line 138, in server_bind\n",
      "    socketserver.TCPServer.server_bind(self)\n",
      "  File \"/Users/brianliu/opt/anaconda3/lib/python3.8/socketserver.py\", line 466, in server_bind\n",
      "    self.socket.bind(self.server_address)\n",
      "OSError: [Errno 48] Address already in use\n",
      "\n",
      "2021-08-21 23:09:10,651\tWARNING worker.py:1189 -- The agent on node Brians-MBP.localdomain failed with the following error:\n",
      "Traceback (most recent call last):\n",
      "  File \"/Users/brianliu/opt/anaconda3/lib/python3.8/site-packages/ray/new_dashboard/agent.py\", line 354, in <module>\n",
      "    loop.run_until_complete(agent.run())\n",
      "  File \"/Users/brianliu/opt/anaconda3/lib/python3.8/asyncio/base_events.py\", line 616, in run_until_complete\n",
      "    return future.result()\n",
      "  File \"/Users/brianliu/opt/anaconda3/lib/python3.8/site-packages/ray/new_dashboard/agent.py\", line 144, in run\n",
      "    modules = self._load_modules()\n",
      "  File \"/Users/brianliu/opt/anaconda3/lib/python3.8/site-packages/ray/new_dashboard/agent.py\", line 98, in _load_modules\n",
      "    c = cls(self)\n",
      "  File \"/Users/brianliu/opt/anaconda3/lib/python3.8/site-packages/ray/new_dashboard/modules/reporter/reporter_agent.py\", line 148, in __init__\n",
      "    self._metrics_agent = MetricsAgent(dashboard_agent.metrics_export_port)\n",
      "  File \"/Users/brianliu/opt/anaconda3/lib/python3.8/site-packages/ray/_private/metrics_agent.py\", line 75, in __init__\n",
      "    prometheus_exporter.new_stats_exporter(\n",
      "  File \"/Users/brianliu/opt/anaconda3/lib/python3.8/site-packages/ray/_private/prometheus_exporter.py\", line 333, in new_stats_exporter\n",
      "    exporter = PrometheusStatsExporter(\n",
      "  File \"/Users/brianliu/opt/anaconda3/lib/python3.8/site-packages/ray/_private/prometheus_exporter.py\", line 266, in __init__\n",
      "    self.serve_http()\n",
      "  File \"/Users/brianliu/opt/anaconda3/lib/python3.8/site-packages/ray/_private/prometheus_exporter.py\", line 320, in serve_http\n",
      "    start_http_server(\n",
      "  File \"/Users/brianliu/opt/anaconda3/lib/python3.8/site-packages/prometheus_client/exposition.py\", line 149, in start_wsgi_server\n",
      "    httpd = make_server(addr, port, app, ThreadingWSGIServer, handler_class=_SilentHandler)\n",
      "  File \"/Users/brianliu/opt/anaconda3/lib/python3.8/wsgiref/simple_server.py\", line 154, in make_server\n",
      "    server = server_class((host, port), handler_class)\n",
      "  File \"/Users/brianliu/opt/anaconda3/lib/python3.8/socketserver.py\", line 452, in __init__\n",
      "    self.server_bind()\n",
      "  File \"/Users/brianliu/opt/anaconda3/lib/python3.8/wsgiref/simple_server.py\", line 50, in server_bind\n",
      "    HTTPServer.server_bind(self)\n",
      "  File \"/Users/brianliu/opt/anaconda3/lib/python3.8/http/server.py\", line 138, in server_bind\n",
      "    socketserver.TCPServer.server_bind(self)\n",
      "  File \"/Users/brianliu/opt/anaconda3/lib/python3.8/socketserver.py\", line 466, in server_bind\n",
      "    self.socket.bind(self.server_address)\n",
      "OSError: [Errno 48] Address already in use\n",
      "\n",
      "2021-08-21 23:09:13,343\tWARNING worker.py:1189 -- The agent on node Brians-MBP.localdomain failed with the following error:\n",
      "Traceback (most recent call last):\n",
      "  File \"/Users/brianliu/opt/anaconda3/lib/python3.8/site-packages/ray/new_dashboard/agent.py\", line 354, in <module>\n",
      "    loop.run_until_complete(agent.run())\n",
      "  File \"/Users/brianliu/opt/anaconda3/lib/python3.8/asyncio/base_events.py\", line 616, in run_until_complete\n",
      "    return future.result()\n",
      "  File \"/Users/brianliu/opt/anaconda3/lib/python3.8/site-packages/ray/new_dashboard/agent.py\", line 144, in run\n",
      "    modules = self._load_modules()\n",
      "  File \"/Users/brianliu/opt/anaconda3/lib/python3.8/site-packages/ray/new_dashboard/agent.py\", line 98, in _load_modules\n",
      "    c = cls(self)\n",
      "  File \"/Users/brianliu/opt/anaconda3/lib/python3.8/site-packages/ray/new_dashboard/modules/reporter/reporter_agent.py\", line 148, in __init__\n",
      "    self._metrics_agent = MetricsAgent(dashboard_agent.metrics_export_port)\n",
      "  File \"/Users/brianliu/opt/anaconda3/lib/python3.8/site-packages/ray/_private/metrics_agent.py\", line 75, in __init__\n",
      "    prometheus_exporter.new_stats_exporter(\n",
      "  File \"/Users/brianliu/opt/anaconda3/lib/python3.8/site-packages/ray/_private/prometheus_exporter.py\", line 333, in new_stats_exporter\n",
      "    exporter = PrometheusStatsExporter(\n",
      "  File \"/Users/brianliu/opt/anaconda3/lib/python3.8/site-packages/ray/_private/prometheus_exporter.py\", line 266, in __init__\n",
      "    self.serve_http()\n",
      "  File \"/Users/brianliu/opt/anaconda3/lib/python3.8/site-packages/ray/_private/prometheus_exporter.py\", line 320, in serve_http\n",
      "    start_http_server(\n",
      "  File \"/Users/brianliu/opt/anaconda3/lib/python3.8/site-packages/prometheus_client/exposition.py\", line 149, in start_wsgi_server\n",
      "    httpd = make_server(addr, port, app, ThreadingWSGIServer, handler_class=_SilentHandler)\n",
      "  File \"/Users/brianliu/opt/anaconda3/lib/python3.8/wsgiref/simple_server.py\", line 154, in make_server\n",
      "    server = server_class((host, port), handler_class)\n",
      "  File \"/Users/brianliu/opt/anaconda3/lib/python3.8/socketserver.py\", line 452, in __init__\n",
      "    self.server_bind()\n",
      "  File \"/Users/brianliu/opt/anaconda3/lib/python3.8/wsgiref/simple_server.py\", line 50, in server_bind\n",
      "    HTTPServer.server_bind(self)\n",
      "  File \"/Users/brianliu/opt/anaconda3/lib/python3.8/http/server.py\", line 138, in server_bind\n",
      "    socketserver.TCPServer.server_bind(self)\n",
      "  File \"/Users/brianliu/opt/anaconda3/lib/python3.8/socketserver.py\", line 466, in server_bind\n",
      "    self.socket.bind(self.server_address)\n",
      "OSError: [Errno 48] Address already in use\n",
      "\n",
      "2021-08-21 23:09:15,870\tWARNING worker.py:1189 -- The agent on node Brians-MBP.localdomain failed with the following error:\n",
      "Traceback (most recent call last):\n",
      "  File \"/Users/brianliu/opt/anaconda3/lib/python3.8/site-packages/ray/new_dashboard/agent.py\", line 354, in <module>\n",
      "    loop.run_until_complete(agent.run())\n",
      "  File \"/Users/brianliu/opt/anaconda3/lib/python3.8/asyncio/base_events.py\", line 616, in run_until_complete\n",
      "    return future.result()\n",
      "  File \"/Users/brianliu/opt/anaconda3/lib/python3.8/site-packages/ray/new_dashboard/agent.py\", line 144, in run\n",
      "    modules = self._load_modules()\n",
      "  File \"/Users/brianliu/opt/anaconda3/lib/python3.8/site-packages/ray/new_dashboard/agent.py\", line 98, in _load_modules\n",
      "    c = cls(self)\n",
      "  File \"/Users/brianliu/opt/anaconda3/lib/python3.8/site-packages/ray/new_dashboard/modules/reporter/reporter_agent.py\", line 148, in __init__\n",
      "    self._metrics_agent = MetricsAgent(dashboard_agent.metrics_export_port)\n",
      "  File \"/Users/brianliu/opt/anaconda3/lib/python3.8/site-packages/ray/_private/metrics_agent.py\", line 75, in __init__\n",
      "    prometheus_exporter.new_stats_exporter(\n",
      "  File \"/Users/brianliu/opt/anaconda3/lib/python3.8/site-packages/ray/_private/prometheus_exporter.py\", line 333, in new_stats_exporter\n",
      "    exporter = PrometheusStatsExporter(\n",
      "  File \"/Users/brianliu/opt/anaconda3/lib/python3.8/site-packages/ray/_private/prometheus_exporter.py\", line 266, in __init__\n",
      "    self.serve_http()\n",
      "  File \"/Users/brianliu/opt/anaconda3/lib/python3.8/site-packages/ray/_private/prometheus_exporter.py\", line 320, in serve_http\n",
      "    start_http_server(\n",
      "  File \"/Users/brianliu/opt/anaconda3/lib/python3.8/site-packages/prometheus_client/exposition.py\", line 149, in start_wsgi_server\n",
      "    httpd = make_server(addr, port, app, ThreadingWSGIServer, handler_class=_SilentHandler)\n",
      "  File \"/Users/brianliu/opt/anaconda3/lib/python3.8/wsgiref/simple_server.py\", line 154, in make_server\n",
      "    server = server_class((host, port), handler_class)\n",
      "  File \"/Users/brianliu/opt/anaconda3/lib/python3.8/socketserver.py\", line 452, in __init__\n",
      "    self.server_bind()\n",
      "  File \"/Users/brianliu/opt/anaconda3/lib/python3.8/wsgiref/simple_server.py\", line 50, in server_bind\n",
      "    HTTPServer.server_bind(self)\n",
      "  File \"/Users/brianliu/opt/anaconda3/lib/python3.8/http/server.py\", line 138, in server_bind\n",
      "    socketserver.TCPServer.server_bind(self)\n",
      "  File \"/Users/brianliu/opt/anaconda3/lib/python3.8/socketserver.py\", line 466, in server_bind\n",
      "    self.socket.bind(self.server_address)\n",
      "OSError: [Errno 48] Address already in use\n",
      "\n"
     ]
    },
    {
     "name": "stderr",
     "output_type": "stream",
     "text": [
      "2021-08-21 23:09:18,306\tWARNING worker.py:1189 -- The agent on node Brians-MBP.localdomain failed with the following error:\n",
      "Traceback (most recent call last):\n",
      "  File \"/Users/brianliu/opt/anaconda3/lib/python3.8/site-packages/ray/new_dashboard/agent.py\", line 354, in <module>\n",
      "    loop.run_until_complete(agent.run())\n",
      "  File \"/Users/brianliu/opt/anaconda3/lib/python3.8/asyncio/base_events.py\", line 616, in run_until_complete\n",
      "    return future.result()\n",
      "  File \"/Users/brianliu/opt/anaconda3/lib/python3.8/site-packages/ray/new_dashboard/agent.py\", line 144, in run\n",
      "    modules = self._load_modules()\n",
      "  File \"/Users/brianliu/opt/anaconda3/lib/python3.8/site-packages/ray/new_dashboard/agent.py\", line 98, in _load_modules\n",
      "    c = cls(self)\n",
      "  File \"/Users/brianliu/opt/anaconda3/lib/python3.8/site-packages/ray/new_dashboard/modules/reporter/reporter_agent.py\", line 148, in __init__\n",
      "    self._metrics_agent = MetricsAgent(dashboard_agent.metrics_export_port)\n",
      "  File \"/Users/brianliu/opt/anaconda3/lib/python3.8/site-packages/ray/_private/metrics_agent.py\", line 75, in __init__\n",
      "    prometheus_exporter.new_stats_exporter(\n",
      "  File \"/Users/brianliu/opt/anaconda3/lib/python3.8/site-packages/ray/_private/prometheus_exporter.py\", line 333, in new_stats_exporter\n",
      "    exporter = PrometheusStatsExporter(\n",
      "  File \"/Users/brianliu/opt/anaconda3/lib/python3.8/site-packages/ray/_private/prometheus_exporter.py\", line 266, in __init__\n",
      "    self.serve_http()\n",
      "  File \"/Users/brianliu/opt/anaconda3/lib/python3.8/site-packages/ray/_private/prometheus_exporter.py\", line 320, in serve_http\n",
      "    start_http_server(\n",
      "  File \"/Users/brianliu/opt/anaconda3/lib/python3.8/site-packages/prometheus_client/exposition.py\", line 149, in start_wsgi_server\n",
      "    httpd = make_server(addr, port, app, ThreadingWSGIServer, handler_class=_SilentHandler)\n",
      "  File \"/Users/brianliu/opt/anaconda3/lib/python3.8/wsgiref/simple_server.py\", line 154, in make_server\n",
      "    server = server_class((host, port), handler_class)\n",
      "  File \"/Users/brianliu/opt/anaconda3/lib/python3.8/socketserver.py\", line 452, in __init__\n",
      "    self.server_bind()\n",
      "  File \"/Users/brianliu/opt/anaconda3/lib/python3.8/wsgiref/simple_server.py\", line 50, in server_bind\n",
      "    HTTPServer.server_bind(self)\n",
      "  File \"/Users/brianliu/opt/anaconda3/lib/python3.8/http/server.py\", line 138, in server_bind\n",
      "    socketserver.TCPServer.server_bind(self)\n",
      "  File \"/Users/brianliu/opt/anaconda3/lib/python3.8/socketserver.py\", line 466, in server_bind\n",
      "    self.socket.bind(self.server_address)\n",
      "OSError: [Errno 48] Address already in use\n",
      "\n",
      "2021-08-21 23:09:20,591\tWARNING worker.py:1189 -- The agent on node Brians-MBP.localdomain failed with the following error:\n",
      "Traceback (most recent call last):\n",
      "  File \"/Users/brianliu/opt/anaconda3/lib/python3.8/site-packages/ray/new_dashboard/agent.py\", line 354, in <module>\n",
      "    loop.run_until_complete(agent.run())\n",
      "  File \"/Users/brianliu/opt/anaconda3/lib/python3.8/asyncio/base_events.py\", line 616, in run_until_complete\n",
      "    return future.result()\n",
      "  File \"/Users/brianliu/opt/anaconda3/lib/python3.8/site-packages/ray/new_dashboard/agent.py\", line 144, in run\n",
      "    modules = self._load_modules()\n",
      "  File \"/Users/brianliu/opt/anaconda3/lib/python3.8/site-packages/ray/new_dashboard/agent.py\", line 98, in _load_modules\n",
      "    c = cls(self)\n",
      "  File \"/Users/brianliu/opt/anaconda3/lib/python3.8/site-packages/ray/new_dashboard/modules/reporter/reporter_agent.py\", line 148, in __init__\n",
      "    self._metrics_agent = MetricsAgent(dashboard_agent.metrics_export_port)\n",
      "  File \"/Users/brianliu/opt/anaconda3/lib/python3.8/site-packages/ray/_private/metrics_agent.py\", line 75, in __init__\n",
      "    prometheus_exporter.new_stats_exporter(\n",
      "  File \"/Users/brianliu/opt/anaconda3/lib/python3.8/site-packages/ray/_private/prometheus_exporter.py\", line 333, in new_stats_exporter\n",
      "    exporter = PrometheusStatsExporter(\n",
      "  File \"/Users/brianliu/opt/anaconda3/lib/python3.8/site-packages/ray/_private/prometheus_exporter.py\", line 266, in __init__\n",
      "    self.serve_http()\n",
      "  File \"/Users/brianliu/opt/anaconda3/lib/python3.8/site-packages/ray/_private/prometheus_exporter.py\", line 320, in serve_http\n",
      "    start_http_server(\n",
      "  File \"/Users/brianliu/opt/anaconda3/lib/python3.8/site-packages/prometheus_client/exposition.py\", line 149, in start_wsgi_server\n",
      "    httpd = make_server(addr, port, app, ThreadingWSGIServer, handler_class=_SilentHandler)\n",
      "  File \"/Users/brianliu/opt/anaconda3/lib/python3.8/wsgiref/simple_server.py\", line 154, in make_server\n",
      "    server = server_class((host, port), handler_class)\n",
      "  File \"/Users/brianliu/opt/anaconda3/lib/python3.8/socketserver.py\", line 452, in __init__\n",
      "    self.server_bind()\n",
      "  File \"/Users/brianliu/opt/anaconda3/lib/python3.8/wsgiref/simple_server.py\", line 50, in server_bind\n",
      "    HTTPServer.server_bind(self)\n",
      "  File \"/Users/brianliu/opt/anaconda3/lib/python3.8/http/server.py\", line 138, in server_bind\n",
      "    socketserver.TCPServer.server_bind(self)\n",
      "  File \"/Users/brianliu/opt/anaconda3/lib/python3.8/socketserver.py\", line 466, in server_bind\n",
      "    self.socket.bind(self.server_address)\n",
      "OSError: [Errno 48] Address already in use\n",
      "\n",
      "2021-08-21 23:09:22,686\tWARNING worker.py:1189 -- The agent on node Brians-MBP.localdomain failed with the following error:\n",
      "Traceback (most recent call last):\n",
      "  File \"/Users/brianliu/opt/anaconda3/lib/python3.8/site-packages/ray/new_dashboard/agent.py\", line 354, in <module>\n",
      "    loop.run_until_complete(agent.run())\n",
      "  File \"/Users/brianliu/opt/anaconda3/lib/python3.8/asyncio/base_events.py\", line 616, in run_until_complete\n",
      "    return future.result()\n",
      "  File \"/Users/brianliu/opt/anaconda3/lib/python3.8/site-packages/ray/new_dashboard/agent.py\", line 144, in run\n",
      "    modules = self._load_modules()\n",
      "  File \"/Users/brianliu/opt/anaconda3/lib/python3.8/site-packages/ray/new_dashboard/agent.py\", line 98, in _load_modules\n",
      "    c = cls(self)\n",
      "  File \"/Users/brianliu/opt/anaconda3/lib/python3.8/site-packages/ray/new_dashboard/modules/reporter/reporter_agent.py\", line 148, in __init__\n",
      "    self._metrics_agent = MetricsAgent(dashboard_agent.metrics_export_port)\n",
      "  File \"/Users/brianliu/opt/anaconda3/lib/python3.8/site-packages/ray/_private/metrics_agent.py\", line 75, in __init__\n",
      "    prometheus_exporter.new_stats_exporter(\n",
      "  File \"/Users/brianliu/opt/anaconda3/lib/python3.8/site-packages/ray/_private/prometheus_exporter.py\", line 333, in new_stats_exporter\n",
      "    exporter = PrometheusStatsExporter(\n",
      "  File \"/Users/brianliu/opt/anaconda3/lib/python3.8/site-packages/ray/_private/prometheus_exporter.py\", line 266, in __init__\n",
      "    self.serve_http()\n",
      "  File \"/Users/brianliu/opt/anaconda3/lib/python3.8/site-packages/ray/_private/prometheus_exporter.py\", line 320, in serve_http\n",
      "    start_http_server(\n",
      "  File \"/Users/brianliu/opt/anaconda3/lib/python3.8/site-packages/prometheus_client/exposition.py\", line 149, in start_wsgi_server\n",
      "    httpd = make_server(addr, port, app, ThreadingWSGIServer, handler_class=_SilentHandler)\n",
      "  File \"/Users/brianliu/opt/anaconda3/lib/python3.8/wsgiref/simple_server.py\", line 154, in make_server\n",
      "    server = server_class((host, port), handler_class)\n",
      "  File \"/Users/brianliu/opt/anaconda3/lib/python3.8/socketserver.py\", line 452, in __init__\n",
      "    self.server_bind()\n",
      "  File \"/Users/brianliu/opt/anaconda3/lib/python3.8/wsgiref/simple_server.py\", line 50, in server_bind\n",
      "    HTTPServer.server_bind(self)\n",
      "  File \"/Users/brianliu/opt/anaconda3/lib/python3.8/http/server.py\", line 138, in server_bind\n",
      "    socketserver.TCPServer.server_bind(self)\n",
      "  File \"/Users/brianliu/opt/anaconda3/lib/python3.8/socketserver.py\", line 466, in server_bind\n",
      "    self.socket.bind(self.server_address)\n",
      "OSError: [Errno 48] Address already in use\n",
      "\n",
      "2021-08-21 23:09:24,778\tWARNING worker.py:1189 -- The agent on node Brians-MBP.localdomain failed with the following error:\n",
      "Traceback (most recent call last):\n",
      "  File \"/Users/brianliu/opt/anaconda3/lib/python3.8/site-packages/ray/new_dashboard/agent.py\", line 354, in <module>\n",
      "    loop.run_until_complete(agent.run())\n",
      "  File \"/Users/brianliu/opt/anaconda3/lib/python3.8/asyncio/base_events.py\", line 616, in run_until_complete\n",
      "    return future.result()\n",
      "  File \"/Users/brianliu/opt/anaconda3/lib/python3.8/site-packages/ray/new_dashboard/agent.py\", line 144, in run\n",
      "    modules = self._load_modules()\n",
      "  File \"/Users/brianliu/opt/anaconda3/lib/python3.8/site-packages/ray/new_dashboard/agent.py\", line 98, in _load_modules\n",
      "    c = cls(self)\n",
      "  File \"/Users/brianliu/opt/anaconda3/lib/python3.8/site-packages/ray/new_dashboard/modules/reporter/reporter_agent.py\", line 148, in __init__\n",
      "    self._metrics_agent = MetricsAgent(dashboard_agent.metrics_export_port)\n",
      "  File \"/Users/brianliu/opt/anaconda3/lib/python3.8/site-packages/ray/_private/metrics_agent.py\", line 75, in __init__\n",
      "    prometheus_exporter.new_stats_exporter(\n",
      "  File \"/Users/brianliu/opt/anaconda3/lib/python3.8/site-packages/ray/_private/prometheus_exporter.py\", line 333, in new_stats_exporter\n",
      "    exporter = PrometheusStatsExporter(\n",
      "  File \"/Users/brianliu/opt/anaconda3/lib/python3.8/site-packages/ray/_private/prometheus_exporter.py\", line 266, in __init__\n",
      "    self.serve_http()\n",
      "  File \"/Users/brianliu/opt/anaconda3/lib/python3.8/site-packages/ray/_private/prometheus_exporter.py\", line 320, in serve_http\n",
      "    start_http_server(\n",
      "  File \"/Users/brianliu/opt/anaconda3/lib/python3.8/site-packages/prometheus_client/exposition.py\", line 149, in start_wsgi_server\n",
      "    httpd = make_server(addr, port, app, ThreadingWSGIServer, handler_class=_SilentHandler)\n",
      "  File \"/Users/brianliu/opt/anaconda3/lib/python3.8/wsgiref/simple_server.py\", line 154, in make_server\n",
      "    server = server_class((host, port), handler_class)\n",
      "  File \"/Users/brianliu/opt/anaconda3/lib/python3.8/socketserver.py\", line 452, in __init__\n",
      "    self.server_bind()\n",
      "  File \"/Users/brianliu/opt/anaconda3/lib/python3.8/wsgiref/simple_server.py\", line 50, in server_bind\n",
      "    HTTPServer.server_bind(self)\n",
      "  File \"/Users/brianliu/opt/anaconda3/lib/python3.8/http/server.py\", line 138, in server_bind\n",
      "    socketserver.TCPServer.server_bind(self)\n",
      "  File \"/Users/brianliu/opt/anaconda3/lib/python3.8/socketserver.py\", line 466, in server_bind\n",
      "    self.socket.bind(self.server_address)\n",
      "OSError: [Errno 48] Address already in use\n",
      "\n"
     ]
    },
    {
     "name": "stdout",
     "output_type": "stream",
     "text": [
      "dense_outside_nomask\n"
     ]
    },
    {
     "name": "stderr",
     "output_type": "stream",
     "text": [
      "2021-08-21 23:09:27,103\tINFO services.py:1245 -- View the Ray dashboard at \u001b[1m\u001b[32mhttp://127.0.0.1:8265\u001b[39m\u001b[22m\n"
     ]
    },
    {
     "name": "stdout",
     "output_type": "stream",
     "text": [
      "dense_outside_unvaxmask\n"
     ]
    },
    {
     "name": "stderr",
     "output_type": "stream",
     "text": [
      "2021-08-21 23:10:27,941\tINFO services.py:1245 -- View the Ray dashboard at \u001b[1m\u001b[32mhttp://127.0.0.1:8265\u001b[39m\u001b[22m\n"
     ]
    },
    {
     "name": "stdout",
     "output_type": "stream",
     "text": [
      "dense_breathe_nomask_2x\n"
     ]
    },
    {
     "name": "stderr",
     "output_type": "stream",
     "text": [
      "2021-08-21 23:11:28,395\tINFO services.py:1245 -- View the Ray dashboard at \u001b[1m\u001b[32mhttp://127.0.0.1:8265\u001b[39m\u001b[22m\n"
     ]
    },
    {
     "name": "stdout",
     "output_type": "stream",
     "text": [
      "dense_breathe_nomask_4x\n"
     ]
    },
    {
     "name": "stderr",
     "output_type": "stream",
     "text": [
      "2021-08-21 23:12:28,924\tINFO services.py:1245 -- View the Ray dashboard at \u001b[1m\u001b[32mhttp://127.0.0.1:8265\u001b[39m\u001b[22m\n"
     ]
    },
    {
     "name": "stdout",
     "output_type": "stream",
     "text": [
      "dense_breathe_unvaxmask_2x\n"
     ]
    },
    {
     "name": "stderr",
     "output_type": "stream",
     "text": [
      "2021-08-21 23:13:29,779\tINFO services.py:1245 -- View the Ray dashboard at \u001b[1m\u001b[32mhttp://127.0.0.1:8265\u001b[39m\u001b[22m\n"
     ]
    },
    {
     "name": "stdout",
     "output_type": "stream",
     "text": [
      "dense_breathe_unvaxmask_4x\n"
     ]
    },
    {
     "name": "stderr",
     "output_type": "stream",
     "text": [
      "2021-08-21 23:14:29,925\tINFO services.py:1245 -- View the Ray dashboard at \u001b[1m\u001b[32mhttp://127.0.0.1:8265\u001b[39m\u001b[22m\n"
     ]
    },
    {
     "name": "stdout",
     "output_type": "stream",
     "text": [
      "dense_speak_nomask_2x\n"
     ]
    },
    {
     "name": "stderr",
     "output_type": "stream",
     "text": [
      "2021-08-21 23:30:40,264\tINFO services.py:1245 -- View the Ray dashboard at \u001b[1m\u001b[32mhttp://127.0.0.1:8265\u001b[39m\u001b[22m\n"
     ]
    },
    {
     "name": "stdout",
     "output_type": "stream",
     "text": [
      "dense_speak_nomask_4x\n"
     ]
    },
    {
     "name": "stderr",
     "output_type": "stream",
     "text": [
      "2021-08-21 23:46:43,207\tINFO services.py:1245 -- View the Ray dashboard at \u001b[1m\u001b[32mhttp://127.0.0.1:8265\u001b[39m\u001b[22m\n"
     ]
    },
    {
     "name": "stdout",
     "output_type": "stream",
     "text": [
      "dense_speak_unvaxmask_2x\n"
     ]
    },
    {
     "name": "stderr",
     "output_type": "stream",
     "text": [
      "2021-08-22 00:03:38,114\tINFO services.py:1245 -- View the Ray dashboard at \u001b[1m\u001b[32mhttp://127.0.0.1:8265\u001b[39m\u001b[22m\n"
     ]
    },
    {
     "name": "stdout",
     "output_type": "stream",
     "text": [
      "dense_speak_unvaxmask_4x\n"
     ]
    },
    {
     "name": "stderr",
     "output_type": "stream",
     "text": [
      "2021-08-22 00:36:02,805\tINFO services.py:1245 -- View the Ray dashboard at \u001b[1m\u001b[32mhttp://127.0.0.1:8265\u001b[39m\u001b[22m\n"
     ]
    },
    {
     "name": "stdout",
     "output_type": "stream",
     "text": [
      "dense_sing_nomask_2x\n"
     ]
    },
    {
     "name": "stderr",
     "output_type": "stream",
     "text": [
      "2021-08-22 00:37:06,404\tINFO services.py:1245 -- View the Ray dashboard at \u001b[1m\u001b[32mhttp://127.0.0.1:8265\u001b[39m\u001b[22m\n"
     ]
    },
    {
     "name": "stdout",
     "output_type": "stream",
     "text": [
      "dense_sing_nomask_4x\n"
     ]
    },
    {
     "name": "stderr",
     "output_type": "stream",
     "text": [
      "2021-08-22 00:38:14,144\tINFO services.py:1245 -- View the Ray dashboard at \u001b[1m\u001b[32mhttp://127.0.0.1:8265\u001b[39m\u001b[22m\n"
     ]
    },
    {
     "name": "stdout",
     "output_type": "stream",
     "text": [
      "dense_sing_unvaxmask_2x\n"
     ]
    },
    {
     "name": "stderr",
     "output_type": "stream",
     "text": [
      "2021-08-22 00:39:27,692\tINFO services.py:1245 -- View the Ray dashboard at \u001b[1m\u001b[32mhttp://127.0.0.1:8265\u001b[39m\u001b[22m\n"
     ]
    },
    {
     "name": "stdout",
     "output_type": "stream",
     "text": [
      "dense_sing_unvaxmask_4x\n"
     ]
    },
    {
     "name": "stderr",
     "output_type": "stream",
     "text": [
      "2021-08-22 00:40:36,031\tINFO services.py:1245 -- View the Ray dashboard at \u001b[1m\u001b[32mhttp://127.0.0.1:8265\u001b[39m\u001b[22m\n"
     ]
    },
    {
     "name": "stdout",
     "output_type": "stream",
     "text": [
      "distanced_breathe_nomask_1x\n"
     ]
    },
    {
     "name": "stderr",
     "output_type": "stream",
     "text": [
      "2021-08-22 00:41:47,158\tINFO services.py:1245 -- View the Ray dashboard at \u001b[1m\u001b[32mhttp://127.0.0.1:8265\u001b[39m\u001b[22m\n"
     ]
    },
    {
     "name": "stdout",
     "output_type": "stream",
     "text": [
      "distanced_breathe_unvaxmask_1x\n"
     ]
    },
    {
     "name": "stderr",
     "output_type": "stream",
     "text": [
      "2021-08-22 00:42:53,299\tINFO services.py:1245 -- View the Ray dashboard at \u001b[1m\u001b[32mhttp://127.0.0.1:8265\u001b[39m\u001b[22m\n"
     ]
    },
    {
     "name": "stdout",
     "output_type": "stream",
     "text": [
      "distanced_speak_nomask_1x\n"
     ]
    },
    {
     "name": "stderr",
     "output_type": "stream",
     "text": [
      "2021-08-22 00:44:07,011\tINFO services.py:1245 -- View the Ray dashboard at \u001b[1m\u001b[32mhttp://127.0.0.1:8265\u001b[39m\u001b[22m\n"
     ]
    },
    {
     "name": "stdout",
     "output_type": "stream",
     "text": [
      "distanced_speak_unvaxmask_1x\n"
     ]
    },
    {
     "name": "stderr",
     "output_type": "stream",
     "text": [
      "2021-08-22 00:45:18,573\tINFO services.py:1245 -- View the Ray dashboard at \u001b[1m\u001b[32mhttp://127.0.0.1:8265\u001b[39m\u001b[22m\n"
     ]
    },
    {
     "name": "stdout",
     "output_type": "stream",
     "text": [
      "distanced_sing_nomask_1x\n"
     ]
    },
    {
     "name": "stderr",
     "output_type": "stream",
     "text": [
      "2021-08-22 00:46:27,400\tINFO services.py:1245 -- View the Ray dashboard at \u001b[1m\u001b[32mhttp://127.0.0.1:8265\u001b[39m\u001b[22m\n"
     ]
    },
    {
     "name": "stdout",
     "output_type": "stream",
     "text": [
      "distanced_sing_unvaxmask_1x\n"
     ]
    },
    {
     "name": "stderr",
     "output_type": "stream",
     "text": [
      "2021-08-22 00:47:40,677\tINFO services.py:1245 -- View the Ray dashboard at \u001b[1m\u001b[32mhttp://127.0.0.1:8265\u001b[39m\u001b[22m\n"
     ]
    },
    {
     "name": "stdout",
     "output_type": "stream",
     "text": [
      "moderate_breathe_nomask_1x\n"
     ]
    },
    {
     "name": "stderr",
     "output_type": "stream",
     "text": [
      "2021-08-22 00:49:04,061\tINFO services.py:1245 -- View the Ray dashboard at \u001b[1m\u001b[32mhttp://127.0.0.1:8265\u001b[39m\u001b[22m\n"
     ]
    },
    {
     "name": "stdout",
     "output_type": "stream",
     "text": [
      "moderate_breathe_unvaxmask_1x\n"
     ]
    },
    {
     "name": "stderr",
     "output_type": "stream",
     "text": [
      "2021-08-22 00:50:12,239\tINFO services.py:1245 -- View the Ray dashboard at \u001b[1m\u001b[32mhttp://127.0.0.1:8265\u001b[39m\u001b[22m\n"
     ]
    },
    {
     "name": "stdout",
     "output_type": "stream",
     "text": [
      "moderate_speak_nomask_1x\n"
     ]
    },
    {
     "name": "stderr",
     "output_type": "stream",
     "text": [
      "2021-08-22 00:51:26,100\tINFO services.py:1245 -- View the Ray dashboard at \u001b[1m\u001b[32mhttp://127.0.0.1:8265\u001b[39m\u001b[22m\n"
     ]
    },
    {
     "name": "stdout",
     "output_type": "stream",
     "text": [
      "moderate_speak_unvaxmask_1x\n"
     ]
    },
    {
     "name": "stderr",
     "output_type": "stream",
     "text": [
      "2021-08-22 00:52:45,516\tINFO services.py:1245 -- View the Ray dashboard at \u001b[1m\u001b[32mhttp://127.0.0.1:8265\u001b[39m\u001b[22m\n"
     ]
    },
    {
     "name": "stdout",
     "output_type": "stream",
     "text": [
      "moderate_sing_nomask_1x\n"
     ]
    },
    {
     "name": "stderr",
     "output_type": "stream",
     "text": [
      "2021-08-22 00:53:54,376\tINFO services.py:1245 -- View the Ray dashboard at \u001b[1m\u001b[32mhttp://127.0.0.1:8265\u001b[39m\u001b[22m\n"
     ]
    },
    {
     "name": "stdout",
     "output_type": "stream",
     "text": [
      "moderate_sing_unvaxmask_1x\n"
     ]
    },
    {
     "name": "stderr",
     "output_type": "stream",
     "text": [
      "2021-08-22 00:55:03,536\tINFO services.py:1245 -- View the Ray dashboard at \u001b[1m\u001b[32mhttp://127.0.0.1:8265\u001b[39m\u001b[22m\n"
     ]
    },
    {
     "name": "stdout",
     "output_type": "stream",
     "text": [
      "dense_breathe_nomask_1x\n"
     ]
    },
    {
     "name": "stderr",
     "output_type": "stream",
     "text": [
      "2021-08-22 00:56:13,845\tINFO services.py:1245 -- View the Ray dashboard at \u001b[1m\u001b[32mhttp://127.0.0.1:8265\u001b[39m\u001b[22m\n"
     ]
    },
    {
     "name": "stdout",
     "output_type": "stream",
     "text": [
      "dense_breathe_unvaxmask_1x\n"
     ]
    },
    {
     "name": "stderr",
     "output_type": "stream",
     "text": [
      "2021-08-22 00:57:24,299\tINFO services.py:1245 -- View the Ray dashboard at \u001b[1m\u001b[32mhttp://127.0.0.1:8265\u001b[39m\u001b[22m\n"
     ]
    },
    {
     "name": "stdout",
     "output_type": "stream",
     "text": [
      "dense_speak_nomask_1x\n"
     ]
    },
    {
     "name": "stderr",
     "output_type": "stream",
     "text": [
      "2021-08-22 00:58:33,161\tINFO services.py:1245 -- View the Ray dashboard at \u001b[1m\u001b[32mhttp://127.0.0.1:8265\u001b[39m\u001b[22m\n"
     ]
    },
    {
     "name": "stdout",
     "output_type": "stream",
     "text": [
      "dense_speak_unvaxmask_1x\n"
     ]
    },
    {
     "name": "stderr",
     "output_type": "stream",
     "text": [
      "2021-08-22 00:59:46,864\tINFO services.py:1245 -- View the Ray dashboard at \u001b[1m\u001b[32mhttp://127.0.0.1:8265\u001b[39m\u001b[22m\n"
     ]
    },
    {
     "name": "stdout",
     "output_type": "stream",
     "text": [
      "dense_sing_nomask_1x\n"
     ]
    },
    {
     "name": "stderr",
     "output_type": "stream",
     "text": [
      "2021-08-22 01:01:00,914\tINFO services.py:1245 -- View the Ray dashboard at \u001b[1m\u001b[32mhttp://127.0.0.1:8265\u001b[39m\u001b[22m\n"
     ]
    },
    {
     "name": "stdout",
     "output_type": "stream",
     "text": [
      "dense_sing_unvaxmask_1x\n"
     ]
    },
    {
     "name": "stderr",
     "output_type": "stream",
     "text": [
      "2021-08-22 01:02:10,363\tINFO services.py:1245 -- View the Ray dashboard at \u001b[1m\u001b[32mhttp://127.0.0.1:8265\u001b[39m\u001b[22m\n"
     ]
    }
   ],
   "source": [
    "import warnings\n",
    "warnings.filterwarnings(\"ignore\")\n",
    "final_results = {}\n",
    "for arg in args:\n",
    "    print(arg[-1])\n",
    "    masked_status = arg[0]\n",
    "    room = arg[1]\n",
    "    room_vol = arg[2]\n",
    "    pixels_per_foot = arg[3]\n",
    "    class_type = arg[4]\n",
    "    air_exchanges_per_hour = arg[5]\n",
    "    label = arg[6]\n",
    "    \n",
    "    \n",
    "    ray.shutdown()\n",
    "    ray.init(log_to_driver=False)\n",
    "    result_ids = []\n",
    "    for p in p_range:\n",
    "        result_ids.append(parallel_wrapper.remote(p))    \n",
    "    results = ray.get(result_ids)  \n",
    "    ray.shutdown()\n",
    "    results = pd.DataFrame(results, columns = ['p','mean','std','unvax_aerosol'])\n",
    "    final_results[label] = results\n",
    "    gc.collect()"
   ]
  },
  {
   "cell_type": "code",
   "execution_count": 23,
   "metadata": {},
   "outputs": [
    {
     "data": {
      "text/plain": [
       "{'distanced_outside_nomask':      p      mean       std  unvax_aerosol\n",
       " 0  0.5  0.010083  0.005953            0.0\n",
       " 1  0.6  0.008521  0.005566            0.0\n",
       " 2  0.7  0.006901  0.005063            0.0\n",
       " 3  0.8  0.004871  0.004379            0.0\n",
       " 4  0.9  0.003187  0.003180            0.0\n",
       " 5  1.0  0.001365  0.000508            0.0,\n",
       " 'distanced_outside_unvaxmask':      p      mean       std  unvax_aerosol\n",
       " 0  0.5  0.002222  0.000897            0.0\n",
       " 1  0.6  0.002059  0.000863            0.0\n",
       " 2  0.7  0.001927  0.000832            0.0\n",
       " 3  0.8  0.001838  0.000776            0.0\n",
       " 4  0.9  0.001548  0.000642            0.0\n",
       " 5  1.0  0.001333  0.000519            0.0,\n",
       " 'distanced_breathe_nomask_2x':      p      mean       std  unvax_aerosol\n",
       " 0  0.5  0.011124  0.006053       0.000065\n",
       " 1  0.6  0.009713  0.005635       0.000062\n",
       " 2  0.7  0.007775  0.005527       0.000055\n",
       " 3  0.8  0.006234  0.004656       0.000050\n",
       " 4  0.9  0.003601  0.003314       0.000038\n",
       " 5  1.0  0.001556  0.000481       0.000023,\n",
       " 'distanced_breathe_nomask_4x':      p      mean       std  unvax_aerosol\n",
       " 0  0.5  0.010376  0.005694       0.000033\n",
       " 1  0.6  0.008798  0.005585       0.000030\n",
       " 2  0.7  0.007210  0.005235       0.000027\n",
       " 3  0.8  0.005507  0.004588       0.000024\n",
       " 4  0.9  0.003517  0.003196       0.000020\n",
       " 5  1.0  0.001459  0.000493       0.000011,\n",
       " 'distanced_breathe_unvaxmask_2x':      p      mean       std  unvax_aerosol\n",
       " 0  0.5  0.002526  0.000844       0.000029\n",
       " 1  0.6  0.002385  0.000830       0.000029\n",
       " 2  0.7  0.002214  0.000840       0.000027\n",
       " 3  0.8  0.002036  0.000762       0.000027\n",
       " 4  0.9  0.001832  0.000660       0.000025\n",
       " 5  1.0  0.001586  0.000441       0.000023,\n",
       " 'distanced_breathe_unvaxmask_4x':      p      mean       std  unvax_aerosol\n",
       " 0  0.5  0.002333  0.000845       0.000015\n",
       " 1  0.6  0.002193  0.000828       0.000014\n",
       " 2  0.7  0.002084  0.000823       0.000014\n",
       " 3  0.8  0.001952  0.000759       0.000013\n",
       " 4  0.9  0.001758  0.000684       0.000013\n",
       " 5  1.0  0.001407  0.000477       0.000011,\n",
       " 'distanced_speak_nomask_2x':      p      mean       std  unvax_aerosol\n",
       " 0  0.5  0.040184  0.019543       0.000522\n",
       " 1  0.6  0.033677  0.019079       0.000481\n",
       " 2  0.7  0.028268  0.017320       0.000451\n",
       " 3  0.8  0.020880  0.015436       0.000390\n",
       " 4  0.9  0.012647  0.010620       0.000300\n",
       " 5  1.0  0.005821  0.001250       0.000187,\n",
       " 'distanced_speak_nomask_4x':      p      mean       std  unvax_aerosol\n",
       " 0  0.5  0.033789  0.017522       0.000263\n",
       " 1  0.6  0.029563  0.016840       0.000254\n",
       " 2  0.7  0.024400  0.016109       0.000227\n",
       " 3  0.8  0.018976  0.014331       0.000202\n",
       " 4  0.9  0.011382  0.009716       0.000157\n",
       " 5  1.0  0.004903  0.001400       0.000093,\n",
       " 'distanced_speak_unvaxmask_2x':      p      mean       std  unvax_aerosol\n",
       " 0  0.5  0.009617  0.002369       0.000243\n",
       " 1  0.6  0.008903  0.002334       0.000235\n",
       " 2  0.7  0.008438  0.002320       0.000231\n",
       " 3  0.8  0.007753  0.002292       0.000222\n",
       " 4  0.9  0.006976  0.001893       0.000209\n",
       " 5  1.0  0.005974  0.001189       0.000187,\n",
       " 'distanced_speak_unvaxmask_4x':      p      mean       std  unvax_aerosol\n",
       " 0  0.5  0.007923  0.002573       0.000120\n",
       " 1  0.6  0.007558  0.002461       0.000118\n",
       " 2  0.7  0.006989  0.002364       0.000115\n",
       " 3  0.8  0.006590  0.002093       0.000111\n",
       " 4  0.9  0.005652  0.001832       0.000103\n",
       " 5  1.0  0.004849  0.001410       0.000093,\n",
       " 'distanced_sing_nomask_2x':      p      mean       std  unvax_aerosol\n",
       " 0  0.5  0.189072  0.064459       0.005421\n",
       " 1  0.6  0.157885  0.062616       0.005097\n",
       " 2  0.7  0.131023  0.058585       0.004798\n",
       " 3  0.8  0.094670  0.051796       0.004055\n",
       " 4  0.9  0.062550  0.036985       0.003287\n",
       " 5  1.0  0.031888  0.000989       0.002126,\n",
       " 'distanced_sing_nomask_4x':      p      mean       std  unvax_aerosol\n",
       " 0  0.5  0.115875  0.040986       0.002758\n",
       " 1  0.6  0.096852  0.040780       0.002578\n",
       " 2  0.7  0.077457  0.040046       0.002305\n",
       " 3  0.8  0.057925  0.034334       0.002045\n",
       " 4  0.9  0.035681  0.023515       0.001575\n",
       " 5  1.0  0.018395  0.001442       0.001063,\n",
       " 'distanced_sing_unvaxmask_2x':      p      mean       std  unvax_aerosol\n",
       " 0  0.5  0.048882  0.006121       0.002688\n",
       " 1  0.6  0.046392  0.006392       0.002638\n",
       " 2  0.7  0.044244  0.006392       0.002609\n",
       " 3  0.8  0.040453  0.006326       0.002477\n",
       " 4  0.9  0.036361  0.005337       0.002325\n",
       " 5  1.0  0.031921  0.000947       0.002126,\n",
       " 'distanced_sing_unvaxmask_4x':      p      mean       std  unvax_aerosol\n",
       " 0  0.5  0.028536  0.004288       0.001349\n",
       " 1  0.6  0.027426  0.004294       0.001326\n",
       " 2  0.7  0.025477  0.004545       0.001283\n",
       " 3  0.8  0.024181  0.004284       0.001262\n",
       " 4  0.9  0.021354  0.003637       0.001168\n",
       " 5  1.0  0.018523  0.001334       0.001063,\n",
       " 'moderate_outside_nomask':      p      mean       std  unvax_aerosol\n",
       " 0  0.5  0.038515  0.021269            0.0\n",
       " 1  0.6  0.033889  0.019902            0.0\n",
       " 2  0.7  0.027280  0.018747            0.0\n",
       " 3  0.8  0.021228  0.016548            0.0\n",
       " 4  0.9  0.011092  0.010464            0.0\n",
       " 5  1.0  0.004895  0.001912            0.0,\n",
       " 'moderate_outside_unvaxmask':      p      mean       std  unvax_aerosol\n",
       " 0  0.5  0.008334  0.003278            0.0\n",
       " 1  0.6  0.007967  0.003238            0.0\n",
       " 2  0.7  0.007564  0.003030            0.0\n",
       " 3  0.8  0.006739  0.002807            0.0\n",
       " 4  0.9  0.005701  0.002486            0.0\n",
       " 5  1.0  0.004937  0.001677            0.0,\n",
       " 'moderate_breathe_nomask_2x':      p      mean       std  unvax_aerosol\n",
       " 0  0.5  0.038443  0.020760       0.000101\n",
       " 1  0.6  0.032307  0.019903       0.000093\n",
       " 2  0.7  0.028477  0.019664       0.000087\n",
       " 3  0.8  0.021277  0.016782       0.000075\n",
       " 4  0.9  0.013165  0.012429       0.000059\n",
       " 5  1.0  0.005257  0.001592       0.000035,\n",
       " 'moderate_breathe_nomask_4x':      p      mean       std  unvax_aerosol\n",
       " 0  0.5  0.040068  0.022015       0.000050\n",
       " 1  0.6  0.033567  0.019321       0.000048\n",
       " 2  0.7  0.026971  0.018626       0.000044\n",
       " 3  0.8  0.019997  0.016343       0.000037\n",
       " 4  0.9  0.012532  0.012154       0.000030\n",
       " 5  1.0  0.004932  0.001782       0.000018,\n",
       " 'moderate_breathe_unvaxmask_2x':      p      mean       std  unvax_aerosol\n",
       " 0  0.5  0.008849  0.003175       0.000046\n",
       " 1  0.6  0.008298  0.002852       0.000044\n",
       " 2  0.7  0.007962  0.002862       0.000043\n",
       " 3  0.8  0.007220  0.002727       0.000042\n",
       " 4  0.9  0.005975  0.002377       0.000038\n",
       " 5  1.0  0.005129  0.001742       0.000035,\n",
       " 'moderate_breathe_unvaxmask_4x':      p      mean       std  unvax_aerosol\n",
       " 0  0.5  0.008658  0.003174       0.000023\n",
       " 1  0.6  0.008046  0.002972       0.000022\n",
       " 2  0.7  0.007637  0.002950       0.000022\n",
       " 3  0.8  0.006825  0.002749       0.000021\n",
       " 4  0.9  0.006240  0.002529       0.000020\n",
       " 5  1.0  0.005117  0.001601       0.000018,\n",
       " 'moderate_speak_nomask_2x':      p      mean       std  unvax_aerosol\n",
       " 0  0.5  0.125637  0.065160       0.000805\n",
       " 1  0.6  0.110114  0.060506       0.000790\n",
       " 2  0.7  0.089849  0.057777       0.000707\n",
       " 3  0.8  0.064212  0.050392       0.000602\n",
       " 4  0.9  0.039373  0.035728       0.000477\n",
       " 5  1.0  0.016802  0.004676       0.000288,\n",
       " 'moderate_speak_nomask_4x':      p      mean       std  unvax_aerosol\n",
       " 0  0.5  0.122404  0.065331       0.000407\n",
       " 1  0.6  0.105300  0.060635       0.000393\n",
       " 2  0.7  0.087544  0.060672       0.000348\n",
       " 3  0.8  0.060376  0.047973       0.000300\n",
       " 4  0.9  0.039253  0.036380       0.000246\n",
       " 5  1.0  0.015517  0.005109       0.000144,\n",
       " 'moderate_speak_unvaxmask_2x':      p      mean       std  unvax_aerosol\n",
       " 0  0.5  0.028721  0.009122       0.000373\n",
       " 1  0.6  0.026726  0.008601       0.000368\n",
       " 2  0.7  0.024539  0.008386       0.000352\n",
       " 3  0.8  0.022563  0.008134       0.000337\n",
       " 4  0.9  0.019927  0.006708       0.000317\n",
       " 5  1.0  0.016904  0.004917       0.000288,\n",
       " 'moderate_speak_unvaxmask_4x':      p      mean       std  unvax_aerosol\n",
       " 0  0.5  0.026528  0.009268       0.000185\n",
       " 1  0.6  0.025101  0.009381       0.000182\n",
       " 2  0.7  0.023916  0.008471       0.000178\n",
       " 3  0.8  0.022071  0.007926       0.000169\n",
       " 4  0.9  0.018519  0.006833       0.000158\n",
       " 5  1.0  0.015635  0.005085       0.000144,\n",
       " 'moderate_sing_nomask_2x':      p      mean       std  unvax_aerosol\n",
       " 0  0.5  0.336310  0.134711       0.007569\n",
       " 1  0.6  0.277670  0.130982       0.007013\n",
       " 2  0.7  0.245818  0.121899       0.006859\n",
       " 3  0.8  0.182942  0.113336       0.005866\n",
       " 4  0.9  0.118797  0.078362       0.004920\n",
       " 5  1.0  0.056500  0.004814       0.003182,\n",
       " 'moderate_sing_nomask_4x':      p      mean       std  unvax_aerosol\n",
       " 0  0.5  0.260158  0.111965       0.003879\n",
       " 1  0.6  0.208034  0.106070       0.003571\n",
       " 2  0.7  0.183762  0.104894       0.003400\n",
       " 3  0.8  0.140140  0.091798       0.003045\n",
       " 4  0.9  0.085646  0.068334       0.002436\n",
       " 5  1.0  0.038196  0.006338       0.001591,\n",
       " 'moderate_sing_unvaxmask_2x':      p      mean       std  unvax_aerosol\n",
       " 0  0.5  0.089020  0.014497       0.004014\n",
       " 1  0.6  0.083826  0.015116       0.003929\n",
       " 2  0.7  0.077864  0.015069       0.003804\n",
       " 3  0.8  0.072307  0.014453       0.003674\n",
       " 4  0.9  0.064953  0.011960       0.003483\n",
       " 5  1.0  0.056380  0.004898       0.003182,\n",
       " 'moderate_sing_unvaxmask_4x':      p      mean       std  unvax_aerosol\n",
       " 0  0.5  0.060351  0.013959       0.001995\n",
       " 1  0.6  0.059789  0.014108       0.001973\n",
       " 2  0.7  0.055095  0.014195       0.001915\n",
       " 3  0.8  0.050637  0.012815       0.001833\n",
       " 4  0.9  0.044611  0.011013       0.001739\n",
       " 5  1.0  0.037691  0.006491       0.001591,\n",
       " 'dense_outside_nomask':      p      mean       std  unvax_aerosol\n",
       " 0  0.5  0.100847  0.052493            0.0\n",
       " 1  0.6  0.084383  0.047633            0.0\n",
       " 2  0.7  0.072225  0.045455            0.0\n",
       " 3  0.8  0.052233  0.038885            0.0\n",
       " 4  0.9  0.030824  0.028461            0.0\n",
       " 5  1.0  0.013058  0.004693            0.0,\n",
       " 'dense_outside_unvaxmask':      p      mean       std  unvax_aerosol\n",
       " 0  0.5  0.021705  0.007992            0.0\n",
       " 1  0.6  0.020267  0.007289            0.0\n",
       " 2  0.7  0.019334  0.007569            0.0\n",
       " 3  0.8  0.016796  0.006859            0.0\n",
       " 4  0.9  0.015237  0.005963            0.0\n",
       " 5  1.0  0.012930  0.004627            0.0,\n",
       " 'dense_breathe_nomask_2x':      p      mean       std  unvax_aerosol\n",
       " 0  0.5  0.104330  0.050765       0.000493\n",
       " 1  0.6  0.087881  0.048598       0.000469\n",
       " 2  0.7  0.074070  0.046521       0.000426\n",
       " 3  0.8  0.055172  0.040594       0.000371\n",
       " 4  0.9  0.036063  0.032814       0.000297\n",
       " 5  1.0  0.014522  0.004097       0.000171,\n",
       " 'dense_breathe_nomask_4x':      p      mean       std  unvax_aerosol\n",
       " 0  0.5  0.100367  0.050993       0.000248\n",
       " 1  0.6  0.083753  0.048040       0.000231\n",
       " 2  0.7  0.071642  0.046150       0.000217\n",
       " 3  0.8  0.053384  0.040894       0.000185\n",
       " 4  0.9  0.034020  0.029582       0.000150\n",
       " 5  1.0  0.013657  0.004409       0.000086,\n",
       " 'dense_breathe_unvaxmask_2x':      p      mean       std  unvax_aerosol\n",
       " 0  0.5  0.022716  0.007486       0.000223\n",
       " 1  0.6  0.021601  0.007405       0.000215\n",
       " 2  0.7  0.020624  0.007072       0.000209\n",
       " 3  0.8  0.018359  0.006771       0.000201\n",
       " 4  0.9  0.016865  0.006053       0.000189\n",
       " 5  1.0  0.013893  0.004301       0.000171,\n",
       " 'dense_breathe_unvaxmask_4x':      p      mean       std  unvax_aerosol\n",
       " 0  0.5  0.022084  0.007546       0.000111\n",
       " 1  0.6  0.021362  0.007666       0.000109\n",
       " 2  0.7  0.019444  0.007150       0.000105\n",
       " 3  0.8  0.017706  0.006854       0.000101\n",
       " 4  0.9  0.016321  0.006077       0.000096\n",
       " 5  1.0  0.013783  0.004507       0.000086,\n",
       " 'dense_speak_nomask_2x':      p      mean       std  unvax_aerosol\n",
       " 0  0.5  0.327242  0.154053       0.003579\n",
       " 1  0.6  0.281533  0.151133       0.003380\n",
       " 2  0.7  0.241359  0.145014       0.003163\n",
       " 3  0.8  0.172292  0.124661       0.002683\n",
       " 4  0.9  0.106463  0.085428       0.002180\n",
       " 5  1.0  0.048269  0.011105       0.001366,\n",
       " 'dense_speak_nomask_4x':      p      mean       std  unvax_aerosol\n",
       " 0  0.5  0.307355  0.156315       0.001798\n",
       " 1  0.6  0.258582  0.142523       0.001716\n",
       " 2  0.7  0.222397  0.137975       0.001596\n",
       " 3  0.8  0.165043  0.124017       0.001348\n",
       " 4  0.9  0.105104  0.089018       0.001140\n",
       " 5  1.0  0.043270  0.012024       0.000683,\n",
       " 'dense_speak_unvaxmask_2x':      p      mean       std  unvax_aerosol\n",
       " 0  0.5  0.076800  0.019451       0.001736\n",
       " 1  0.6  0.073984  0.019311       0.001714\n",
       " 2  0.7  0.067286  0.019138       0.001647\n",
       " 3  0.8  0.062594  0.018518       0.001571\n",
       " 4  0.9  0.057021  0.016401       0.001508\n",
       " 5  1.0  0.048566  0.010972       0.001366,\n",
       " 'dense_speak_unvaxmask_4x':      p      mean       std  unvax_aerosol\n",
       " 0  0.5  0.071302  0.020333       0.000865\n",
       " 1  0.6  0.065708  0.021544       0.000857\n",
       " 2  0.7  0.059656  0.020351       0.000819\n",
       " 3  0.8  0.057231  0.020046       0.000801\n",
       " 4  0.9  0.053099  0.017141       0.000763\n",
       " 5  1.0  0.043480  0.012378       0.000683,\n",
       " 'dense_sing_nomask_2x':      p      mean       std  unvax_aerosol\n",
       " 0  0.5  0.986128  0.322654       0.025089\n",
       " 1  0.6  0.845886  0.318127       0.023930\n",
       " 2  0.7  0.693227  0.303805       0.022293\n",
       " 3  0.8  0.516581  0.266192       0.019804\n",
       " 4  0.9  0.343731  0.195627       0.016156\n",
       " 5  1.0  0.186489  0.009315       0.011894,\n",
       " 'dense_sing_nomask_4x':      p      mean       std  unvax_aerosol\n",
       " 0  0.5  0.694682  0.263073       0.012613\n",
       " 1  0.6  0.551651  0.260789       0.011504\n",
       " 2  0.7  0.469625  0.246386       0.010925\n",
       " 3  0.8  0.355587  0.219882       0.009766\n",
       " 4  0.9  0.246500  0.165827       0.008572\n",
       " 5  1.0  0.115379  0.013321       0.005947,\n",
       " 'dense_sing_unvaxmask_2x':      p      mean       std  unvax_aerosol\n",
       " 0  0.5  0.277525  0.030573       0.014442\n",
       " 1  0.6  0.263078  0.033699       0.014150\n",
       " 2  0.7  0.251304  0.034236       0.013966\n",
       " 3  0.8  0.231061  0.033370       0.013387\n",
       " 4  0.9  0.210619  0.028474       0.012828\n",
       " 5  1.0  0.186549  0.008443       0.011894,\n",
       " 'dense_sing_unvaxmask_4x':      p      mean       std  unvax_aerosol\n",
       " 0  0.5  0.177613  0.028857       0.007202\n",
       " 1  0.6  0.168347  0.029817       0.007091\n",
       " 2  0.7  0.157065  0.030272       0.006868\n",
       " 3  0.8  0.145302  0.029289       0.006713\n",
       " 4  0.9  0.130571  0.023798       0.006395\n",
       " 5  1.0  0.115928  0.012960       0.005947,\n",
       " 'distanced_breathe_nomask_1x':      p      mean       std  unvax_aerosol\n",
       " 0  0.5  0.012599  0.006273       0.000131\n",
       " 1  0.6  0.011202  0.005909       0.000127\n",
       " 2  0.7  0.008470  0.005583       0.000109\n",
       " 3  0.8  0.006683  0.004921       0.000098\n",
       " 4  0.9  0.004101  0.003398       0.000077\n",
       " 5  1.0  0.001773  0.000438       0.000045,\n",
       " 'distanced_breathe_unvaxmask_1x':      p      mean       std  unvax_aerosol\n",
       " 0  0.5  0.002864  0.000815       0.000059\n",
       " 1  0.6  0.002741  0.000820       0.000057\n",
       " 2  0.7  0.002575  0.000774       0.000056\n",
       " 3  0.8  0.002315  0.000767       0.000053\n",
       " 4  0.9  0.002097  0.000649       0.000050\n",
       " 5  1.0  0.001806  0.000437       0.000045,\n",
       " 'distanced_speak_nomask_1x':      p      mean       std  unvax_aerosol\n",
       " 0  0.5  0.054387  0.022253       0.001068\n",
       " 1  0.6  0.047017  0.020603       0.001041\n",
       " 2  0.7  0.035410  0.020654       0.000876\n",
       " 3  0.8  0.027871  0.018118       0.000809\n",
       " 4  0.9  0.017562  0.013328       0.000628\n",
       " 5  1.0  0.007906  0.001083       0.000374,\n",
       " 'distanced_speak_unvaxmask_1x':      p      mean       std  unvax_aerosol\n",
       " 0  0.5  0.012690  0.002412       0.000485\n",
       " 1  0.6  0.011871  0.002421       0.000474\n",
       " 2  0.7  0.011015  0.002384       0.000449\n",
       " 3  0.8  0.010393  0.002334       0.000442\n",
       " 4  0.9  0.009350  0.002079       0.000418\n",
       " 5  1.0  0.007970  0.001058       0.000374,\n",
       " 'distanced_sing_nomask_1x':      p      mean       std  unvax_aerosol\n",
       " 0  0.5  0.347702  0.114674       0.010843\n",
       " 1  0.6  0.283204  0.113521       0.009972\n",
       " 2  0.7  0.225435  0.104800       0.009067\n",
       " 3  0.8  0.173167  0.090032       0.008144\n",
       " 4  0.9  0.117263  0.066555       0.006659\n",
       " 5  1.0  0.060226  0.000445       0.004251,\n",
       " 'distanced_sing_unvaxmask_1x':      p      mean       std  unvax_aerosol\n",
       " 0  0.5  0.092335  0.010314       0.005418\n",
       " 1  0.6  0.086310  0.011414       0.005244\n",
       " 2  0.7  0.081762  0.011386       0.005152\n",
       " 3  0.8  0.075518  0.011245       0.004933\n",
       " 4  0.9  0.068536  0.009560       0.004656\n",
       " 5  1.0  0.060194  0.000475       0.004251,\n",
       " 'moderate_breathe_nomask_1x':      p      mean       std  unvax_aerosol\n",
       " 0  0.5  0.042578  0.020893       0.000208\n",
       " 1  0.6  0.034010  0.019936       0.000192\n",
       " 2  0.7  0.029086  0.018996       0.000174\n",
       " 3  0.8  0.022038  0.016925       0.000151\n",
       " 4  0.9  0.013059  0.011728       0.000123\n",
       " 5  1.0  0.005302  0.001645       0.000070,\n",
       " 'moderate_breathe_unvaxmask_1x':      p      mean       std  unvax_aerosol\n",
       " 0  0.5  0.009149  0.002852       0.000090\n",
       " 1  0.6  0.008687  0.003105       0.000089\n",
       " 2  0.7  0.008145  0.002896       0.000086\n",
       " 3  0.8  0.007459  0.002497       0.000082\n",
       " 4  0.9  0.006516  0.002314       0.000078\n",
       " 5  1.0  0.005347  0.001634       0.000070,\n",
       " 'moderate_speak_nomask_1x':      p      mean       std  unvax_aerosol\n",
       " 0  0.5  0.147873  0.065168       0.001675\n",
       " 1  0.6  0.121085  0.063059       0.001574\n",
       " 2  0.7  0.101047  0.063911       0.001377\n",
       " 3  0.8  0.076731  0.053940       0.001264\n",
       " 4  0.9  0.046636  0.037415       0.000982\n",
       " 5  1.0  0.019441  0.004318       0.000577,\n",
       " 'moderate_speak_unvaxmask_1x':      p      mean       std  unvax_aerosol\n",
       " 0  0.5  0.031772  0.008790       0.000740\n",
       " 1  0.6  0.030511  0.008894       0.000727\n",
       " 2  0.7  0.028241  0.008462       0.000702\n",
       " 3  0.8  0.025469  0.008313       0.000678\n",
       " 4  0.9  0.023200  0.006769       0.000645\n",
       " 5  1.0  0.019080  0.004378       0.000577,\n",
       " 'moderate_sing_nomask_1x':      p      mean       std  unvax_aerosol\n",
       " 0  0.5  0.568462  0.182393       0.015776\n",
       " 1  0.6  0.476175  0.181684       0.014877\n",
       " 2  0.7  0.374857  0.174903       0.013364\n",
       " 3  0.8  0.277313  0.150926       0.011614\n",
       " 4  0.9  0.180673  0.106389       0.009320\n",
       " 5  1.0  0.096085  0.003280       0.006364,\n",
       " 'moderate_sing_unvaxmask_1x':      p      mean       std  unvax_aerosol\n",
       " 0  0.5  0.148820  0.017899       0.008053\n",
       " 1  0.6  0.138646  0.019779       0.007828\n",
       " 2  0.7  0.129852  0.020442       0.007574\n",
       " 3  0.8  0.121628  0.019540       0.007387\n",
       " 4  0.9  0.108999  0.016322       0.006933\n",
       " 5  1.0  0.095735  0.003405       0.006364,\n",
       " 'dense_breathe_nomask_1x':      p      mean       std  unvax_aerosol\n",
       " 0  0.5  0.109957  0.051388       0.000977\n",
       " 1  0.6  0.090304  0.050300       0.000908\n",
       " 2  0.7  0.078709  0.048019       0.000842\n",
       " 3  0.8  0.058638  0.041553       0.000747\n",
       " 4  0.9  0.033211  0.028923       0.000550\n",
       " 5  1.0  0.015330  0.003912       0.000343,\n",
       " 'dense_breathe_unvaxmask_1x':      p      mean       std  unvax_aerosol\n",
       " 0  0.5  0.023892  0.006851       0.000446\n",
       " 1  0.6  0.022479  0.006967       0.000427\n",
       " 2  0.7  0.021996  0.006931       0.000420\n",
       " 3  0.8  0.019760  0.006454       0.000403\n",
       " 4  0.9  0.017567  0.005603       0.000375\n",
       " 5  1.0  0.015347  0.003813       0.000343,\n",
       " 'dense_speak_nomask_1x':      p      mean       std  unvax_aerosol\n",
       " 0  0.5  0.411772  0.161450       0.007369\n",
       " 1  0.6  0.346074  0.160650       0.006901\n",
       " 2  0.7  0.287111  0.154822       0.006362\n",
       " 3  0.8  0.209278  0.139810       0.005402\n",
       " 4  0.9  0.142206  0.107272       0.004500\n",
       " 5  1.0  0.060787  0.008782       0.002732,\n",
       " 'dense_speak_unvaxmask_1x':      p      mean       std  unvax_aerosol\n",
       " 0  0.5  0.095945  0.018700       0.003516\n",
       " 1  0.6  0.090234  0.018924       0.003435\n",
       " 2  0.7  0.086309  0.019886       0.003326\n",
       " 3  0.8  0.078557  0.017370       0.003187\n",
       " 4  0.9  0.069623  0.015494       0.003011\n",
       " 5  1.0  0.061028  0.008741       0.002732,\n",
       " 'dense_sing_nomask_1x':      p      mean       std  unvax_aerosol\n",
       " 0  0.5  1.706210  0.471339       0.050996\n",
       " 1  0.6  1.441494  0.464071       0.048609\n",
       " 2  0.7  1.165577  0.456146       0.044518\n",
       " 3  0.8  0.901672  0.397510       0.040494\n",
       " 4  0.9  0.604558  0.284191       0.033266\n",
       " 5  1.0  0.341939  0.004666       0.023788,\n",
       " 'dense_sing_unvaxmask_1x':      p      mean       std  unvax_aerosol\n",
       " 0  0.5  0.499485  0.046330       0.028808\n",
       " 1  0.6  0.475425  0.049038       0.028364\n",
       " 2  0.7  0.445833  0.052117       0.027563\n",
       " 3  0.8  0.418196  0.050789       0.026876\n",
       " 4  0.9  0.379811  0.041973       0.025377\n",
       " 5  1.0  0.341500  0.004933       0.023788}"
      ]
     },
     "execution_count": 23,
     "metadata": {},
     "output_type": "execute_result"
    }
   ],
   "source": [
    "final_results"
   ]
  },
  {
   "cell_type": "code",
   "execution_count": 24,
   "metadata": {},
   "outputs": [],
   "source": [
    "with open('sim_results/COVID_delta_new_droplets.pickle', 'wb') as handle:\n",
    "    pickle.dump(final_results, handle, protocol=pickle.HIGHEST_PROTOCOL)"
   ]
  },
  {
   "cell_type": "code",
   "execution_count": 42,
   "metadata": {},
   "outputs": [],
   "source": [
    "with open('sim_results/COVID_delta_sims_events_1x_air_exchange.pickle', 'wb') as handle:\n",
    "    pickle.dump(final_results, handle, protocol=pickle.HIGHEST_PROTOCOL)"
   ]
  },
  {
   "cell_type": "code",
   "execution_count": 24,
   "metadata": {},
   "outputs": [],
   "source": [
    "with open('sim_results/COVID_delta_sims_events.pickle', 'wb') as handle:\n",
    "    pickle.dump(final_results, handle, protocol=pickle.HIGHEST_PROTOCOL)"
   ]
  },
  {
   "cell_type": "code",
   "execution_count": 29,
   "metadata": {},
   "outputs": [
    {
     "name": "stdout",
     "output_type": "stream",
     "text": [
      "distanced_outside_nomask\n",
      "distanced_outside_unvaxmask\n",
      "distanced_breathe_nomask_2x\n",
      "distanced_breathe_nomask_4x\n",
      "distanced_breathe_unvaxmask_2x\n",
      "distanced_breathe_unvaxmask_4x\n",
      "distanced_speak_nomask_2x\n",
      "distanced_speak_nomask_4x\n",
      "distanced_speak_unvaxmask_2x\n",
      "distanced_speak_unvaxmask_4x\n",
      "distanced_sing_nomask_2x\n",
      "distanced_sing_nomask_4x\n",
      "distanced_sing_unvaxmask_2x\n",
      "distanced_sing_unvaxmask_4x\n",
      "moderate_outside_nomask\n",
      "moderate_outside_unvaxmask\n",
      "moderate_breathe_nomask_2x\n",
      "moderate_breathe_nomask_4x\n",
      "moderate_breathe_unvaxmask_2x\n",
      "moderate_breathe_unvaxmask_4x\n",
      "moderate_speak_nomask_2x\n",
      "moderate_speak_nomask_4x\n",
      "moderate_speak_unvaxmask_2x\n",
      "moderate_speak_unvaxmask_4x\n",
      "moderate_sing_nomask_2x\n",
      "moderate_sing_nomask_4x\n",
      "moderate_sing_unvaxmask_2x\n",
      "moderate_sing_unvaxmask_4x\n",
      "dense_outside_nomask\n",
      "dense_outside_unvaxmask\n",
      "dense_breathe_nomask_2x\n",
      "dense_breathe_nomask_4x\n",
      "dense_breathe_unvaxmask_2x\n",
      "dense_breathe_unvaxmask_4x\n",
      "dense_speak_nomask_2x\n",
      "dense_speak_nomask_4x\n",
      "dense_speak_unvaxmask_2x\n",
      "dense_speak_unvaxmask_4x\n",
      "dense_sing_nomask_2x\n",
      "dense_sing_nomask_4x\n",
      "dense_sing_unvaxmask_2x\n",
      "dense_sing_unvaxmask_4x\n",
      "distanced_breathe_nomask_1x\n",
      "distanced_breathe_unvaxmask_1x\n",
      "distanced_speak_nomask_1x\n",
      "distanced_speak_unvaxmask_1x\n",
      "distanced_sing_nomask_1x\n",
      "distanced_sing_unvaxmask_1x\n",
      "moderate_breathe_nomask_1x\n",
      "moderate_breathe_unvaxmask_1x\n",
      "moderate_speak_nomask_1x\n",
      "moderate_speak_unvaxmask_1x\n",
      "moderate_sing_nomask_1x\n",
      "moderate_sing_unvaxmask_1x\n",
      "dense_breathe_nomask_1x\n",
      "dense_breathe_unvaxmask_1x\n",
      "dense_speak_nomask_1x\n",
      "dense_speak_unvaxmask_1x\n",
      "dense_sing_nomask_1x\n",
      "dense_sing_unvaxmask_1x\n"
     ]
    }
   ],
   "source": [
    "for key, value in final_results.items() :\n",
    "    print (key)"
   ]
  },
  {
   "cell_type": "code",
   "execution_count": 30,
   "metadata": {},
   "outputs": [
    {
     "data": {
      "text/html": [
       "<div>\n",
       "<style scoped>\n",
       "    .dataframe tbody tr th:only-of-type {\n",
       "        vertical-align: middle;\n",
       "    }\n",
       "\n",
       "    .dataframe tbody tr th {\n",
       "        vertical-align: top;\n",
       "    }\n",
       "\n",
       "    .dataframe thead th {\n",
       "        text-align: right;\n",
       "    }\n",
       "</style>\n",
       "<table border=\"1\" class=\"dataframe\">\n",
       "  <thead>\n",
       "    <tr style=\"text-align: right;\">\n",
       "      <th></th>\n",
       "      <th>p</th>\n",
       "      <th>mean</th>\n",
       "      <th>std</th>\n",
       "      <th>unvax_aerosol</th>\n",
       "    </tr>\n",
       "  </thead>\n",
       "  <tbody>\n",
       "    <tr>\n",
       "      <th>0</th>\n",
       "      <td>0.5</td>\n",
       "      <td>1.706210</td>\n",
       "      <td>0.471339</td>\n",
       "      <td>0.050996</td>\n",
       "    </tr>\n",
       "    <tr>\n",
       "      <th>1</th>\n",
       "      <td>0.6</td>\n",
       "      <td>1.441494</td>\n",
       "      <td>0.464071</td>\n",
       "      <td>0.048609</td>\n",
       "    </tr>\n",
       "    <tr>\n",
       "      <th>2</th>\n",
       "      <td>0.7</td>\n",
       "      <td>1.165577</td>\n",
       "      <td>0.456146</td>\n",
       "      <td>0.044518</td>\n",
       "    </tr>\n",
       "    <tr>\n",
       "      <th>3</th>\n",
       "      <td>0.8</td>\n",
       "      <td>0.901672</td>\n",
       "      <td>0.397510</td>\n",
       "      <td>0.040494</td>\n",
       "    </tr>\n",
       "    <tr>\n",
       "      <th>4</th>\n",
       "      <td>0.9</td>\n",
       "      <td>0.604558</td>\n",
       "      <td>0.284191</td>\n",
       "      <td>0.033266</td>\n",
       "    </tr>\n",
       "    <tr>\n",
       "      <th>5</th>\n",
       "      <td>1.0</td>\n",
       "      <td>0.341939</td>\n",
       "      <td>0.004666</td>\n",
       "      <td>0.023788</td>\n",
       "    </tr>\n",
       "  </tbody>\n",
       "</table>\n",
       "</div>"
      ],
      "text/plain": [
       "     p      mean       std  unvax_aerosol\n",
       "0  0.5  1.706210  0.471339       0.050996\n",
       "1  0.6  1.441494  0.464071       0.048609\n",
       "2  0.7  1.165577  0.456146       0.044518\n",
       "3  0.8  0.901672  0.397510       0.040494\n",
       "4  0.9  0.604558  0.284191       0.033266\n",
       "5  1.0  0.341939  0.004666       0.023788"
      ]
     },
     "execution_count": 30,
     "metadata": {},
     "output_type": "execute_result"
    }
   ],
   "source": [
    "final_results['dense_sing_nomask_1x']"
   ]
  },
  {
   "cell_type": "code",
   "execution_count": null,
   "metadata": {},
   "outputs": [],
   "source": []
  }
 ],
 "metadata": {
  "kernelspec": {
   "display_name": "Python 3",
   "language": "python",
   "name": "python3"
  },
  "language_info": {
   "codemirror_mode": {
    "name": "ipython",
    "version": 3
   },
   "file_extension": ".py",
   "mimetype": "text/x-python",
   "name": "python",
   "nbconvert_exporter": "python",
   "pygments_lexer": "ipython3",
   "version": "3.8.8"
  }
 },
 "nbformat": 4,
 "nbformat_minor": 4
}
