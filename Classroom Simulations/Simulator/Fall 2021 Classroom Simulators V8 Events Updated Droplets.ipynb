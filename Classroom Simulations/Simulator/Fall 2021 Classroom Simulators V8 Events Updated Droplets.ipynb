{
 "cells": [
  {
   "cell_type": "markdown",
   "metadata": {},
   "source": [
    "# Markdown Infection"
   ]
  },
  {
   "cell_type": "code",
   "execution_count": 1,
   "metadata": {},
   "outputs": [],
   "source": [
    "import pandas as pd\n",
    "import sys\n",
    "import warnings\n",
    "import numpy as np\n",
    "import matplotlib.pyplot as plt\n",
    "import pickle\n",
    "if not sys.warnoptions:\n",
    "    warnings.simplefilter(\"ignore\")\n",
    "import seaborn as sns\n",
    "import gc\n",
    "import itertools\n",
    "import random\n",
    "import math\n",
    "from matplotlib.ticker import FormatStrFormatter\n",
    "import ray\n",
    "import shapley\n",
    "sys.path.append('../')\n",
    "\n"
   ]
  },
  {
   "cell_type": "code",
   "execution_count": 2,
   "metadata": {},
   "outputs": [],
   "source": [
    "class_risk_params = {\n",
    "    'prevalence': 5*10**(-4),\n",
    "    'vax_effectiveness': .715,\n",
    "    'sensitivity': 0.6,\n",
    "    'mask_efficacy': 0.8\n",
    "}\n",
    "\n",
    "\n",
    "aerosol_params = {\n",
    "    'inhale_air_rate': 6.8,\n",
    "    'dose_response_constant': 1440,\n",
    "    \n",
    "    'nominal_breathe_virus_emitted_hourly': 3300,# corresponding to 10^8 copies / mL\n",
    "    'nominal_talk_virus_emitted_hourly' : 19800,\n",
    "    'nominal_sing_virus_emitted_hourly' : 158400,\n",
    "    'nominal_heavy_breathe_virus_emitted_hourly': 3300*15,\n",
    "\n",
    "    'viral_load_distribution': [0.12, 0.22, 0.3, 0.23, 0.103, 0.0236, 0.0034] # over orders of magnitude from 10^5 to 10^11\n",
    "}\n",
    "\n",
    "\"\"\"\n",
    "Difference of sets\n",
    "\"\"\"\n",
    "def Diff(li1, li2):\n",
    "    li_dif = [i for i in li1 + li2 if i not in li1 or i not in li2]\n",
    "    return li_dif\n",
    "\n",
    "\"\"\"\n",
    "Biased coin flipper\n",
    "\"\"\"\n",
    "def flip(p):\n",
    "    return 1 if random.random() < p else 0\n",
    "\n",
    "\n",
    "def simulate_class_single_aerosol(room,vax_infected, unvax_infected, time,alpha,masked_status,class_type,room_vol,N,pixels_per_foot, air_exchanges_per_hour):\n",
    "    room = room.reset_index()\n",
    "    vax_infect_id = random.sample(list(room[room['seating'] == 'V']['index'].values), vax_infected)\n",
    "    unvax_infect_id = random.sample(list(room[room['seating'] == 'U']['index'].values), unvax_infected)\n",
    "    infected = room[room['index'].isin(np.append(vax_infect_id,unvax_infect_id))]\n",
    "    uninfected = room[ (~room['index'].isin(np.append(vax_infect_id,unvax_infect_id))) & \\\n",
    "                      (room['seating'] != 'E')  ]\n",
    "    \n",
    "    if vax_infected == 1:\n",
    "        source_status = 'V'\n",
    "    elif unvax_infected == 1:\n",
    "        source_status = 'U'\n",
    "    infected_x = infected['x']\n",
    "    infected_y = infected['y']\n",
    "    \n",
    "    unvax_aerosol_risk = (1/air_exchanges_per_hour)*generate_aerosol_risk(room_vol, vax_infected, unvax_infected, time, masked_status, class_type, params = aerosol_params)\n",
    "    \n",
    "    p_infections = []\n",
    "    for i,row in uninfected.iterrows():\n",
    "        \n",
    "        x = row['x']\n",
    "        y = row['y']\n",
    "        v_infect = [x-infected_x,y - infected_y]\n",
    "        v_vert = [0,10000]\n",
    "        dot = v_infect[1]*v_vert[1]\n",
    "        mag1 = 10000\n",
    "        mag2 = np.sqrt((x-infected_x)**2+(y - infected_y)**2)\n",
    "        theta =  math.acos(dot/(mag1*mag2))*180/math.pi\n",
    "        \n",
    "        susceptible_status = row['seating']\n",
    "        \n",
    "        susceptible_aerosol_risk = unvax_aerosol_risk \n",
    "        \n",
    "        if susceptible_status == 'V':\n",
    "            susceptible_aerosol_risk = susceptible_aerosol_risk * (1-class_risk_params['vax_effectiveness'])\n",
    "        \n",
    "        if masked_status == True:\n",
    "            if susceptible_status == 'U':\n",
    "                susceptible_aerosol_risk = susceptible_aerosol_risk * class_risk_params['mask_efficacy']\n",
    "       \n",
    "        if theta < 90 + alpha:\n",
    "            \n",
    "\n",
    "            dist = np.sqrt((infected_x-x)**2+(infected_y-y)**2)\n",
    "            p = updated_distance_to_prob(dist,susceptible_status,source_status,masked_status,time,pixels_per_foot,class_type)\n",
    "            p = max(p,susceptible_aerosol_risk)\n",
    "            p_infections.append(p)\n",
    "            \n",
    "        else:\n",
    "            \n",
    "            p_infections.append(susceptible_aerosol_risk)\n",
    "            \n",
    "    return np.sum(p_infections),unvax_aerosol_risk\n",
    "\n",
    "def updated_distance_to_prob(d,susceptible_status,source_status,masked_status,time,pixels_per_foot,class_type): \n",
    "    \n",
    "    d = d/pixels_per_foot*0.3048\n",
    "    susceptible_const = 1\n",
    "    source_const = 1\n",
    "    masked_const_source = 1\n",
    "    masked_const_susceptible = 1\n",
    "    \n",
    "    if susceptible_status == 'V':\n",
    "        susceptible_const = 1 - class_risk_params['vax_effectiveness'] \n",
    "    if source_status == 'V':\n",
    "        source_const = 0.29 \n",
    "        \n",
    "    \n",
    "    if class_type == 'speak':\n",
    "        source_const = source_const*6\n",
    "    \n",
    "    elif class_type == 'sing':\n",
    "        source_const = source_const*48\n",
    "        \n",
    "    elif class_type == 'heavy_breathe':\n",
    "        source_const = source_const*15\n",
    "        \n",
    "    if masked_status == True:\n",
    "        \n",
    "        if source_status == 'U':\n",
    "            masked_const_source = class_risk_params['mask_efficacy']\n",
    "        if susceptible_status == 'U':\n",
    "            masked_const_susceptible = class_risk_params['mask_efficacy']\n",
    "        \n",
    "    prob = 2.4*susceptible_const*masked_const_susceptible *masked_const_source *(1-np.exp(-1 * source_const * 0.0135 *time * (-0.1819*np.log(d)+0.43276)/d))\n",
    "    \n",
    "    prob = float(prob)\n",
    "    return max(prob,0)\n",
    "\n",
    "def generate_aerosol_risk(room_vol, vax_infected, unvax_infected, time, masked_status, class_type, params = aerosol_params):\n",
    "    \n",
    "    if class_type == 'breathe':\n",
    "        v = params['nominal_breathe_virus_emitted_hourly'] \n",
    "    elif class_type == 'speak':\n",
    "        v = params['nominal_talk_virus_emitted_hourly'] \n",
    "    elif class_type == 'sing':\n",
    "        v = params['nominal_sing_virus_emitted_hourly'] \n",
    "    elif class_type == 'heavy_breathe':\n",
    "        v = params['nominal_heavy_breathe_virus_emitted_hourly']\n",
    "    elif class_type == 'no_aerosol':\n",
    "        return 0\n",
    "    \n",
    "    hourly_virus_array = np.array([v/1000, v/100, v/10, v, v*10, v*100, v*1000])\n",
    "    dose_array = hourly_virus_array * params['inhale_air_rate'] / room_vol\n",
    "    \n",
    "    if masked_status == True:\n",
    "        if unvax_infected == 1:\n",
    "            dose_array = dose_array * class_risk_params['mask_efficacy']\n",
    "    \n",
    "    if vax_infected == 1:\n",
    "        dose_array = dose_array * 0.29 \n",
    "  \n",
    "    effective_dose_array = dose_array / params['dose_response_constant']\n",
    "\n",
    "    unvax_susceptible_risk_array = 1 - np.exp(-effective_dose_array)\n",
    "    unvax_susceptible_risk = np.dot(unvax_susceptible_risk_array, np.array(params['viral_load_distribution']))\n",
    "    unvax_susceptible_risk_over_time = 2.4*unvax_susceptible_risk * time\n",
    "\n",
    "    return unvax_susceptible_risk_over_time #risk for unvax + no mask"
   ]
  },
  {
   "cell_type": "code",
   "execution_count": 3,
   "metadata": {},
   "outputs": [],
   "source": [
    "def generate_clumpy_plan(N,p,room, clump_size = 3):\n",
    "    Nvax = round(N*p)\n",
    "    Nunvax = N-Nvax\n",
    "    room = room.drop('UnvaxSpot',axis = 1).reset_index()\n",
    "    grid = room.copy()\n",
    "    grid['seating'] = 'E'\n",
    "    \n",
    "    if Nunvax > 0:\n",
    "        clump_size = min(clump_size,Nunvax)\n",
    "        num_clumps = math.floor(Nunvax/clump_size)\n",
    "        remainder = Nunvax - num_clumps*clump_size\n",
    "        clump = 0\n",
    "        while clump < (num_clumps):\n",
    "            ind1 = np.random.choice(room['index'].values,replace = False)\n",
    "            grid['seating'].loc[grid['index'] == ind1] = 'U'\n",
    "            room = room.drop(ind1, axis = 0)\n",
    "            x_temp = grid['x'].loc[grid['index'] == ind1].values[0]\n",
    "            y_temp = grid['y'].loc[grid['index'] == ind1].values[0]  \n",
    "            temp = room.copy()\n",
    "            temp['dist_infected'] = ((temp['x'] -x_temp) ** 2 + (temp['y'] - y_temp) ** 2) ** 0.5\n",
    "            temp = temp.sort_values('dist_infected', ascending = True).head(clump_size-1)\n",
    "            grid['seating'].loc[grid['index'].isin(temp['index'].values)] = 'U'\n",
    "            room = room.drop(temp['index'].values, axis = 0)\n",
    "            clump = clump + 1\n",
    "        remainder_ind = np.random.choice(grid['index'].loc[grid['seating'] == 'E'],remainder,replace = False)\n",
    "        grid['seating'].loc[grid['index'].isin(remainder_ind)] = 'U'\n",
    "\n",
    "    vax_ind = np.random.choice(grid['index'].loc[grid['seating'] == 'E'],Nvax,replace = False) \n",
    "    grid['seating'].loc[grid['index'].isin(vax_ind)] = 'V'\n",
    "    \n",
    "    return grid\n",
    "\n",
    "def generate_random_plan(N,p,room):\n",
    "    Nvax = round(N*p)\n",
    "    Nunvax = N-Nvax\n",
    "    \n",
    "    room = room.drop('UnvaxSpot',axis = 1)\n",
    "    grid = room.copy()\n",
    "    grid = grid.reset_index()\n",
    "    temp = list(np.append(np.append(np.repeat('V',Nvax),np.repeat('U',Nunvax)),np.repeat('E',len(grid)-Nvax-Nunvax)))\n",
    "    random.shuffle(temp)\n",
    "    grid['seating'] = temp\n",
    "    return grid\n"
   ]
  },
  {
   "cell_type": "markdown",
   "metadata": {},
   "source": [
    "# Load Room Plans"
   ]
  },
  {
   "cell_type": "code",
   "execution_count": 4,
   "metadata": {},
   "outputs": [
    {
     "data": {
      "text/plain": [
       "([], [])"
      ]
     },
     "execution_count": 4,
     "metadata": {},
     "output_type": "execute_result"
    },
    {
     "data": {
      "image/png": "[encoded data removed]",
      "text/plain": [
       "<Figure size 432x288 with 1 Axes>"
      ]
     },
     "metadata": {},
     "output_type": "display_data"
    }
   ],
   "source": [
    "# Big Room\n",
    "with open(\"../Data/rk201.pickle\" , 'rb') as handle:\n",
    "    layout = pickle.load(handle)\n",
    "\n",
    "big_pixels_per_foot = (2074-1575)/20\n",
    "big_volume = 1684283\n",
    "\n",
    "x_coord = [i.x for i in layout['Middles']]\n",
    "y_coord = [i.y for i in layout['Middles']]\n",
    "room = pd.DataFrame(np.column_stack((x_coord,y_coord)), columns = ['x','y'])\n",
    "room['UnvaxSpot'] = layout['In Solution']\n",
    "\n",
    "\n",
    "\n",
    "FA2020room = room.copy()\n",
    "FA2020room['label'] = FA2020room.index\n",
    "\n",
    "#label of seats used in 2020\n",
    "indicies = [282,283,284,285, 286,287,288,289,290,365,238,270,273,110,362,358,227,222,260,104,100,348,352,207,20,250,89,\n",
    "           93,76,80,189,193,172,163,339,334,321,168,25,2,61,65,51,14,121,138,149,308,312,299,294,144,124,34,40,36]\n",
    "FA2020room['UnvaxSpot'] = 0\n",
    "FA2020room['UnvaxSpot'].iloc[indicies] = 1\n",
    "FA2020room.drop('label', axis =1,inplace = True)\n",
    "FA2020room['seating'] = 'E'\n",
    "FA2020room['seating'].loc[FA2020room['UnvaxSpot'] == 1] = 'U'\n",
    "plt.figure()\n",
    "plt.scatter(FA2020room[FA2020room['UnvaxSpot'] == 0]['x'],FA2020room[FA2020room['UnvaxSpot'] == 0]['y'])\n",
    "plt.scatter(FA2020room[FA2020room['UnvaxSpot'] == 1]['x'],FA2020room[FA2020room['UnvaxSpot'] == 1]['y'], label = 'Available Seat')\n",
    "plt.title('Rockefeller 201 Seating Plan')\n",
    "FA2020_subset = FA2020room[FA2020room['UnvaxSpot']==1 ].reset_index().drop('index', axis = 1)\n",
    "big_plan = FA2020_subset.copy()\n",
    "plt.legend()\n",
    "plt.xticks([])\n",
    "plt.yticks([])\n",
    "#print([big_pixels_per_foot,big_volume,big_plan])"
   ]
  },
  {
   "cell_type": "code",
   "execution_count": 5,
   "metadata": {},
   "outputs": [
    {
     "data": {
      "text/plain": [
       "<matplotlib.legend.Legend at 0x7fb170f18850>"
      ]
     },
     "execution_count": 5,
     "metadata": {},
     "output_type": "execute_result"
    },
    {
     "data": {
      "image/png": "[encoded data removed]",
      "text/plain": [
       "<Figure size 432x288 with 1 Axes>"
      ]
     },
     "metadata": {},
     "output_type": "display_data"
    }
   ],
   "source": [
    "with open(\"../Data/gtsg01.pickle\" , 'rb') as handle:\n",
    "    layout = pickle.load(handle)\n",
    "\n",
    "medium_pixels_per_foot = (2834-2082)/20\n",
    "medium_volume = 1087931\n",
    "\n",
    "x_coord = [-i.x +3000 for i in layout['Middles']]\n",
    "y_coord = [-i.y +3000 for i in layout['Middles']]\n",
    "room = pd.DataFrame(np.column_stack((x_coord,y_coord)), columns = ['x','y'])\n",
    "room['UnvaxSpot'] = layout['In Solution']\n",
    "room_subset = room[room['UnvaxSpot'] == 1].reset_index().drop('index',axis = 1)\n",
    "medium_plan = room_subset.copy()\n",
    "\n",
    "plt.scatter(room[room['UnvaxSpot'] == 0]['x'],room[room['UnvaxSpot'] == 0]['y'])\n",
    "plt.scatter(room[room['UnvaxSpot'] == 1]['x'],room[room['UnvaxSpot'] == 1]['y'], label = 'Available Seat')\n",
    "plt.title('Gates G01 Seating Plan')\n",
    "plt.xticks([])\n",
    "plt.yticks([])\n",
    "plt.legend()"
   ]
  },
  {
   "cell_type": "code",
   "execution_count": 6,
   "metadata": {},
   "outputs": [
    {
     "data": {
      "text/plain": [
       "([], [])"
      ]
     },
     "execution_count": 6,
     "metadata": {},
     "output_type": "execute_result"
    },
    {
     "data": {
      "image/png": "[encoded data removed]",
      "text/plain": [
       "<Figure size 432x288 with 1 Axes>"
      ]
     },
     "metadata": {},
     "output_type": "display_data"
    }
   ],
   "source": [
    "# Small Room\n",
    "with open(\"../Data/hls206.pickle\" , 'rb') as handle:\n",
    "    layout = pickle.load(handle)\n",
    "\n",
    "small_pixels_per_foot = (2014-1260)/15\n",
    "small_volume = 222004\n",
    "\n",
    "x_coord = [i.x for i in layout['Middles']]\n",
    "y_coord = [i.y for i in layout['Middles']]\n",
    "room = pd.DataFrame(np.column_stack((x_coord,y_coord)), columns = ['x','y'])\n",
    "room['UnvaxSpot'] = layout['In Solution']\n",
    "\n",
    "\n",
    "small_plan = room.copy()\n",
    "\n",
    "\n",
    "plt.figure()\n",
    "plt.scatter(small_plan[small_plan['UnvaxSpot'] == 0]['x'],small_plan[small_plan['UnvaxSpot'] == 0]['y'])\n",
    "plt.scatter(small_plan[small_plan['UnvaxSpot'] == 1]['x'],small_plan[small_plan['UnvaxSpot'] == 1]['y'],  label = 'Available Seat')\n",
    "plt.title('Holister 206 Seating Plan')\n",
    "plt.legend()\n",
    "plt.xticks([])\n",
    "plt.yticks([])\n",
    "\n",
    "#print([small_pixels_per_foot,small_volume,small_plan])"
   ]
  },
  {
   "cell_type": "code",
   "execution_count": 7,
   "metadata": {
    "scrolled": false
   },
   "outputs": [
    {
     "name": "stdout",
     "output_type": "stream",
     "text": [
      "V    35\n",
      "U    15\n",
      "E     6\n",
      "Name: seating, dtype: int64\n",
      "V    35\n",
      "E    27\n",
      "U    15\n",
      "Name: seating, dtype: int64\n",
      "V    35\n",
      "U    15\n",
      "E     2\n",
      "Name: seating, dtype: int64\n",
      "V    35\n",
      "U    15\n",
      "E     6\n",
      "Name: seating, dtype: int64\n",
      "V    35\n",
      "E    27\n",
      "U    15\n",
      "Name: seating, dtype: int64\n",
      "V    35\n",
      "U    15\n",
      "E     2\n",
      "Name: seating, dtype: int64\n"
     ]
    },
    {
     "data": {
      "image/png": "[encoded data removed]",
      "text/plain": [
       "<Figure size 432x288 with 1 Axes>"
      ]
     },
     "metadata": {},
     "output_type": "display_data"
    },
    {
     "data": {
      "image/png": "[encoded data removed]",
      "text/plain": [
       "<Figure size 432x288 with 1 Axes>"
      ]
     },
     "metadata": {},
     "output_type": "display_data"
    },
    {
     "data": {
      "image/png": "[encoded data removed]",
      "text/plain": [
       "<Figure size 432x288 with 1 Axes>"
      ]
     },
     "metadata": {},
     "output_type": "display_data"
    },
    {
     "data": {
      "image/png": "[encoded data removed]",
      "text/plain": [
       "<Figure size 432x288 with 1 Axes>"
      ]
     },
     "metadata": {},
     "output_type": "display_data"
    },
    {
     "data": {
      "image/png": "[encoded data removed]",
      "text/plain": [
       "<Figure size 432x288 with 1 Axes>"
      ]
     },
     "metadata": {},
     "output_type": "display_data"
    },
    {
     "data": {
      "image/png": "[encoded data removed]",
      "text/plain": [
       "<Figure size 432x288 with 1 Axes>"
      ]
     },
     "metadata": {},
     "output_type": "display_data"
    }
   ],
   "source": [
    "grid = generate_clumpy_plan(50,.7,big_plan,3)\n",
    "plt.figure()\n",
    "plt.scatter(grid[grid['seating'] == 'U']['x'],grid[grid['seating'] == 'U']['y'], label = 'Unvax',color = 'red')\n",
    "plt.scatter(grid[grid['seating'] == 'V']['x'],grid[grid['seating'] == 'V']['y'], label = 'Vax',color = 'blue')\n",
    "plt.scatter(grid[grid['seating'] == 'E']['x'],grid[grid['seating'] == 'E']['y'], label = 'Empty',color = 'grey')\n",
    "plt.scatter(FA2020room[FA2020room['UnvaxSpot'] == 0]['x'],FA2020room[FA2020room['UnvaxSpot'] == 0]['y'],color = 'grey')\n",
    "plt.title('Big Room '+ 'Clump Seating')\n",
    "plt.legend()\n",
    "plt.xticks([])\n",
    "plt.yticks([])\n",
    "print(grid['seating'].value_counts())\n",
    "\n",
    "grid = generate_clumpy_plan(50,.7,medium_plan,3)\n",
    "plt.figure()\n",
    "plt.scatter(grid[grid['seating'] == 'U']['x'],grid[grid['seating'] == 'U']['y'], label = 'Unvax',color = 'red')\n",
    "plt.scatter(grid[grid['seating'] == 'V']['x'],grid[grid['seating'] == 'V']['y'], label = 'Vax',color = 'blue')\n",
    "plt.scatter(grid[grid['seating'] == 'E']['x'],grid[grid['seating'] == 'E']['y'], label = 'Empty',color = 'grey')\n",
    "plt.title('Medium Room '+ 'Clump Seating')\n",
    "plt.legend()\n",
    "plt.xticks([])\n",
    "plt.yticks([])\n",
    "print(grid['seating'].value_counts())\n",
    "\n",
    "\n",
    "grid = generate_clumpy_plan(50,.7,small_plan,3)\n",
    "plt.figure()\n",
    "plt.scatter(grid[grid['seating'] == 'U']['x'],grid[grid['seating'] == 'U']['y'], label = 'Unvax',color = 'red')\n",
    "plt.scatter(grid[grid['seating'] == 'V']['x'],grid[grid['seating'] == 'V']['y'], label = 'Vax',color = 'blue')\n",
    "plt.scatter(grid[grid['seating'] == 'E']['x'],grid[grid['seating'] == 'E']['y'], label = 'Empty',color = 'grey')\n",
    "plt.title('Small Room '+ 'Clump Seating')\n",
    "plt.legend()\n",
    "plt.xticks([])\n",
    "plt.yticks([])\n",
    "print(grid['seating'].value_counts())\n",
    "\n",
    "grid = generate_random_plan(50,.7,big_plan)\n",
    "plt.figure()\n",
    "plt.scatter(grid[grid['seating'] == 'U']['x'],grid[grid['seating'] == 'U']['y'], label = 'Unvax',color = 'red')\n",
    "plt.scatter(grid[grid['seating'] == 'V']['x'],grid[grid['seating'] == 'V']['y'], label = 'Vax',color = 'blue')\n",
    "plt.scatter(grid[grid['seating'] == 'E']['x'],grid[grid['seating'] == 'E']['y'], label = 'Empty',color = 'grey')\n",
    "plt.scatter(FA2020room[FA2020room['UnvaxSpot'] == 0]['x'],FA2020room[FA2020room['UnvaxSpot'] == 0]['y'],color = 'grey')\n",
    "plt.title('Big Room '+ 'Random Seating')\n",
    "plt.legend()\n",
    "plt.xticks([])\n",
    "plt.yticks([])\n",
    "print(grid['seating'].value_counts())\n",
    "\n",
    "grid = generate_random_plan(50,.7,medium_plan)\n",
    "plt.figure()\n",
    "plt.scatter(grid[grid['seating'] == 'U']['x'],grid[grid['seating'] == 'U']['y'], label = 'Unvax',color = 'red')\n",
    "plt.scatter(grid[grid['seating'] == 'V']['x'],grid[grid['seating'] == 'V']['y'], label = 'Vax',color = 'blue')\n",
    "plt.scatter(grid[grid['seating'] == 'E']['x'],grid[grid['seating'] == 'E']['y'], label = 'Empty',color = 'grey')\n",
    "plt.title('Medium Room '+ 'Random Seating')\n",
    "plt.legend()\n",
    "plt.xticks([])\n",
    "plt.yticks([])\n",
    "print(grid['seating'].value_counts())\n",
    "\n",
    "grid = generate_random_plan(50,.7,small_plan)\n",
    "plt.figure()\n",
    "plt.scatter(grid[grid['seating'] == 'U']['x'],grid[grid['seating'] == 'U']['y'], label = 'Unvax',color = 'red')\n",
    "plt.scatter(grid[grid['seating'] == 'V']['x'],grid[grid['seating'] == 'V']['y'], label = 'Vax',color = 'blue')\n",
    "plt.scatter(grid[grid['seating'] == 'E']['x'],grid[grid['seating'] == 'E']['y'], label = 'Empty',color = 'grey')\n",
    "plt.title('Small Room '+ 'Random Seating')\n",
    "plt.legend()\n",
    "plt.xticks([])\n",
    "plt.yticks([])\n",
    "print(grid['seating'].value_counts())"
   ]
  },
  {
   "cell_type": "markdown",
   "metadata": {},
   "source": [
    "### Simulator"
   ]
  },
  {
   "cell_type": "code",
   "execution_count": 8,
   "metadata": {},
   "outputs": [],
   "source": [
    "#General Parameters\n",
    "seating_function = generate_clumpy_plan\n",
    "p_range = [0.5,0.6,0.7,0.8,0.9,1.0]\n",
    "\n",
    "N = 50\n",
    "angle = 15\n",
    "time = 1\n",
    "\n",
    "\n",
    "class_risk_params = {\n",
    "    'prevalence': 5*10**(-4),\n",
    "    'vax_effectiveness': .715,\n",
    "    'sensitivity': 0.6,\n",
    "    'mask_efficacy': 0.4\n",
    "}\n",
    "\n",
    "\n",
    "aerosol_params = {\n",
    "    'inhale_air_rate': 6.8,\n",
    "    'dose_response_constant': 1440,\n",
    "    \n",
    "    'nominal_breathe_virus_emitted_hourly': 3300,# corresponding to 10^8 copies / mL\n",
    "    'nominal_talk_virus_emitted_hourly' : 27300,\n",
    "    'nominal_sing_virus_emitted_hourly' : 330000,\n",
    "    'nominal_heavy_breathe_virus_emitted_hourly': 3300*15,\n",
    "\n",
    "    'viral_load_distribution': [0.12, 0.22, 0.3, 0.23, 0.103, 0.0236, 0.0034] # over orders of magnitude from 10^5 to 10^11\n",
    "}\n",
    "\n",
    "\n",
    "\n",
    "\n",
    "args = [\n",
    "    \n",
    "    [False,big_plan,big_volume,big_pixels_per_foot,'no_aerosol',2,'distanced_outside_nomask'],\n",
    "    [True,big_plan,big_volume,big_pixels_per_foot,'no_aerosol',2,'distanced_outside_unvaxmask'],\n",
    "    \n",
    "    [False,big_plan,big_volume,big_pixels_per_foot,'breathe',2,'distanced_breathe_nomask_2x'],\n",
    "    [False,big_plan,big_volume,big_pixels_per_foot,'breathe',4,'distanced_breathe_nomask_4x'],\n",
    "    \n",
    "    [True,big_plan,big_volume,big_pixels_per_foot,'breathe',2,'distanced_breathe_unvaxmask_2x'],\n",
    "    [True,big_plan,big_volume,big_pixels_per_foot,'breathe',4,'distanced_breathe_unvaxmask_4x'],\n",
    "    \n",
    "    [False,big_plan,big_volume,big_pixels_per_foot,'speak',2,'distanced_speak_nomask_2x'],\n",
    "    [False,big_plan,big_volume,big_pixels_per_foot,'speak',4,'distanced_speak_nomask_4x'],\n",
    "    \n",
    "    [True,big_plan,big_volume,big_pixels_per_foot,'speak',2,'distanced_speak_unvaxmask_2x'],\n",
    "    [True,big_plan,big_volume,big_pixels_per_foot,'speak',4,'distanced_speak_unvaxmask_4x'],\n",
    "    \n",
    "    \n",
    "    [False,big_plan,big_volume,big_pixels_per_foot,'sing',2,'distanced_sing_nomask_2x'],  ###\n",
    "    [False,big_plan,big_volume,big_pixels_per_foot,'sing',4,'distanced_sing_nomask_4x'], ###\n",
    "    \n",
    "    [True,big_plan,big_volume,big_pixels_per_foot,'sing',2,'distanced_sing_unvaxmask_2x'], ###\n",
    "    [True,big_plan,big_volume,big_pixels_per_foot,'sing',4,'distanced_sing_unvaxmask_4x'], ###\n",
    "    \n",
    "    \n",
    "    #############################################################################################\n",
    "    \n",
    "    [False,medium_plan,medium_volume,medium_pixels_per_foot,'no_aerosol',2,'moderate_outside_nomask'],\n",
    "    [True,medium_plan,medium_volume,medium_pixels_per_foot,'no_aerosol',2,'moderate_outside_unvaxmask'],\n",
    "    \n",
    "    [False,medium_plan,medium_volume,medium_pixels_per_foot,'breathe',2,'moderate_breathe_nomask_2x'],\n",
    "    [False,medium_plan,medium_volume,medium_pixels_per_foot,'breathe',4,'moderate_breathe_nomask_4x'],\n",
    "    \n",
    "    [True,medium_plan,medium_volume,medium_pixels_per_foot,'breathe',2,'moderate_breathe_unvaxmask_2x'],\n",
    "    [True,medium_plan,medium_volume,medium_pixels_per_foot,'breathe',4,'moderate_breathe_unvaxmask_4x'],\n",
    "    \n",
    "    [False,medium_plan,medium_volume,medium_pixels_per_foot,'speak',2,'moderate_speak_nomask_2x'],\n",
    "    [False,medium_plan,medium_volume,medium_pixels_per_foot,'speak',4,'moderate_speak_nomask_4x'],\n",
    "    \n",
    "    [True,medium_plan,medium_volume,medium_pixels_per_foot,'speak',2,'moderate_speak_unvaxmask_2x'],\n",
    "    [True,medium_plan,medium_volume,medium_pixels_per_foot,'speak',4,'moderate_speak_unvaxmask_4x'],\n",
    "    \n",
    "    \n",
    "    [False,medium_plan,medium_volume,medium_pixels_per_foot,'sing',2,'moderate_sing_nomask_2x'],  \n",
    "    [False,medium_plan,medium_volume,medium_pixels_per_foot,'sing',4,'moderate_sing_nomask_4x'], \n",
    "    \n",
    "    [True,medium_plan,medium_volume,medium_pixels_per_foot,'sing',2,'moderate_sing_unvaxmask_2x'], \n",
    "    [True,medium_plan,medium_volume,medium_pixels_per_foot,'sing',4,'moderate_sing_unvaxmask_4x'], \n",
    "    \n",
    "    \n",
    "    \n",
    "    #############################################################################################\n",
    "    \n",
    "    [False,small_plan,small_volume,small_pixels_per_foot,'no_aerosol',2,'dense_outside_nomask'],\n",
    "    [True,small_plan,small_volume,small_pixels_per_foot,'no_aerosol',2,'dense_outside_unvaxmask'],\n",
    "    \n",
    "    [False,small_plan,small_volume,small_pixels_per_foot,'breathe',2,'dense_breathe_nomask_2x'],\n",
    "    [False,small_plan,small_volume,small_pixels_per_foot,'breathe',4,'dense_breathe_nomask_4x'],\n",
    "    \n",
    "    [True,small_plan,small_volume,small_pixels_per_foot,'breathe',2,'dense_breathe_unvaxmask_2x'],\n",
    "    [True,small_plan,small_volume,small_pixels_per_foot,'breathe',4,'dense_breathe_unvaxmask_4x'],\n",
    "    \n",
    "    [False,small_plan,small_volume,small_pixels_per_foot,'speak',2,'dense_speak_nomask_2x'],\n",
    "    [False,small_plan,small_volume,small_pixels_per_foot,'speak',4,'dense_speak_nomask_4x'],\n",
    "    \n",
    "    [True,small_plan,small_volume,small_pixels_per_foot,'speak',2,'dense_speak_unvaxmask_2x'],\n",
    "    [True,small_plan,small_volume,small_pixels_per_foot,'speak',4,'dense_speak_unvaxmask_4x'],\n",
    "    \n",
    "    \n",
    "    [False,small_plan,small_volume,small_pixels_per_foot,'sing',2,'dense_sing_nomask_2x'],  \n",
    "    [False,small_plan,small_volume,small_pixels_per_foot,'sing',4,'dense_sing_nomask_4x'], \n",
    "    \n",
    "    [True,small_plan,small_volume,small_pixels_per_foot,'sing',2,'dense_sing_unvaxmask_2x'], \n",
    "    [True,small_plan,small_volume,small_pixels_per_foot,'sing',4,'dense_sing_unvaxmask_4x'], \n",
    "    \n",
    "    [False,big_plan,big_volume,big_pixels_per_foot,'breathe',1,'distanced_breathe_nomask_1x'],\n",
    "    [True,big_plan,big_volume,big_pixels_per_foot,'breathe',1,'distanced_breathe_unvaxmask_1x'],\n",
    "    [False,big_plan,big_volume,big_pixels_per_foot,'speak',1,'distanced_speak_nomask_1x'],\n",
    "    [True,big_plan,big_volume,big_pixels_per_foot,'speak',1,'distanced_speak_unvaxmask_1x'],\n",
    "    [False,big_plan,big_volume,big_pixels_per_foot,'sing',1,'distanced_sing_nomask_1x'],  \n",
    "    [True,big_plan,big_volume,big_pixels_per_foot,'sing',1,'distanced_sing_unvaxmask_1x'],\n",
    "\n",
    "    \n",
    "    #############################################################################################\n",
    "    \n",
    "\n",
    "    [False,medium_plan,medium_volume,medium_pixels_per_foot,'breathe',1,'moderate_breathe_nomask_1x'],\n",
    "    [True,medium_plan,medium_volume,medium_pixels_per_foot,'breathe',1,'moderate_breathe_unvaxmask_1x'],\n",
    "    [False,medium_plan,medium_volume,medium_pixels_per_foot,'speak',1,'moderate_speak_nomask_1x'],\n",
    "    [True,medium_plan,medium_volume,medium_pixels_per_foot,'speak',1,'moderate_speak_unvaxmask_1x'],\n",
    "    [False,medium_plan,medium_volume,medium_pixels_per_foot,'sing',1,'moderate_sing_nomask_1x'],  \n",
    "    [True,medium_plan,medium_volume,medium_pixels_per_foot,'sing',1,'moderate_sing_unvaxmask_1x'], \n",
    "\n",
    "    \n",
    "    #############################################################################################\n",
    "    \n",
    "    [False,small_plan,small_volume,small_pixels_per_foot,'breathe',1,'dense_breathe_nomask_1x'],\n",
    "    [True,small_plan,small_volume,small_pixels_per_foot,'breathe',1,'dense_breathe_unvaxmask_1x'],\n",
    "    [False,small_plan,small_volume,small_pixels_per_foot,'speak',1,'dense_speak_nomask_1x'],\n",
    "    [True,small_plan,small_volume,small_pixels_per_foot,'speak',1,'dense_speak_unvaxmask_1x'],\n",
    "    [False,small_plan,small_volume,small_pixels_per_foot,'sing',1,'dense_sing_nomask_1x'],  \n",
    "    [True,small_plan,small_volume,small_pixels_per_foot,'sing',1,'dense_sing_unvaxmask_1x'], \n",
    "    \n",
    "    \n",
    "  \n",
    "       ]\n",
    "\n"
   ]
  },
  {
   "cell_type": "code",
   "execution_count": 9,
   "metadata": {},
   "outputs": [],
   "source": [
    "@ray.remote\n",
    "def parallel_wrapper(p):\n",
    "    trial = 0\n",
    "    results = []\n",
    "    results_aerosol = []\n",
    "    while trial < 500:\n",
    "        grid = seating_function(N,p,room)\n",
    "        p_generate = (1-class_risk_params['vax_effectiveness'])*p/(1-class_risk_params['vax_effectiveness']*p)\n",
    "        ind = flip(p_generate)\n",
    "        if sum(grid['seating'] == 'V') == 0:\n",
    "            ind = 0\n",
    "        elif sum(grid['seating'] == 'U') == 0:\n",
    "            ind = 1\n",
    "        \n",
    "        infect,aerosol = simulate_class_single_aerosol(grid,ind, 1-ind, time,angle,masked_status,class_type,room_vol,N,pixels_per_foot,air_exchanges_per_hour)\n",
    "        results.append(infect)\n",
    "        results_aerosol.append(aerosol)\n",
    "        trial = trial + 1\n",
    "    return [p,np.mean(results),np.std(results), np.mean(results_aerosol)]"
   ]
  },
  {
   "cell_type": "code",
   "execution_count": 10,
   "metadata": {
    "scrolled": true
   },
   "outputs": [
    {
     "name": "stdout",
     "output_type": "stream",
     "text": [
      "distanced_outside_nomask\n"
     ]
    },
    {
     "name": "stderr",
     "output_type": "stream",
     "text": [
      "2021-08-25 01:20:18,719\tINFO services.py:1245 -- View the Ray dashboard at \u001b[1m\u001b[32mhttp://127.0.0.1:8265\u001b[39m\u001b[22m\n"
     ]
    },
    {
     "name": "stdout",
     "output_type": "stream",
     "text": [
      "distanced_outside_unvaxmask\n"
     ]
    },
    {
     "name": "stderr",
     "output_type": "stream",
     "text": [
      "2021-08-25 01:21:21,541\tINFO services.py:1245 -- View the Ray dashboard at \u001b[1m\u001b[32mhttp://127.0.0.1:8265\u001b[39m\u001b[22m\n"
     ]
    },
    {
     "name": "stdout",
     "output_type": "stream",
     "text": [
      "distanced_breathe_nomask_2x\n"
     ]
    },
    {
     "name": "stderr",
     "output_type": "stream",
     "text": [
      "2021-08-25 01:22:24,389\tINFO services.py:1245 -- View the Ray dashboard at \u001b[1m\u001b[32mhttp://127.0.0.1:8265\u001b[39m\u001b[22m\n"
     ]
    },
    {
     "name": "stdout",
     "output_type": "stream",
     "text": [
      "distanced_breathe_nomask_4x\n"
     ]
    },
    {
     "name": "stderr",
     "output_type": "stream",
     "text": [
      "2021-08-25 01:23:28,603\tINFO services.py:1245 -- View the Ray dashboard at \u001b[1m\u001b[32mhttp://127.0.0.1:8265\u001b[39m\u001b[22m\n"
     ]
    },
    {
     "name": "stdout",
     "output_type": "stream",
     "text": [
      "distanced_breathe_unvaxmask_2x\n"
     ]
    },
    {
     "name": "stderr",
     "output_type": "stream",
     "text": [
      "2021-08-25 01:24:30,967\tINFO services.py:1245 -- View the Ray dashboard at \u001b[1m\u001b[32mhttp://127.0.0.1:8265\u001b[39m\u001b[22m\n"
     ]
    },
    {
     "name": "stdout",
     "output_type": "stream",
     "text": [
      "distanced_breathe_unvaxmask_4x\n"
     ]
    },
    {
     "name": "stderr",
     "output_type": "stream",
     "text": [
      "2021-08-25 01:25:33,487\tINFO services.py:1245 -- View the Ray dashboard at \u001b[1m\u001b[32mhttp://127.0.0.1:8265\u001b[39m\u001b[22m\n"
     ]
    },
    {
     "name": "stdout",
     "output_type": "stream",
     "text": [
      "distanced_speak_nomask_2x\n"
     ]
    },
    {
     "name": "stderr",
     "output_type": "stream",
     "text": [
      "2021-08-25 01:26:36,883\tINFO services.py:1245 -- View the Ray dashboard at \u001b[1m\u001b[32mhttp://127.0.0.1:8265\u001b[39m\u001b[22m\n"
     ]
    },
    {
     "name": "stdout",
     "output_type": "stream",
     "text": [
      "distanced_speak_nomask_4x\n"
     ]
    },
    {
     "name": "stderr",
     "output_type": "stream",
     "text": [
      "2021-08-25 01:27:38,214\tINFO services.py:1245 -- View the Ray dashboard at \u001b[1m\u001b[32mhttp://127.0.0.1:8265\u001b[39m\u001b[22m\n"
     ]
    },
    {
     "name": "stdout",
     "output_type": "stream",
     "text": [
      "distanced_speak_unvaxmask_2x\n"
     ]
    },
    {
     "name": "stderr",
     "output_type": "stream",
     "text": [
      "2021-08-25 01:28:41,405\tINFO services.py:1245 -- View the Ray dashboard at \u001b[1m\u001b[32mhttp://127.0.0.1:8265\u001b[39m\u001b[22m\n"
     ]
    },
    {
     "name": "stdout",
     "output_type": "stream",
     "text": [
      "distanced_speak_unvaxmask_4x\n"
     ]
    },
    {
     "name": "stderr",
     "output_type": "stream",
     "text": [
      "2021-08-25 01:29:43,805\tINFO services.py:1245 -- View the Ray dashboard at \u001b[1m\u001b[32mhttp://127.0.0.1:8265\u001b[39m\u001b[22m\n"
     ]
    },
    {
     "name": "stdout",
     "output_type": "stream",
     "text": [
      "distanced_sing_nomask_2x\n"
     ]
    },
    {
     "name": "stderr",
     "output_type": "stream",
     "text": [
      "2021-08-25 01:30:45,242\tINFO services.py:1245 -- View the Ray dashboard at \u001b[1m\u001b[32mhttp://127.0.0.1:8265\u001b[39m\u001b[22m\n"
     ]
    },
    {
     "name": "stdout",
     "output_type": "stream",
     "text": [
      "distanced_sing_nomask_4x\n"
     ]
    },
    {
     "name": "stderr",
     "output_type": "stream",
     "text": [
      "2021-08-25 01:34:43,625\tINFO services.py:1245 -- View the Ray dashboard at \u001b[1m\u001b[32mhttp://127.0.0.1:8265\u001b[39m\u001b[22m\n"
     ]
    },
    {
     "name": "stdout",
     "output_type": "stream",
     "text": [
      "distanced_sing_unvaxmask_2x\n"
     ]
    },
    {
     "name": "stderr",
     "output_type": "stream",
     "text": [
      "2021-08-25 01:38:02,990\tINFO services.py:1245 -- View the Ray dashboard at \u001b[1m\u001b[32mhttp://127.0.0.1:8265\u001b[39m\u001b[22m\n"
     ]
    },
    {
     "name": "stdout",
     "output_type": "stream",
     "text": [
      "distanced_sing_unvaxmask_4x\n"
     ]
    },
    {
     "name": "stderr",
     "output_type": "stream",
     "text": [
      "2021-08-25 01:57:07,501\tINFO services.py:1245 -- View the Ray dashboard at \u001b[1m\u001b[32mhttp://127.0.0.1:8265\u001b[39m\u001b[22m\n"
     ]
    },
    {
     "name": "stdout",
     "output_type": "stream",
     "text": [
      "moderate_outside_nomask\n"
     ]
    },
    {
     "name": "stderr",
     "output_type": "stream",
     "text": [
      "2021-08-25 02:13:15,706\tINFO services.py:1245 -- View the Ray dashboard at \u001b[1m\u001b[32mhttp://127.0.0.1:8265\u001b[39m\u001b[22m\n"
     ]
    },
    {
     "name": "stdout",
     "output_type": "stream",
     "text": [
      "moderate_outside_unvaxmask\n"
     ]
    },
    {
     "name": "stderr",
     "output_type": "stream",
     "text": [
      "2021-08-25 02:14:34,941\tINFO services.py:1245 -- View the Ray dashboard at \u001b[1m\u001b[32mhttp://127.0.0.1:8265\u001b[39m\u001b[22m\n"
     ]
    },
    {
     "name": "stdout",
     "output_type": "stream",
     "text": [
      "moderate_breathe_nomask_2x\n"
     ]
    },
    {
     "name": "stderr",
     "output_type": "stream",
     "text": [
      "2021-08-25 02:21:06,550\tINFO services.py:1245 -- View the Ray dashboard at \u001b[1m\u001b[32mhttp://127.0.0.1:8265\u001b[39m\u001b[22m\n"
     ]
    },
    {
     "name": "stdout",
     "output_type": "stream",
     "text": [
      "moderate_breathe_nomask_4x\n"
     ]
    },
    {
     "name": "stderr",
     "output_type": "stream",
     "text": [
      "2021-08-25 02:22:23,811\tINFO services.py:1245 -- View the Ray dashboard at \u001b[1m\u001b[32mhttp://127.0.0.1:8265\u001b[39m\u001b[22m\n"
     ]
    },
    {
     "name": "stdout",
     "output_type": "stream",
     "text": [
      "moderate_breathe_unvaxmask_2x\n"
     ]
    },
    {
     "name": "stderr",
     "output_type": "stream",
     "text": [
      "2021-08-25 02:39:50,233\tINFO services.py:1245 -- View the Ray dashboard at \u001b[1m\u001b[32mhttp://127.0.0.1:8265\u001b[39m\u001b[22m\n"
     ]
    },
    {
     "name": "stdout",
     "output_type": "stream",
     "text": [
      "moderate_breathe_unvaxmask_4x\n"
     ]
    },
    {
     "name": "stderr",
     "output_type": "stream",
     "text": [
      "2021-08-25 02:56:18,168\tINFO services.py:1245 -- View the Ray dashboard at \u001b[1m\u001b[32mhttp://127.0.0.1:8265\u001b[39m\u001b[22m\n"
     ]
    },
    {
     "name": "stdout",
     "output_type": "stream",
     "text": [
      "moderate_speak_nomask_2x\n"
     ]
    },
    {
     "name": "stderr",
     "output_type": "stream",
     "text": [
      "2021-08-25 02:57:30,126\tINFO services.py:1245 -- View the Ray dashboard at \u001b[1m\u001b[32mhttp://127.0.0.1:8265\u001b[39m\u001b[22m\n"
     ]
    },
    {
     "name": "stdout",
     "output_type": "stream",
     "text": [
      "moderate_speak_nomask_4x\n"
     ]
    },
    {
     "name": "stderr",
     "output_type": "stream",
     "text": [
      "2021-08-25 03:15:15,883\tINFO services.py:1245 -- View the Ray dashboard at \u001b[1m\u001b[32mhttp://127.0.0.1:8265\u001b[39m\u001b[22m\n"
     ]
    },
    {
     "name": "stdout",
     "output_type": "stream",
     "text": [
      "moderate_speak_unvaxmask_2x\n"
     ]
    },
    {
     "name": "stderr",
     "output_type": "stream",
     "text": [
      "2021-08-25 03:16:31,997\tINFO services.py:1245 -- View the Ray dashboard at \u001b[1m\u001b[32mhttp://127.0.0.1:8265\u001b[39m\u001b[22m\n"
     ]
    },
    {
     "name": "stdout",
     "output_type": "stream",
     "text": [
      "moderate_speak_unvaxmask_4x\n"
     ]
    },
    {
     "name": "stderr",
     "output_type": "stream",
     "text": [
      "2021-08-25 03:35:22,459\tINFO services.py:1245 -- View the Ray dashboard at \u001b[1m\u001b[32mhttp://127.0.0.1:8265\u001b[39m\u001b[22m\n"
     ]
    },
    {
     "name": "stdout",
     "output_type": "stream",
     "text": [
      "moderate_sing_nomask_2x\n"
     ]
    },
    {
     "name": "stderr",
     "output_type": "stream",
     "text": [
      "2021-08-25 03:52:25,796\tINFO services.py:1245 -- View the Ray dashboard at \u001b[1m\u001b[32mhttp://127.0.0.1:8265\u001b[39m\u001b[22m\n"
     ]
    },
    {
     "name": "stdout",
     "output_type": "stream",
     "text": [
      "moderate_sing_nomask_4x\n"
     ]
    },
    {
     "name": "stderr",
     "output_type": "stream",
     "text": [
      "2021-08-25 03:53:37,871\tINFO services.py:1245 -- View the Ray dashboard at \u001b[1m\u001b[32mhttp://127.0.0.1:8265\u001b[39m\u001b[22m\n"
     ]
    },
    {
     "name": "stdout",
     "output_type": "stream",
     "text": [
      "moderate_sing_unvaxmask_2x\n"
     ]
    },
    {
     "name": "stderr",
     "output_type": "stream",
     "text": [
      "2021-08-25 04:12:23,235\tINFO services.py:1245 -- View the Ray dashboard at \u001b[1m\u001b[32mhttp://127.0.0.1:8265\u001b[39m\u001b[22m\n"
     ]
    },
    {
     "name": "stdout",
     "output_type": "stream",
     "text": [
      "moderate_sing_unvaxmask_4x\n"
     ]
    },
    {
     "name": "stderr",
     "output_type": "stream",
     "text": [
      "2021-08-25 04:29:36,889\tINFO services.py:1245 -- View the Ray dashboard at \u001b[1m\u001b[32mhttp://127.0.0.1:8265\u001b[39m\u001b[22m\n"
     ]
    },
    {
     "name": "stdout",
     "output_type": "stream",
     "text": [
      "dense_outside_nomask\n"
     ]
    },
    {
     "name": "stderr",
     "output_type": "stream",
     "text": [
      "2021-08-25 04:30:46,002\tINFO services.py:1245 -- View the Ray dashboard at \u001b[1m\u001b[32mhttp://127.0.0.1:8265\u001b[39m\u001b[22m\n"
     ]
    },
    {
     "name": "stdout",
     "output_type": "stream",
     "text": [
      "dense_outside_unvaxmask\n"
     ]
    },
    {
     "name": "stderr",
     "output_type": "stream",
     "text": [
      "2021-08-25 04:47:33,749\tINFO services.py:1245 -- View the Ray dashboard at \u001b[1m\u001b[32mhttp://127.0.0.1:8265\u001b[39m\u001b[22m\n"
     ]
    },
    {
     "name": "stdout",
     "output_type": "stream",
     "text": [
      "dense_breathe_nomask_2x\n"
     ]
    },
    {
     "name": "stderr",
     "output_type": "stream",
     "text": [
      "2021-08-25 05:05:46,900\tINFO services.py:1245 -- View the Ray dashboard at \u001b[1m\u001b[32mhttp://127.0.0.1:8265\u001b[39m\u001b[22m\n"
     ]
    },
    {
     "name": "stdout",
     "output_type": "stream",
     "text": [
      "dense_breathe_nomask_4x\n"
     ]
    },
    {
     "name": "stderr",
     "output_type": "stream",
     "text": [
      "2021-08-25 05:06:53,591\tINFO services.py:1245 -- View the Ray dashboard at \u001b[1m\u001b[32mhttp://127.0.0.1:8265\u001b[39m\u001b[22m\n"
     ]
    },
    {
     "name": "stdout",
     "output_type": "stream",
     "text": [
      "dense_breathe_unvaxmask_2x\n"
     ]
    },
    {
     "name": "stderr",
     "output_type": "stream",
     "text": [
      "2021-08-25 05:24:32,654\tINFO services.py:1245 -- View the Ray dashboard at \u001b[1m\u001b[32mhttp://127.0.0.1:8265\u001b[39m\u001b[22m\n"
     ]
    },
    {
     "name": "stdout",
     "output_type": "stream",
     "text": [
      "dense_breathe_unvaxmask_4x\n"
     ]
    },
    {
     "name": "stderr",
     "output_type": "stream",
     "text": [
      "2021-08-25 05:25:39,026\tINFO services.py:1245 -- View the Ray dashboard at \u001b[1m\u001b[32mhttp://127.0.0.1:8265\u001b[39m\u001b[22m\n"
     ]
    },
    {
     "name": "stdout",
     "output_type": "stream",
     "text": [
      "dense_speak_nomask_2x\n"
     ]
    },
    {
     "name": "stderr",
     "output_type": "stream",
     "text": [
      "2021-08-25 05:26:53,871\tINFO services.py:1245 -- View the Ray dashboard at \u001b[1m\u001b[32mhttp://127.0.0.1:8265\u001b[39m\u001b[22m\n"
     ]
    },
    {
     "name": "stdout",
     "output_type": "stream",
     "text": [
      "dense_speak_nomask_4x\n"
     ]
    },
    {
     "name": "stderr",
     "output_type": "stream",
     "text": [
      "2021-08-25 05:28:07,187\tINFO services.py:1245 -- View the Ray dashboard at \u001b[1m\u001b[32mhttp://127.0.0.1:8265\u001b[39m\u001b[22m\n"
     ]
    },
    {
     "name": "stdout",
     "output_type": "stream",
     "text": [
      "dense_speak_unvaxmask_2x\n"
     ]
    },
    {
     "name": "stderr",
     "output_type": "stream",
     "text": [
      "2021-08-25 05:29:20,010\tINFO services.py:1245 -- View the Ray dashboard at \u001b[1m\u001b[32mhttp://127.0.0.1:8265\u001b[39m\u001b[22m\n"
     ]
    },
    {
     "name": "stdout",
     "output_type": "stream",
     "text": [
      "dense_speak_unvaxmask_4x\n"
     ]
    },
    {
     "name": "stderr",
     "output_type": "stream",
     "text": [
      "2021-08-25 05:30:34,707\tINFO services.py:1245 -- View the Ray dashboard at \u001b[1m\u001b[32mhttp://127.0.0.1:8265\u001b[39m\u001b[22m\n"
     ]
    },
    {
     "name": "stdout",
     "output_type": "stream",
     "text": [
      "dense_sing_nomask_2x\n"
     ]
    },
    {
     "name": "stderr",
     "output_type": "stream",
     "text": [
      "2021-08-25 05:31:49,859\tINFO services.py:1245 -- View the Ray dashboard at \u001b[1m\u001b[32mhttp://127.0.0.1:8265\u001b[39m\u001b[22m\n"
     ]
    },
    {
     "name": "stdout",
     "output_type": "stream",
     "text": [
      "dense_sing_nomask_4x\n"
     ]
    },
    {
     "name": "stderr",
     "output_type": "stream",
     "text": [
      "2021-08-25 05:33:05,450\tINFO services.py:1245 -- View the Ray dashboard at \u001b[1m\u001b[32mhttp://127.0.0.1:8265\u001b[39m\u001b[22m\n"
     ]
    },
    {
     "name": "stdout",
     "output_type": "stream",
     "text": [
      "dense_sing_unvaxmask_2x\n"
     ]
    },
    {
     "name": "stderr",
     "output_type": "stream",
     "text": [
      "2021-08-25 05:34:20,950\tINFO services.py:1245 -- View the Ray dashboard at \u001b[1m\u001b[32mhttp://127.0.0.1:8265\u001b[39m\u001b[22m\n"
     ]
    },
    {
     "name": "stdout",
     "output_type": "stream",
     "text": [
      "dense_sing_unvaxmask_4x\n"
     ]
    },
    {
     "name": "stderr",
     "output_type": "stream",
     "text": [
      "2021-08-25 05:35:37,116\tINFO services.py:1245 -- View the Ray dashboard at \u001b[1m\u001b[32mhttp://127.0.0.1:8265\u001b[39m\u001b[22m\n"
     ]
    },
    {
     "name": "stdout",
     "output_type": "stream",
     "text": [
      "distanced_breathe_nomask_1x\n"
     ]
    },
    {
     "name": "stderr",
     "output_type": "stream",
     "text": [
      "2021-08-25 05:36:56,293\tINFO services.py:1245 -- View the Ray dashboard at \u001b[1m\u001b[32mhttp://127.0.0.1:8265\u001b[39m\u001b[22m\n"
     ]
    },
    {
     "name": "stdout",
     "output_type": "stream",
     "text": [
      "distanced_breathe_unvaxmask_1x\n"
     ]
    },
    {
     "name": "stderr",
     "output_type": "stream",
     "text": [
      "2021-08-25 05:38:34,579\tINFO services.py:1245 -- View the Ray dashboard at \u001b[1m\u001b[32mhttp://127.0.0.1:8265\u001b[39m\u001b[22m\n"
     ]
    },
    {
     "name": "stdout",
     "output_type": "stream",
     "text": [
      "distanced_speak_nomask_1x\n"
     ]
    },
    {
     "name": "stderr",
     "output_type": "stream",
     "text": [
      "2021-08-25 05:57:10,602\tINFO services.py:1245 -- View the Ray dashboard at \u001b[1m\u001b[32mhttp://127.0.0.1:8265\u001b[39m\u001b[22m\n"
     ]
    },
    {
     "name": "stdout",
     "output_type": "stream",
     "text": [
      "distanced_speak_unvaxmask_1x\n"
     ]
    },
    {
     "name": "stderr",
     "output_type": "stream",
     "text": [
      "2021-08-25 05:58:32,726\tINFO services.py:1245 -- View the Ray dashboard at \u001b[1m\u001b[32mhttp://127.0.0.1:8265\u001b[39m\u001b[22m\n"
     ]
    },
    {
     "name": "stdout",
     "output_type": "stream",
     "text": [
      "distanced_sing_nomask_1x\n"
     ]
    },
    {
     "name": "stderr",
     "output_type": "stream",
     "text": [
      "2021-08-25 06:31:46,319\tINFO services.py:1245 -- View the Ray dashboard at \u001b[1m\u001b[32mhttp://127.0.0.1:8265\u001b[39m\u001b[22m\n"
     ]
    },
    {
     "name": "stdout",
     "output_type": "stream",
     "text": [
      "distanced_sing_unvaxmask_1x\n"
     ]
    },
    {
     "name": "stderr",
     "output_type": "stream",
     "text": [
      "2021-08-25 06:32:52,269\tINFO services.py:1245 -- View the Ray dashboard at \u001b[1m\u001b[32mhttp://127.0.0.1:8265\u001b[39m\u001b[22m\n"
     ]
    },
    {
     "name": "stdout",
     "output_type": "stream",
     "text": [
      "moderate_breathe_nomask_1x\n"
     ]
    },
    {
     "name": "stderr",
     "output_type": "stream",
     "text": [
      "2021-08-25 06:50:26,672\tINFO services.py:1245 -- View the Ray dashboard at \u001b[1m\u001b[32mhttp://127.0.0.1:8265\u001b[39m\u001b[22m\n"
     ]
    },
    {
     "name": "stdout",
     "output_type": "stream",
     "text": [
      "moderate_breathe_unvaxmask_1x\n"
     ]
    },
    {
     "name": "stderr",
     "output_type": "stream",
     "text": [
      "2021-08-25 06:51:41,823\tINFO services.py:1245 -- View the Ray dashboard at \u001b[1m\u001b[32mhttp://127.0.0.1:8265\u001b[39m\u001b[22m\n"
     ]
    },
    {
     "name": "stdout",
     "output_type": "stream",
     "text": [
      "moderate_speak_nomask_1x\n"
     ]
    },
    {
     "name": "stderr",
     "output_type": "stream",
     "text": [
      "2021-08-25 07:09:19,892\tINFO services.py:1245 -- View the Ray dashboard at \u001b[1m\u001b[32mhttp://127.0.0.1:8265\u001b[39m\u001b[22m\n"
     ]
    },
    {
     "name": "stdout",
     "output_type": "stream",
     "text": [
      "moderate_speak_unvaxmask_1x\n"
     ]
    },
    {
     "name": "stderr",
     "output_type": "stream",
     "text": [
      "2021-08-25 07:25:47,117\tINFO services.py:1245 -- View the Ray dashboard at \u001b[1m\u001b[32mhttp://127.0.0.1:8265\u001b[39m\u001b[22m\n"
     ]
    },
    {
     "name": "stdout",
     "output_type": "stream",
     "text": [
      "moderate_sing_nomask_1x\n"
     ]
    },
    {
     "name": "stderr",
     "output_type": "stream",
     "text": [
      "2021-08-25 07:26:56,016\tINFO services.py:1245 -- View the Ray dashboard at \u001b[1m\u001b[32mhttp://127.0.0.1:8265\u001b[39m\u001b[22m\n"
     ]
    },
    {
     "name": "stdout",
     "output_type": "stream",
     "text": [
      "moderate_sing_unvaxmask_1x\n"
     ]
    },
    {
     "name": "stderr",
     "output_type": "stream",
     "text": [
      "2021-08-25 07:46:06,894\tINFO services.py:1245 -- View the Ray dashboard at \u001b[1m\u001b[32mhttp://127.0.0.1:8265\u001b[39m\u001b[22m\n"
     ]
    },
    {
     "name": "stdout",
     "output_type": "stream",
     "text": [
      "dense_breathe_nomask_1x\n"
     ]
    },
    {
     "name": "stderr",
     "output_type": "stream",
     "text": [
      "2021-08-25 07:47:13,512\tINFO services.py:1245 -- View the Ray dashboard at \u001b[1m\u001b[32mhttp://127.0.0.1:8265\u001b[39m\u001b[22m\n"
     ]
    },
    {
     "name": "stdout",
     "output_type": "stream",
     "text": [
      "dense_breathe_unvaxmask_1x\n"
     ]
    },
    {
     "name": "stderr",
     "output_type": "stream",
     "text": [
      "2021-08-25 08:04:50,962\tINFO services.py:1245 -- View the Ray dashboard at \u001b[1m\u001b[32mhttp://127.0.0.1:8265\u001b[39m\u001b[22m\n"
     ]
    },
    {
     "name": "stdout",
     "output_type": "stream",
     "text": [
      "dense_speak_nomask_1x\n"
     ]
    },
    {
     "name": "stderr",
     "output_type": "stream",
     "text": [
      "2021-08-25 08:06:05,468\tINFO services.py:1245 -- View the Ray dashboard at \u001b[1m\u001b[32mhttp://127.0.0.1:8265\u001b[39m\u001b[22m\n"
     ]
    },
    {
     "name": "stdout",
     "output_type": "stream",
     "text": [
      "dense_speak_unvaxmask_1x\n"
     ]
    },
    {
     "name": "stderr",
     "output_type": "stream",
     "text": [
      "2021-08-25 08:24:11,648\tINFO services.py:1245 -- View the Ray dashboard at \u001b[1m\u001b[32mhttp://127.0.0.1:8265\u001b[39m\u001b[22m\n"
     ]
    },
    {
     "name": "stdout",
     "output_type": "stream",
     "text": [
      "dense_sing_nomask_1x\n"
     ]
    },
    {
     "name": "stderr",
     "output_type": "stream",
     "text": [
      "2021-08-25 08:25:31,233\tINFO services.py:1245 -- View the Ray dashboard at \u001b[1m\u001b[32mhttp://127.0.0.1:8265\u001b[39m\u001b[22m\n"
     ]
    },
    {
     "name": "stdout",
     "output_type": "stream",
     "text": [
      "dense_sing_unvaxmask_1x\n"
     ]
    },
    {
     "name": "stderr",
     "output_type": "stream",
     "text": [
      "2021-08-25 08:26:42,756\tINFO services.py:1245 -- View the Ray dashboard at \u001b[1m\u001b[32mhttp://127.0.0.1:8265\u001b[39m\u001b[22m\n"
     ]
    }
   ],
   "source": [
    "import warnings\n",
    "warnings.filterwarnings(\"ignore\")\n",
    "final_results = {}\n",
    "for arg in args:\n",
    "    print(arg[-1])\n",
    "    masked_status = arg[0]\n",
    "    room = arg[1]\n",
    "    room_vol = arg[2]\n",
    "    pixels_per_foot = arg[3]\n",
    "    class_type = arg[4]\n",
    "    air_exchanges_per_hour = arg[5]\n",
    "    label = arg[6]\n",
    "    \n",
    "    \n",
    "    ray.shutdown()\n",
    "    ray.init(log_to_driver=False)\n",
    "    result_ids = []\n",
    "    for p in p_range:\n",
    "        result_ids.append(parallel_wrapper.remote(p))    \n",
    "    results = ray.get(result_ids)  \n",
    "    ray.shutdown()\n",
    "    results = pd.DataFrame(results, columns = ['p','mean','std','unvax_aerosol'])\n",
    "    final_results[label] = results\n",
    "    gc.collect()"
   ]
  },
  {
   "cell_type": "code",
   "execution_count": 12,
   "metadata": {},
   "outputs": [
    {
     "data": {
      "text/plain": [
       "{'distanced_outside_nomask':      p      mean       std  unvax_aerosol\n",
       " 0  0.5  0.010024  0.005947            0.0\n",
       " 1  0.6  0.008750  0.005446            0.0\n",
       " 2  0.7  0.007181  0.005309            0.0\n",
       " 3  0.8  0.005312  0.004361            0.0\n",
       " 4  0.9  0.003214  0.003116            0.0\n",
       " 5  1.0  0.001373  0.000490            0.0,\n",
       " 'distanced_outside_unvaxmask':      p      mean       std  unvax_aerosol\n",
       " 0  0.5  0.002225  0.000876            0.0\n",
       " 1  0.6  0.002111  0.000849            0.0\n",
       " 2  0.7  0.002032  0.000829            0.0\n",
       " 3  0.8  0.001767  0.000751            0.0\n",
       " 4  0.9  0.001551  0.000693            0.0\n",
       " 5  1.0  0.001338  0.000513            0.0,\n",
       " 'distanced_breathe_nomask_2x':      p      mean       std  unvax_aerosol\n",
       " 0  0.5  0.011738  0.005950       0.000067\n",
       " 1  0.6  0.008845  0.005490       0.000060\n",
       " 2  0.7  0.007710  0.005146       0.000056\n",
       " 3  0.8  0.005975  0.004675       0.000048\n",
       " 4  0.9  0.003824  0.003448       0.000039\n",
       " 5  1.0  0.001578  0.000464       0.000023,\n",
       " 'distanced_breathe_nomask_4x':      p      mean       std  unvax_aerosol\n",
       " 0  0.5  0.010300  0.005783       0.000033\n",
       " 1  0.6  0.008857  0.005459       0.000031\n",
       " 2  0.7  0.007088  0.005265       0.000027\n",
       " 3  0.8  0.005687  0.004654       0.000025\n",
       " 4  0.9  0.003428  0.003215       0.000019\n",
       " 5  1.0  0.001432  0.000495       0.000011,\n",
       " 'distanced_breathe_unvaxmask_2x':      p      mean       std  unvax_aerosol\n",
       " 0  0.5  0.002454  0.000902       0.000029\n",
       " 1  0.6  0.002416  0.000785       0.000029\n",
       " 2  0.7  0.002307  0.000805       0.000028\n",
       " 3  0.8  0.002044  0.000769       0.000027\n",
       " 4  0.9  0.001817  0.000660       0.000025\n",
       " 5  1.0  0.001511  0.000505       0.000023,\n",
       " 'distanced_breathe_unvaxmask_4x':      p      mean       std  unvax_aerosol\n",
       " 0  0.5  0.002364  0.000868       0.000015\n",
       " 1  0.6  0.002242  0.000846       0.000015\n",
       " 2  0.7  0.002103  0.000826       0.000014\n",
       " 3  0.8  0.001935  0.000768       0.000013\n",
       " 4  0.9  0.001720  0.000635       0.000012\n",
       " 5  1.0  0.001452  0.000493       0.000011,\n",
       " 'distanced_speak_nomask_2x':      p      mean       std  unvax_aerosol\n",
       " 0  0.5  0.072937  0.036649       0.000542\n",
       " 1  0.6  0.058181  0.033255       0.000491\n",
       " 2  0.7  0.049659  0.033021       0.000453\n",
       " 3  0.8  0.037433  0.029676       0.000397\n",
       " 4  0.9  0.023259  0.020247       0.000313\n",
       " 5  1.0  0.010053  0.002659       0.000187,\n",
       " 'distanced_speak_nomask_4x':      p      mean       std  unvax_aerosol\n",
       " 0  0.5  0.066783  0.036187       0.000269\n",
       " 1  0.6  0.053989  0.032758       0.000251\n",
       " 2  0.7  0.045203  0.031458       0.000226\n",
       " 3  0.8  0.033295  0.027035       0.000194\n",
       " 4  0.9  0.021425  0.019625       0.000158\n",
       " 5  1.0  0.009042  0.003037       0.000093,\n",
       " 'distanced_speak_unvaxmask_2x':      p      mean       std  unvax_aerosol\n",
       " 0  0.5  0.016085  0.004921       0.000241\n",
       " 1  0.6  0.015111  0.004766       0.000238\n",
       " 2  0.7  0.014479  0.004887       0.000232\n",
       " 3  0.8  0.012685  0.004398       0.000219\n",
       " 4  0.9  0.011097  0.003838       0.000205\n",
       " 5  1.0  0.009798  0.002892       0.000187,\n",
       " 'distanced_speak_unvaxmask_4x':      p      mean       std  unvax_aerosol\n",
       " 0  0.5  0.014542  0.005145       0.000121\n",
       " 1  0.6  0.013363  0.005049       0.000119\n",
       " 2  0.7  0.012838  0.004676       0.000114\n",
       " 3  0.8  0.011794  0.004678       0.000110\n",
       " 4  0.9  0.010359  0.004039       0.000103\n",
       " 5  1.0  0.008980  0.003042       0.000093,\n",
       " 'distanced_sing_nomask_2x':      p      mean       std  unvax_aerosol\n",
       " 0  0.5  0.573604  0.282473       0.005413\n",
       " 1  0.6  0.477251  0.261502       0.005080\n",
       " 2  0.7  0.417282  0.262420       0.004772\n",
       " 3  0.8  0.292382  0.215413       0.004081\n",
       " 4  0.9  0.182718  0.148473       0.003184\n",
       " 5  1.0  0.084293  0.021107       0.002126,\n",
       " 'distanced_sing_nomask_4x':      p      mean       std  unvax_aerosol\n",
       " 0  0.5  0.507641  0.272790       0.002732\n",
       " 1  0.6  0.432619  0.261813       0.002544\n",
       " 2  0.7  0.349577  0.234444       0.002322\n",
       " 3  0.8  0.271328  0.215054       0.002070\n",
       " 4  0.9  0.181433  0.160865       0.001724\n",
       " 5  1.0  0.074445  0.023814       0.001063,\n",
       " 'distanced_sing_unvaxmask_2x':      p      mean       std  unvax_aerosol\n",
       " 0  0.5  0.136156  0.037560       0.002709\n",
       " 1  0.6  0.127872  0.037453       0.002651\n",
       " 2  0.7  0.119436  0.037554       0.002554\n",
       " 3  0.8  0.108267  0.034338       0.002473\n",
       " 4  0.9  0.097090  0.029920       0.002338\n",
       " 5  1.0  0.083676  0.021303       0.002126,\n",
       " 'distanced_sing_unvaxmask_4x':      p      mean       std  unvax_aerosol\n",
       " 0  0.5  0.119214  0.037929       0.001349\n",
       " 1  0.6  0.113464  0.037655       0.001329\n",
       " 2  0.7  0.105163  0.037968       0.001288\n",
       " 3  0.8  0.096460  0.035002       0.001243\n",
       " 4  0.9  0.086493  0.029866       0.001168\n",
       " 5  1.0  0.073830  0.022393       0.001063,\n",
       " 'moderate_outside_nomask':      p      mean       std  unvax_aerosol\n",
       " 0  0.5  0.038815  0.021348            0.0\n",
       " 1  0.6  0.032601  0.020118            0.0\n",
       " 2  0.7  0.027064  0.019336            0.0\n",
       " 3  0.8  0.020257  0.016701            0.0\n",
       " 4  0.9  0.012943  0.011614            0.0\n",
       " 5  1.0  0.004955  0.001736            0.0,\n",
       " 'moderate_outside_unvaxmask':      p      mean       std  unvax_aerosol\n",
       " 0  0.5  0.008562  0.003187            0.0\n",
       " 1  0.6  0.007759  0.003178            0.0\n",
       " 2  0.7  0.007646  0.003031            0.0\n",
       " 3  0.8  0.006684  0.002887            0.0\n",
       " 4  0.9  0.006009  0.002606            0.0\n",
       " 5  1.0  0.004850  0.001958            0.0,\n",
       " 'moderate_breathe_nomask_2x':      p      mean       std  unvax_aerosol\n",
       " 0  0.5  0.039250  0.021021       0.000101\n",
       " 1  0.6  0.034025  0.019694       0.000097\n",
       " 2  0.7  0.027627  0.019119       0.000085\n",
       " 3  0.8  0.020248  0.016190       0.000074\n",
       " 4  0.9  0.012559  0.011426       0.000060\n",
       " 5  1.0  0.005054  0.001726       0.000035,\n",
       " 'moderate_breathe_nomask_4x':      p      mean       std  unvax_aerosol\n",
       " 0  0.5  0.040138  0.020915       0.000053\n",
       " 1  0.6  0.033696  0.020105       0.000048\n",
       " 2  0.7  0.027505  0.019303       0.000043\n",
       " 3  0.8  0.019736  0.016043       0.000037\n",
       " 4  0.9  0.012316  0.011476       0.000030\n",
       " 5  1.0  0.005058  0.001830       0.000018,\n",
       " 'moderate_breathe_unvaxmask_2x':      p      mean       std  unvax_aerosol\n",
       " 0  0.5  0.009168  0.002919       0.000046\n",
       " 1  0.6  0.008223  0.002987       0.000045\n",
       " 2  0.7  0.007619  0.003124       0.000043\n",
       " 3  0.8  0.007093  0.002744       0.000041\n",
       " 4  0.9  0.006309  0.002468       0.000039\n",
       " 5  1.0  0.005182  0.001646       0.000035,\n",
       " 'moderate_breathe_unvaxmask_4x':      p      mean       std  unvax_aerosol\n",
       " 0  0.5  0.008393  0.003277       0.000023\n",
       " 1  0.6  0.008154  0.003282       0.000022\n",
       " 2  0.7  0.007725  0.003036       0.000021\n",
       " 3  0.8  0.006861  0.003000       0.000021\n",
       " 4  0.9  0.005891  0.002415       0.000019\n",
       " 5  1.0  0.005095  0.001746       0.000018,\n",
       " 'moderate_speak_nomask_2x':      p      mean       std  unvax_aerosol\n",
       " 0  0.5  0.240075  0.124124       0.000818\n",
       " 1  0.6  0.196298  0.118593       0.000764\n",
       " 2  0.7  0.169485  0.111587       0.000710\n",
       " 3  0.8  0.132040  0.099899       0.000631\n",
       " 4  0.9  0.075240  0.065362       0.000501\n",
       " 5  1.0  0.031615  0.010286       0.000288,\n",
       " 'moderate_speak_nomask_4x':      p      mean       std  unvax_aerosol\n",
       " 0  0.5  0.231600  0.127900       0.000403\n",
       " 1  0.6  0.196353  0.117924       0.000385\n",
       " 2  0.7  0.162256  0.112916       0.000347\n",
       " 3  0.8  0.125024  0.098803       0.000308\n",
       " 4  0.9  0.064832  0.059778       0.000227\n",
       " 5  1.0  0.030688  0.010121       0.000144,\n",
       " 'moderate_speak_unvaxmask_2x':      p      mean       std  unvax_aerosol\n",
       " 0  0.5  0.053314  0.018383       0.000375\n",
       " 1  0.6  0.051693  0.018825       0.000364\n",
       " 2  0.7  0.047031  0.016641       0.000350\n",
       " 3  0.8  0.042918  0.016263       0.000337\n",
       " 4  0.9  0.036755  0.014244       0.000320\n",
       " 5  1.0  0.031596  0.010324       0.000288,\n",
       " 'moderate_speak_unvaxmask_4x':      p      mean       std  unvax_aerosol\n",
       " 0  0.5  0.052172  0.019329       0.000186\n",
       " 1  0.6  0.049418  0.018486       0.000182\n",
       " 2  0.7  0.047587  0.017480       0.000178\n",
       " 3  0.8  0.042600  0.016629       0.000172\n",
       " 4  0.9  0.036228  0.014624       0.000160\n",
       " 5  1.0  0.030788  0.009945       0.000144,\n",
       " 'moderate_sing_nomask_2x':      p      mean       std  unvax_aerosol\n",
       " 0  0.5  1.826401  0.926106       0.007746\n",
       " 1  0.6  1.571319  0.908564       0.007320\n",
       " 2  0.7  1.337179  0.818598       0.006906\n",
       " 3  0.8  0.972907  0.725450       0.006020\n",
       " 4  0.9  0.546669  0.476654       0.004684\n",
       " 5  1.0  0.258318  0.073288       0.003182,\n",
       " 'moderate_sing_nomask_4x':      p      mean       std  unvax_aerosol\n",
       " 0  0.5  1.806854  0.926839       0.003903\n",
       " 1  0.6  1.480695  0.886265       0.003577\n",
       " 2  0.7  1.324653  0.872747       0.003459\n",
       " 3  0.8  0.933819  0.721327       0.003028\n",
       " 4  0.9  0.587805  0.506595       0.002442\n",
       " 5  1.0  0.242475  0.080425       0.001591,\n",
       " 'moderate_sing_unvaxmask_2x':      p      mean       std  unvax_aerosol\n",
       " 0  0.5  0.414104  0.129350       0.004027\n",
       " 1  0.6  0.395925  0.128122       0.003978\n",
       " 2  0.7  0.378759  0.123687       0.003831\n",
       " 3  0.8  0.335351  0.123025       0.003698\n",
       " 4  0.9  0.293756  0.107857       0.003496\n",
       " 5  1.0  0.253894  0.080579       0.003182,\n",
       " 'moderate_sing_unvaxmask_4x':      p      mean       std  unvax_aerosol\n",
       " 0  0.5  0.393467  0.137115       0.002001\n",
       " 1  0.6  0.366526  0.127975       0.001964\n",
       " 2  0.7  0.361881  0.130367       0.001921\n",
       " 3  0.8  0.320807  0.123064       0.001834\n",
       " 4  0.9  0.288006  0.108064       0.001750\n",
       " 5  1.0  0.240958  0.081084       0.001591,\n",
       " 'dense_outside_nomask':      p      mean       std  unvax_aerosol\n",
       " 0  0.5  0.097821  0.051526            0.0\n",
       " 1  0.6  0.078398  0.046332            0.0\n",
       " 2  0.7  0.070730  0.046600            0.0\n",
       " 3  0.8  0.052642  0.040037            0.0\n",
       " 4  0.9  0.032591  0.029789            0.0\n",
       " 5  1.0  0.012963  0.004481            0.0,\n",
       " 'dense_outside_unvaxmask':      p      mean       std  unvax_aerosol\n",
       " 0  0.5  0.021926  0.007883            0.0\n",
       " 1  0.6  0.019928  0.007459            0.0\n",
       " 2  0.7  0.019374  0.007483            0.0\n",
       " 3  0.8  0.017100  0.006789            0.0\n",
       " 4  0.9  0.015756  0.006119            0.0\n",
       " 5  1.0  0.013344  0.004669            0.0,\n",
       " 'dense_breathe_nomask_2x':      p      mean       std  unvax_aerosol\n",
       " 0  0.5  0.102107  0.051305       0.000490\n",
       " 1  0.6  0.085767  0.049927       0.000453\n",
       " 2  0.7  0.073337  0.047401       0.000425\n",
       " 3  0.8  0.054674  0.040678       0.000365\n",
       " 4  0.9  0.031599  0.027993       0.000282\n",
       " 5  1.0  0.014101  0.004356       0.000171,\n",
       " 'dense_breathe_nomask_4x':      p      mean       std  unvax_aerosol\n",
       " 0  0.5  0.100875  0.051715       0.000249\n",
       " 1  0.6  0.080758  0.049658       0.000222\n",
       " 2  0.7  0.072466  0.048491       0.000209\n",
       " 3  0.8  0.052343  0.041629       0.000178\n",
       " 4  0.9  0.031318  0.028101       0.000140\n",
       " 5  1.0  0.013423  0.004451       0.000086,\n",
       " 'dense_breathe_unvaxmask_2x':      p      mean       std  unvax_aerosol\n",
       " 0  0.5  0.023037  0.007436       0.000222\n",
       " 1  0.6  0.021456  0.007493       0.000213\n",
       " 2  0.7  0.020470  0.007124       0.000208\n",
       " 3  0.8  0.018753  0.006766       0.000201\n",
       " 4  0.9  0.016832  0.006084       0.000190\n",
       " 5  1.0  0.014442  0.004158       0.000171,\n",
       " 'dense_breathe_unvaxmask_4x':      p      mean       std  unvax_aerosol\n",
       " 0  0.5  0.022369  0.007669       0.000111\n",
       " 1  0.6  0.020696  0.007479       0.000109\n",
       " 2  0.7  0.019704  0.007365       0.000105\n",
       " 3  0.8  0.017981  0.006762       0.000101\n",
       " 4  0.9  0.015935  0.005835       0.000095\n",
       " 5  1.0  0.013518  0.004513       0.000086,\n",
       " 'dense_speak_nomask_2x':      p      mean       std  unvax_aerosol\n",
       " 0  0.5  0.608233  0.307173       0.003626\n",
       " 1  0.6  0.522362  0.279295       0.003462\n",
       " 2  0.7  0.452704  0.264367       0.003251\n",
       " 3  0.8  0.349159  0.250684       0.002865\n",
       " 4  0.9  0.202319  0.175398       0.002174\n",
       " 5  1.0  0.085798  0.023991       0.001366,\n",
       " 'dense_speak_nomask_4x':      p      mean       std  unvax_aerosol\n",
       " 0  0.5  0.583601  0.297416       0.001810\n",
       " 1  0.6  0.507042  0.294637       0.001696\n",
       " 2  0.7  0.429583  0.276023       0.001582\n",
       " 3  0.8  0.313049  0.236277       0.001394\n",
       " 4  0.9  0.198467  0.171675       0.001102\n",
       " 5  1.0  0.084098  0.025996       0.000683,\n",
       " 'dense_speak_unvaxmask_2x':      p      mean       std  unvax_aerosol\n",
       " 0  0.5  0.136841  0.043251       0.001755\n",
       " 1  0.6  0.133013  0.042026       0.001716\n",
       " 2  0.7  0.120577  0.041952       0.001652\n",
       " 3  0.8  0.113414  0.039192       0.001590\n",
       " 4  0.9  0.101638  0.036393       0.001509\n",
       " 5  1.0  0.086670  0.023705       0.001366,\n",
       " 'dense_speak_unvaxmask_4x':      p      mean       std  unvax_aerosol\n",
       " 0  0.5  0.132146  0.044974       0.000877\n",
       " 1  0.6  0.125474  0.041691       0.000853\n",
       " 2  0.7  0.118997  0.040769       0.000832\n",
       " 3  0.8  0.109569  0.040898       0.000801\n",
       " 4  0.9  0.094739  0.035793       0.000750\n",
       " 5  1.0  0.083054  0.026121       0.000683,\n",
       " 'dense_sing_nomask_2x':      p      mean       std  unvax_aerosol\n",
       " 0  0.5  4.274786  2.049713       0.025191\n",
       " 1  0.6  3.811906  1.997200       0.024032\n",
       " 2  0.7  3.098406  1.929174       0.022088\n",
       " 3  0.8  2.300283  1.605926       0.019974\n",
       " 4  0.9  1.403143  1.104017       0.016360\n",
       " 5  1.0  0.677032  0.187689       0.011894,\n",
       " 'dense_sing_nomask_4x':      p      mean       std  unvax_aerosol\n",
       " 0  0.5  4.250496  2.060422       0.012596\n",
       " 1  0.6  3.507881  1.896763       0.011880\n",
       " 2  0.7  2.816437  1.875457       0.010652\n",
       " 3  0.8  2.163362  1.652753       0.009714\n",
       " 4  0.9  1.396487  1.151579       0.008197\n",
       " 5  1.0  0.643852  0.196796       0.005947,\n",
       " 'dense_sing_unvaxmask_2x':      p      mean       std  unvax_aerosol\n",
       " 0  0.5  0.994735  0.294994       0.014366\n",
       " 1  0.6  0.970697  0.283546       0.014188\n",
       " 2  0.7  0.904994  0.272785       0.013756\n",
       " 3  0.8  0.844800  0.266218       0.013337\n",
       " 4  0.9  0.750412  0.241355       0.012834\n",
       " 5  1.0  0.674976  0.183719       0.011894,\n",
       " 'dense_sing_unvaxmask_4x':      p      mean       std  unvax_aerosol\n",
       " 0  0.5  0.937554  0.310165       0.007126\n",
       " 1  0.6  0.930184  0.296179       0.007065\n",
       " 2  0.7  0.867081  0.279142       0.006862\n",
       " 3  0.8  0.809427  0.272863       0.006760\n",
       " 4  0.9  0.723228  0.239915       0.006363\n",
       " 5  1.0  0.635208  0.205180       0.005947,\n",
       " 'distanced_breathe_nomask_1x':      p      mean       std  unvax_aerosol\n",
       " 0  0.5  0.012384  0.006312       0.000131\n",
       " 1  0.6  0.010685  0.005836       0.000123\n",
       " 2  0.7  0.009052  0.005644       0.000114\n",
       " 3  0.8  0.006403  0.004745       0.000097\n",
       " 4  0.9  0.004141  0.003579       0.000076\n",
       " 5  1.0  0.001806  0.000438       0.000045,\n",
       " 'distanced_breathe_unvaxmask_1x':      p      mean       std  unvax_aerosol\n",
       " 0  0.5  0.002910  0.000812       0.000059\n",
       " 1  0.6  0.002674  0.000811       0.000058\n",
       " 2  0.7  0.002589  0.000818       0.000056\n",
       " 3  0.8  0.002362  0.000729       0.000053\n",
       " 4  0.9  0.002041  0.000622       0.000050\n",
       " 5  1.0  0.001788  0.000421       0.000045,\n",
       " 'distanced_speak_nomask_1x':      p      mean       std  unvax_aerosol\n",
       " 0  0.5  0.083667  0.037863       0.001086\n",
       " 1  0.6  0.066975  0.037741       0.000964\n",
       " 2  0.7  0.059758  0.035366       0.000944\n",
       " 3  0.8  0.038318  0.029696       0.000738\n",
       " 4  0.9  0.027603  0.022477       0.000639\n",
       " 5  1.0  0.011966  0.002627       0.000374,\n",
       " 'distanced_speak_unvaxmask_1x':      p      mean       std  unvax_aerosol\n",
       " 0  0.5  0.018717  0.004690       0.000484\n",
       " 1  0.6  0.017674  0.004639       0.000470\n",
       " 2  0.7  0.016756  0.004585       0.000459\n",
       " 3  0.8  0.015527  0.004430       0.000442\n",
       " 4  0.9  0.013808  0.003792       0.000417\n",
       " 5  1.0  0.011699  0.002563       0.000374,\n",
       " 'distanced_sing_nomask_1x':      p      mean       std  unvax_aerosol\n",
       " 0  0.5  0.723300  0.291409       0.011133\n",
       " 1  0.6  0.592638  0.283788       0.010416\n",
       " 2  0.7  0.495082  0.279839       0.009579\n",
       " 3  0.8  0.350725  0.240526       0.008042\n",
       " 4  0.9  0.228452  0.175482       0.006591\n",
       " 5  1.0  0.106607  0.018460       0.004251,\n",
       " 'distanced_sing_unvaxmask_1x':      p      mean       std  unvax_aerosol\n",
       " 0  0.5  0.167313  0.036876       0.005397\n",
       " 1  0.6  0.158073  0.036399       0.005253\n",
       " 2  0.7  0.149448  0.035493       0.005125\n",
       " 3  0.8  0.135887  0.034288       0.004913\n",
       " 4  0.9  0.124538  0.029510       0.004623\n",
       " 5  1.0  0.106764  0.019031       0.004251,\n",
       " 'moderate_breathe_nomask_1x':      p      mean       std  unvax_aerosol\n",
       " 0  0.5  0.041491  0.020726       0.000205\n",
       " 1  0.6  0.035324  0.021187       0.000187\n",
       " 2  0.7  0.028570  0.019401       0.000174\n",
       " 3  0.8  0.021133  0.016722       0.000146\n",
       " 4  0.9  0.012739  0.011686       0.000116\n",
       " 5  1.0  0.005393  0.001737       0.000070,\n",
       " 'moderate_breathe_unvaxmask_1x':      p      mean       std  unvax_aerosol\n",
       " 0  0.5  0.009146  0.002860       0.000091\n",
       " 1  0.6  0.008727  0.002992       0.000089\n",
       " 2  0.7  0.007986  0.002946       0.000085\n",
       " 3  0.8  0.007505  0.002921       0.000083\n",
       " 4  0.9  0.006312  0.002278       0.000078\n",
       " 5  1.0  0.005412  0.001707       0.000070,\n",
       " 'moderate_speak_nomask_1x':      p      mean       std  unvax_aerosol\n",
       " 0  0.5  0.244781  0.126444       0.001612\n",
       " 1  0.6  0.205770  0.117899       0.001541\n",
       " 2  0.7  0.180495  0.114924       0.001429\n",
       " 3  0.8  0.131587  0.103969       0.001204\n",
       " 4  0.9  0.076866  0.069032       0.000933\n",
       " 5  1.0  0.033138  0.009212       0.000577,\n",
       " 'moderate_speak_unvaxmask_1x':      p      mean       std  unvax_aerosol\n",
       " 0  0.5  0.056714  0.018740       0.000742\n",
       " 1  0.6  0.053221  0.017186       0.000729\n",
       " 2  0.7  0.050201  0.017094       0.000710\n",
       " 3  0.8  0.046103  0.017079       0.000680\n",
       " 4  0.9  0.039884  0.013220       0.000634\n",
       " 5  1.0  0.032139  0.010345       0.000577,\n",
       " 'moderate_sing_nomask_1x':      p      mean       std  unvax_aerosol\n",
       " 0  0.5  1.963613  0.934729       0.015705\n",
       " 1  0.6  1.721233  0.890194       0.015066\n",
       " 2  0.7  1.353492  0.868266       0.013553\n",
       " 3  0.8  1.039837  0.747811       0.012110\n",
       " 4  0.9  0.614146  0.519428       0.009368\n",
       " 5  1.0  0.278835  0.074180       0.006364,\n",
       " 'moderate_sing_unvaxmask_1x':      p      mean       std  unvax_aerosol\n",
       " 0  0.5  0.444607  0.134383       0.008045\n",
       " 1  0.6  0.421614  0.121657       0.007824\n",
       " 2  0.7  0.401621  0.126915       0.007714\n",
       " 3  0.8  0.367888  0.113737       0.007446\n",
       " 4  0.9  0.319942  0.096847       0.006912\n",
       " 5  1.0  0.277821  0.075420       0.006364,\n",
       " 'dense_breathe_nomask_1x':      p      mean       std  unvax_aerosol\n",
       " 0  0.5  0.110254  0.051098       0.000977\n",
       " 1  0.6  0.093555  0.048532       0.000948\n",
       " 2  0.7  0.074974  0.047636       0.000839\n",
       " 3  0.8  0.057068  0.041911       0.000724\n",
       " 4  0.9  0.036138  0.031467       0.000587\n",
       " 5  1.0  0.015229  0.003991       0.000343,\n",
       " 'dense_breathe_unvaxmask_1x':      p      mean       std  unvax_aerosol\n",
       " 0  0.5  0.024599  0.006854       0.000447\n",
       " 1  0.6  0.023023  0.006730       0.000435\n",
       " 2  0.7  0.021853  0.006667       0.000422\n",
       " 3  0.8  0.020153  0.006380       0.000402\n",
       " 4  0.9  0.017733  0.005685       0.000378\n",
       " 5  1.0  0.014877  0.003964       0.000343,\n",
       " 'dense_speak_nomask_1x':      p      mean       std  unvax_aerosol\n",
       " 0  0.5  0.700653  0.294634       0.007486\n",
       " 1  0.6  0.551899  0.284776       0.006842\n",
       " 2  0.7  0.462520  0.288576       0.006128\n",
       " 3  0.8  0.330795  0.249766       0.005250\n",
       " 4  0.9  0.211864  0.170814       0.004301\n",
       " 5  1.0  0.095761  0.021920       0.002732,\n",
       " 'dense_speak_unvaxmask_1x':      p      mean       std  unvax_aerosol\n",
       " 0  0.5  0.152733  0.039992       0.003500\n",
       " 1  0.6  0.142204  0.039466       0.003396\n",
       " 2  0.7  0.136609  0.037394       0.003347\n",
       " 3  0.8  0.126031  0.036824       0.003220\n",
       " 4  0.9  0.111128  0.033736       0.003028\n",
       " 5  1.0  0.095918  0.021078       0.002732,\n",
       " 'dense_sing_nomask_1x':      p      mean       std  unvax_aerosol\n",
       " 0  0.5  4.679696  2.057454       0.050109\n",
       " 1  0.6  3.920312  1.924048       0.047654\n",
       " 2  0.7  3.231591  1.881735       0.043699\n",
       " 3  0.8  2.448425  1.617428       0.039881\n",
       " 4  0.9  1.647975  1.230135       0.033812\n",
       " 5  1.0  0.751351  0.169713       0.023788,\n",
       " 'dense_sing_unvaxmask_1x':      p      mean       std  unvax_aerosol\n",
       " 0  0.5  1.122291  0.262225       0.028605\n",
       " 1  0.6  1.062438  0.265392       0.028211\n",
       " 2  0.7  1.005356  0.253240       0.027614\n",
       " 3  0.8  0.941810  0.239380       0.026915\n",
       " 4  0.9  0.857749  0.208513       0.025402\n",
       " 5  1.0  0.770072  0.156798       0.023788}"
      ]
     },
     "execution_count": 12,
     "metadata": {},
     "output_type": "execute_result"
    }
   ],
   "source": [
    "final_results"
   ]
  },
  {
   "cell_type": "code",
   "execution_count": 13,
   "metadata": {},
   "outputs": [],
   "source": [
    "with open('sim_results/COVID_events_8252021.pickle', 'wb') as handle:\n",
    "    pickle.dump(final_results, handle, protocol=pickle.HIGHEST_PROTOCOL)"
   ]
  },
  {
   "cell_type": "code",
   "execution_count": 42,
   "metadata": {},
   "outputs": [],
   "source": [
    "with open('sim_results/COVID_delta_sims_events_1x_air_exchange.pickle', 'wb') as handle:\n",
    "    pickle.dump(final_results, handle, protocol=pickle.HIGHEST_PROTOCOL)"
   ]
  },
  {
   "cell_type": "code",
   "execution_count": 24,
   "metadata": {},
   "outputs": [],
   "source": [
    "with open('sim_results/COVID_delta_sims_events.pickle', 'wb') as handle:\n",
    "    pickle.dump(final_results, handle, protocol=pickle.HIGHEST_PROTOCOL)"
   ]
  },
  {
   "cell_type": "code",
   "execution_count": 29,
   "metadata": {},
   "outputs": [
    {
     "name": "stdout",
     "output_type": "stream",
     "text": [
      "distanced_outside_nomask\n",
      "distanced_outside_unvaxmask\n",
      "distanced_breathe_nomask_2x\n",
      "distanced_breathe_nomask_4x\n",
      "distanced_breathe_unvaxmask_2x\n",
      "distanced_breathe_unvaxmask_4x\n",
      "distanced_speak_nomask_2x\n",
      "distanced_speak_nomask_4x\n",
      "distanced_speak_unvaxmask_2x\n",
      "distanced_speak_unvaxmask_4x\n",
      "distanced_sing_nomask_2x\n",
      "distanced_sing_nomask_4x\n",
      "distanced_sing_unvaxmask_2x\n",
      "distanced_sing_unvaxmask_4x\n",
      "moderate_outside_nomask\n",
      "moderate_outside_unvaxmask\n",
      "moderate_breathe_nomask_2x\n",
      "moderate_breathe_nomask_4x\n",
      "moderate_breathe_unvaxmask_2x\n",
      "moderate_breathe_unvaxmask_4x\n",
      "moderate_speak_nomask_2x\n",
      "moderate_speak_nomask_4x\n",
      "moderate_speak_unvaxmask_2x\n",
      "moderate_speak_unvaxmask_4x\n",
      "moderate_sing_nomask_2x\n",
      "moderate_sing_nomask_4x\n",
      "moderate_sing_unvaxmask_2x\n",
      "moderate_sing_unvaxmask_4x\n",
      "dense_outside_nomask\n",
      "dense_outside_unvaxmask\n",
      "dense_breathe_nomask_2x\n",
      "dense_breathe_nomask_4x\n",
      "dense_breathe_unvaxmask_2x\n",
      "dense_breathe_unvaxmask_4x\n",
      "dense_speak_nomask_2x\n",
      "dense_speak_nomask_4x\n",
      "dense_speak_unvaxmask_2x\n",
      "dense_speak_unvaxmask_4x\n",
      "dense_sing_nomask_2x\n",
      "dense_sing_nomask_4x\n",
      "dense_sing_unvaxmask_2x\n",
      "dense_sing_unvaxmask_4x\n",
      "distanced_breathe_nomask_1x\n",
      "distanced_breathe_unvaxmask_1x\n",
      "distanced_speak_nomask_1x\n",
      "distanced_speak_unvaxmask_1x\n",
      "distanced_sing_nomask_1x\n",
      "distanced_sing_unvaxmask_1x\n",
      "moderate_breathe_nomask_1x\n",
      "moderate_breathe_unvaxmask_1x\n",
      "moderate_speak_nomask_1x\n",
      "moderate_speak_unvaxmask_1x\n",
      "moderate_sing_nomask_1x\n",
      "moderate_sing_unvaxmask_1x\n",
      "dense_breathe_nomask_1x\n",
      "dense_breathe_unvaxmask_1x\n",
      "dense_speak_nomask_1x\n",
      "dense_speak_unvaxmask_1x\n",
      "dense_sing_nomask_1x\n",
      "dense_sing_unvaxmask_1x\n"
     ]
    }
   ],
   "source": [
    "for key, value in final_results.items() :\n",
    "    print (key)"
   ]
  },
  {
   "cell_type": "code",
   "execution_count": 30,
   "metadata": {},
   "outputs": [
    {
     "data": {
      "text/html": [
       "<div>\n",
       "<style scoped>\n",
       "    .dataframe tbody tr th:only-of-type {\n",
       "        vertical-align: middle;\n",
       "    }\n",
       "\n",
       "    .dataframe tbody tr th {\n",
       "        vertical-align: top;\n",
       "    }\n",
       "\n",
       "    .dataframe thead th {\n",
       "        text-align: right;\n",
       "    }\n",
       "</style>\n",
       "<table border=\"1\" class=\"dataframe\">\n",
       "  <thead>\n",
       "    <tr style=\"text-align: right;\">\n",
       "      <th></th>\n",
       "      <th>p</th>\n",
       "      <th>mean</th>\n",
       "      <th>std</th>\n",
       "      <th>unvax_aerosol</th>\n",
       "    </tr>\n",
       "  </thead>\n",
       "  <tbody>\n",
       "    <tr>\n",
       "      <th>0</th>\n",
       "      <td>0.5</td>\n",
       "      <td>1.706210</td>\n",
       "      <td>0.471339</td>\n",
       "      <td>0.050996</td>\n",
       "    </tr>\n",
       "    <tr>\n",
       "      <th>1</th>\n",
       "      <td>0.6</td>\n",
       "      <td>1.441494</td>\n",
       "      <td>0.464071</td>\n",
       "      <td>0.048609</td>\n",
       "    </tr>\n",
       "    <tr>\n",
       "      <th>2</th>\n",
       "      <td>0.7</td>\n",
       "      <td>1.165577</td>\n",
       "      <td>0.456146</td>\n",
       "      <td>0.044518</td>\n",
       "    </tr>\n",
       "    <tr>\n",
       "      <th>3</th>\n",
       "      <td>0.8</td>\n",
       "      <td>0.901672</td>\n",
       "      <td>0.397510</td>\n",
       "      <td>0.040494</td>\n",
       "    </tr>\n",
       "    <tr>\n",
       "      <th>4</th>\n",
       "      <td>0.9</td>\n",
       "      <td>0.604558</td>\n",
       "      <td>0.284191</td>\n",
       "      <td>0.033266</td>\n",
       "    </tr>\n",
       "    <tr>\n",
       "      <th>5</th>\n",
       "      <td>1.0</td>\n",
       "      <td>0.341939</td>\n",
       "      <td>0.004666</td>\n",
       "      <td>0.023788</td>\n",
       "    </tr>\n",
       "  </tbody>\n",
       "</table>\n",
       "</div>"
      ],
      "text/plain": [
       "     p      mean       std  unvax_aerosol\n",
       "0  0.5  1.706210  0.471339       0.050996\n",
       "1  0.6  1.441494  0.464071       0.048609\n",
       "2  0.7  1.165577  0.456146       0.044518\n",
       "3  0.8  0.901672  0.397510       0.040494\n",
       "4  0.9  0.604558  0.284191       0.033266\n",
       "5  1.0  0.341939  0.004666       0.023788"
      ]
     },
     "execution_count": 30,
     "metadata": {},
     "output_type": "execute_result"
    }
   ],
   "source": [
    "final_results['dense_sing_nomask_1x']"
   ]
  },
  {
   "cell_type": "code",
   "execution_count": null,
   "metadata": {},
   "outputs": [],
   "source": []
  }
 ],
 "metadata": {
  "kernelspec": {
   "display_name": "Python 3",
   "language": "python",
   "name": "python3"
  },
  "language_info": {
   "codemirror_mode": {
    "name": "ipython",
    "version": 3
   },
   "file_extension": ".py",
   "mimetype": "text/x-python",
   "name": "python",
   "nbconvert_exporter": "python",
   "pygments_lexer": "ipython3",
   "version": "3.8.8"
  }
 },
 "nbformat": 4,
 "nbformat_minor": 4
}
