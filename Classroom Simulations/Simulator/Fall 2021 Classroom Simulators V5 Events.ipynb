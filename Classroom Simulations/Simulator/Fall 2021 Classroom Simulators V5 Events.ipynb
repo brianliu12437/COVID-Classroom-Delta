{
 "cells": [
  {
   "cell_type": "markdown",
   "metadata": {},
   "source": [
    "# Markdown Infection"
   ]
  },
  {
   "cell_type": "code",
   "execution_count": 11,
   "metadata": {},
   "outputs": [],
   "source": [
    "import pandas as pd\n",
    "import sys\n",
    "import warnings\n",
    "import numpy as np\n",
    "import matplotlib.pyplot as plt\n",
    "import pickle\n",
    "if not sys.warnoptions:\n",
    "    warnings.simplefilter(\"ignore\")\n",
    "import seaborn as sns\n",
    "import gc\n",
    "import itertools\n",
    "import random\n",
    "import math\n",
    "from matplotlib.ticker import FormatStrFormatter\n",
    "import ray\n",
    "import shapley\n",
    "sys.path.append('../')\n",
    "\n"
   ]
  },
  {
   "cell_type": "code",
   "execution_count": 12,
   "metadata": {},
   "outputs": [],
   "source": [
    "class_risk_params = {\n",
    "    'prevalence': 5*10**(-4),\n",
    "    'vax_effectiveness': .715,\n",
    "    'sensitivity': 0.6,\n",
    "    'mask_efficacy': 0.8\n",
    "}\n",
    "\n",
    "\n",
    "aerosol_params = {\n",
    "    'inhale_air_rate': 6.8,\n",
    "    'dose_response_constant': 1440,\n",
    "    \n",
    "    'nominal_breathe_virus_emitted_hourly': 3300,# corresponding to 10^8 copies / mL\n",
    "    'nominal_talk_virus_emitted_hourly' : 27300,\n",
    "    'nominal_sing_virus_emitted_hourly' : 330000,\n",
    "    'nominal_heavy_breathe_virus_emitted_hourly': 3300*15,\n",
    "\n",
    "    'viral_load_distribution': [0.12, 0.22, 0.3, 0.23, 0.103, 0.0236, 0.0034] # over orders of magnitude from 10^5 to 10^11\n",
    "}\n",
    "\n",
    "\"\"\"\n",
    "Difference of sets\n",
    "\"\"\"\n",
    "def Diff(li1, li2):\n",
    "    li_dif = [i for i in li1 + li2 if i not in li1 or i not in li2]\n",
    "    return li_dif\n",
    "\n",
    "\"\"\"\n",
    "Biased coin flipper\n",
    "\"\"\"\n",
    "def flip(p):\n",
    "    return 1 if random.random() < p else 0\n",
    "\n",
    "\n",
    "def simulate_class_single_aerosol(room,vax_infected, unvax_infected, time,alpha,masked_status,class_type,room_vol,N,pixels_per_foot, air_exchanges_per_hour):\n",
    "    room = room.reset_index()\n",
    "    vax_infect_id = random.sample(list(room[room['seating'] == 'V']['index'].values), vax_infected)\n",
    "    unvax_infect_id = random.sample(list(room[room['seating'] == 'U']['index'].values), unvax_infected)\n",
    "    infected = room[room['index'].isin(np.append(vax_infect_id,unvax_infect_id))]\n",
    "    uninfected = room[ (~room['index'].isin(np.append(vax_infect_id,unvax_infect_id))) & \\\n",
    "                      (room['seating'] != 'E')  ]\n",
    "    \n",
    "    if vax_infected == 1:\n",
    "        source_status = 'V'\n",
    "    elif unvax_infected == 1:\n",
    "        source_status = 'U'\n",
    "    infected_x = infected['x']\n",
    "    infected_y = infected['y']\n",
    "    \n",
    "    unvax_aerosol_risk = (1/air_exchanges_per_hour)*generate_aerosol_risk(room_vol, vax_infected, unvax_infected, time, masked_status, class_type, params = aerosol_params)\n",
    "    \n",
    "    p_infections = []\n",
    "    for i,row in uninfected.iterrows():\n",
    "        \n",
    "        x = row['x']\n",
    "        y = row['y']\n",
    "        v_infect = [x-infected_x,y - infected_y]\n",
    "        v_vert = [0,10000]\n",
    "        dot = v_infect[1]*v_vert[1]\n",
    "        mag1 = 10000\n",
    "        mag2 = np.sqrt((x-infected_x)**2+(y - infected_y)**2)\n",
    "        theta =  math.acos(dot/(mag1*mag2))*180/math.pi\n",
    "        \n",
    "        susceptible_status = row['seating']\n",
    "        \n",
    "        susceptible_aerosol_risk = unvax_aerosol_risk \n",
    "        \n",
    "        if susceptible_status == 'V':\n",
    "            susceptible_aerosol_risk = susceptible_aerosol_risk * (1-class_risk_params['vax_effectiveness'])\n",
    "        \n",
    "        if masked_status == True:\n",
    "            if susceptible_status == 'U':\n",
    "                susceptible_aerosol_risk = susceptible_aerosol_risk * class_risk_params['mask_efficacy']\n",
    "       \n",
    "        if theta < 90 + alpha:\n",
    "       \n",
    "            dist = np.sqrt((infected_x-x)**2+(infected_y-y)**2)\n",
    "            p = updated_distance_to_prob(dist,susceptible_status,source_status,masked_status,time,pixels_per_foot)\n",
    "            p = max(p,susceptible_aerosol_risk)\n",
    "            p_infections.append(p)\n",
    "            \n",
    "        else:\n",
    "            \n",
    "            p_infections.append(susceptible_aerosol_risk)\n",
    "            \n",
    "    return np.sum(p_infections),unvax_aerosol_risk\n",
    "\n",
    "def updated_distance_to_prob(d,susceptible_status,source_status,masked_status,time,pixels_per_foot): \n",
    "    \n",
    "    d = d/pixels_per_foot*0.3048\n",
    "    susceptible_const = 1\n",
    "    source_const = 1\n",
    "    masked_const_source = 1\n",
    "    masked_const_susceptible = 1\n",
    "    if susceptible_status == 'V':\n",
    "        susceptible_const = 1 - class_risk_params['vax_effectiveness'] \n",
    "    if source_status == 'V':\n",
    "        source_const = 0.29 \n",
    "        \n",
    "    if masked_status == True:\n",
    "        \n",
    "        if source_status == 'U':\n",
    "            masked_const_source = class_risk_params['mask_efficacy']\n",
    "        if susceptible_status == 'U':\n",
    "            masked_const_susceptible = class_risk_params['mask_efficacy']\n",
    "        \n",
    "        \n",
    "    prob = 2.4*susceptible_const*masked_const_susceptible *masked_const_source *(1-np.exp(-1 *  source_const * 0.0135 *time * (-0.1819*np.log(d)+0.43276)/d))\n",
    "    \n",
    "    prob = float(prob)\n",
    "    return max(prob,0)\n",
    "\n",
    "def generate_aerosol_risk(room_vol, vax_infected, unvax_infected, time, masked_status, class_type, params = aerosol_params):\n",
    "    \n",
    "    if class_type == 'breathe':\n",
    "        v = params['nominal_breathe_virus_emitted_hourly'] \n",
    "    elif class_type == 'speak':\n",
    "        v = params['nominal_talk_virus_emitted_hourly'] \n",
    "    elif class_type == 'sing':\n",
    "        v = params['nominal_sing_virus_emitted_hourly'] \n",
    "    elif class_type == 'heavy_breathe':\n",
    "        v = params['nominal_heavy_breathe_virus_emitted_hourly']\n",
    "    elif class_type == 'no_aerosol':\n",
    "        return 0\n",
    "    \n",
    "    hourly_virus_array = np.array([v/1000, v/100, v/10, v, v*10, v*100, v*1000])\n",
    "    dose_array = hourly_virus_array * params['inhale_air_rate'] / room_vol\n",
    "    \n",
    "    if masked_status == True:\n",
    "        if unvax_infected == 1:\n",
    "            dose_array = dose_array * class_risk_params['mask_efficacy']\n",
    "    \n",
    "    if vax_infected == 1:\n",
    "        dose_array = dose_array * 0.29 \n",
    "  \n",
    "    effective_dose_array = dose_array / params['dose_response_constant']\n",
    "\n",
    "    unvax_susceptible_risk_array = 1 - np.exp(-effective_dose_array)\n",
    "    unvax_susceptible_risk = np.dot(unvax_susceptible_risk_array, np.array(params['viral_load_distribution']))\n",
    "    unvax_susceptible_risk_over_time = 2.4*unvax_susceptible_risk * time\n",
    "\n",
    "    return unvax_susceptible_risk_over_time #risk for unvax + no mask"
   ]
  },
  {
   "cell_type": "code",
   "execution_count": 13,
   "metadata": {},
   "outputs": [],
   "source": [
    "def generate_clumpy_plan(N,p,room, clump_size = 3):\n",
    "    Nvax = round(N*p)\n",
    "    Nunvax = N-Nvax\n",
    "    room = room.drop('UnvaxSpot',axis = 1).reset_index()\n",
    "    grid = room.copy()\n",
    "    grid['seating'] = 'E'\n",
    "    \n",
    "    if Nunvax > 0:\n",
    "        clump_size = min(clump_size,Nunvax)\n",
    "        num_clumps = math.floor(Nunvax/clump_size)\n",
    "        remainder = Nunvax - num_clumps*clump_size\n",
    "        clump = 0\n",
    "        while clump < (num_clumps):\n",
    "            ind1 = np.random.choice(room['index'].values,replace = False)\n",
    "            grid['seating'].loc[grid['index'] == ind1] = 'U'\n",
    "            room = room.drop(ind1, axis = 0)\n",
    "            x_temp = grid['x'].loc[grid['index'] == ind1].values[0]\n",
    "            y_temp = grid['y'].loc[grid['index'] == ind1].values[0]  \n",
    "            temp = room.copy()\n",
    "            temp['dist_infected'] = ((temp['x'] -x_temp) ** 2 + (temp['y'] - y_temp) ** 2) ** 0.5\n",
    "            temp = temp.sort_values('dist_infected', ascending = True).head(clump_size-1)\n",
    "            grid['seating'].loc[grid['index'].isin(temp['index'].values)] = 'U'\n",
    "            room = room.drop(temp['index'].values, axis = 0)\n",
    "            clump = clump + 1\n",
    "        remainder_ind = np.random.choice(grid['index'].loc[grid['seating'] == 'E'],remainder,replace = False)\n",
    "        grid['seating'].loc[grid['index'].isin(remainder_ind)] = 'U'\n",
    "\n",
    "    vax_ind = np.random.choice(grid['index'].loc[grid['seating'] == 'E'],Nvax,replace = False) \n",
    "    grid['seating'].loc[grid['index'].isin(vax_ind)] = 'V'\n",
    "    \n",
    "    return grid\n",
    "\n",
    "def generate_random_plan(N,p,room):\n",
    "    Nvax = round(N*p)\n",
    "    Nunvax = N-Nvax\n",
    "    \n",
    "    room = room.drop('UnvaxSpot',axis = 1)\n",
    "    grid = room.copy()\n",
    "    grid = grid.reset_index()\n",
    "    temp = list(np.append(np.append(np.repeat('V',Nvax),np.repeat('U',Nunvax)),np.repeat('E',len(grid)-Nvax-Nunvax)))\n",
    "    random.shuffle(temp)\n",
    "    grid['seating'] = temp\n",
    "    return grid\n"
   ]
  },
  {
   "cell_type": "markdown",
   "metadata": {},
   "source": [
    "# Load Room Plans"
   ]
  },
  {
   "cell_type": "code",
   "execution_count": 25,
   "metadata": {},
   "outputs": [
    {
     "data": {
      "text/plain": [
       "([], [])"
      ]
     },
     "execution_count": 25,
     "metadata": {},
     "output_type": "execute_result"
    },
    {
     "data": {
      "image/png": "[encoded data removed]",
      "text/plain": [
       "<Figure size 432x288 with 1 Axes>"
      ]
     },
     "metadata": {},
     "output_type": "display_data"
    }
   ],
   "source": [
    "# Big Room\n",
    "with open(\"../Data/rk201.pickle\" , 'rb') as handle:\n",
    "    layout = pickle.load(handle)\n",
    "\n",
    "big_pixels_per_foot = (2074-1575)/20\n",
    "big_volume = 1684283\n",
    "\n",
    "x_coord = [i.x for i in layout['Middles']]\n",
    "y_coord = [i.y for i in layout['Middles']]\n",
    "room = pd.DataFrame(np.column_stack((x_coord,y_coord)), columns = ['x','y'])\n",
    "room['UnvaxSpot'] = layout['In Solution']\n",
    "\n",
    "\n",
    "\n",
    "FA2020room = room.copy()\n",
    "FA2020room['label'] = FA2020room.index\n",
    "\n",
    "#label of seats used in 2020\n",
    "indicies = [282,283,284,285, 286,287,288,289,290,365,238,270,273,110,362,358,227,222,260,104,100,348,352,207,20,250,89,\n",
    "           93,76,80,189,193,172,163,339,334,321,168,25,2,61,65,51,14,121,138,149,308,312,299,294,144,124,34,40,36]\n",
    "FA2020room['UnvaxSpot'] = 0\n",
    "FA2020room['UnvaxSpot'].iloc[indicies] = 1\n",
    "FA2020room.drop('label', axis =1,inplace = True)\n",
    "FA2020room['seating'] = 'E'\n",
    "FA2020room['seating'].loc[FA2020room['UnvaxSpot'] == 1] = 'U'\n",
    "plt.figure()\n",
    "plt.scatter(FA2020room[FA2020room['UnvaxSpot'] == 0]['x'],FA2020room[FA2020room['UnvaxSpot'] == 0]['y'])\n",
    "plt.scatter(FA2020room[FA2020room['UnvaxSpot'] == 1]['x'],FA2020room[FA2020room['UnvaxSpot'] == 1]['y'], label = 'Available Seat')\n",
    "plt.title('Rockefeller 201 Seating Plan')\n",
    "FA2020_subset = FA2020room[FA2020room['UnvaxSpot']==1 ].reset_index().drop('index', axis = 1)\n",
    "big_plan = FA2020_subset.copy()\n",
    "plt.legend()\n",
    "plt.xticks([])\n",
    "plt.yticks([])\n",
    "#print([big_pixels_per_foot,big_volume,big_plan])"
   ]
  },
  {
   "cell_type": "code",
   "execution_count": 15,
   "metadata": {},
   "outputs": [
    {
     "data": {
      "text/plain": [
       "<matplotlib.legend.Legend at 0x7f8d687bf8b0>"
      ]
     },
     "execution_count": 15,
     "metadata": {},
     "output_type": "execute_result"
    },
    {
     "data": {
      "image/png": "[encoded data removed]",
      "text/plain": [
       "<Figure size 432x288 with 1 Axes>"
      ]
     },
     "metadata": {},
     "output_type": "display_data"
    }
   ],
   "source": [
    "with open(\"../Data/gtsg01.pickle\" , 'rb') as handle:\n",
    "    layout = pickle.load(handle)\n",
    "\n",
    "medium_pixels_per_foot = (2834-2082)/20\n",
    "medium_volume = 1087931\n",
    "\n",
    "x_coord = [-i.x +3000 for i in layout['Middles']]\n",
    "y_coord = [-i.y +3000 for i in layout['Middles']]\n",
    "room = pd.DataFrame(np.column_stack((x_coord,y_coord)), columns = ['x','y'])\n",
    "room['UnvaxSpot'] = layout['In Solution']\n",
    "room_subset = room[room['UnvaxSpot'] == 1].reset_index().drop('index',axis = 1)\n",
    "medium_plan = room_subset.copy()\n",
    "\n",
    "plt.scatter(room[room['UnvaxSpot'] == 0]['x'],room[room['UnvaxSpot'] == 0]['y'])\n",
    "plt.scatter(room[room['UnvaxSpot'] == 1]['x'],room[room['UnvaxSpot'] == 1]['y'], label = 'Available Seat')\n",
    "plt.title('Gates G01 Seating Plan')\n",
    "plt.xticks([])\n",
    "plt.yticks([])\n",
    "plt.legend()"
   ]
  },
  {
   "cell_type": "code",
   "execution_count": 16,
   "metadata": {},
   "outputs": [
    {
     "data": {
      "text/plain": [
       "([], [])"
      ]
     },
     "execution_count": 16,
     "metadata": {},
     "output_type": "execute_result"
    },
    {
     "data": {
      "image/png": "[encoded data removed]",
      "text/plain": [
       "<Figure size 432x288 with 1 Axes>"
      ]
     },
     "metadata": {},
     "output_type": "display_data"
    }
   ],
   "source": [
    "# Small Room\n",
    "with open(\"../Data/hls206.pickle\" , 'rb') as handle:\n",
    "    layout = pickle.load(handle)\n",
    "\n",
    "small_pixels_per_foot = (2014-1260)/15\n",
    "small_volume = 222004\n",
    "\n",
    "x_coord = [i.x for i in layout['Middles']]\n",
    "y_coord = [i.y for i in layout['Middles']]\n",
    "room = pd.DataFrame(np.column_stack((x_coord,y_coord)), columns = ['x','y'])\n",
    "room['UnvaxSpot'] = layout['In Solution']\n",
    "\n",
    "\n",
    "small_plan = room.copy()\n",
    "\n",
    "\n",
    "plt.figure()\n",
    "plt.scatter(small_plan[small_plan['UnvaxSpot'] == 0]['x'],small_plan[small_plan['UnvaxSpot'] == 0]['y'])\n",
    "plt.scatter(small_plan[small_plan['UnvaxSpot'] == 1]['x'],small_plan[small_plan['UnvaxSpot'] == 1]['y'],  label = 'Available Seat')\n",
    "plt.title('Holister 206 Seating Plan')\n",
    "plt.legend()\n",
    "plt.xticks([])\n",
    "plt.yticks([])\n",
    "\n",
    "#print([small_pixels_per_foot,small_volume,small_plan])"
   ]
  },
  {
   "cell_type": "code",
   "execution_count": 17,
   "metadata": {
    "scrolled": false
   },
   "outputs": [
    {
     "name": "stdout",
     "output_type": "stream",
     "text": [
      "V    35\n",
      "U    15\n",
      "E     6\n",
      "Name: seating, dtype: int64\n",
      "V    35\n",
      "E    27\n",
      "U    15\n",
      "Name: seating, dtype: int64\n",
      "V    35\n",
      "U    15\n",
      "E     2\n",
      "Name: seating, dtype: int64\n",
      "V    35\n",
      "U    15\n",
      "E     6\n",
      "Name: seating, dtype: int64\n",
      "V    35\n",
      "E    27\n",
      "U    15\n",
      "Name: seating, dtype: int64\n",
      "V    35\n",
      "U    15\n",
      "E     2\n",
      "Name: seating, dtype: int64\n"
     ]
    },
    {
     "data": {
      "image/png": "[encoded data removed]",
      "text/plain": [
       "<Figure size 432x288 with 1 Axes>"
      ]
     },
     "metadata": {},
     "output_type": "display_data"
    },
    {
     "data": {
      "image/png": "[encoded data removed]",
      "text/plain": [
       "<Figure size 432x288 with 1 Axes>"
      ]
     },
     "metadata": {},
     "output_type": "display_data"
    },
    {
     "data": {
      "image/png": "[encoded data removed]",
      "text/plain": [
       "<Figure size 432x288 with 1 Axes>"
      ]
     },
     "metadata": {},
     "output_type": "display_data"
    },
    {
     "data": {
      "image/png": "[encoded data removed]",
      "text/plain": [
       "<Figure size 432x288 with 1 Axes>"
      ]
     },
     "metadata": {},
     "output_type": "display_data"
    },
    {
     "data": {
      "image/png": "[encoded data removed]",
      "text/plain": [
       "<Figure size 432x288 with 1 Axes>"
      ]
     },
     "metadata": {},
     "output_type": "display_data"
    },
    {
     "data": {
      "image/png": "[encoded data removed]",
      "text/plain": [
       "<Figure size 432x288 with 1 Axes>"
      ]
     },
     "metadata": {},
     "output_type": "display_data"
    }
   ],
   "source": [
    "grid = generate_clumpy_plan(50,.7,big_plan,3)\n",
    "plt.figure()\n",
    "plt.scatter(grid[grid['seating'] == 'U']['x'],grid[grid['seating'] == 'U']['y'], label = 'Unvax',color = 'red')\n",
    "plt.scatter(grid[grid['seating'] == 'V']['x'],grid[grid['seating'] == 'V']['y'], label = 'Vax',color = 'blue')\n",
    "plt.scatter(grid[grid['seating'] == 'E']['x'],grid[grid['seating'] == 'E']['y'], label = 'Empty',color = 'grey')\n",
    "plt.scatter(FA2020room[FA2020room['UnvaxSpot'] == 0]['x'],FA2020room[FA2020room['UnvaxSpot'] == 0]['y'],color = 'grey')\n",
    "plt.title('Big Room '+ 'Clump Seating')\n",
    "plt.legend()\n",
    "plt.xticks([])\n",
    "plt.yticks([])\n",
    "print(grid['seating'].value_counts())\n",
    "\n",
    "grid = generate_clumpy_plan(50,.7,medium_plan,3)\n",
    "plt.figure()\n",
    "plt.scatter(grid[grid['seating'] == 'U']['x'],grid[grid['seating'] == 'U']['y'], label = 'Unvax',color = 'red')\n",
    "plt.scatter(grid[grid['seating'] == 'V']['x'],grid[grid['seating'] == 'V']['y'], label = 'Vax',color = 'blue')\n",
    "plt.scatter(grid[grid['seating'] == 'E']['x'],grid[grid['seating'] == 'E']['y'], label = 'Empty',color = 'grey')\n",
    "plt.title('Medium Room '+ 'Clump Seating')\n",
    "plt.legend()\n",
    "plt.xticks([])\n",
    "plt.yticks([])\n",
    "print(grid['seating'].value_counts())\n",
    "\n",
    "\n",
    "grid = generate_clumpy_plan(50,.7,small_plan,3)\n",
    "plt.figure()\n",
    "plt.scatter(grid[grid['seating'] == 'U']['x'],grid[grid['seating'] == 'U']['y'], label = 'Unvax',color = 'red')\n",
    "plt.scatter(grid[grid['seating'] == 'V']['x'],grid[grid['seating'] == 'V']['y'], label = 'Vax',color = 'blue')\n",
    "plt.scatter(grid[grid['seating'] == 'E']['x'],grid[grid['seating'] == 'E']['y'], label = 'Empty',color = 'grey')\n",
    "plt.title('Small Room '+ 'Clump Seating')\n",
    "plt.legend()\n",
    "plt.xticks([])\n",
    "plt.yticks([])\n",
    "print(grid['seating'].value_counts())\n",
    "\n",
    "grid = generate_random_plan(50,.7,big_plan)\n",
    "plt.figure()\n",
    "plt.scatter(grid[grid['seating'] == 'U']['x'],grid[grid['seating'] == 'U']['y'], label = 'Unvax',color = 'red')\n",
    "plt.scatter(grid[grid['seating'] == 'V']['x'],grid[grid['seating'] == 'V']['y'], label = 'Vax',color = 'blue')\n",
    "plt.scatter(grid[grid['seating'] == 'E']['x'],grid[grid['seating'] == 'E']['y'], label = 'Empty',color = 'grey')\n",
    "plt.scatter(FA2020room[FA2020room['UnvaxSpot'] == 0]['x'],FA2020room[FA2020room['UnvaxSpot'] == 0]['y'],color = 'grey')\n",
    "plt.title('Big Room '+ 'Random Seating')\n",
    "plt.legend()\n",
    "plt.xticks([])\n",
    "plt.yticks([])\n",
    "print(grid['seating'].value_counts())\n",
    "\n",
    "grid = generate_random_plan(50,.7,medium_plan)\n",
    "plt.figure()\n",
    "plt.scatter(grid[grid['seating'] == 'U']['x'],grid[grid['seating'] == 'U']['y'], label = 'Unvax',color = 'red')\n",
    "plt.scatter(grid[grid['seating'] == 'V']['x'],grid[grid['seating'] == 'V']['y'], label = 'Vax',color = 'blue')\n",
    "plt.scatter(grid[grid['seating'] == 'E']['x'],grid[grid['seating'] == 'E']['y'], label = 'Empty',color = 'grey')\n",
    "plt.title('Medium Room '+ 'Random Seating')\n",
    "plt.legend()\n",
    "plt.xticks([])\n",
    "plt.yticks([])\n",
    "print(grid['seating'].value_counts())\n",
    "\n",
    "grid = generate_random_plan(50,.7,small_plan)\n",
    "plt.figure()\n",
    "plt.scatter(grid[grid['seating'] == 'U']['x'],grid[grid['seating'] == 'U']['y'], label = 'Unvax',color = 'red')\n",
    "plt.scatter(grid[grid['seating'] == 'V']['x'],grid[grid['seating'] == 'V']['y'], label = 'Vax',color = 'blue')\n",
    "plt.scatter(grid[grid['seating'] == 'E']['x'],grid[grid['seating'] == 'E']['y'], label = 'Empty',color = 'grey')\n",
    "plt.title('Small Room '+ 'Random Seating')\n",
    "plt.legend()\n",
    "plt.xticks([])\n",
    "plt.yticks([])\n",
    "print(grid['seating'].value_counts())"
   ]
  },
  {
   "cell_type": "markdown",
   "metadata": {},
   "source": [
    "### Simulator"
   ]
  },
  {
   "cell_type": "code",
   "execution_count": 18,
   "metadata": {},
   "outputs": [],
   "source": [
    "#General Parameters\n",
    "seating_function = generate_clumpy_plan\n",
    "p_range = [0.5,0.6,0.7,0.8,0.9,1.0]\n",
    "\n",
    "N = 50\n",
    "angle = 15\n",
    "time = 1\n",
    "\n",
    "\n",
    "class_risk_params = {\n",
    "    'prevalence': 5*10**(-4),\n",
    "    'vax_effectiveness': .715,\n",
    "    'sensitivity': 0.6,\n",
    "    'mask_efficacy': 0.4\n",
    "}\n",
    "\n",
    "\n",
    "aerosol_params = {\n",
    "    'inhale_air_rate': 6.8,\n",
    "    'dose_response_constant': 1440,\n",
    "    \n",
    "    'nominal_breathe_virus_emitted_hourly': 3300,# corresponding to 10^8 copies / mL\n",
    "    'nominal_talk_virus_emitted_hourly' : 27300,\n",
    "    'nominal_sing_virus_emitted_hourly' : 330000,\n",
    "    'nominal_heavy_breathe_virus_emitted_hourly': 3300*15,\n",
    "\n",
    "    'viral_load_distribution': [0.12, 0.22, 0.3, 0.23, 0.103, 0.0236, 0.0034] # over orders of magnitude from 10^5 to 10^11\n",
    "}\n",
    "\n",
    "\n",
    "\n",
    "\n",
    "args = [[]]\n",
    "\n",
    "\n",
    "\n",
    "args = [\n",
    "    \n",
    "    [False,big_plan,big_volume,big_pixels_per_foot,'no_aerosol',2,'distanced_outside_nomask'],\n",
    "    [True,big_plan,big_volume,big_pixels_per_foot,'no_aerosol',2,'distanced_outside_unvaxmask'],\n",
    "    \n",
    "    [False,big_plan,big_volume,big_pixels_per_foot,'breathe',2,'distanced_breathe_nomask_2x'],\n",
    "    [False,big_plan,big_volume,big_pixels_per_foot,'breathe',4,'distanced_breathe_nomask_4x'],\n",
    "    \n",
    "    [True,big_plan,big_volume,big_pixels_per_foot,'breathe',2,'distanced_breathe_unvaxmask_2x'],\n",
    "    [True,big_plan,big_volume,big_pixels_per_foot,'breathe',4,'distanced_breathe_unvaxmask_4x'],\n",
    "    \n",
    "    [False,big_plan,big_volume,big_pixels_per_foot,'speak',2,'distanced_speak_nomask_2x'],\n",
    "    [False,big_plan,big_volume,big_pixels_per_foot,'speak',4,'distanced_speak_nomask_4x'],\n",
    "    \n",
    "    [True,big_plan,big_volume,big_pixels_per_foot,'speak',2,'distanced_speak_unvaxmask_2x'],\n",
    "    [True,big_plan,big_volume,big_pixels_per_foot,'speak',4,'distanced_speak_unvaxmask_4x'],\n",
    "    \n",
    "    \n",
    "    [False,big_plan,big_volume,big_pixels_per_foot,'sing',2,'distanced_sing_nomask_2x'],  ###\n",
    "    [False,big_plan,big_volume,big_pixels_per_foot,'sing',4,'distanced_sing_nomask_4x'], ###\n",
    "    \n",
    "    [True,big_plan,big_volume,big_pixels_per_foot,'sing',2,'distanced_sing_unvaxmask_2x'], ###\n",
    "    [True,big_plan,big_volume,big_pixels_per_foot,'sing',4,'distanced_sing_unvaxmask_4x'], ###\n",
    "    \n",
    "    \n",
    "    #############################################################################################\n",
    "    \n",
    "    [False,medium_plan,medium_volume,medium_pixels_per_foot,'no_aerosol',2,'moderate_outside_nomask'],\n",
    "    [True,medium_plan,medium_volume,medium_pixels_per_foot,'no_aerosol',2,'moderate_outside_unvaxmask'],\n",
    "    \n",
    "    [False,medium_plan,medium_volume,medium_pixels_per_foot,'breathe',2,'moderate_breathe_nomask_2x'],\n",
    "    [False,medium_plan,medium_volume,medium_pixels_per_foot,'breathe',4,'moderate_breathe_nomask_4x'],\n",
    "    \n",
    "    [True,medium_plan,medium_volume,medium_pixels_per_foot,'breathe',2,'moderate_breathe_unvaxmask_2x'],\n",
    "    [True,medium_plan,medium_volume,medium_pixels_per_foot,'breathe',4,'moderate_breathe_unvaxmask_4x'],\n",
    "    \n",
    "    [False,medium_plan,medium_volume,medium_pixels_per_foot,'speak',2,'moderate_speak_nomask_2x'],\n",
    "    [False,medium_plan,medium_volume,medium_pixels_per_foot,'speak',4,'moderate_speak_nomask_4x'],\n",
    "    \n",
    "    [True,medium_plan,medium_volume,medium_pixels_per_foot,'speak',2,'moderate_speak_unvaxmask_2x'],\n",
    "    [True,medium_plan,medium_volume,medium_pixels_per_foot,'speak',4,'moderate_speak_unvaxmask_4x'],\n",
    "    \n",
    "    \n",
    "    [False,medium_plan,medium_volume,medium_pixels_per_foot,'sing',2,'moderate_sing_nomask_2x'],  ###\n",
    "    [False,medium_plan,medium_volume,medium_pixels_per_foot,'sing',4,'moderate_sing_nomask_4x'], ###\n",
    "    \n",
    "    [True,medium_plan,medium_volume,medium_pixels_per_foot,'sing',2,'moderate_sing_unvaxmask_2x'], ###\n",
    "    [True,medium_plan,medium_volume,medium_pixels_per_foot,'sing',4,'moderate_sing_unvaxmask_4x'], ###\n",
    "    \n",
    "    \n",
    "    \n",
    "    #############################################################################################\n",
    "    \n",
    "    [False,small_plan,small_volume,small_pixels_per_foot,'no_aerosol',2,'dense_outside_nomask'],\n",
    "    [True,small_plan,small_volume,small_pixels_per_foot,'no_aerosol',2,'dense_outside_unvaxmask'],\n",
    "    \n",
    "    [False,small_plan,small_volume,small_pixels_per_foot,'breathe',2,'dense_breathe_nomask_2x'],\n",
    "    [False,small_plan,small_volume,small_pixels_per_foot,'breathe',4,'dense_breathe_nomask_4x'],\n",
    "    \n",
    "    [True,small_plan,small_volume,small_pixels_per_foot,'breathe',2,'dense_breathe_unvaxmask_2x'],\n",
    "    [True,small_plan,small_volume,small_pixels_per_foot,'breathe',4,'dense_breathe_unvaxmask_4x'],\n",
    "    \n",
    "    [False,small_plan,small_volume,small_pixels_per_foot,'speak',2,'dense_speak_nomask_2x'],\n",
    "    [False,small_plan,small_volume,small_pixels_per_foot,'speak',4,'dense_speak_nomask_4x'],\n",
    "    \n",
    "    [True,small_plan,small_volume,small_pixels_per_foot,'speak',2,'dense_speak_unvaxmask_2x'],\n",
    "    [True,small_plan,small_volume,small_pixels_per_foot,'speak',4,'dense_speak_unvaxmask_4x'],\n",
    "    \n",
    "    \n",
    "    [False,small_plan,small_volume,small_pixels_per_foot,'sing',2,'dense_sing_nomask_2x'],  ###\n",
    "    [False,small_plan,small_volume,small_pixels_per_foot,'sing',4,'dense_sing_nomask_4x'], ###\n",
    "    \n",
    "    [True,small_plan,small_volume,small_pixels_per_foot,'sing',2,'dense_sing_unvaxmask_2x'], ###\n",
    "    [True,small_plan,small_volume,small_pixels_per_foot,'sing',4,'dense_sing_unvaxmask_4x'], ###\n",
    "    \n",
    "    \n",
    "  \n",
    "       ]\n",
    "\n"
   ]
  },
  {
   "cell_type": "code",
   "execution_count": 19,
   "metadata": {},
   "outputs": [],
   "source": [
    "@ray.remote\n",
    "def parallel_wrapper(p):\n",
    "    trial = 0\n",
    "    results = []\n",
    "    results_aerosol = []\n",
    "    while trial < 500:\n",
    "        grid = seating_function(N,p,room)\n",
    "        p_generate = (1-class_risk_params['vax_effectiveness'])*p/(1-class_risk_params['vax_effectiveness']*p)\n",
    "        ind = flip(p_generate)\n",
    "        if sum(grid['seating'] == 'V') == 0:\n",
    "            ind = 0\n",
    "        elif sum(grid['seating'] == 'U') == 0:\n",
    "            ind = 1\n",
    "        \n",
    "        infect,aerosol = simulate_class_single_aerosol(grid,ind, 1-ind, time,angle,masked_status,class_type,room_vol,N,pixels_per_foot,air_exchanges_per_hour)\n",
    "        results.append(infect)\n",
    "        results_aerosol.append(aerosol)\n",
    "        trial = trial + 1\n",
    "    return [p,np.mean(results),np.std(results), np.mean(results_aerosol)]"
   ]
  },
  {
   "cell_type": "code",
   "execution_count": 20,
   "metadata": {
    "scrolled": true
   },
   "outputs": [
    {
     "name": "stdout",
     "output_type": "stream",
     "text": [
      "distanced_outside_nomask\n"
     ]
    },
    {
     "name": "stderr",
     "output_type": "stream",
     "text": [
      "2021-08-15 13:02:06,337\tINFO services.py:1245 -- View the Ray dashboard at \u001b[1m\u001b[32mhttp://127.0.0.1:8265\u001b[39m\u001b[22m\n"
     ]
    },
    {
     "name": "stdout",
     "output_type": "stream",
     "text": [
      "distanced_outside_unvaxmask\n"
     ]
    },
    {
     "name": "stderr",
     "output_type": "stream",
     "text": [
      "2021-08-15 13:03:08,951\tINFO services.py:1245 -- View the Ray dashboard at \u001b[1m\u001b[32mhttp://127.0.0.1:8265\u001b[39m\u001b[22m\n"
     ]
    },
    {
     "name": "stdout",
     "output_type": "stream",
     "text": [
      "distanced_breathe_nomask_2x\n"
     ]
    },
    {
     "name": "stderr",
     "output_type": "stream",
     "text": [
      "2021-08-15 13:04:13,713\tINFO services.py:1245 -- View the Ray dashboard at \u001b[1m\u001b[32mhttp://127.0.0.1:8265\u001b[39m\u001b[22m\n"
     ]
    },
    {
     "name": "stdout",
     "output_type": "stream",
     "text": [
      "distanced_breathe_nomask_4x\n"
     ]
    },
    {
     "name": "stderr",
     "output_type": "stream",
     "text": [
      "2021-08-15 13:05:19,052\tINFO services.py:1245 -- View the Ray dashboard at \u001b[1m\u001b[32mhttp://127.0.0.1:8265\u001b[39m\u001b[22m\n"
     ]
    },
    {
     "name": "stdout",
     "output_type": "stream",
     "text": [
      "distanced_breathe_unvaxmask_2x\n"
     ]
    },
    {
     "name": "stderr",
     "output_type": "stream",
     "text": [
      "2021-08-15 13:06:22,720\tINFO services.py:1245 -- View the Ray dashboard at \u001b[1m\u001b[32mhttp://127.0.0.1:8265\u001b[39m\u001b[22m\n"
     ]
    },
    {
     "name": "stdout",
     "output_type": "stream",
     "text": [
      "distanced_breathe_unvaxmask_4x\n"
     ]
    },
    {
     "name": "stderr",
     "output_type": "stream",
     "text": [
      "2021-08-15 13:07:28,865\tINFO services.py:1245 -- View the Ray dashboard at \u001b[1m\u001b[32mhttp://127.0.0.1:8265\u001b[39m\u001b[22m\n"
     ]
    },
    {
     "name": "stdout",
     "output_type": "stream",
     "text": [
      "distanced_speak_nomask_2x\n"
     ]
    },
    {
     "name": "stderr",
     "output_type": "stream",
     "text": [
      "2021-08-15 13:08:31,647\tINFO services.py:1245 -- View the Ray dashboard at \u001b[1m\u001b[32mhttp://127.0.0.1:8265\u001b[39m\u001b[22m\n"
     ]
    },
    {
     "name": "stdout",
     "output_type": "stream",
     "text": [
      "distanced_speak_nomask_4x\n"
     ]
    },
    {
     "name": "stderr",
     "output_type": "stream",
     "text": [
      "2021-08-15 13:09:32,406\tINFO services.py:1245 -- View the Ray dashboard at \u001b[1m\u001b[32mhttp://127.0.0.1:8265\u001b[39m\u001b[22m\n"
     ]
    },
    {
     "name": "stdout",
     "output_type": "stream",
     "text": [
      "distanced_speak_unvaxmask_2x\n"
     ]
    },
    {
     "name": "stderr",
     "output_type": "stream",
     "text": [
      "2021-08-15 13:10:33,348\tINFO services.py:1245 -- View the Ray dashboard at \u001b[1m\u001b[32mhttp://127.0.0.1:8265\u001b[39m\u001b[22m\n"
     ]
    },
    {
     "name": "stdout",
     "output_type": "stream",
     "text": [
      "distanced_speak_unvaxmask_4x\n"
     ]
    },
    {
     "name": "stderr",
     "output_type": "stream",
     "text": [
      "2021-08-15 13:11:33,564\tINFO services.py:1245 -- View the Ray dashboard at \u001b[1m\u001b[32mhttp://127.0.0.1:8265\u001b[39m\u001b[22m\n"
     ]
    },
    {
     "name": "stdout",
     "output_type": "stream",
     "text": [
      "distanced_sing_nomask_2x\n"
     ]
    },
    {
     "name": "stderr",
     "output_type": "stream",
     "text": [
      "2021-08-15 13:12:34,127\tINFO services.py:1245 -- View the Ray dashboard at \u001b[1m\u001b[32mhttp://127.0.0.1:8265\u001b[39m\u001b[22m\n"
     ]
    },
    {
     "name": "stdout",
     "output_type": "stream",
     "text": [
      "distanced_sing_nomask_4x\n"
     ]
    },
    {
     "name": "stderr",
     "output_type": "stream",
     "text": [
      "2021-08-15 13:13:36,739\tINFO services.py:1245 -- View the Ray dashboard at \u001b[1m\u001b[32mhttp://127.0.0.1:8265\u001b[39m\u001b[22m\n"
     ]
    },
    {
     "name": "stdout",
     "output_type": "stream",
     "text": [
      "distanced_sing_unvaxmask_2x\n"
     ]
    },
    {
     "name": "stderr",
     "output_type": "stream",
     "text": [
      "2021-08-15 13:14:37,750\tINFO services.py:1245 -- View the Ray dashboard at \u001b[1m\u001b[32mhttp://127.0.0.1:8265\u001b[39m\u001b[22m\n"
     ]
    },
    {
     "name": "stdout",
     "output_type": "stream",
     "text": [
      "distanced_sing_unvaxmask_4x\n"
     ]
    },
    {
     "name": "stderr",
     "output_type": "stream",
     "text": [
      "2021-08-15 13:15:38,447\tINFO services.py:1245 -- View the Ray dashboard at \u001b[1m\u001b[32mhttp://127.0.0.1:8265\u001b[39m\u001b[22m\n"
     ]
    },
    {
     "name": "stdout",
     "output_type": "stream",
     "text": [
      "moderate_outside_nomask\n"
     ]
    },
    {
     "name": "stderr",
     "output_type": "stream",
     "text": [
      "2021-08-15 13:16:41,051\tINFO services.py:1245 -- View the Ray dashboard at \u001b[1m\u001b[32mhttp://127.0.0.1:8265\u001b[39m\u001b[22m\n"
     ]
    },
    {
     "name": "stdout",
     "output_type": "stream",
     "text": [
      "moderate_outside_unvaxmask\n"
     ]
    },
    {
     "name": "stderr",
     "output_type": "stream",
     "text": [
      "2021-08-15 13:17:41,174\tINFO services.py:1245 -- View the Ray dashboard at \u001b[1m\u001b[32mhttp://127.0.0.1:8265\u001b[39m\u001b[22m\n"
     ]
    },
    {
     "name": "stdout",
     "output_type": "stream",
     "text": [
      "moderate_breathe_nomask_2x\n"
     ]
    },
    {
     "name": "stderr",
     "output_type": "stream",
     "text": [
      "2021-08-15 13:18:41,733\tINFO services.py:1245 -- View the Ray dashboard at \u001b[1m\u001b[32mhttp://127.0.0.1:8265\u001b[39m\u001b[22m\n"
     ]
    },
    {
     "name": "stdout",
     "output_type": "stream",
     "text": [
      "moderate_breathe_nomask_4x\n"
     ]
    },
    {
     "name": "stderr",
     "output_type": "stream",
     "text": [
      "2021-08-15 13:21:22,618\tINFO services.py:1245 -- View the Ray dashboard at \u001b[1m\u001b[32mhttp://127.0.0.1:8265\u001b[39m\u001b[22m\n",
      "2021-08-15 13:21:24,081\tWARNING worker.py:1189 -- The agent on node Brians-MBP.attlocal.net failed with the following error:\n",
      "Traceback (most recent call last):\n",
      "  File \"/Users/brianliu/opt/anaconda3/lib/python3.8/site-packages/ray/new_dashboard/agent.py\", line 354, in <module>\n",
      "    loop.run_until_complete(agent.run())\n",
      "  File \"/Users/brianliu/opt/anaconda3/lib/python3.8/asyncio/base_events.py\", line 616, in run_until_complete\n",
      "    return future.result()\n",
      "  File \"/Users/brianliu/opt/anaconda3/lib/python3.8/site-packages/ray/new_dashboard/agent.py\", line 144, in run\n",
      "    modules = self._load_modules()\n",
      "  File \"/Users/brianliu/opt/anaconda3/lib/python3.8/site-packages/ray/new_dashboard/agent.py\", line 98, in _load_modules\n",
      "    c = cls(self)\n",
      "  File \"/Users/brianliu/opt/anaconda3/lib/python3.8/site-packages/ray/new_dashboard/modules/reporter/reporter_agent.py\", line 148, in __init__\n",
      "    self._metrics_agent = MetricsAgent(dashboard_agent.metrics_export_port)\n",
      "  File \"/Users/brianliu/opt/anaconda3/lib/python3.8/site-packages/ray/_private/metrics_agent.py\", line 75, in __init__\n",
      "    prometheus_exporter.new_stats_exporter(\n",
      "  File \"/Users/brianliu/opt/anaconda3/lib/python3.8/site-packages/ray/_private/prometheus_exporter.py\", line 333, in new_stats_exporter\n",
      "    exporter = PrometheusStatsExporter(\n",
      "  File \"/Users/brianliu/opt/anaconda3/lib/python3.8/site-packages/ray/_private/prometheus_exporter.py\", line 266, in __init__\n",
      "    self.serve_http()\n",
      "  File \"/Users/brianliu/opt/anaconda3/lib/python3.8/site-packages/ray/_private/prometheus_exporter.py\", line 320, in serve_http\n",
      "    start_http_server(\n",
      "  File \"/Users/brianliu/opt/anaconda3/lib/python3.8/site-packages/prometheus_client/exposition.py\", line 149, in start_wsgi_server\n",
      "    httpd = make_server(addr, port, app, ThreadingWSGIServer, handler_class=_SilentHandler)\n",
      "  File \"/Users/brianliu/opt/anaconda3/lib/python3.8/wsgiref/simple_server.py\", line 154, in make_server\n",
      "    server = server_class((host, port), handler_class)\n",
      "  File \"/Users/brianliu/opt/anaconda3/lib/python3.8/socketserver.py\", line 452, in __init__\n",
      "    self.server_bind()\n",
      "  File \"/Users/brianliu/opt/anaconda3/lib/python3.8/wsgiref/simple_server.py\", line 50, in server_bind\n",
      "    HTTPServer.server_bind(self)\n",
      "  File \"/Users/brianliu/opt/anaconda3/lib/python3.8/http/server.py\", line 138, in server_bind\n",
      "    socketserver.TCPServer.server_bind(self)\n",
      "  File \"/Users/brianliu/opt/anaconda3/lib/python3.8/socketserver.py\", line 466, in server_bind\n",
      "    self.socket.bind(self.server_address)\n",
      "OSError: [Errno 48] Address already in use\n",
      "\n",
      "2021-08-15 13:21:26,674\tWARNING worker.py:1189 -- The agent on node Brians-MBP.attlocal.net failed with the following error:\n",
      "Traceback (most recent call last):\n",
      "  File \"/Users/brianliu/opt/anaconda3/lib/python3.8/site-packages/ray/new_dashboard/agent.py\", line 354, in <module>\n",
      "    loop.run_until_complete(agent.run())\n",
      "  File \"/Users/brianliu/opt/anaconda3/lib/python3.8/asyncio/base_events.py\", line 616, in run_until_complete\n",
      "    return future.result()\n",
      "  File \"/Users/brianliu/opt/anaconda3/lib/python3.8/site-packages/ray/new_dashboard/agent.py\", line 144, in run\n",
      "    modules = self._load_modules()\n",
      "  File \"/Users/brianliu/opt/anaconda3/lib/python3.8/site-packages/ray/new_dashboard/agent.py\", line 98, in _load_modules\n",
      "    c = cls(self)\n",
      "  File \"/Users/brianliu/opt/anaconda3/lib/python3.8/site-packages/ray/new_dashboard/modules/reporter/reporter_agent.py\", line 148, in __init__\n",
      "    self._metrics_agent = MetricsAgent(dashboard_agent.metrics_export_port)\n",
      "  File \"/Users/brianliu/opt/anaconda3/lib/python3.8/site-packages/ray/_private/metrics_agent.py\", line 75, in __init__\n",
      "    prometheus_exporter.new_stats_exporter(\n",
      "  File \"/Users/brianliu/opt/anaconda3/lib/python3.8/site-packages/ray/_private/prometheus_exporter.py\", line 333, in new_stats_exporter\n",
      "    exporter = PrometheusStatsExporter(\n",
      "  File \"/Users/brianliu/opt/anaconda3/lib/python3.8/site-packages/ray/_private/prometheus_exporter.py\", line 266, in __init__\n",
      "    self.serve_http()\n",
      "  File \"/Users/brianliu/opt/anaconda3/lib/python3.8/site-packages/ray/_private/prometheus_exporter.py\", line 320, in serve_http\n",
      "    start_http_server(\n",
      "  File \"/Users/brianliu/opt/anaconda3/lib/python3.8/site-packages/prometheus_client/exposition.py\", line 149, in start_wsgi_server\n",
      "    httpd = make_server(addr, port, app, ThreadingWSGIServer, handler_class=_SilentHandler)\n",
      "  File \"/Users/brianliu/opt/anaconda3/lib/python3.8/wsgiref/simple_server.py\", line 154, in make_server\n",
      "    server = server_class((host, port), handler_class)\n",
      "  File \"/Users/brianliu/opt/anaconda3/lib/python3.8/socketserver.py\", line 452, in __init__\n",
      "    self.server_bind()\n",
      "  File \"/Users/brianliu/opt/anaconda3/lib/python3.8/wsgiref/simple_server.py\", line 50, in server_bind\n",
      "    HTTPServer.server_bind(self)\n",
      "  File \"/Users/brianliu/opt/anaconda3/lib/python3.8/http/server.py\", line 138, in server_bind\n",
      "    socketserver.TCPServer.server_bind(self)\n",
      "  File \"/Users/brianliu/opt/anaconda3/lib/python3.8/socketserver.py\", line 466, in server_bind\n",
      "    self.socket.bind(self.server_address)\n",
      "OSError: [Errno 48] Address already in use\n",
      "\n",
      "2021-08-15 13:21:29,567\tWARNING worker.py:1189 -- The agent on node Brians-MBP.attlocal.net failed with the following error:\n",
      "Traceback (most recent call last):\n",
      "  File \"/Users/brianliu/opt/anaconda3/lib/python3.8/site-packages/ray/new_dashboard/agent.py\", line 354, in <module>\n",
      "    loop.run_until_complete(agent.run())\n",
      "  File \"/Users/brianliu/opt/anaconda3/lib/python3.8/asyncio/base_events.py\", line 616, in run_until_complete\n",
      "    return future.result()\n",
      "  File \"/Users/brianliu/opt/anaconda3/lib/python3.8/site-packages/ray/new_dashboard/agent.py\", line 144, in run\n",
      "    modules = self._load_modules()\n",
      "  File \"/Users/brianliu/opt/anaconda3/lib/python3.8/site-packages/ray/new_dashboard/agent.py\", line 98, in _load_modules\n",
      "    c = cls(self)\n",
      "  File \"/Users/brianliu/opt/anaconda3/lib/python3.8/site-packages/ray/new_dashboard/modules/reporter/reporter_agent.py\", line 148, in __init__\n",
      "    self._metrics_agent = MetricsAgent(dashboard_agent.metrics_export_port)\n",
      "  File \"/Users/brianliu/opt/anaconda3/lib/python3.8/site-packages/ray/_private/metrics_agent.py\", line 75, in __init__\n",
      "    prometheus_exporter.new_stats_exporter(\n",
      "  File \"/Users/brianliu/opt/anaconda3/lib/python3.8/site-packages/ray/_private/prometheus_exporter.py\", line 333, in new_stats_exporter\n",
      "    exporter = PrometheusStatsExporter(\n",
      "  File \"/Users/brianliu/opt/anaconda3/lib/python3.8/site-packages/ray/_private/prometheus_exporter.py\", line 266, in __init__\n",
      "    self.serve_http()\n",
      "  File \"/Users/brianliu/opt/anaconda3/lib/python3.8/site-packages/ray/_private/prometheus_exporter.py\", line 320, in serve_http\n",
      "    start_http_server(\n",
      "  File \"/Users/brianliu/opt/anaconda3/lib/python3.8/site-packages/prometheus_client/exposition.py\", line 149, in start_wsgi_server\n",
      "    httpd = make_server(addr, port, app, ThreadingWSGIServer, handler_class=_SilentHandler)\n",
      "  File \"/Users/brianliu/opt/anaconda3/lib/python3.8/wsgiref/simple_server.py\", line 154, in make_server\n",
      "    server = server_class((host, port), handler_class)\n",
      "  File \"/Users/brianliu/opt/anaconda3/lib/python3.8/socketserver.py\", line 452, in __init__\n",
      "    self.server_bind()\n",
      "  File \"/Users/brianliu/opt/anaconda3/lib/python3.8/wsgiref/simple_server.py\", line 50, in server_bind\n",
      "    HTTPServer.server_bind(self)\n",
      "  File \"/Users/brianliu/opt/anaconda3/lib/python3.8/http/server.py\", line 138, in server_bind\n",
      "    socketserver.TCPServer.server_bind(self)\n",
      "  File \"/Users/brianliu/opt/anaconda3/lib/python3.8/socketserver.py\", line 466, in server_bind\n",
      "    self.socket.bind(self.server_address)\n",
      "OSError: [Errno 48] Address already in use\n",
      "\n",
      "2021-08-15 13:21:32,247\tWARNING worker.py:1189 -- The agent on node Brians-MBP.attlocal.net failed with the following error:\n",
      "Traceback (most recent call last):\n",
      "  File \"/Users/brianliu/opt/anaconda3/lib/python3.8/site-packages/ray/new_dashboard/agent.py\", line 354, in <module>\n",
      "    loop.run_until_complete(agent.run())\n",
      "  File \"/Users/brianliu/opt/anaconda3/lib/python3.8/asyncio/base_events.py\", line 616, in run_until_complete\n",
      "    return future.result()\n",
      "  File \"/Users/brianliu/opt/anaconda3/lib/python3.8/site-packages/ray/new_dashboard/agent.py\", line 144, in run\n",
      "    modules = self._load_modules()\n",
      "  File \"/Users/brianliu/opt/anaconda3/lib/python3.8/site-packages/ray/new_dashboard/agent.py\", line 98, in _load_modules\n",
      "    c = cls(self)\n",
      "  File \"/Users/brianliu/opt/anaconda3/lib/python3.8/site-packages/ray/new_dashboard/modules/reporter/reporter_agent.py\", line 148, in __init__\n",
      "    self._metrics_agent = MetricsAgent(dashboard_agent.metrics_export_port)\n",
      "  File \"/Users/brianliu/opt/anaconda3/lib/python3.8/site-packages/ray/_private/metrics_agent.py\", line 75, in __init__\n",
      "    prometheus_exporter.new_stats_exporter(\n",
      "  File \"/Users/brianliu/opt/anaconda3/lib/python3.8/site-packages/ray/_private/prometheus_exporter.py\", line 333, in new_stats_exporter\n",
      "    exporter = PrometheusStatsExporter(\n",
      "  File \"/Users/brianliu/opt/anaconda3/lib/python3.8/site-packages/ray/_private/prometheus_exporter.py\", line 266, in __init__\n",
      "    self.serve_http()\n",
      "  File \"/Users/brianliu/opt/anaconda3/lib/python3.8/site-packages/ray/_private/prometheus_exporter.py\", line 320, in serve_http\n",
      "    start_http_server(\n",
      "  File \"/Users/brianliu/opt/anaconda3/lib/python3.8/site-packages/prometheus_client/exposition.py\", line 149, in start_wsgi_server\n",
      "    httpd = make_server(addr, port, app, ThreadingWSGIServer, handler_class=_SilentHandler)\n",
      "  File \"/Users/brianliu/opt/anaconda3/lib/python3.8/wsgiref/simple_server.py\", line 154, in make_server\n",
      "    server = server_class((host, port), handler_class)\n",
      "  File \"/Users/brianliu/opt/anaconda3/lib/python3.8/socketserver.py\", line 452, in __init__\n",
      "    self.server_bind()\n",
      "  File \"/Users/brianliu/opt/anaconda3/lib/python3.8/wsgiref/simple_server.py\", line 50, in server_bind\n",
      "    HTTPServer.server_bind(self)\n",
      "  File \"/Users/brianliu/opt/anaconda3/lib/python3.8/http/server.py\", line 138, in server_bind\n",
      "    socketserver.TCPServer.server_bind(self)\n",
      "  File \"/Users/brianliu/opt/anaconda3/lib/python3.8/socketserver.py\", line 466, in server_bind\n",
      "    self.socket.bind(self.server_address)\n",
      "OSError: [Errno 48] Address already in use\n",
      "\n"
     ]
    },
    {
     "name": "stderr",
     "output_type": "stream",
     "text": [
      "2021-08-15 13:21:35,138\tWARNING worker.py:1189 -- The agent on node Brians-MBP.attlocal.net failed with the following error:\n",
      "Traceback (most recent call last):\n",
      "  File \"/Users/brianliu/opt/anaconda3/lib/python3.8/site-packages/ray/new_dashboard/agent.py\", line 354, in <module>\n",
      "    loop.run_until_complete(agent.run())\n",
      "  File \"/Users/brianliu/opt/anaconda3/lib/python3.8/asyncio/base_events.py\", line 616, in run_until_complete\n",
      "    return future.result()\n",
      "  File \"/Users/brianliu/opt/anaconda3/lib/python3.8/site-packages/ray/new_dashboard/agent.py\", line 144, in run\n",
      "    modules = self._load_modules()\n",
      "  File \"/Users/brianliu/opt/anaconda3/lib/python3.8/site-packages/ray/new_dashboard/agent.py\", line 98, in _load_modules\n",
      "    c = cls(self)\n",
      "  File \"/Users/brianliu/opt/anaconda3/lib/python3.8/site-packages/ray/new_dashboard/modules/reporter/reporter_agent.py\", line 148, in __init__\n",
      "    self._metrics_agent = MetricsAgent(dashboard_agent.metrics_export_port)\n",
      "  File \"/Users/brianliu/opt/anaconda3/lib/python3.8/site-packages/ray/_private/metrics_agent.py\", line 75, in __init__\n",
      "    prometheus_exporter.new_stats_exporter(\n",
      "  File \"/Users/brianliu/opt/anaconda3/lib/python3.8/site-packages/ray/_private/prometheus_exporter.py\", line 333, in new_stats_exporter\n",
      "    exporter = PrometheusStatsExporter(\n",
      "  File \"/Users/brianliu/opt/anaconda3/lib/python3.8/site-packages/ray/_private/prometheus_exporter.py\", line 266, in __init__\n",
      "    self.serve_http()\n",
      "  File \"/Users/brianliu/opt/anaconda3/lib/python3.8/site-packages/ray/_private/prometheus_exporter.py\", line 320, in serve_http\n",
      "    start_http_server(\n",
      "  File \"/Users/brianliu/opt/anaconda3/lib/python3.8/site-packages/prometheus_client/exposition.py\", line 149, in start_wsgi_server\n",
      "    httpd = make_server(addr, port, app, ThreadingWSGIServer, handler_class=_SilentHandler)\n",
      "  File \"/Users/brianliu/opt/anaconda3/lib/python3.8/wsgiref/simple_server.py\", line 154, in make_server\n",
      "    server = server_class((host, port), handler_class)\n",
      "  File \"/Users/brianliu/opt/anaconda3/lib/python3.8/socketserver.py\", line 452, in __init__\n",
      "    self.server_bind()\n",
      "  File \"/Users/brianliu/opt/anaconda3/lib/python3.8/wsgiref/simple_server.py\", line 50, in server_bind\n",
      "    HTTPServer.server_bind(self)\n",
      "  File \"/Users/brianliu/opt/anaconda3/lib/python3.8/http/server.py\", line 138, in server_bind\n",
      "    socketserver.TCPServer.server_bind(self)\n",
      "  File \"/Users/brianliu/opt/anaconda3/lib/python3.8/socketserver.py\", line 466, in server_bind\n",
      "    self.socket.bind(self.server_address)\n",
      "OSError: [Errno 48] Address already in use\n",
      "\n",
      "2021-08-15 13:21:37,751\tWARNING worker.py:1189 -- The agent on node Brians-MBP.attlocal.net failed with the following error:\n",
      "Traceback (most recent call last):\n",
      "  File \"/Users/brianliu/opt/anaconda3/lib/python3.8/site-packages/ray/new_dashboard/agent.py\", line 354, in <module>\n",
      "    loop.run_until_complete(agent.run())\n",
      "  File \"/Users/brianliu/opt/anaconda3/lib/python3.8/asyncio/base_events.py\", line 616, in run_until_complete\n",
      "    return future.result()\n",
      "  File \"/Users/brianliu/opt/anaconda3/lib/python3.8/site-packages/ray/new_dashboard/agent.py\", line 144, in run\n",
      "    modules = self._load_modules()\n",
      "  File \"/Users/brianliu/opt/anaconda3/lib/python3.8/site-packages/ray/new_dashboard/agent.py\", line 98, in _load_modules\n",
      "    c = cls(self)\n",
      "  File \"/Users/brianliu/opt/anaconda3/lib/python3.8/site-packages/ray/new_dashboard/modules/reporter/reporter_agent.py\", line 148, in __init__\n",
      "    self._metrics_agent = MetricsAgent(dashboard_agent.metrics_export_port)\n",
      "  File \"/Users/brianliu/opt/anaconda3/lib/python3.8/site-packages/ray/_private/metrics_agent.py\", line 75, in __init__\n",
      "    prometheus_exporter.new_stats_exporter(\n",
      "  File \"/Users/brianliu/opt/anaconda3/lib/python3.8/site-packages/ray/_private/prometheus_exporter.py\", line 333, in new_stats_exporter\n",
      "    exporter = PrometheusStatsExporter(\n",
      "  File \"/Users/brianliu/opt/anaconda3/lib/python3.8/site-packages/ray/_private/prometheus_exporter.py\", line 266, in __init__\n",
      "    self.serve_http()\n",
      "  File \"/Users/brianliu/opt/anaconda3/lib/python3.8/site-packages/ray/_private/prometheus_exporter.py\", line 320, in serve_http\n",
      "    start_http_server(\n",
      "  File \"/Users/brianliu/opt/anaconda3/lib/python3.8/site-packages/prometheus_client/exposition.py\", line 149, in start_wsgi_server\n",
      "    httpd = make_server(addr, port, app, ThreadingWSGIServer, handler_class=_SilentHandler)\n",
      "  File \"/Users/brianliu/opt/anaconda3/lib/python3.8/wsgiref/simple_server.py\", line 154, in make_server\n",
      "    server = server_class((host, port), handler_class)\n",
      "  File \"/Users/brianliu/opt/anaconda3/lib/python3.8/socketserver.py\", line 452, in __init__\n",
      "    self.server_bind()\n",
      "  File \"/Users/brianliu/opt/anaconda3/lib/python3.8/wsgiref/simple_server.py\", line 50, in server_bind\n",
      "    HTTPServer.server_bind(self)\n",
      "  File \"/Users/brianliu/opt/anaconda3/lib/python3.8/http/server.py\", line 138, in server_bind\n",
      "    socketserver.TCPServer.server_bind(self)\n",
      "  File \"/Users/brianliu/opt/anaconda3/lib/python3.8/socketserver.py\", line 466, in server_bind\n",
      "    self.socket.bind(self.server_address)\n",
      "OSError: [Errno 48] Address already in use\n",
      "\n",
      "2021-08-15 13:21:40,396\tWARNING worker.py:1189 -- The agent on node Brians-MBP.attlocal.net failed with the following error:\n",
      "Traceback (most recent call last):\n",
      "  File \"/Users/brianliu/opt/anaconda3/lib/python3.8/site-packages/ray/new_dashboard/agent.py\", line 354, in <module>\n",
      "    loop.run_until_complete(agent.run())\n",
      "  File \"/Users/brianliu/opt/anaconda3/lib/python3.8/asyncio/base_events.py\", line 616, in run_until_complete\n",
      "    return future.result()\n",
      "  File \"/Users/brianliu/opt/anaconda3/lib/python3.8/site-packages/ray/new_dashboard/agent.py\", line 144, in run\n",
      "    modules = self._load_modules()\n",
      "  File \"/Users/brianliu/opt/anaconda3/lib/python3.8/site-packages/ray/new_dashboard/agent.py\", line 98, in _load_modules\n",
      "    c = cls(self)\n",
      "  File \"/Users/brianliu/opt/anaconda3/lib/python3.8/site-packages/ray/new_dashboard/modules/reporter/reporter_agent.py\", line 148, in __init__\n",
      "    self._metrics_agent = MetricsAgent(dashboard_agent.metrics_export_port)\n",
      "  File \"/Users/brianliu/opt/anaconda3/lib/python3.8/site-packages/ray/_private/metrics_agent.py\", line 75, in __init__\n",
      "    prometheus_exporter.new_stats_exporter(\n",
      "  File \"/Users/brianliu/opt/anaconda3/lib/python3.8/site-packages/ray/_private/prometheus_exporter.py\", line 333, in new_stats_exporter\n",
      "    exporter = PrometheusStatsExporter(\n",
      "  File \"/Users/brianliu/opt/anaconda3/lib/python3.8/site-packages/ray/_private/prometheus_exporter.py\", line 266, in __init__\n",
      "    self.serve_http()\n",
      "  File \"/Users/brianliu/opt/anaconda3/lib/python3.8/site-packages/ray/_private/prometheus_exporter.py\", line 320, in serve_http\n",
      "    start_http_server(\n",
      "  File \"/Users/brianliu/opt/anaconda3/lib/python3.8/site-packages/prometheus_client/exposition.py\", line 149, in start_wsgi_server\n",
      "    httpd = make_server(addr, port, app, ThreadingWSGIServer, handler_class=_SilentHandler)\n",
      "  File \"/Users/brianliu/opt/anaconda3/lib/python3.8/wsgiref/simple_server.py\", line 154, in make_server\n",
      "    server = server_class((host, port), handler_class)\n",
      "  File \"/Users/brianliu/opt/anaconda3/lib/python3.8/socketserver.py\", line 452, in __init__\n",
      "    self.server_bind()\n",
      "  File \"/Users/brianliu/opt/anaconda3/lib/python3.8/wsgiref/simple_server.py\", line 50, in server_bind\n",
      "    HTTPServer.server_bind(self)\n",
      "  File \"/Users/brianliu/opt/anaconda3/lib/python3.8/http/server.py\", line 138, in server_bind\n",
      "    socketserver.TCPServer.server_bind(self)\n",
      "  File \"/Users/brianliu/opt/anaconda3/lib/python3.8/socketserver.py\", line 466, in server_bind\n",
      "    self.socket.bind(self.server_address)\n",
      "OSError: [Errno 48] Address already in use\n",
      "\n",
      "2021-08-15 13:21:43,183\tWARNING worker.py:1189 -- The agent on node Brians-MBP.attlocal.net failed with the following error:\n",
      "Traceback (most recent call last):\n",
      "  File \"/Users/brianliu/opt/anaconda3/lib/python3.8/site-packages/ray/new_dashboard/agent.py\", line 354, in <module>\n",
      "    loop.run_until_complete(agent.run())\n",
      "  File \"/Users/brianliu/opt/anaconda3/lib/python3.8/asyncio/base_events.py\", line 616, in run_until_complete\n",
      "    return future.result()\n",
      "  File \"/Users/brianliu/opt/anaconda3/lib/python3.8/site-packages/ray/new_dashboard/agent.py\", line 144, in run\n",
      "    modules = self._load_modules()\n",
      "  File \"/Users/brianliu/opt/anaconda3/lib/python3.8/site-packages/ray/new_dashboard/agent.py\", line 98, in _load_modules\n",
      "    c = cls(self)\n",
      "  File \"/Users/brianliu/opt/anaconda3/lib/python3.8/site-packages/ray/new_dashboard/modules/reporter/reporter_agent.py\", line 148, in __init__\n",
      "    self._metrics_agent = MetricsAgent(dashboard_agent.metrics_export_port)\n",
      "  File \"/Users/brianliu/opt/anaconda3/lib/python3.8/site-packages/ray/_private/metrics_agent.py\", line 75, in __init__\n",
      "    prometheus_exporter.new_stats_exporter(\n",
      "  File \"/Users/brianliu/opt/anaconda3/lib/python3.8/site-packages/ray/_private/prometheus_exporter.py\", line 333, in new_stats_exporter\n",
      "    exporter = PrometheusStatsExporter(\n",
      "  File \"/Users/brianliu/opt/anaconda3/lib/python3.8/site-packages/ray/_private/prometheus_exporter.py\", line 266, in __init__\n",
      "    self.serve_http()\n",
      "  File \"/Users/brianliu/opt/anaconda3/lib/python3.8/site-packages/ray/_private/prometheus_exporter.py\", line 320, in serve_http\n",
      "    start_http_server(\n",
      "  File \"/Users/brianliu/opt/anaconda3/lib/python3.8/site-packages/prometheus_client/exposition.py\", line 149, in start_wsgi_server\n",
      "    httpd = make_server(addr, port, app, ThreadingWSGIServer, handler_class=_SilentHandler)\n",
      "  File \"/Users/brianliu/opt/anaconda3/lib/python3.8/wsgiref/simple_server.py\", line 154, in make_server\n",
      "    server = server_class((host, port), handler_class)\n",
      "  File \"/Users/brianliu/opt/anaconda3/lib/python3.8/socketserver.py\", line 452, in __init__\n",
      "    self.server_bind()\n",
      "  File \"/Users/brianliu/opt/anaconda3/lib/python3.8/wsgiref/simple_server.py\", line 50, in server_bind\n",
      "    HTTPServer.server_bind(self)\n",
      "  File \"/Users/brianliu/opt/anaconda3/lib/python3.8/http/server.py\", line 138, in server_bind\n",
      "    socketserver.TCPServer.server_bind(self)\n",
      "  File \"/Users/brianliu/opt/anaconda3/lib/python3.8/socketserver.py\", line 466, in server_bind\n",
      "    self.socket.bind(self.server_address)\n",
      "OSError: [Errno 48] Address already in use\n",
      "\n"
     ]
    },
    {
     "name": "stderr",
     "output_type": "stream",
     "text": [
      "2021-08-15 13:21:45,936\tWARNING worker.py:1189 -- The agent on node Brians-MBP.attlocal.net failed with the following error:\n",
      "Traceback (most recent call last):\n",
      "  File \"/Users/brianliu/opt/anaconda3/lib/python3.8/site-packages/ray/new_dashboard/agent.py\", line 354, in <module>\n",
      "    loop.run_until_complete(agent.run())\n",
      "  File \"/Users/brianliu/opt/anaconda3/lib/python3.8/asyncio/base_events.py\", line 616, in run_until_complete\n",
      "    return future.result()\n",
      "  File \"/Users/brianliu/opt/anaconda3/lib/python3.8/site-packages/ray/new_dashboard/agent.py\", line 144, in run\n",
      "    modules = self._load_modules()\n",
      "  File \"/Users/brianliu/opt/anaconda3/lib/python3.8/site-packages/ray/new_dashboard/agent.py\", line 98, in _load_modules\n",
      "    c = cls(self)\n",
      "  File \"/Users/brianliu/opt/anaconda3/lib/python3.8/site-packages/ray/new_dashboard/modules/reporter/reporter_agent.py\", line 148, in __init__\n",
      "    self._metrics_agent = MetricsAgent(dashboard_agent.metrics_export_port)\n",
      "  File \"/Users/brianliu/opt/anaconda3/lib/python3.8/site-packages/ray/_private/metrics_agent.py\", line 75, in __init__\n",
      "    prometheus_exporter.new_stats_exporter(\n",
      "  File \"/Users/brianliu/opt/anaconda3/lib/python3.8/site-packages/ray/_private/prometheus_exporter.py\", line 333, in new_stats_exporter\n",
      "    exporter = PrometheusStatsExporter(\n",
      "  File \"/Users/brianliu/opt/anaconda3/lib/python3.8/site-packages/ray/_private/prometheus_exporter.py\", line 266, in __init__\n",
      "    self.serve_http()\n",
      "  File \"/Users/brianliu/opt/anaconda3/lib/python3.8/site-packages/ray/_private/prometheus_exporter.py\", line 320, in serve_http\n",
      "    start_http_server(\n",
      "  File \"/Users/brianliu/opt/anaconda3/lib/python3.8/site-packages/prometheus_client/exposition.py\", line 149, in start_wsgi_server\n",
      "    httpd = make_server(addr, port, app, ThreadingWSGIServer, handler_class=_SilentHandler)\n",
      "  File \"/Users/brianliu/opt/anaconda3/lib/python3.8/wsgiref/simple_server.py\", line 154, in make_server\n",
      "    server = server_class((host, port), handler_class)\n",
      "  File \"/Users/brianliu/opt/anaconda3/lib/python3.8/socketserver.py\", line 452, in __init__\n",
      "    self.server_bind()\n",
      "  File \"/Users/brianliu/opt/anaconda3/lib/python3.8/wsgiref/simple_server.py\", line 50, in server_bind\n",
      "    HTTPServer.server_bind(self)\n",
      "  File \"/Users/brianliu/opt/anaconda3/lib/python3.8/http/server.py\", line 138, in server_bind\n",
      "    socketserver.TCPServer.server_bind(self)\n",
      "  File \"/Users/brianliu/opt/anaconda3/lib/python3.8/socketserver.py\", line 466, in server_bind\n",
      "    self.socket.bind(self.server_address)\n",
      "OSError: [Errno 48] Address already in use\n",
      "\n",
      "2021-08-15 13:21:48,872\tWARNING worker.py:1189 -- The agent on node Brians-MBP.attlocal.net failed with the following error:\n",
      "Traceback (most recent call last):\n",
      "  File \"/Users/brianliu/opt/anaconda3/lib/python3.8/site-packages/ray/new_dashboard/agent.py\", line 354, in <module>\n",
      "    loop.run_until_complete(agent.run())\n",
      "  File \"/Users/brianliu/opt/anaconda3/lib/python3.8/asyncio/base_events.py\", line 616, in run_until_complete\n",
      "    return future.result()\n",
      "  File \"/Users/brianliu/opt/anaconda3/lib/python3.8/site-packages/ray/new_dashboard/agent.py\", line 144, in run\n",
      "    modules = self._load_modules()\n",
      "  File \"/Users/brianliu/opt/anaconda3/lib/python3.8/site-packages/ray/new_dashboard/agent.py\", line 98, in _load_modules\n",
      "    c = cls(self)\n",
      "  File \"/Users/brianliu/opt/anaconda3/lib/python3.8/site-packages/ray/new_dashboard/modules/reporter/reporter_agent.py\", line 148, in __init__\n",
      "    self._metrics_agent = MetricsAgent(dashboard_agent.metrics_export_port)\n",
      "  File \"/Users/brianliu/opt/anaconda3/lib/python3.8/site-packages/ray/_private/metrics_agent.py\", line 75, in __init__\n",
      "    prometheus_exporter.new_stats_exporter(\n",
      "  File \"/Users/brianliu/opt/anaconda3/lib/python3.8/site-packages/ray/_private/prometheus_exporter.py\", line 333, in new_stats_exporter\n",
      "    exporter = PrometheusStatsExporter(\n",
      "  File \"/Users/brianliu/opt/anaconda3/lib/python3.8/site-packages/ray/_private/prometheus_exporter.py\", line 266, in __init__\n",
      "    self.serve_http()\n",
      "  File \"/Users/brianliu/opt/anaconda3/lib/python3.8/site-packages/ray/_private/prometheus_exporter.py\", line 320, in serve_http\n",
      "    start_http_server(\n",
      "  File \"/Users/brianliu/opt/anaconda3/lib/python3.8/site-packages/prometheus_client/exposition.py\", line 149, in start_wsgi_server\n",
      "    httpd = make_server(addr, port, app, ThreadingWSGIServer, handler_class=_SilentHandler)\n",
      "  File \"/Users/brianliu/opt/anaconda3/lib/python3.8/wsgiref/simple_server.py\", line 154, in make_server\n",
      "    server = server_class((host, port), handler_class)\n",
      "  File \"/Users/brianliu/opt/anaconda3/lib/python3.8/socketserver.py\", line 452, in __init__\n",
      "    self.server_bind()\n",
      "  File \"/Users/brianliu/opt/anaconda3/lib/python3.8/wsgiref/simple_server.py\", line 50, in server_bind\n",
      "    HTTPServer.server_bind(self)\n",
      "  File \"/Users/brianliu/opt/anaconda3/lib/python3.8/http/server.py\", line 138, in server_bind\n",
      "    socketserver.TCPServer.server_bind(self)\n",
      "  File \"/Users/brianliu/opt/anaconda3/lib/python3.8/socketserver.py\", line 466, in server_bind\n",
      "    self.socket.bind(self.server_address)\n",
      "OSError: [Errno 48] Address already in use\n",
      "\n",
      "2021-08-15 13:21:51,664\tWARNING worker.py:1189 -- The agent on node Brians-MBP.attlocal.net failed with the following error:\n",
      "Traceback (most recent call last):\n",
      "  File \"/Users/brianliu/opt/anaconda3/lib/python3.8/site-packages/ray/new_dashboard/agent.py\", line 354, in <module>\n",
      "    loop.run_until_complete(agent.run())\n",
      "  File \"/Users/brianliu/opt/anaconda3/lib/python3.8/asyncio/base_events.py\", line 616, in run_until_complete\n",
      "    return future.result()\n",
      "  File \"/Users/brianliu/opt/anaconda3/lib/python3.8/site-packages/ray/new_dashboard/agent.py\", line 144, in run\n",
      "    modules = self._load_modules()\n",
      "  File \"/Users/brianliu/opt/anaconda3/lib/python3.8/site-packages/ray/new_dashboard/agent.py\", line 98, in _load_modules\n",
      "    c = cls(self)\n",
      "  File \"/Users/brianliu/opt/anaconda3/lib/python3.8/site-packages/ray/new_dashboard/modules/reporter/reporter_agent.py\", line 148, in __init__\n",
      "    self._metrics_agent = MetricsAgent(dashboard_agent.metrics_export_port)\n",
      "  File \"/Users/brianliu/opt/anaconda3/lib/python3.8/site-packages/ray/_private/metrics_agent.py\", line 75, in __init__\n",
      "    prometheus_exporter.new_stats_exporter(\n",
      "  File \"/Users/brianliu/opt/anaconda3/lib/python3.8/site-packages/ray/_private/prometheus_exporter.py\", line 333, in new_stats_exporter\n",
      "    exporter = PrometheusStatsExporter(\n",
      "  File \"/Users/brianliu/opt/anaconda3/lib/python3.8/site-packages/ray/_private/prometheus_exporter.py\", line 266, in __init__\n",
      "    self.serve_http()\n",
      "  File \"/Users/brianliu/opt/anaconda3/lib/python3.8/site-packages/ray/_private/prometheus_exporter.py\", line 320, in serve_http\n",
      "    start_http_server(\n",
      "  File \"/Users/brianliu/opt/anaconda3/lib/python3.8/site-packages/prometheus_client/exposition.py\", line 149, in start_wsgi_server\n",
      "    httpd = make_server(addr, port, app, ThreadingWSGIServer, handler_class=_SilentHandler)\n",
      "  File \"/Users/brianliu/opt/anaconda3/lib/python3.8/wsgiref/simple_server.py\", line 154, in make_server\n",
      "    server = server_class((host, port), handler_class)\n",
      "  File \"/Users/brianliu/opt/anaconda3/lib/python3.8/socketserver.py\", line 452, in __init__\n",
      "    self.server_bind()\n",
      "  File \"/Users/brianliu/opt/anaconda3/lib/python3.8/wsgiref/simple_server.py\", line 50, in server_bind\n",
      "    HTTPServer.server_bind(self)\n",
      "  File \"/Users/brianliu/opt/anaconda3/lib/python3.8/http/server.py\", line 138, in server_bind\n",
      "    socketserver.TCPServer.server_bind(self)\n",
      "  File \"/Users/brianliu/opt/anaconda3/lib/python3.8/socketserver.py\", line 466, in server_bind\n",
      "    self.socket.bind(self.server_address)\n",
      "OSError: [Errno 48] Address already in use\n",
      "\n",
      "2021-08-15 13:21:54,478\tWARNING worker.py:1189 -- The agent on node Brians-MBP.attlocal.net failed with the following error:\n",
      "Traceback (most recent call last):\n",
      "  File \"/Users/brianliu/opt/anaconda3/lib/python3.8/site-packages/ray/new_dashboard/agent.py\", line 354, in <module>\n",
      "    loop.run_until_complete(agent.run())\n",
      "  File \"/Users/brianliu/opt/anaconda3/lib/python3.8/asyncio/base_events.py\", line 616, in run_until_complete\n",
      "    return future.result()\n",
      "  File \"/Users/brianliu/opt/anaconda3/lib/python3.8/site-packages/ray/new_dashboard/agent.py\", line 144, in run\n",
      "    modules = self._load_modules()\n",
      "  File \"/Users/brianliu/opt/anaconda3/lib/python3.8/site-packages/ray/new_dashboard/agent.py\", line 98, in _load_modules\n",
      "    c = cls(self)\n",
      "  File \"/Users/brianliu/opt/anaconda3/lib/python3.8/site-packages/ray/new_dashboard/modules/reporter/reporter_agent.py\", line 148, in __init__\n",
      "    self._metrics_agent = MetricsAgent(dashboard_agent.metrics_export_port)\n",
      "  File \"/Users/brianliu/opt/anaconda3/lib/python3.8/site-packages/ray/_private/metrics_agent.py\", line 75, in __init__\n",
      "    prometheus_exporter.new_stats_exporter(\n",
      "  File \"/Users/brianliu/opt/anaconda3/lib/python3.8/site-packages/ray/_private/prometheus_exporter.py\", line 333, in new_stats_exporter\n",
      "    exporter = PrometheusStatsExporter(\n",
      "  File \"/Users/brianliu/opt/anaconda3/lib/python3.8/site-packages/ray/_private/prometheus_exporter.py\", line 266, in __init__\n",
      "    self.serve_http()\n",
      "  File \"/Users/brianliu/opt/anaconda3/lib/python3.8/site-packages/ray/_private/prometheus_exporter.py\", line 320, in serve_http\n",
      "    start_http_server(\n",
      "  File \"/Users/brianliu/opt/anaconda3/lib/python3.8/site-packages/prometheus_client/exposition.py\", line 149, in start_wsgi_server\n",
      "    httpd = make_server(addr, port, app, ThreadingWSGIServer, handler_class=_SilentHandler)\n",
      "  File \"/Users/brianliu/opt/anaconda3/lib/python3.8/wsgiref/simple_server.py\", line 154, in make_server\n",
      "    server = server_class((host, port), handler_class)\n",
      "  File \"/Users/brianliu/opt/anaconda3/lib/python3.8/socketserver.py\", line 452, in __init__\n",
      "    self.server_bind()\n",
      "  File \"/Users/brianliu/opt/anaconda3/lib/python3.8/wsgiref/simple_server.py\", line 50, in server_bind\n",
      "    HTTPServer.server_bind(self)\n",
      "  File \"/Users/brianliu/opt/anaconda3/lib/python3.8/http/server.py\", line 138, in server_bind\n",
      "    socketserver.TCPServer.server_bind(self)\n",
      "  File \"/Users/brianliu/opt/anaconda3/lib/python3.8/socketserver.py\", line 466, in server_bind\n",
      "    self.socket.bind(self.server_address)\n",
      "OSError: [Errno 48] Address already in use\n",
      "\n"
     ]
    },
    {
     "name": "stderr",
     "output_type": "stream",
     "text": [
      "2021-08-15 13:21:57,320\tWARNING worker.py:1189 -- The agent on node Brians-MBP.attlocal.net failed with the following error:\n",
      "Traceback (most recent call last):\n",
      "  File \"/Users/brianliu/opt/anaconda3/lib/python3.8/site-packages/ray/new_dashboard/agent.py\", line 354, in <module>\n",
      "    loop.run_until_complete(agent.run())\n",
      "  File \"/Users/brianliu/opt/anaconda3/lib/python3.8/asyncio/base_events.py\", line 616, in run_until_complete\n",
      "    return future.result()\n",
      "  File \"/Users/brianliu/opt/anaconda3/lib/python3.8/site-packages/ray/new_dashboard/agent.py\", line 144, in run\n",
      "    modules = self._load_modules()\n",
      "  File \"/Users/brianliu/opt/anaconda3/lib/python3.8/site-packages/ray/new_dashboard/agent.py\", line 98, in _load_modules\n",
      "    c = cls(self)\n",
      "  File \"/Users/brianliu/opt/anaconda3/lib/python3.8/site-packages/ray/new_dashboard/modules/reporter/reporter_agent.py\", line 148, in __init__\n",
      "    self._metrics_agent = MetricsAgent(dashboard_agent.metrics_export_port)\n",
      "  File \"/Users/brianliu/opt/anaconda3/lib/python3.8/site-packages/ray/_private/metrics_agent.py\", line 75, in __init__\n",
      "    prometheus_exporter.new_stats_exporter(\n",
      "  File \"/Users/brianliu/opt/anaconda3/lib/python3.8/site-packages/ray/_private/prometheus_exporter.py\", line 333, in new_stats_exporter\n",
      "    exporter = PrometheusStatsExporter(\n",
      "  File \"/Users/brianliu/opt/anaconda3/lib/python3.8/site-packages/ray/_private/prometheus_exporter.py\", line 266, in __init__\n",
      "    self.serve_http()\n",
      "  File \"/Users/brianliu/opt/anaconda3/lib/python3.8/site-packages/ray/_private/prometheus_exporter.py\", line 320, in serve_http\n",
      "    start_http_server(\n",
      "  File \"/Users/brianliu/opt/anaconda3/lib/python3.8/site-packages/prometheus_client/exposition.py\", line 149, in start_wsgi_server\n",
      "    httpd = make_server(addr, port, app, ThreadingWSGIServer, handler_class=_SilentHandler)\n",
      "  File \"/Users/brianliu/opt/anaconda3/lib/python3.8/wsgiref/simple_server.py\", line 154, in make_server\n",
      "    server = server_class((host, port), handler_class)\n",
      "  File \"/Users/brianliu/opt/anaconda3/lib/python3.8/socketserver.py\", line 452, in __init__\n",
      "    self.server_bind()\n",
      "  File \"/Users/brianliu/opt/anaconda3/lib/python3.8/wsgiref/simple_server.py\", line 50, in server_bind\n",
      "    HTTPServer.server_bind(self)\n",
      "  File \"/Users/brianliu/opt/anaconda3/lib/python3.8/http/server.py\", line 138, in server_bind\n",
      "    socketserver.TCPServer.server_bind(self)\n",
      "  File \"/Users/brianliu/opt/anaconda3/lib/python3.8/socketserver.py\", line 466, in server_bind\n",
      "    self.socket.bind(self.server_address)\n",
      "OSError: [Errno 48] Address already in use\n",
      "\n",
      "2021-08-15 13:22:00,010\tWARNING worker.py:1189 -- The agent on node Brians-MBP.attlocal.net failed with the following error:\n",
      "Traceback (most recent call last):\n",
      "  File \"/Users/brianliu/opt/anaconda3/lib/python3.8/site-packages/ray/new_dashboard/agent.py\", line 354, in <module>\n",
      "    loop.run_until_complete(agent.run())\n",
      "  File \"/Users/brianliu/opt/anaconda3/lib/python3.8/asyncio/base_events.py\", line 616, in run_until_complete\n",
      "    return future.result()\n",
      "  File \"/Users/brianliu/opt/anaconda3/lib/python3.8/site-packages/ray/new_dashboard/agent.py\", line 144, in run\n",
      "    modules = self._load_modules()\n",
      "  File \"/Users/brianliu/opt/anaconda3/lib/python3.8/site-packages/ray/new_dashboard/agent.py\", line 98, in _load_modules\n",
      "    c = cls(self)\n",
      "  File \"/Users/brianliu/opt/anaconda3/lib/python3.8/site-packages/ray/new_dashboard/modules/reporter/reporter_agent.py\", line 148, in __init__\n",
      "    self._metrics_agent = MetricsAgent(dashboard_agent.metrics_export_port)\n",
      "  File \"/Users/brianliu/opt/anaconda3/lib/python3.8/site-packages/ray/_private/metrics_agent.py\", line 75, in __init__\n",
      "    prometheus_exporter.new_stats_exporter(\n",
      "  File \"/Users/brianliu/opt/anaconda3/lib/python3.8/site-packages/ray/_private/prometheus_exporter.py\", line 333, in new_stats_exporter\n",
      "    exporter = PrometheusStatsExporter(\n",
      "  File \"/Users/brianliu/opt/anaconda3/lib/python3.8/site-packages/ray/_private/prometheus_exporter.py\", line 266, in __init__\n",
      "    self.serve_http()\n",
      "  File \"/Users/brianliu/opt/anaconda3/lib/python3.8/site-packages/ray/_private/prometheus_exporter.py\", line 320, in serve_http\n",
      "    start_http_server(\n",
      "  File \"/Users/brianliu/opt/anaconda3/lib/python3.8/site-packages/prometheus_client/exposition.py\", line 149, in start_wsgi_server\n",
      "    httpd = make_server(addr, port, app, ThreadingWSGIServer, handler_class=_SilentHandler)\n",
      "  File \"/Users/brianliu/opt/anaconda3/lib/python3.8/wsgiref/simple_server.py\", line 154, in make_server\n",
      "    server = server_class((host, port), handler_class)\n",
      "  File \"/Users/brianliu/opt/anaconda3/lib/python3.8/socketserver.py\", line 452, in __init__\n",
      "    self.server_bind()\n",
      "  File \"/Users/brianliu/opt/anaconda3/lib/python3.8/wsgiref/simple_server.py\", line 50, in server_bind\n",
      "    HTTPServer.server_bind(self)\n",
      "  File \"/Users/brianliu/opt/anaconda3/lib/python3.8/http/server.py\", line 138, in server_bind\n",
      "    socketserver.TCPServer.server_bind(self)\n",
      "  File \"/Users/brianliu/opt/anaconda3/lib/python3.8/socketserver.py\", line 466, in server_bind\n",
      "    self.socket.bind(self.server_address)\n",
      "OSError: [Errno 48] Address already in use\n",
      "\n",
      "2021-08-15 13:22:02,686\tWARNING worker.py:1189 -- The agent on node Brians-MBP.attlocal.net failed with the following error:\n",
      "Traceback (most recent call last):\n",
      "  File \"/Users/brianliu/opt/anaconda3/lib/python3.8/site-packages/ray/new_dashboard/agent.py\", line 354, in <module>\n",
      "    loop.run_until_complete(agent.run())\n",
      "  File \"/Users/brianliu/opt/anaconda3/lib/python3.8/asyncio/base_events.py\", line 616, in run_until_complete\n",
      "    return future.result()\n",
      "  File \"/Users/brianliu/opt/anaconda3/lib/python3.8/site-packages/ray/new_dashboard/agent.py\", line 144, in run\n",
      "    modules = self._load_modules()\n",
      "  File \"/Users/brianliu/opt/anaconda3/lib/python3.8/site-packages/ray/new_dashboard/agent.py\", line 98, in _load_modules\n",
      "    c = cls(self)\n",
      "  File \"/Users/brianliu/opt/anaconda3/lib/python3.8/site-packages/ray/new_dashboard/modules/reporter/reporter_agent.py\", line 148, in __init__\n",
      "    self._metrics_agent = MetricsAgent(dashboard_agent.metrics_export_port)\n",
      "  File \"/Users/brianliu/opt/anaconda3/lib/python3.8/site-packages/ray/_private/metrics_agent.py\", line 75, in __init__\n",
      "    prometheus_exporter.new_stats_exporter(\n",
      "  File \"/Users/brianliu/opt/anaconda3/lib/python3.8/site-packages/ray/_private/prometheus_exporter.py\", line 333, in new_stats_exporter\n",
      "    exporter = PrometheusStatsExporter(\n",
      "  File \"/Users/brianliu/opt/anaconda3/lib/python3.8/site-packages/ray/_private/prometheus_exporter.py\", line 266, in __init__\n",
      "    self.serve_http()\n",
      "  File \"/Users/brianliu/opt/anaconda3/lib/python3.8/site-packages/ray/_private/prometheus_exporter.py\", line 320, in serve_http\n",
      "    start_http_server(\n",
      "  File \"/Users/brianliu/opt/anaconda3/lib/python3.8/site-packages/prometheus_client/exposition.py\", line 149, in start_wsgi_server\n",
      "    httpd = make_server(addr, port, app, ThreadingWSGIServer, handler_class=_SilentHandler)\n",
      "  File \"/Users/brianliu/opt/anaconda3/lib/python3.8/wsgiref/simple_server.py\", line 154, in make_server\n",
      "    server = server_class((host, port), handler_class)\n",
      "  File \"/Users/brianliu/opt/anaconda3/lib/python3.8/socketserver.py\", line 452, in __init__\n",
      "    self.server_bind()\n",
      "  File \"/Users/brianliu/opt/anaconda3/lib/python3.8/wsgiref/simple_server.py\", line 50, in server_bind\n",
      "    HTTPServer.server_bind(self)\n",
      "  File \"/Users/brianliu/opt/anaconda3/lib/python3.8/http/server.py\", line 138, in server_bind\n",
      "    socketserver.TCPServer.server_bind(self)\n",
      "  File \"/Users/brianliu/opt/anaconda3/lib/python3.8/socketserver.py\", line 466, in server_bind\n",
      "    self.socket.bind(self.server_address)\n",
      "OSError: [Errno 48] Address already in use\n",
      "\n",
      "2021-08-15 13:22:05,380\tWARNING worker.py:1189 -- The agent on node Brians-MBP.attlocal.net failed with the following error:\n",
      "Traceback (most recent call last):\n",
      "  File \"/Users/brianliu/opt/anaconda3/lib/python3.8/site-packages/ray/new_dashboard/agent.py\", line 354, in <module>\n",
      "    loop.run_until_complete(agent.run())\n",
      "  File \"/Users/brianliu/opt/anaconda3/lib/python3.8/asyncio/base_events.py\", line 616, in run_until_complete\n",
      "    return future.result()\n",
      "  File \"/Users/brianliu/opt/anaconda3/lib/python3.8/site-packages/ray/new_dashboard/agent.py\", line 144, in run\n",
      "    modules = self._load_modules()\n",
      "  File \"/Users/brianliu/opt/anaconda3/lib/python3.8/site-packages/ray/new_dashboard/agent.py\", line 98, in _load_modules\n",
      "    c = cls(self)\n",
      "  File \"/Users/brianliu/opt/anaconda3/lib/python3.8/site-packages/ray/new_dashboard/modules/reporter/reporter_agent.py\", line 148, in __init__\n",
      "    self._metrics_agent = MetricsAgent(dashboard_agent.metrics_export_port)\n",
      "  File \"/Users/brianliu/opt/anaconda3/lib/python3.8/site-packages/ray/_private/metrics_agent.py\", line 75, in __init__\n",
      "    prometheus_exporter.new_stats_exporter(\n",
      "  File \"/Users/brianliu/opt/anaconda3/lib/python3.8/site-packages/ray/_private/prometheus_exporter.py\", line 333, in new_stats_exporter\n",
      "    exporter = PrometheusStatsExporter(\n",
      "  File \"/Users/brianliu/opt/anaconda3/lib/python3.8/site-packages/ray/_private/prometheus_exporter.py\", line 266, in __init__\n",
      "    self.serve_http()\n",
      "  File \"/Users/brianliu/opt/anaconda3/lib/python3.8/site-packages/ray/_private/prometheus_exporter.py\", line 320, in serve_http\n",
      "    start_http_server(\n",
      "  File \"/Users/brianliu/opt/anaconda3/lib/python3.8/site-packages/prometheus_client/exposition.py\", line 149, in start_wsgi_server\n",
      "    httpd = make_server(addr, port, app, ThreadingWSGIServer, handler_class=_SilentHandler)\n",
      "  File \"/Users/brianliu/opt/anaconda3/lib/python3.8/wsgiref/simple_server.py\", line 154, in make_server\n",
      "    server = server_class((host, port), handler_class)\n",
      "  File \"/Users/brianliu/opt/anaconda3/lib/python3.8/socketserver.py\", line 452, in __init__\n",
      "    self.server_bind()\n",
      "  File \"/Users/brianliu/opt/anaconda3/lib/python3.8/wsgiref/simple_server.py\", line 50, in server_bind\n",
      "    HTTPServer.server_bind(self)\n",
      "  File \"/Users/brianliu/opt/anaconda3/lib/python3.8/http/server.py\", line 138, in server_bind\n",
      "    socketserver.TCPServer.server_bind(self)\n",
      "  File \"/Users/brianliu/opt/anaconda3/lib/python3.8/socketserver.py\", line 466, in server_bind\n",
      "    self.socket.bind(self.server_address)\n",
      "OSError: [Errno 48] Address already in use\n",
      "\n"
     ]
    },
    {
     "name": "stderr",
     "output_type": "stream",
     "text": [
      "2021-08-15 13:22:08,218\tWARNING worker.py:1189 -- The agent on node Brians-MBP.attlocal.net failed with the following error:\n",
      "Traceback (most recent call last):\n",
      "  File \"/Users/brianliu/opt/anaconda3/lib/python3.8/site-packages/ray/new_dashboard/agent.py\", line 354, in <module>\n",
      "    loop.run_until_complete(agent.run())\n",
      "  File \"/Users/brianliu/opt/anaconda3/lib/python3.8/asyncio/base_events.py\", line 616, in run_until_complete\n",
      "    return future.result()\n",
      "  File \"/Users/brianliu/opt/anaconda3/lib/python3.8/site-packages/ray/new_dashboard/agent.py\", line 144, in run\n",
      "    modules = self._load_modules()\n",
      "  File \"/Users/brianliu/opt/anaconda3/lib/python3.8/site-packages/ray/new_dashboard/agent.py\", line 98, in _load_modules\n",
      "    c = cls(self)\n",
      "  File \"/Users/brianliu/opt/anaconda3/lib/python3.8/site-packages/ray/new_dashboard/modules/reporter/reporter_agent.py\", line 148, in __init__\n",
      "    self._metrics_agent = MetricsAgent(dashboard_agent.metrics_export_port)\n",
      "  File \"/Users/brianliu/opt/anaconda3/lib/python3.8/site-packages/ray/_private/metrics_agent.py\", line 75, in __init__\n",
      "    prometheus_exporter.new_stats_exporter(\n",
      "  File \"/Users/brianliu/opt/anaconda3/lib/python3.8/site-packages/ray/_private/prometheus_exporter.py\", line 333, in new_stats_exporter\n",
      "    exporter = PrometheusStatsExporter(\n",
      "  File \"/Users/brianliu/opt/anaconda3/lib/python3.8/site-packages/ray/_private/prometheus_exporter.py\", line 266, in __init__\n",
      "    self.serve_http()\n",
      "  File \"/Users/brianliu/opt/anaconda3/lib/python3.8/site-packages/ray/_private/prometheus_exporter.py\", line 320, in serve_http\n",
      "    start_http_server(\n",
      "  File \"/Users/brianliu/opt/anaconda3/lib/python3.8/site-packages/prometheus_client/exposition.py\", line 149, in start_wsgi_server\n",
      "    httpd = make_server(addr, port, app, ThreadingWSGIServer, handler_class=_SilentHandler)\n",
      "  File \"/Users/brianliu/opt/anaconda3/lib/python3.8/wsgiref/simple_server.py\", line 154, in make_server\n",
      "    server = server_class((host, port), handler_class)\n",
      "  File \"/Users/brianliu/opt/anaconda3/lib/python3.8/socketserver.py\", line 452, in __init__\n",
      "    self.server_bind()\n",
      "  File \"/Users/brianliu/opt/anaconda3/lib/python3.8/wsgiref/simple_server.py\", line 50, in server_bind\n",
      "    HTTPServer.server_bind(self)\n",
      "  File \"/Users/brianliu/opt/anaconda3/lib/python3.8/http/server.py\", line 138, in server_bind\n",
      "    socketserver.TCPServer.server_bind(self)\n",
      "  File \"/Users/brianliu/opt/anaconda3/lib/python3.8/socketserver.py\", line 466, in server_bind\n",
      "    self.socket.bind(self.server_address)\n",
      "OSError: [Errno 48] Address already in use\n",
      "\n",
      "2021-08-15 13:22:10,907\tWARNING worker.py:1189 -- The agent on node Brians-MBP.attlocal.net failed with the following error:\n",
      "Traceback (most recent call last):\n",
      "  File \"/Users/brianliu/opt/anaconda3/lib/python3.8/site-packages/ray/new_dashboard/agent.py\", line 354, in <module>\n",
      "    loop.run_until_complete(agent.run())\n",
      "  File \"/Users/brianliu/opt/anaconda3/lib/python3.8/asyncio/base_events.py\", line 616, in run_until_complete\n",
      "    return future.result()\n",
      "  File \"/Users/brianliu/opt/anaconda3/lib/python3.8/site-packages/ray/new_dashboard/agent.py\", line 144, in run\n",
      "    modules = self._load_modules()\n",
      "  File \"/Users/brianliu/opt/anaconda3/lib/python3.8/site-packages/ray/new_dashboard/agent.py\", line 98, in _load_modules\n",
      "    c = cls(self)\n",
      "  File \"/Users/brianliu/opt/anaconda3/lib/python3.8/site-packages/ray/new_dashboard/modules/reporter/reporter_agent.py\", line 148, in __init__\n",
      "    self._metrics_agent = MetricsAgent(dashboard_agent.metrics_export_port)\n",
      "  File \"/Users/brianliu/opt/anaconda3/lib/python3.8/site-packages/ray/_private/metrics_agent.py\", line 75, in __init__\n",
      "    prometheus_exporter.new_stats_exporter(\n",
      "  File \"/Users/brianliu/opt/anaconda3/lib/python3.8/site-packages/ray/_private/prometheus_exporter.py\", line 333, in new_stats_exporter\n",
      "    exporter = PrometheusStatsExporter(\n",
      "  File \"/Users/brianliu/opt/anaconda3/lib/python3.8/site-packages/ray/_private/prometheus_exporter.py\", line 266, in __init__\n",
      "    self.serve_http()\n",
      "  File \"/Users/brianliu/opt/anaconda3/lib/python3.8/site-packages/ray/_private/prometheus_exporter.py\", line 320, in serve_http\n",
      "    start_http_server(\n",
      "  File \"/Users/brianliu/opt/anaconda3/lib/python3.8/site-packages/prometheus_client/exposition.py\", line 149, in start_wsgi_server\n",
      "    httpd = make_server(addr, port, app, ThreadingWSGIServer, handler_class=_SilentHandler)\n",
      "  File \"/Users/brianliu/opt/anaconda3/lib/python3.8/wsgiref/simple_server.py\", line 154, in make_server\n",
      "    server = server_class((host, port), handler_class)\n",
      "  File \"/Users/brianliu/opt/anaconda3/lib/python3.8/socketserver.py\", line 452, in __init__\n",
      "    self.server_bind()\n",
      "  File \"/Users/brianliu/opt/anaconda3/lib/python3.8/wsgiref/simple_server.py\", line 50, in server_bind\n",
      "    HTTPServer.server_bind(self)\n",
      "  File \"/Users/brianliu/opt/anaconda3/lib/python3.8/http/server.py\", line 138, in server_bind\n",
      "    socketserver.TCPServer.server_bind(self)\n",
      "  File \"/Users/brianliu/opt/anaconda3/lib/python3.8/socketserver.py\", line 466, in server_bind\n",
      "    self.socket.bind(self.server_address)\n",
      "OSError: [Errno 48] Address already in use\n",
      "\n",
      "2021-08-15 13:22:13,704\tWARNING worker.py:1189 -- The agent on node Brians-MBP.attlocal.net failed with the following error:\n",
      "Traceback (most recent call last):\n",
      "  File \"/Users/brianliu/opt/anaconda3/lib/python3.8/site-packages/ray/new_dashboard/agent.py\", line 354, in <module>\n",
      "    loop.run_until_complete(agent.run())\n",
      "  File \"/Users/brianliu/opt/anaconda3/lib/python3.8/asyncio/base_events.py\", line 616, in run_until_complete\n",
      "    return future.result()\n",
      "  File \"/Users/brianliu/opt/anaconda3/lib/python3.8/site-packages/ray/new_dashboard/agent.py\", line 144, in run\n",
      "    modules = self._load_modules()\n",
      "  File \"/Users/brianliu/opt/anaconda3/lib/python3.8/site-packages/ray/new_dashboard/agent.py\", line 98, in _load_modules\n",
      "    c = cls(self)\n",
      "  File \"/Users/brianliu/opt/anaconda3/lib/python3.8/site-packages/ray/new_dashboard/modules/reporter/reporter_agent.py\", line 148, in __init__\n",
      "    self._metrics_agent = MetricsAgent(dashboard_agent.metrics_export_port)\n",
      "  File \"/Users/brianliu/opt/anaconda3/lib/python3.8/site-packages/ray/_private/metrics_agent.py\", line 75, in __init__\n",
      "    prometheus_exporter.new_stats_exporter(\n",
      "  File \"/Users/brianliu/opt/anaconda3/lib/python3.8/site-packages/ray/_private/prometheus_exporter.py\", line 333, in new_stats_exporter\n",
      "    exporter = PrometheusStatsExporter(\n",
      "  File \"/Users/brianliu/opt/anaconda3/lib/python3.8/site-packages/ray/_private/prometheus_exporter.py\", line 266, in __init__\n",
      "    self.serve_http()\n",
      "  File \"/Users/brianliu/opt/anaconda3/lib/python3.8/site-packages/ray/_private/prometheus_exporter.py\", line 320, in serve_http\n",
      "    start_http_server(\n",
      "  File \"/Users/brianliu/opt/anaconda3/lib/python3.8/site-packages/prometheus_client/exposition.py\", line 149, in start_wsgi_server\n",
      "    httpd = make_server(addr, port, app, ThreadingWSGIServer, handler_class=_SilentHandler)\n",
      "  File \"/Users/brianliu/opt/anaconda3/lib/python3.8/wsgiref/simple_server.py\", line 154, in make_server\n",
      "    server = server_class((host, port), handler_class)\n",
      "  File \"/Users/brianliu/opt/anaconda3/lib/python3.8/socketserver.py\", line 452, in __init__\n",
      "    self.server_bind()\n",
      "  File \"/Users/brianliu/opt/anaconda3/lib/python3.8/wsgiref/simple_server.py\", line 50, in server_bind\n",
      "    HTTPServer.server_bind(self)\n",
      "  File \"/Users/brianliu/opt/anaconda3/lib/python3.8/http/server.py\", line 138, in server_bind\n",
      "    socketserver.TCPServer.server_bind(self)\n",
      "  File \"/Users/brianliu/opt/anaconda3/lib/python3.8/socketserver.py\", line 466, in server_bind\n",
      "    self.socket.bind(self.server_address)\n",
      "OSError: [Errno 48] Address already in use\n",
      "\n",
      "2021-08-15 13:22:16,634\tWARNING worker.py:1189 -- The agent on node Brians-MBP.attlocal.net failed with the following error:\n",
      "Traceback (most recent call last):\n",
      "  File \"/Users/brianliu/opt/anaconda3/lib/python3.8/site-packages/ray/new_dashboard/agent.py\", line 354, in <module>\n",
      "    loop.run_until_complete(agent.run())\n",
      "  File \"/Users/brianliu/opt/anaconda3/lib/python3.8/asyncio/base_events.py\", line 616, in run_until_complete\n",
      "    return future.result()\n",
      "  File \"/Users/brianliu/opt/anaconda3/lib/python3.8/site-packages/ray/new_dashboard/agent.py\", line 144, in run\n",
      "    modules = self._load_modules()\n",
      "  File \"/Users/brianliu/opt/anaconda3/lib/python3.8/site-packages/ray/new_dashboard/agent.py\", line 98, in _load_modules\n",
      "    c = cls(self)\n",
      "  File \"/Users/brianliu/opt/anaconda3/lib/python3.8/site-packages/ray/new_dashboard/modules/reporter/reporter_agent.py\", line 148, in __init__\n",
      "    self._metrics_agent = MetricsAgent(dashboard_agent.metrics_export_port)\n",
      "  File \"/Users/brianliu/opt/anaconda3/lib/python3.8/site-packages/ray/_private/metrics_agent.py\", line 75, in __init__\n",
      "    prometheus_exporter.new_stats_exporter(\n",
      "  File \"/Users/brianliu/opt/anaconda3/lib/python3.8/site-packages/ray/_private/prometheus_exporter.py\", line 333, in new_stats_exporter\n",
      "    exporter = PrometheusStatsExporter(\n",
      "  File \"/Users/brianliu/opt/anaconda3/lib/python3.8/site-packages/ray/_private/prometheus_exporter.py\", line 266, in __init__\n",
      "    self.serve_http()\n",
      "  File \"/Users/brianliu/opt/anaconda3/lib/python3.8/site-packages/ray/_private/prometheus_exporter.py\", line 320, in serve_http\n",
      "    start_http_server(\n",
      "  File \"/Users/brianliu/opt/anaconda3/lib/python3.8/site-packages/prometheus_client/exposition.py\", line 149, in start_wsgi_server\n",
      "    httpd = make_server(addr, port, app, ThreadingWSGIServer, handler_class=_SilentHandler)\n",
      "  File \"/Users/brianliu/opt/anaconda3/lib/python3.8/wsgiref/simple_server.py\", line 154, in make_server\n",
      "    server = server_class((host, port), handler_class)\n",
      "  File \"/Users/brianliu/opt/anaconda3/lib/python3.8/socketserver.py\", line 452, in __init__\n",
      "    self.server_bind()\n",
      "  File \"/Users/brianliu/opt/anaconda3/lib/python3.8/wsgiref/simple_server.py\", line 50, in server_bind\n",
      "    HTTPServer.server_bind(self)\n",
      "  File \"/Users/brianliu/opt/anaconda3/lib/python3.8/http/server.py\", line 138, in server_bind\n",
      "    socketserver.TCPServer.server_bind(self)\n",
      "  File \"/Users/brianliu/opt/anaconda3/lib/python3.8/socketserver.py\", line 466, in server_bind\n",
      "    self.socket.bind(self.server_address)\n",
      "OSError: [Errno 48] Address already in use\n",
      "\n"
     ]
    },
    {
     "name": "stderr",
     "output_type": "stream",
     "text": [
      "2021-08-15 13:22:19,239\tWARNING worker.py:1189 -- The agent on node Brians-MBP.attlocal.net failed with the following error:\n",
      "Traceback (most recent call last):\n",
      "  File \"/Users/brianliu/opt/anaconda3/lib/python3.8/site-packages/ray/new_dashboard/agent.py\", line 354, in <module>\n",
      "    loop.run_until_complete(agent.run())\n",
      "  File \"/Users/brianliu/opt/anaconda3/lib/python3.8/asyncio/base_events.py\", line 616, in run_until_complete\n",
      "    return future.result()\n",
      "  File \"/Users/brianliu/opt/anaconda3/lib/python3.8/site-packages/ray/new_dashboard/agent.py\", line 144, in run\n",
      "    modules = self._load_modules()\n",
      "  File \"/Users/brianliu/opt/anaconda3/lib/python3.8/site-packages/ray/new_dashboard/agent.py\", line 98, in _load_modules\n",
      "    c = cls(self)\n",
      "  File \"/Users/brianliu/opt/anaconda3/lib/python3.8/site-packages/ray/new_dashboard/modules/reporter/reporter_agent.py\", line 148, in __init__\n",
      "    self._metrics_agent = MetricsAgent(dashboard_agent.metrics_export_port)\n",
      "  File \"/Users/brianliu/opt/anaconda3/lib/python3.8/site-packages/ray/_private/metrics_agent.py\", line 75, in __init__\n",
      "    prometheus_exporter.new_stats_exporter(\n",
      "  File \"/Users/brianliu/opt/anaconda3/lib/python3.8/site-packages/ray/_private/prometheus_exporter.py\", line 333, in new_stats_exporter\n",
      "    exporter = PrometheusStatsExporter(\n",
      "  File \"/Users/brianliu/opt/anaconda3/lib/python3.8/site-packages/ray/_private/prometheus_exporter.py\", line 266, in __init__\n",
      "    self.serve_http()\n",
      "  File \"/Users/brianliu/opt/anaconda3/lib/python3.8/site-packages/ray/_private/prometheus_exporter.py\", line 320, in serve_http\n",
      "    start_http_server(\n",
      "  File \"/Users/brianliu/opt/anaconda3/lib/python3.8/site-packages/prometheus_client/exposition.py\", line 149, in start_wsgi_server\n",
      "    httpd = make_server(addr, port, app, ThreadingWSGIServer, handler_class=_SilentHandler)\n",
      "  File \"/Users/brianliu/opt/anaconda3/lib/python3.8/wsgiref/simple_server.py\", line 154, in make_server\n",
      "    server = server_class((host, port), handler_class)\n",
      "  File \"/Users/brianliu/opt/anaconda3/lib/python3.8/socketserver.py\", line 452, in __init__\n",
      "    self.server_bind()\n",
      "  File \"/Users/brianliu/opt/anaconda3/lib/python3.8/wsgiref/simple_server.py\", line 50, in server_bind\n",
      "    HTTPServer.server_bind(self)\n",
      "  File \"/Users/brianliu/opt/anaconda3/lib/python3.8/http/server.py\", line 138, in server_bind\n",
      "    socketserver.TCPServer.server_bind(self)\n",
      "  File \"/Users/brianliu/opt/anaconda3/lib/python3.8/socketserver.py\", line 466, in server_bind\n",
      "    self.socket.bind(self.server_address)\n",
      "OSError: [Errno 48] Address already in use\n",
      "\n",
      "2021-08-15 13:22:21,717\tWARNING worker.py:1189 -- The agent on node Brians-MBP.attlocal.net failed with the following error:\n",
      "Traceback (most recent call last):\n",
      "  File \"/Users/brianliu/opt/anaconda3/lib/python3.8/site-packages/ray/new_dashboard/agent.py\", line 354, in <module>\n",
      "    loop.run_until_complete(agent.run())\n",
      "  File \"/Users/brianliu/opt/anaconda3/lib/python3.8/asyncio/base_events.py\", line 616, in run_until_complete\n",
      "    return future.result()\n",
      "  File \"/Users/brianliu/opt/anaconda3/lib/python3.8/site-packages/ray/new_dashboard/agent.py\", line 144, in run\n",
      "    modules = self._load_modules()\n",
      "  File \"/Users/brianliu/opt/anaconda3/lib/python3.8/site-packages/ray/new_dashboard/agent.py\", line 98, in _load_modules\n",
      "    c = cls(self)\n",
      "  File \"/Users/brianliu/opt/anaconda3/lib/python3.8/site-packages/ray/new_dashboard/modules/reporter/reporter_agent.py\", line 148, in __init__\n",
      "    self._metrics_agent = MetricsAgent(dashboard_agent.metrics_export_port)\n",
      "  File \"/Users/brianliu/opt/anaconda3/lib/python3.8/site-packages/ray/_private/metrics_agent.py\", line 75, in __init__\n",
      "    prometheus_exporter.new_stats_exporter(\n",
      "  File \"/Users/brianliu/opt/anaconda3/lib/python3.8/site-packages/ray/_private/prometheus_exporter.py\", line 333, in new_stats_exporter\n",
      "    exporter = PrometheusStatsExporter(\n",
      "  File \"/Users/brianliu/opt/anaconda3/lib/python3.8/site-packages/ray/_private/prometheus_exporter.py\", line 266, in __init__\n",
      "    self.serve_http()\n",
      "  File \"/Users/brianliu/opt/anaconda3/lib/python3.8/site-packages/ray/_private/prometheus_exporter.py\", line 320, in serve_http\n",
      "    start_http_server(\n",
      "  File \"/Users/brianliu/opt/anaconda3/lib/python3.8/site-packages/prometheus_client/exposition.py\", line 149, in start_wsgi_server\n",
      "    httpd = make_server(addr, port, app, ThreadingWSGIServer, handler_class=_SilentHandler)\n",
      "  File \"/Users/brianliu/opt/anaconda3/lib/python3.8/wsgiref/simple_server.py\", line 154, in make_server\n",
      "    server = server_class((host, port), handler_class)\n",
      "  File \"/Users/brianliu/opt/anaconda3/lib/python3.8/socketserver.py\", line 452, in __init__\n",
      "    self.server_bind()\n",
      "  File \"/Users/brianliu/opt/anaconda3/lib/python3.8/wsgiref/simple_server.py\", line 50, in server_bind\n",
      "    HTTPServer.server_bind(self)\n",
      "  File \"/Users/brianliu/opt/anaconda3/lib/python3.8/http/server.py\", line 138, in server_bind\n",
      "    socketserver.TCPServer.server_bind(self)\n",
      "  File \"/Users/brianliu/opt/anaconda3/lib/python3.8/socketserver.py\", line 466, in server_bind\n",
      "    self.socket.bind(self.server_address)\n",
      "OSError: [Errno 48] Address already in use\n",
      "\n",
      "2021-08-15 13:22:24,123\tWARNING worker.py:1189 -- The agent on node Brians-MBP.attlocal.net failed with the following error:\n",
      "Traceback (most recent call last):\n",
      "  File \"/Users/brianliu/opt/anaconda3/lib/python3.8/site-packages/ray/new_dashboard/agent.py\", line 354, in <module>\n",
      "    loop.run_until_complete(agent.run())\n",
      "  File \"/Users/brianliu/opt/anaconda3/lib/python3.8/asyncio/base_events.py\", line 616, in run_until_complete\n",
      "    return future.result()\n",
      "  File \"/Users/brianliu/opt/anaconda3/lib/python3.8/site-packages/ray/new_dashboard/agent.py\", line 144, in run\n",
      "    modules = self._load_modules()\n",
      "  File \"/Users/brianliu/opt/anaconda3/lib/python3.8/site-packages/ray/new_dashboard/agent.py\", line 98, in _load_modules\n",
      "    c = cls(self)\n",
      "  File \"/Users/brianliu/opt/anaconda3/lib/python3.8/site-packages/ray/new_dashboard/modules/reporter/reporter_agent.py\", line 148, in __init__\n",
      "    self._metrics_agent = MetricsAgent(dashboard_agent.metrics_export_port)\n",
      "  File \"/Users/brianliu/opt/anaconda3/lib/python3.8/site-packages/ray/_private/metrics_agent.py\", line 75, in __init__\n",
      "    prometheus_exporter.new_stats_exporter(\n",
      "  File \"/Users/brianliu/opt/anaconda3/lib/python3.8/site-packages/ray/_private/prometheus_exporter.py\", line 333, in new_stats_exporter\n",
      "    exporter = PrometheusStatsExporter(\n",
      "  File \"/Users/brianliu/opt/anaconda3/lib/python3.8/site-packages/ray/_private/prometheus_exporter.py\", line 266, in __init__\n",
      "    self.serve_http()\n",
      "  File \"/Users/brianliu/opt/anaconda3/lib/python3.8/site-packages/ray/_private/prometheus_exporter.py\", line 320, in serve_http\n",
      "    start_http_server(\n",
      "  File \"/Users/brianliu/opt/anaconda3/lib/python3.8/site-packages/prometheus_client/exposition.py\", line 149, in start_wsgi_server\n",
      "    httpd = make_server(addr, port, app, ThreadingWSGIServer, handler_class=_SilentHandler)\n",
      "  File \"/Users/brianliu/opt/anaconda3/lib/python3.8/wsgiref/simple_server.py\", line 154, in make_server\n",
      "    server = server_class((host, port), handler_class)\n",
      "  File \"/Users/brianliu/opt/anaconda3/lib/python3.8/socketserver.py\", line 452, in __init__\n",
      "    self.server_bind()\n",
      "  File \"/Users/brianliu/opt/anaconda3/lib/python3.8/wsgiref/simple_server.py\", line 50, in server_bind\n",
      "    HTTPServer.server_bind(self)\n",
      "  File \"/Users/brianliu/opt/anaconda3/lib/python3.8/http/server.py\", line 138, in server_bind\n",
      "    socketserver.TCPServer.server_bind(self)\n",
      "  File \"/Users/brianliu/opt/anaconda3/lib/python3.8/socketserver.py\", line 466, in server_bind\n",
      "    self.socket.bind(self.server_address)\n",
      "OSError: [Errno 48] Address already in use\n",
      "\n",
      "2021-08-15 13:22:26,494\tWARNING worker.py:1189 -- The agent on node Brians-MBP.attlocal.net failed with the following error:\n",
      "Traceback (most recent call last):\n",
      "  File \"/Users/brianliu/opt/anaconda3/lib/python3.8/site-packages/ray/new_dashboard/agent.py\", line 354, in <module>\n",
      "    loop.run_until_complete(agent.run())\n",
      "  File \"/Users/brianliu/opt/anaconda3/lib/python3.8/asyncio/base_events.py\", line 616, in run_until_complete\n",
      "    return future.result()\n",
      "  File \"/Users/brianliu/opt/anaconda3/lib/python3.8/site-packages/ray/new_dashboard/agent.py\", line 144, in run\n",
      "    modules = self._load_modules()\n",
      "  File \"/Users/brianliu/opt/anaconda3/lib/python3.8/site-packages/ray/new_dashboard/agent.py\", line 98, in _load_modules\n",
      "    c = cls(self)\n",
      "  File \"/Users/brianliu/opt/anaconda3/lib/python3.8/site-packages/ray/new_dashboard/modules/reporter/reporter_agent.py\", line 148, in __init__\n",
      "    self._metrics_agent = MetricsAgent(dashboard_agent.metrics_export_port)\n",
      "  File \"/Users/brianliu/opt/anaconda3/lib/python3.8/site-packages/ray/_private/metrics_agent.py\", line 75, in __init__\n",
      "    prometheus_exporter.new_stats_exporter(\n",
      "  File \"/Users/brianliu/opt/anaconda3/lib/python3.8/site-packages/ray/_private/prometheus_exporter.py\", line 333, in new_stats_exporter\n",
      "    exporter = PrometheusStatsExporter(\n",
      "  File \"/Users/brianliu/opt/anaconda3/lib/python3.8/site-packages/ray/_private/prometheus_exporter.py\", line 266, in __init__\n",
      "    self.serve_http()\n",
      "  File \"/Users/brianliu/opt/anaconda3/lib/python3.8/site-packages/ray/_private/prometheus_exporter.py\", line 320, in serve_http\n",
      "    start_http_server(\n",
      "  File \"/Users/brianliu/opt/anaconda3/lib/python3.8/site-packages/prometheus_client/exposition.py\", line 149, in start_wsgi_server\n",
      "    httpd = make_server(addr, port, app, ThreadingWSGIServer, handler_class=_SilentHandler)\n",
      "  File \"/Users/brianliu/opt/anaconda3/lib/python3.8/wsgiref/simple_server.py\", line 154, in make_server\n",
      "    server = server_class((host, port), handler_class)\n",
      "  File \"/Users/brianliu/opt/anaconda3/lib/python3.8/socketserver.py\", line 452, in __init__\n",
      "    self.server_bind()\n",
      "  File \"/Users/brianliu/opt/anaconda3/lib/python3.8/wsgiref/simple_server.py\", line 50, in server_bind\n",
      "    HTTPServer.server_bind(self)\n",
      "  File \"/Users/brianliu/opt/anaconda3/lib/python3.8/http/server.py\", line 138, in server_bind\n",
      "    socketserver.TCPServer.server_bind(self)\n",
      "  File \"/Users/brianliu/opt/anaconda3/lib/python3.8/socketserver.py\", line 466, in server_bind\n",
      "    self.socket.bind(self.server_address)\n",
      "OSError: [Errno 48] Address already in use\n",
      "\n"
     ]
    },
    {
     "name": "stderr",
     "output_type": "stream",
     "text": [
      "2021-08-15 13:22:28,504\tWARNING worker.py:1189 -- The agent on node Brians-MBP.attlocal.net failed with the following error:\n",
      "Traceback (most recent call last):\n",
      "  File \"/Users/brianliu/opt/anaconda3/lib/python3.8/site-packages/ray/new_dashboard/agent.py\", line 354, in <module>\n",
      "    loop.run_until_complete(agent.run())\n",
      "  File \"/Users/brianliu/opt/anaconda3/lib/python3.8/asyncio/base_events.py\", line 616, in run_until_complete\n",
      "    return future.result()\n",
      "  File \"/Users/brianliu/opt/anaconda3/lib/python3.8/site-packages/ray/new_dashboard/agent.py\", line 144, in run\n",
      "    modules = self._load_modules()\n",
      "  File \"/Users/brianliu/opt/anaconda3/lib/python3.8/site-packages/ray/new_dashboard/agent.py\", line 98, in _load_modules\n",
      "    c = cls(self)\n",
      "  File \"/Users/brianliu/opt/anaconda3/lib/python3.8/site-packages/ray/new_dashboard/modules/reporter/reporter_agent.py\", line 148, in __init__\n",
      "    self._metrics_agent = MetricsAgent(dashboard_agent.metrics_export_port)\n",
      "  File \"/Users/brianliu/opt/anaconda3/lib/python3.8/site-packages/ray/_private/metrics_agent.py\", line 75, in __init__\n",
      "    prometheus_exporter.new_stats_exporter(\n",
      "  File \"/Users/brianliu/opt/anaconda3/lib/python3.8/site-packages/ray/_private/prometheus_exporter.py\", line 333, in new_stats_exporter\n",
      "    exporter = PrometheusStatsExporter(\n",
      "  File \"/Users/brianliu/opt/anaconda3/lib/python3.8/site-packages/ray/_private/prometheus_exporter.py\", line 266, in __init__\n",
      "    self.serve_http()\n",
      "  File \"/Users/brianliu/opt/anaconda3/lib/python3.8/site-packages/ray/_private/prometheus_exporter.py\", line 320, in serve_http\n",
      "    start_http_server(\n",
      "  File \"/Users/brianliu/opt/anaconda3/lib/python3.8/site-packages/prometheus_client/exposition.py\", line 149, in start_wsgi_server\n",
      "    httpd = make_server(addr, port, app, ThreadingWSGIServer, handler_class=_SilentHandler)\n",
      "  File \"/Users/brianliu/opt/anaconda3/lib/python3.8/wsgiref/simple_server.py\", line 154, in make_server\n",
      "    server = server_class((host, port), handler_class)\n",
      "  File \"/Users/brianliu/opt/anaconda3/lib/python3.8/socketserver.py\", line 452, in __init__\n",
      "    self.server_bind()\n",
      "  File \"/Users/brianliu/opt/anaconda3/lib/python3.8/wsgiref/simple_server.py\", line 50, in server_bind\n",
      "    HTTPServer.server_bind(self)\n",
      "  File \"/Users/brianliu/opt/anaconda3/lib/python3.8/http/server.py\", line 138, in server_bind\n",
      "    socketserver.TCPServer.server_bind(self)\n",
      "  File \"/Users/brianliu/opt/anaconda3/lib/python3.8/socketserver.py\", line 466, in server_bind\n",
      "    self.socket.bind(self.server_address)\n",
      "OSError: [Errno 48] Address already in use\n",
      "\n"
     ]
    },
    {
     "name": "stdout",
     "output_type": "stream",
     "text": [
      "moderate_breathe_unvaxmask_2x\n"
     ]
    },
    {
     "name": "stderr",
     "output_type": "stream",
     "text": [
      "2021-08-15 13:22:32,309\tINFO services.py:1245 -- View the Ray dashboard at \u001b[1m\u001b[32mhttp://127.0.0.1:8265\u001b[39m\u001b[22m\n"
     ]
    },
    {
     "name": "stdout",
     "output_type": "stream",
     "text": [
      "moderate_breathe_unvaxmask_4x\n"
     ]
    },
    {
     "name": "stderr",
     "output_type": "stream",
     "text": [
      "2021-08-15 13:23:38,138\tINFO services.py:1245 -- View the Ray dashboard at \u001b[1m\u001b[32mhttp://127.0.0.1:8265\u001b[39m\u001b[22m\n"
     ]
    },
    {
     "name": "stdout",
     "output_type": "stream",
     "text": [
      "moderate_speak_nomask_2x\n"
     ]
    },
    {
     "name": "stderr",
     "output_type": "stream",
     "text": [
      "2021-08-15 13:24:41,311\tINFO services.py:1245 -- View the Ray dashboard at \u001b[1m\u001b[32mhttp://127.0.0.1:8265\u001b[39m\u001b[22m\n"
     ]
    },
    {
     "name": "stdout",
     "output_type": "stream",
     "text": [
      "moderate_speak_nomask_4x\n"
     ]
    },
    {
     "name": "stderr",
     "output_type": "stream",
     "text": [
      "2021-08-15 13:25:43,934\tINFO services.py:1245 -- View the Ray dashboard at \u001b[1m\u001b[32mhttp://127.0.0.1:8265\u001b[39m\u001b[22m\n"
     ]
    },
    {
     "name": "stdout",
     "output_type": "stream",
     "text": [
      "moderate_speak_unvaxmask_2x\n"
     ]
    },
    {
     "name": "stderr",
     "output_type": "stream",
     "text": [
      "2021-08-15 13:26:44,059\tINFO services.py:1245 -- View the Ray dashboard at \u001b[1m\u001b[32mhttp://127.0.0.1:8265\u001b[39m\u001b[22m\n"
     ]
    },
    {
     "name": "stdout",
     "output_type": "stream",
     "text": [
      "moderate_speak_unvaxmask_4x\n"
     ]
    },
    {
     "name": "stderr",
     "output_type": "stream",
     "text": [
      "2021-08-15 13:27:43,431\tINFO services.py:1245 -- View the Ray dashboard at \u001b[1m\u001b[32mhttp://127.0.0.1:8265\u001b[39m\u001b[22m\n"
     ]
    },
    {
     "name": "stdout",
     "output_type": "stream",
     "text": [
      "moderate_sing_nomask_2x\n"
     ]
    },
    {
     "name": "stderr",
     "output_type": "stream",
     "text": [
      "2021-08-15 13:28:43,620\tINFO services.py:1245 -- View the Ray dashboard at \u001b[1m\u001b[32mhttp://127.0.0.1:8265\u001b[39m\u001b[22m\n"
     ]
    },
    {
     "name": "stdout",
     "output_type": "stream",
     "text": [
      "moderate_sing_nomask_4x\n"
     ]
    },
    {
     "name": "stderr",
     "output_type": "stream",
     "text": [
      "2021-08-15 13:29:43,114\tINFO services.py:1245 -- View the Ray dashboard at \u001b[1m\u001b[32mhttp://127.0.0.1:8265\u001b[39m\u001b[22m\n"
     ]
    },
    {
     "name": "stdout",
     "output_type": "stream",
     "text": [
      "moderate_sing_unvaxmask_2x\n"
     ]
    },
    {
     "name": "stderr",
     "output_type": "stream",
     "text": [
      "2021-08-15 13:30:42,407\tINFO services.py:1245 -- View the Ray dashboard at \u001b[1m\u001b[32mhttp://127.0.0.1:8265\u001b[39m\u001b[22m\n"
     ]
    },
    {
     "name": "stdout",
     "output_type": "stream",
     "text": [
      "moderate_sing_unvaxmask_4x\n"
     ]
    },
    {
     "name": "stderr",
     "output_type": "stream",
     "text": [
      "2021-08-15 13:31:42,089\tINFO services.py:1245 -- View the Ray dashboard at \u001b[1m\u001b[32mhttp://127.0.0.1:8265\u001b[39m\u001b[22m\n"
     ]
    },
    {
     "name": "stdout",
     "output_type": "stream",
     "text": [
      "dense_outside_nomask\n"
     ]
    },
    {
     "name": "stderr",
     "output_type": "stream",
     "text": [
      "2021-08-15 13:32:41,783\tINFO services.py:1245 -- View the Ray dashboard at \u001b[1m\u001b[32mhttp://127.0.0.1:8265\u001b[39m\u001b[22m\n"
     ]
    },
    {
     "name": "stdout",
     "output_type": "stream",
     "text": [
      "dense_outside_unvaxmask\n"
     ]
    },
    {
     "name": "stderr",
     "output_type": "stream",
     "text": [
      "2021-08-15 13:33:44,352\tINFO services.py:1245 -- View the Ray dashboard at \u001b[1m\u001b[32mhttp://127.0.0.1:8265\u001b[39m\u001b[22m\n"
     ]
    },
    {
     "name": "stdout",
     "output_type": "stream",
     "text": [
      "dense_breathe_nomask_2x\n"
     ]
    },
    {
     "name": "stderr",
     "output_type": "stream",
     "text": [
      "2021-08-15 13:34:45,404\tINFO services.py:1245 -- View the Ray dashboard at \u001b[1m\u001b[32mhttp://127.0.0.1:8265\u001b[39m\u001b[22m\n"
     ]
    },
    {
     "name": "stdout",
     "output_type": "stream",
     "text": [
      "dense_breathe_nomask_4x\n"
     ]
    },
    {
     "name": "stderr",
     "output_type": "stream",
     "text": [
      "2021-08-15 13:47:21,598\tINFO services.py:1245 -- View the Ray dashboard at \u001b[1m\u001b[32mhttp://127.0.0.1:8265\u001b[39m\u001b[22m\n"
     ]
    },
    {
     "name": "stdout",
     "output_type": "stream",
     "text": [
      "dense_breathe_unvaxmask_2x\n"
     ]
    },
    {
     "name": "stderr",
     "output_type": "stream",
     "text": [
      "2021-08-15 13:48:26,439\tINFO services.py:1245 -- View the Ray dashboard at \u001b[1m\u001b[32mhttp://127.0.0.1:8265\u001b[39m\u001b[22m\n"
     ]
    },
    {
     "name": "stdout",
     "output_type": "stream",
     "text": [
      "dense_breathe_unvaxmask_4x\n"
     ]
    },
    {
     "name": "stderr",
     "output_type": "stream",
     "text": [
      "2021-08-15 13:49:34,548\tINFO services.py:1245 -- View the Ray dashboard at \u001b[1m\u001b[32mhttp://127.0.0.1:8265\u001b[39m\u001b[22m\n"
     ]
    },
    {
     "name": "stdout",
     "output_type": "stream",
     "text": [
      "dense_speak_nomask_2x\n"
     ]
    },
    {
     "name": "stderr",
     "output_type": "stream",
     "text": [
      "2021-08-15 13:50:40,013\tINFO services.py:1245 -- View the Ray dashboard at \u001b[1m\u001b[32mhttp://127.0.0.1:8265\u001b[39m\u001b[22m\n"
     ]
    },
    {
     "name": "stdout",
     "output_type": "stream",
     "text": [
      "dense_speak_nomask_4x\n"
     ]
    },
    {
     "name": "stderr",
     "output_type": "stream",
     "text": [
      "2021-08-15 13:51:47,493\tINFO services.py:1245 -- View the Ray dashboard at \u001b[1m\u001b[32mhttp://127.0.0.1:8265\u001b[39m\u001b[22m\n"
     ]
    },
    {
     "name": "stdout",
     "output_type": "stream",
     "text": [
      "dense_speak_unvaxmask_2x\n"
     ]
    },
    {
     "name": "stderr",
     "output_type": "stream",
     "text": [
      "2021-08-15 13:52:52,271\tINFO services.py:1245 -- View the Ray dashboard at \u001b[1m\u001b[32mhttp://127.0.0.1:8265\u001b[39m\u001b[22m\n"
     ]
    },
    {
     "name": "stdout",
     "output_type": "stream",
     "text": [
      "dense_speak_unvaxmask_4x\n"
     ]
    },
    {
     "name": "stderr",
     "output_type": "stream",
     "text": [
      "2021-08-15 13:54:00,360\tINFO services.py:1245 -- View the Ray dashboard at \u001b[1m\u001b[32mhttp://127.0.0.1:8265\u001b[39m\u001b[22m\n"
     ]
    },
    {
     "name": "stdout",
     "output_type": "stream",
     "text": [
      "dense_sing_nomask_2x\n"
     ]
    },
    {
     "name": "stderr",
     "output_type": "stream",
     "text": [
      "2021-08-15 13:55:06,363\tINFO services.py:1245 -- View the Ray dashboard at \u001b[1m\u001b[32mhttp://127.0.0.1:8265\u001b[39m\u001b[22m\n"
     ]
    },
    {
     "name": "stdout",
     "output_type": "stream",
     "text": [
      "dense_sing_nomask_4x\n"
     ]
    },
    {
     "name": "stderr",
     "output_type": "stream",
     "text": [
      "2021-08-15 13:56:10,632\tINFO services.py:1245 -- View the Ray dashboard at \u001b[1m\u001b[32mhttp://127.0.0.1:8265\u001b[39m\u001b[22m\n"
     ]
    },
    {
     "name": "stdout",
     "output_type": "stream",
     "text": [
      "dense_sing_unvaxmask_2x\n"
     ]
    },
    {
     "name": "stderr",
     "output_type": "stream",
     "text": [
      "2021-08-15 13:57:15,258\tINFO services.py:1245 -- View the Ray dashboard at \u001b[1m\u001b[32mhttp://127.0.0.1:8265\u001b[39m\u001b[22m\n"
     ]
    },
    {
     "name": "stdout",
     "output_type": "stream",
     "text": [
      "dense_sing_unvaxmask_4x\n"
     ]
    },
    {
     "name": "stderr",
     "output_type": "stream",
     "text": [
      "2021-08-15 13:58:18,254\tINFO services.py:1245 -- View the Ray dashboard at \u001b[1m\u001b[32mhttp://127.0.0.1:8265\u001b[39m\u001b[22m\n"
     ]
    }
   ],
   "source": [
    "import warnings\n",
    "warnings.filterwarnings(\"ignore\")\n",
    "final_results = {}\n",
    "for arg in args:\n",
    "    print(arg[-1])\n",
    "    masked_status = arg[0]\n",
    "    room = arg[1]\n",
    "    room_vol = arg[2]\n",
    "    pixels_per_foot = arg[3]\n",
    "    class_type = arg[4]\n",
    "    air_exchanges_per_hour = arg[5]\n",
    "    label = arg[6]\n",
    "    \n",
    "    \n",
    "    ray.shutdown()\n",
    "    ray.init(log_to_driver=False)\n",
    "    result_ids = []\n",
    "    for p in p_range:\n",
    "        result_ids.append(parallel_wrapper.remote(p))    \n",
    "    results = ray.get(result_ids)  \n",
    "    ray.shutdown()\n",
    "    results = pd.DataFrame(results, columns = ['p','mean','std','unvax_aerosol'])\n",
    "    final_results[label] = results\n",
    "    gc.collect()"
   ]
  },
  {
   "cell_type": "code",
   "execution_count": 22,
   "metadata": {},
   "outputs": [
    {
     "data": {
      "text/plain": [
       "{'distanced_outside_nomask':      p      mean       std  unvax_aerosol\n",
       " 0  0.5  0.009567  0.005821            0.0\n",
       " 1  0.6  0.008415  0.005629            0.0\n",
       " 2  0.7  0.006244  0.004777            0.0\n",
       " 3  0.8  0.004987  0.004333            0.0\n",
       " 4  0.9  0.003142  0.003088            0.0\n",
       " 5  1.0  0.001367  0.000514            0.0,\n",
       " 'distanced_outside_unvaxmask':      p      mean       std  unvax_aerosol\n",
       " 0  0.5  0.002239  0.000861            0.0\n",
       " 1  0.6  0.002072  0.000880            0.0\n",
       " 2  0.7  0.001985  0.000783            0.0\n",
       " 3  0.8  0.001770  0.000758            0.0\n",
       " 4  0.9  0.001542  0.000665            0.0\n",
       " 5  1.0  0.001371  0.000510            0.0,\n",
       " 'distanced_breathe_nomask_2x':      p      mean       std  unvax_aerosol\n",
       " 0  0.5  0.011325  0.005894       0.000066\n",
       " 1  0.6  0.009741  0.005586       0.000063\n",
       " 2  0.7  0.007567  0.005032       0.000057\n",
       " 3  0.8  0.006027  0.004726       0.000050\n",
       " 4  0.9  0.003510  0.003187       0.000038\n",
       " 5  1.0  0.001549  0.000473       0.000023,\n",
       " 'distanced_breathe_nomask_4x':      p      mean       std  unvax_aerosol\n",
       " 0  0.5  0.010874  0.005868       0.000033\n",
       " 1  0.6  0.009452  0.005819       0.000031\n",
       " 2  0.7  0.007520  0.005411       0.000028\n",
       " 3  0.8  0.005613  0.004442       0.000025\n",
       " 4  0.9  0.003512  0.003284       0.000020\n",
       " 5  1.0  0.001443  0.000498       0.000011,\n",
       " 'distanced_breathe_unvaxmask_2x':      p      mean       std  unvax_aerosol\n",
       " 0  0.5  0.002564  0.000872       0.000029\n",
       " 1  0.6  0.002359  0.000799       0.000029\n",
       " 2  0.7  0.002224  0.000791       0.000028\n",
       " 3  0.8  0.002021  0.000700       0.000027\n",
       " 4  0.9  0.001796  0.000629       0.000025\n",
       " 5  1.0  0.001568  0.000475       0.000023,\n",
       " 'distanced_breathe_unvaxmask_4x':      p      mean       std  unvax_aerosol\n",
       " 0  0.5  0.002284  0.000857       0.000015\n",
       " 1  0.6  0.002212  0.000847       0.000014\n",
       " 2  0.7  0.002047  0.000831       0.000014\n",
       " 3  0.8  0.001925  0.000814       0.000013\n",
       " 4  0.9  0.001691  0.000662       0.000012\n",
       " 5  1.0  0.001452  0.000492       0.000011,\n",
       " 'distanced_speak_nomask_2x':      p      mean       std  unvax_aerosol\n",
       " 0  0.5  0.022764  0.008587       0.000536\n",
       " 1  0.6  0.018330  0.008483       0.000490\n",
       " 2  0.7  0.014921  0.008165       0.000443\n",
       " 3  0.8  0.011300  0.007082       0.000393\n",
       " 4  0.9  0.007366  0.005182       0.000315\n",
       " 5  1.0  0.003380  0.000304       0.000187,\n",
       " 'distanced_speak_nomask_4x':      p      mean       std  unvax_aerosol\n",
       " 0  0.5  0.016247  0.006677       0.000271\n",
       " 1  0.6  0.012983  0.006700       0.000245\n",
       " 2  0.7  0.010716  0.006433       0.000223\n",
       " 3  0.8  0.008224  0.005661       0.000201\n",
       " 4  0.9  0.005210  0.004029       0.000159\n",
       " 5  1.0  0.002295  0.000370       0.000093,\n",
       " 'distanced_speak_unvaxmask_2x':      p      mean       std  unvax_aerosol\n",
       " 0  0.5  0.005412  0.000831       0.000243\n",
       " 1  0.6  0.005032  0.000863       0.000237\n",
       " 2  0.7  0.004756  0.000888       0.000230\n",
       " 3  0.8  0.004330  0.000866       0.000220\n",
       " 4  0.9  0.003879  0.000738       0.000205\n",
       " 5  1.0  0.003386  0.000291       0.000187,\n",
       " 'distanced_speak_unvaxmask_4x':      p      mean       std  unvax_aerosol\n",
       " 0  0.5  0.003670  0.000779       0.000121\n",
       " 1  0.6  0.003468  0.000781       0.000118\n",
       " 2  0.7  0.003289  0.000770       0.000115\n",
       " 3  0.8  0.002974  0.000774       0.000110\n",
       " 4  0.9  0.002678  0.000648       0.000104\n",
       " 5  1.0  0.002280  0.000386       0.000093,\n",
       " 'distanced_sing_nomask_2x':      p      mean           std  unvax_aerosol\n",
       " 0  0.5  0.170922  5.387179e-02       0.005481\n",
       " 1  0.6  0.142504  5.267822e-02       0.005157\n",
       " 2  0.7  0.114188  4.913409e-02       0.004738\n",
       " 3  0.8  0.086810  4.277572e-02       0.004217\n",
       " 4  0.9  0.054859  3.044372e-02       0.003193\n",
       " 5  1.0  0.029683  3.469447e-18       0.002126,\n",
       " 'distanced_sing_nomask_4x':      p      mean       std  unvax_aerosol\n",
       " 0  0.5  0.087138  0.027085       0.002758\n",
       " 1  0.6  0.071977  0.026996       0.002570\n",
       " 2  0.7  0.057311  0.025290       0.002343\n",
       " 3  0.8  0.044349  0.021991       0.002122\n",
       " 4  0.9  0.029095  0.016299       0.001678\n",
       " 5  1.0  0.014918  0.000058       0.001063,\n",
       " 'distanced_sing_unvaxmask_2x':      p      mean           std  unvax_aerosol\n",
       " 0  0.5  0.045238  5.015183e-03       0.002702\n",
       " 1  0.6  0.043077  5.198432e-03       0.002663\n",
       " 2  0.7  0.040014  5.532649e-03       0.002563\n",
       " 3  0.8  0.036851  5.371883e-03       0.002448\n",
       " 4  0.9  0.033903  4.713177e-03       0.002338\n",
       " 5  1.0  0.029683  3.469447e-18       0.002126,\n",
       " 'distanced_sing_unvaxmask_4x':      p      mean       std  unvax_aerosol\n",
       " 0  0.5  0.022711  0.002594       0.001347\n",
       " 1  0.6  0.021519  0.002719       0.001321\n",
       " 2  0.7  0.020192  0.002807       0.001284\n",
       " 3  0.8  0.018650  0.002744       0.001230\n",
       " 4  0.9  0.017163  0.002442       0.001177\n",
       " 5  1.0  0.014924  0.000060       0.001063,\n",
       " 'moderate_outside_nomask':      p      mean       std  unvax_aerosol\n",
       " 0  0.5  0.037644  0.021660            0.0\n",
       " 1  0.6  0.031924  0.019809            0.0\n",
       " 2  0.7  0.027065  0.018635            0.0\n",
       " 3  0.8  0.020298  0.016902            0.0\n",
       " 4  0.9  0.011620  0.010981            0.0\n",
       " 5  1.0  0.004850  0.001741            0.0,\n",
       " 'moderate_outside_unvaxmask':      p      mean       std  unvax_aerosol\n",
       " 0  0.5  0.008447  0.003066            0.0\n",
       " 1  0.6  0.007995  0.003314            0.0\n",
       " 2  0.7  0.007273  0.003184            0.0\n",
       " 3  0.8  0.006776  0.002773            0.0\n",
       " 4  0.9  0.005853  0.002326            0.0\n",
       " 5  1.0  0.004974  0.001759            0.0,\n",
       " 'moderate_breathe_nomask_2x':      p      mean       std  unvax_aerosol\n",
       " 0  0.5  0.041342  0.020797       0.000104\n",
       " 1  0.6  0.035804  0.020877       0.000097\n",
       " 2  0.7  0.028881  0.019057       0.000088\n",
       " 3  0.8  0.020463  0.016887       0.000073\n",
       " 4  0.9  0.012815  0.011988       0.000061\n",
       " 5  1.0  0.005083  0.001709       0.000035,\n",
       " 'moderate_breathe_nomask_4x':      p      mean       std  unvax_aerosol\n",
       " 0  0.5  0.042090  0.021142       0.000053\n",
       " 1  0.6  0.033066  0.020620       0.000047\n",
       " 2  0.7  0.026990  0.018472       0.000043\n",
       " 3  0.8  0.020104  0.016228       0.000037\n",
       " 4  0.9  0.012675  0.011932       0.000031\n",
       " 5  1.0  0.005073  0.001692       0.000018,\n",
       " 'moderate_breathe_unvaxmask_2x':      p      mean       std  unvax_aerosol\n",
       " 0  0.5  0.008720  0.003092       0.000046\n",
       " 1  0.6  0.008296  0.003036       0.000045\n",
       " 2  0.7  0.007613  0.002978       0.000043\n",
       " 3  0.8  0.007198  0.002757       0.000041\n",
       " 4  0.9  0.006173  0.002432       0.000039\n",
       " 5  1.0  0.005160  0.001766       0.000035,\n",
       " 'moderate_breathe_unvaxmask_4x':      p      mean       std  unvax_aerosol\n",
       " 0  0.5  0.008411  0.003251       0.000023\n",
       " 1  0.6  0.008107  0.003146       0.000022\n",
       " 2  0.7  0.007563  0.002958       0.000022\n",
       " 3  0.8  0.006815  0.002845       0.000021\n",
       " 4  0.9  0.005999  0.002378       0.000019\n",
       " 5  1.0  0.005043  0.001891       0.000018,\n",
       " 'moderate_speak_nomask_2x':      p      mean       std  unvax_aerosol\n",
       " 0  0.5  0.053997  0.023206       0.000827\n",
       " 1  0.6  0.043737  0.022998       0.000746\n",
       " 2  0.7  0.035398  0.021163       0.000691\n",
       " 3  0.8  0.026892  0.019320       0.000599\n",
       " 4  0.9  0.015731  0.012798       0.000450\n",
       " 5  1.0  0.007421  0.001242       0.000288,\n",
       " 'moderate_speak_nomask_4x':      p      mean       std  unvax_aerosol\n",
       " 0  0.5  0.045521  0.021204       0.000415\n",
       " 1  0.6  0.038629  0.020922       0.000390\n",
       " 2  0.7  0.032088  0.020739       0.000348\n",
       " 3  0.8  0.023726  0.017775       0.000309\n",
       " 4  0.9  0.013702  0.011800       0.000230\n",
       " 5  1.0  0.006010  0.001465       0.000144,\n",
       " 'moderate_speak_unvaxmask_2x':      p      mean       std  unvax_aerosol\n",
       " 0  0.5  0.012098  0.002922       0.000372\n",
       " 1  0.6  0.011429  0.002835       0.000363\n",
       " 2  0.7  0.010653  0.002969       0.000352\n",
       " 3  0.8  0.009854  0.002641       0.000339\n",
       " 4  0.9  0.008650  0.002390       0.000321\n",
       " 5  1.0  0.007376  0.001351       0.000288,\n",
       " 'moderate_speak_unvaxmask_4x':      p      mean       std  unvax_aerosol\n",
       " 0  0.5  0.010011  0.003069       0.000185\n",
       " 1  0.6  0.009461  0.002946       0.000184\n",
       " 2  0.7  0.008973  0.003022       0.000176\n",
       " 3  0.8  0.008092  0.002655       0.000169\n",
       " 4  0.9  0.006929  0.002297       0.000158\n",
       " 5  1.0  0.006095  0.001451       0.000144,\n",
       " 'moderate_sing_nomask_2x':      p      mean       std  unvax_aerosol\n",
       " 0  0.5  0.244860  0.079584       0.007699\n",
       " 1  0.6  0.203927  0.076924       0.007238\n",
       " 2  0.7  0.163400  0.071369       0.006635\n",
       " 3  0.8  0.127557  0.061584       0.006067\n",
       " 4  0.9  0.081654  0.043846       0.004684\n",
       " 5  1.0  0.044655  0.000139       0.003182,\n",
       " 'moderate_sing_nomask_4x':      p      mean       std  unvax_aerosol\n",
       " 0  0.5  0.135583  0.042186       0.003950\n",
       " 1  0.6  0.111903  0.042761       0.003666\n",
       " 2  0.7  0.090703  0.040192       0.003388\n",
       " 3  0.8  0.067589  0.035224       0.002957\n",
       " 4  0.9  0.045752  0.026366       0.002436\n",
       " 5  1.0  0.023330  0.000592       0.001591,\n",
       " 'moderate_sing_unvaxmask_2x':      p      mean       std  unvax_aerosol\n",
       " 0  0.5  0.067716  0.007343       0.004012\n",
       " 1  0.6  0.063090  0.008187       0.003870\n",
       " 2  0.7  0.060278  0.008073       0.003831\n",
       " 3  0.8  0.055835  0.007939       0.003683\n",
       " 4  0.9  0.050536  0.006713       0.003464\n",
       " 5  1.0  0.044669  0.000142       0.003182,\n",
       " 'moderate_sing_unvaxmask_4x':      p      mean       std  unvax_aerosol\n",
       " 0  0.5  0.035980  0.004184       0.002013\n",
       " 1  0.6  0.033918  0.004506       0.001967\n",
       " 2  0.7  0.031688  0.004728       0.001902\n",
       " 3  0.8  0.029427  0.004517       0.001844\n",
       " 4  0.9  0.026716  0.003890       0.001745\n",
       " 5  1.0  0.023326  0.000591       0.001591,\n",
       " 'dense_outside_nomask':      p      mean       std  unvax_aerosol\n",
       " 0  0.5  0.094689  0.052485            0.0\n",
       " 1  0.6  0.084170  0.049102            0.0\n",
       " 2  0.7  0.068437  0.045515            0.0\n",
       " 3  0.8  0.050001  0.039264            0.0\n",
       " 4  0.9  0.031342  0.028484            0.0\n",
       " 5  1.0  0.012936  0.004597            0.0,\n",
       " 'dense_outside_unvaxmask':      p      mean       std  unvax_aerosol\n",
       " 0  0.5  0.021192  0.007973            0.0\n",
       " 1  0.6  0.020627  0.007672            0.0\n",
       " 2  0.7  0.019242  0.007424            0.0\n",
       " 3  0.8  0.017544  0.006886            0.0\n",
       " 4  0.9  0.015358  0.005677            0.0\n",
       " 5  1.0  0.013114  0.004635            0.0,\n",
       " 'dense_breathe_nomask_2x':      p      mean       std  unvax_aerosol\n",
       " 0  0.5  0.105530  0.047563       0.000512\n",
       " 1  0.6  0.086152  0.049906       0.000451\n",
       " 2  0.7  0.072852  0.044818       0.000428\n",
       " 3  0.8  0.053878  0.041189       0.000358\n",
       " 4  0.9  0.034919  0.029231       0.000301\n",
       " 5  1.0  0.013685  0.004385       0.000171,\n",
       " 'dense_breathe_nomask_4x':      p      mean       std  unvax_aerosol\n",
       " 0  0.5  0.096048  0.050678       0.000243\n",
       " 1  0.6  0.083514  0.049663       0.000225\n",
       " 2  0.7  0.070419  0.046693       0.000208\n",
       " 3  0.8  0.051404  0.039288       0.000181\n",
       " 4  0.9  0.032642  0.029053       0.000146\n",
       " 5  1.0  0.013132  0.004659       0.000086,\n",
       " 'dense_breathe_unvaxmask_2x':      p      mean       std  unvax_aerosol\n",
       " 0  0.5  0.023174  0.007571       0.000222\n",
       " 1  0.6  0.021700  0.007221       0.000217\n",
       " 2  0.7  0.020994  0.006588       0.000210\n",
       " 3  0.8  0.018877  0.006586       0.000204\n",
       " 4  0.9  0.015956  0.005922       0.000186\n",
       " 5  1.0  0.013994  0.004531       0.000171,\n",
       " 'dense_breathe_unvaxmask_4x':      p      mean       std  unvax_aerosol\n",
       " 0  0.5  0.022623  0.007522       0.000112\n",
       " 1  0.6  0.021400  0.007256       0.000109\n",
       " 2  0.7  0.019698  0.007419       0.000106\n",
       " 3  0.8  0.018296  0.006748       0.000102\n",
       " 4  0.9  0.015852  0.006031       0.000094\n",
       " 5  1.0  0.013496  0.004264       0.000086,\n",
       " 'dense_speak_nomask_2x':      p      mean       std  unvax_aerosol\n",
       " 0  0.5  0.167016  0.057669       0.003761\n",
       " 1  0.6  0.135735  0.060321       0.003392\n",
       " 2  0.7  0.112495  0.058292       0.003152\n",
       " 3  0.8  0.083790  0.052125       0.002730\n",
       " 4  0.9  0.053711  0.038095       0.002180\n",
       " 5  1.0  0.025060  0.002567       0.001366,\n",
       " 'dense_speak_nomask_4x':      p      mean       std  unvax_aerosol\n",
       " 0  0.5  0.127042  0.050389       0.001866\n",
       " 1  0.6  0.100835  0.052602       0.001672\n",
       " 2  0.7  0.087504  0.050758       0.001558\n",
       " 3  0.8  0.064902  0.043510       0.001386\n",
       " 4  0.9  0.039319  0.030770       0.001067\n",
       " 5  1.0  0.017876  0.003283       0.000683,\n",
       " 'dense_speak_unvaxmask_2x':      p      mean       std  unvax_aerosol\n",
       " 0  0.5  0.039575  0.006414       0.001755\n",
       " 1  0.6  0.037440  0.006652       0.001710\n",
       " 2  0.7  0.034396  0.006971       0.001634\n",
       " 3  0.8  0.032368  0.006500       0.001592\n",
       " 4  0.9  0.029148  0.005460       0.001501\n",
       " 5  1.0  0.025059  0.002461       0.001366,\n",
       " 'dense_speak_unvaxmask_4x':      p      mean       std  unvax_aerosol\n",
       " 0  0.5  0.029142  0.006409       0.000875\n",
       " 1  0.6  0.026694  0.006507       0.000848\n",
       " 2  0.7  0.025880  0.006573       0.000838\n",
       " 3  0.8  0.023697  0.006264       0.000803\n",
       " 4  0.9  0.020687  0.005358       0.000747\n",
       " 5  1.0  0.018016  0.003403       0.000683,\n",
       " 'dense_sing_nomask_2x':      p      mean           std  unvax_aerosol\n",
       " 0  0.5  0.785473  2.210889e-01       0.025055\n",
       " 1  0.6  0.670536  2.095709e-01       0.024134\n",
       " 2  0.7  0.540495  1.973891e-01       0.022293\n",
       " 3  0.8  0.418041  1.716619e-01       0.020179\n",
       " 4  0.9  0.291476  1.284112e-01       0.016906\n",
       " 5  1.0  0.166099  2.526663e-07       0.011894,\n",
       " 'dense_sing_nomask_4x':      p      mean       std  unvax_aerosol\n",
       " 0  0.5  0.409135  0.118705       0.012527\n",
       " 1  0.6  0.347458  0.115917       0.011931\n",
       " 2  0.7  0.287151  0.106985       0.011300\n",
       " 3  0.8  0.211402  0.094128       0.009749\n",
       " 4  0.9  0.145418  0.067387       0.008129\n",
       " 5  1.0  0.084487  0.000786       0.005947,\n",
       " 'dense_sing_unvaxmask_2x':      p      mean           std  unvax_aerosol\n",
       " 0  0.5  0.242152  2.040418e-02       0.014461\n",
       " 1  0.6  0.228836  2.272175e-02       0.014144\n",
       " 2  0.7  0.215990  2.348723e-02       0.013832\n",
       " 3  0.8  0.200626  2.304930e-02       0.013324\n",
       " 4  0.9  0.184951  1.975342e-02       0.012752\n",
       " 5  1.0  0.166099  2.692644e-07       0.011894,\n",
       " 'dense_sing_unvaxmask_4x':      p      mean       std  unvax_aerosol\n",
       " 0  0.5  0.121950  0.012131       0.007123\n",
       " 1  0.6  0.116839  0.012245       0.007059\n",
       " 2  0.7  0.110093  0.012649       0.006891\n",
       " 3  0.8  0.102666  0.012370       0.006671\n",
       " 4  0.9  0.094204  0.010394       0.006370\n",
       " 5  1.0  0.084507  0.000780       0.005947}"
      ]
     },
     "execution_count": 22,
     "metadata": {},
     "output_type": "execute_result"
    }
   ],
   "source": [
    "final_results"
   ]
  },
  {
   "cell_type": "code",
   "execution_count": 24,
   "metadata": {},
   "outputs": [],
   "source": [
    "with open('sim_results/COVID_delta_sims_events.pickle', 'wb') as handle:\n",
    "    pickle.dump(final_results, handle, protocol=pickle.HIGHEST_PROTOCOL)"
   ]
  },
  {
   "cell_type": "code",
   "execution_count": null,
   "metadata": {},
   "outputs": [],
   "source": []
  }
 ],
 "metadata": {
  "kernelspec": {
   "display_name": "Python 3",
   "language": "python",
   "name": "python3"
  },
  "language_info": {
   "codemirror_mode": {
    "name": "ipython",
    "version": 3
   },
   "file_extension": ".py",
   "mimetype": "text/x-python",
   "name": "python",
   "nbconvert_exporter": "python",
   "pygments_lexer": "ipython3",
   "version": "3.8.8"
  }
 },
 "nbformat": 4,
 "nbformat_minor": 4
}
