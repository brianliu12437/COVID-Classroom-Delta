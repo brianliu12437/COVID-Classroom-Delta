{
 "cells": [
  {
   "cell_type": "markdown",
   "metadata": {},
   "source": [
    "# Markdown Infection"
   ]
  },
  {
   "cell_type": "code",
   "execution_count": 1,
   "metadata": {},
   "outputs": [],
   "source": [
    "import pandas as pd\n",
    "import sys\n",
    "import warnings\n",
    "import numpy as np\n",
    "import matplotlib.pyplot as plt\n",
    "import pickle\n",
    "if not sys.warnoptions:\n",
    "    warnings.simplefilter(\"ignore\")\n",
    "import seaborn as sns\n",
    "import gc\n",
    "import itertools\n",
    "import random\n",
    "import math\n",
    "from matplotlib.ticker import FormatStrFormatter\n",
    "import ray\n",
    "import shapley\n",
    "sys.path.append('../')\n",
    "\n"
   ]
  },
  {
   "cell_type": "code",
   "execution_count": 21,
   "metadata": {},
   "outputs": [],
   "source": [
    "class_risk_params = {\n",
    "    'prevalence': 5*10**(-4),\n",
    "    'vax_effectiveness': .715,\n",
    "    'sensitivity': 0.6,\n",
    "    'mask_efficacy': 0.8\n",
    "}\n",
    "\n",
    "\n",
    "aerosol_params = {\n",
    "    'inhale_air_rate': 6.8,\n",
    "    'dose_response_constant': 1440,\n",
    "    \n",
    "    'nominal_breathe_virus_emitted_hourly': 3300,# corresponding to 10^8 copies / mL\n",
    "    'nominal_talk_virus_emitted_hourly' : 27300,\n",
    "    'nominal_sing_virus_emitted_hourly' : 330000,\n",
    "    'nominal_heavy_breathe_virus_emitted_hourly': 3300*15,\n",
    "\n",
    "    'viral_load_distribution': [0.12, 0.22, 0.3, 0.23, 0.103, 0.0236, 0.0034] # over orders of magnitude from 10^5 to 10^11\n",
    "}\n",
    "\n",
    "\"\"\"\n",
    "Difference of sets\n",
    "\"\"\"\n",
    "def Diff(li1, li2):\n",
    "    li_dif = [i for i in li1 + li2 if i not in li1 or i not in li2]\n",
    "    return li_dif\n",
    "\n",
    "\"\"\"\n",
    "Biased coin flipper\n",
    "\"\"\"\n",
    "def flip(p):\n",
    "    return 1 if random.random() < p else 0\n",
    "\n",
    "\n",
    "def simulate_class_single_aerosol(room,vax_infected, unvax_infected, time,alpha,masked_status,class_type,room_height,N,pixels_per_foot, air_exchanges_per_hour):\n",
    "    room = room.reset_index()\n",
    "    vax_infect_id = random.sample(list(room[room['seating'] == 'V']['index'].values), vax_infected)\n",
    "    unvax_infect_id = random.sample(list(room[room['seating'] == 'U']['index'].values), unvax_infected)\n",
    "    infected = room[room['index'].isin(np.append(vax_infect_id,unvax_infect_id))]\n",
    "    uninfected = room[ (~room['index'].isin(np.append(vax_infect_id,unvax_infect_id))) & \\\n",
    "                      (room['seating'] != 'E')  ]\n",
    "    \n",
    "    if vax_infected == 1:\n",
    "        source_status = 'V'\n",
    "    elif unvax_infected == 1:\n",
    "        source_status = 'U'\n",
    "    infected_x = infected['x']\n",
    "    infected_y = infected['y']\n",
    "    \n",
    "    \n",
    "    p_infections = []\n",
    "    for i,row in uninfected.iterrows():\n",
    "        \n",
    "        x = row['x']\n",
    "        y = row['y']\n",
    "        v_infect = [x-infected_x,y - infected_y]\n",
    "        v_vert = [0,10000]\n",
    "        dot = v_infect[1]*v_vert[1]\n",
    "        mag1 = 10000\n",
    "        mag2 = np.sqrt((x-infected_x)**2+(y - infected_y)**2)\n",
    "        theta =  math.acos(dot/(mag1*mag2))*180/math.pi\n",
    "        susceptible_status = row['seating']\n",
    "        \n",
    "        dist = np.sqrt((infected_x-x)**2+(infected_y-y)**2)\n",
    "        room_vol = (math.pi*dist*dist*room_height*28.3168).values[0]\n",
    "        \n",
    "        unvax_aerosol_risk = (1/air_exchanges_per_hour)*generate_aerosol_risk(room_vol, vax_infected, unvax_infected, time, masked_status, class_type, params = aerosol_params)\n",
    "        susceptible_aerosol_risk = unvax_aerosol_risk \n",
    "        \n",
    "        if susceptible_status == 'V':\n",
    "            susceptible_aerosol_risk = susceptible_aerosol_risk * (1-class_risk_params['vax_effectiveness'])\n",
    "        \n",
    "        if masked_status == True:\n",
    "            if susceptible_status == 'U':\n",
    "                susceptible_aerosol_risk = susceptible_aerosol_risk * class_risk_params['mask_efficacy']\n",
    "       \n",
    "        if theta < 90 + alpha:\n",
    "            p = updated_distance_to_prob(dist,susceptible_status,source_status,masked_status,time,pixels_per_foot)\n",
    "            p = max(p,susceptible_aerosol_risk)\n",
    "            p_infections.append(p)\n",
    "            \n",
    "        else:\n",
    "            \n",
    "            p_infections.append(susceptible_aerosol_risk)\n",
    "            \n",
    "    return np.sum(p_infections),unvax_aerosol_risk\n",
    "\n",
    "def updated_distance_to_prob(d,susceptible_status,source_status,masked_status,time,pixels_per_foot): \n",
    "    \n",
    "    d = d/pixels_per_foot*0.3048\n",
    "    susceptible_const = 1\n",
    "    source_const = 1\n",
    "    masked_const_source = 1\n",
    "    masked_const_susceptible = 1\n",
    "    if susceptible_status == 'V':\n",
    "        susceptible_const = 1 - class_risk_params['vax_effectiveness'] \n",
    "    if source_status == 'V':\n",
    "        source_const = 0.29 \n",
    "        \n",
    "    if masked_status == True:\n",
    "        \n",
    "        if source_status == 'U':\n",
    "            masked_const_source = class_risk_params['mask_efficacy']\n",
    "        if susceptible_status == 'U':\n",
    "            masked_const_susceptible = class_risk_params['mask_efficacy']\n",
    "        \n",
    "        \n",
    "    prob = 2.4*susceptible_const*masked_const_susceptible *masked_const_source *(1-np.exp(-1 *  source_const * 0.0135 *time * (-0.1819*np.log(d)+0.43276)/d))\n",
    "    \n",
    "    prob = float(prob)\n",
    "    return max(prob,0)\n",
    "\n",
    "def generate_aerosol_risk(room_vol, vax_infected, unvax_infected, time, masked_status, class_type, params = aerosol_params):\n",
    "    \n",
    "    if class_type == 'breathe':\n",
    "        v = params['nominal_breathe_virus_emitted_hourly'] \n",
    "    elif class_type == 'speak':\n",
    "        v = params['nominal_talk_virus_emitted_hourly'] \n",
    "    elif class_type == 'sing':\n",
    "        v = params['nominal_sing_virus_emitted_hourly'] \n",
    "    elif class_type == 'heavy_breathe':\n",
    "        v = params['nominal_heavy_breathe_virus_emitted_hourly']\n",
    "    elif class_type == 'no_aerosol':\n",
    "        return 0\n",
    "    \n",
    "    hourly_virus_array = np.array([v/1000, v/100, v/10, v, v*10, v*100, v*1000])\n",
    "    \n",
    "    dose_array = hourly_virus_array * params['inhale_air_rate'] / room_vol\n",
    "    \n",
    "    if masked_status == True:\n",
    "        if unvax_infected == 1:\n",
    "            dose_array = dose_array * class_risk_params['mask_efficacy']\n",
    "    \n",
    "    if vax_infected == 1:\n",
    "        dose_array = dose_array * 0.29 \n",
    "  \n",
    "    effective_dose_array = dose_array / params['dose_response_constant']\n",
    "\n",
    "    unvax_susceptible_risk_array = 1 - np.exp(-effective_dose_array)\n",
    "    unvax_susceptible_risk = np.dot(unvax_susceptible_risk_array, np.array(params['viral_load_distribution']))\n",
    "    unvax_susceptible_risk_over_time = 2.4*unvax_susceptible_risk * time\n",
    "\n",
    "    return unvax_susceptible_risk_over_time #risk for unvax + no mask"
   ]
  },
  {
   "cell_type": "code",
   "execution_count": 22,
   "metadata": {},
   "outputs": [],
   "source": [
    "def generate_clumpy_plan(N,p,room, clump_size = 3):\n",
    "    Nvax = round(N*p)\n",
    "    Nunvax = N-Nvax\n",
    "    room = room.drop('UnvaxSpot',axis = 1).reset_index()\n",
    "    grid = room.copy()\n",
    "    grid['seating'] = 'E'\n",
    "    \n",
    "    if Nunvax > 0:\n",
    "        clump_size = min(clump_size,Nunvax)\n",
    "        num_clumps = math.floor(Nunvax/clump_size)\n",
    "        remainder = Nunvax - num_clumps*clump_size\n",
    "        clump = 0\n",
    "        while clump < (num_clumps):\n",
    "            ind1 = np.random.choice(room['index'].values,replace = False)\n",
    "            grid['seating'].loc[grid['index'] == ind1] = 'U'\n",
    "            room = room.drop(ind1, axis = 0)\n",
    "            x_temp = grid['x'].loc[grid['index'] == ind1].values[0]\n",
    "            y_temp = grid['y'].loc[grid['index'] == ind1].values[0]  \n",
    "            temp = room.copy()\n",
    "            temp['dist_infected'] = ((temp['x'] -x_temp) ** 2 + (temp['y'] - y_temp) ** 2) ** 0.5\n",
    "            temp = temp.sort_values('dist_infected', ascending = True).head(clump_size-1)\n",
    "            grid['seating'].loc[grid['index'].isin(temp['index'].values)] = 'U'\n",
    "            room = room.drop(temp['index'].values, axis = 0)\n",
    "            clump = clump + 1\n",
    "        remainder_ind = np.random.choice(grid['index'].loc[grid['seating'] == 'E'],remainder,replace = False)\n",
    "        grid['seating'].loc[grid['index'].isin(remainder_ind)] = 'U'\n",
    "\n",
    "    vax_ind = np.random.choice(grid['index'].loc[grid['seating'] == 'E'],Nvax,replace = False) \n",
    "    grid['seating'].loc[grid['index'].isin(vax_ind)] = 'V'\n",
    "    \n",
    "    return grid\n",
    "\n",
    "def generate_random_plan(N,p,room):\n",
    "    Nvax = round(N*p)\n",
    "    Nunvax = N-Nvax\n",
    "    \n",
    "    room = room.drop('UnvaxSpot',axis = 1)\n",
    "    grid = room.copy()\n",
    "    grid = grid.reset_index()\n",
    "    temp = list(np.append(np.append(np.repeat('V',Nvax),np.repeat('U',Nunvax)),np.repeat('E',len(grid)-Nvax-Nunvax)))\n",
    "    random.shuffle(temp)\n",
    "    grid['seating'] = temp\n",
    "    return grid\n"
   ]
  },
  {
   "cell_type": "markdown",
   "metadata": {},
   "source": [
    "# Load Room Plans"
   ]
  },
  {
   "cell_type": "code",
   "execution_count": 23,
   "metadata": {},
   "outputs": [
    {
     "data": {
      "text/plain": [
       "([], [])"
      ]
     },
     "execution_count": 23,
     "metadata": {},
     "output_type": "execute_result"
    },
    {
     "data": {
      "image/png": "[encoded data removed]",
      "text/plain": [
       "<Figure size 432x288 with 1 Axes>"
      ]
     },
     "metadata": {},
     "output_type": "display_data"
    }
   ],
   "source": [
    "# Big Room\n",
    "with open(\"../Data/rk201.pickle\" , 'rb') as handle:\n",
    "    layout = pickle.load(handle)\n",
    "\n",
    "big_pixels_per_foot = (2074-1575)/20\n",
    "big_volume = 1684283\n",
    "\n",
    "\n",
    "x_coord = [i.x for i in layout['Middles']]\n",
    "y_coord = [i.y for i in layout['Middles']]\n",
    "room = pd.DataFrame(np.column_stack((x_coord,y_coord)), columns = ['x','y'])\n",
    "room['UnvaxSpot'] = layout['In Solution']\n",
    "\n",
    "\n",
    "\n",
    "FA2020room = room.copy()\n",
    "FA2020room['label'] = FA2020room.index\n",
    "\n",
    "#label of seats used in 2020\n",
    "indicies = [282,283,284,285, 286,287,288,289,290,365,238,270,273,110,362,358,227,222,260,104,100,348,352,207,20,250,89,\n",
    "           93,76,80,189,193,172,163,339,334,321,168,25,2,61,65,51,14,121,138,149,308,312,299,294,144,124,34,40,36]\n",
    "FA2020room['UnvaxSpot'] = 0\n",
    "FA2020room['UnvaxSpot'].iloc[indicies] = 1\n",
    "FA2020room.drop('label', axis =1,inplace = True)\n",
    "FA2020room['seating'] = 'E'\n",
    "FA2020room['seating'].loc[FA2020room['UnvaxSpot'] == 1] = 'U'\n",
    "plt.figure()\n",
    "plt.scatter(FA2020room[FA2020room['UnvaxSpot'] == 0]['x'],FA2020room[FA2020room['UnvaxSpot'] == 0]['y'])\n",
    "plt.scatter(FA2020room[FA2020room['UnvaxSpot'] == 1]['x'],FA2020room[FA2020room['UnvaxSpot'] == 1]['y'], label = 'Available Seat')\n",
    "plt.title('Rockefeller 201 Seating Plan')\n",
    "FA2020_subset = FA2020room[FA2020room['UnvaxSpot']==1 ].reset_index().drop('index', axis = 1)\n",
    "big_plan = FA2020_subset.copy()\n",
    "plt.legend()\n",
    "plt.xticks([])\n",
    "plt.yticks([])\n",
    "#print([big_pixels_per_foot,big_volume,big_plan])"
   ]
  },
  {
   "cell_type": "code",
   "execution_count": 24,
   "metadata": {},
   "outputs": [
    {
     "data": {
      "text/plain": [
       "<matplotlib.legend.Legend at 0x7fc52c97a9a0>"
      ]
     },
     "execution_count": 24,
     "metadata": {},
     "output_type": "execute_result"
    },
    {
     "data": {
      "image/png": "[encoded data removed]",
      "text/plain": [
       "<Figure size 432x288 with 1 Axes>"
      ]
     },
     "metadata": {},
     "output_type": "display_data"
    }
   ],
   "source": [
    "with open(\"../Data/gtsg01.pickle\" , 'rb') as handle:\n",
    "    layout = pickle.load(handle)\n",
    "\n",
    "medium_pixels_per_foot = (2834-2082)/20\n",
    "medium_volume = 1087931\n",
    "\n",
    "x_coord = [-i.x +3000 for i in layout['Middles']]\n",
    "y_coord = [-i.y +3000 for i in layout['Middles']]\n",
    "room = pd.DataFrame(np.column_stack((x_coord,y_coord)), columns = ['x','y'])\n",
    "room['UnvaxSpot'] = layout['In Solution']\n",
    "room_subset = room[room['UnvaxSpot'] == 1].reset_index().drop('index',axis = 1)\n",
    "medium_plan = room_subset.copy()\n",
    "\n",
    "plt.scatter(room[room['UnvaxSpot'] == 0]['x'],room[room['UnvaxSpot'] == 0]['y'])\n",
    "plt.scatter(room[room['UnvaxSpot'] == 1]['x'],room[room['UnvaxSpot'] == 1]['y'], label = 'Available Seat')\n",
    "plt.title('Gates G01 Seating Plan')\n",
    "plt.xticks([])\n",
    "plt.yticks([])\n",
    "plt.legend()"
   ]
  },
  {
   "cell_type": "code",
   "execution_count": 25,
   "metadata": {},
   "outputs": [
    {
     "data": {
      "text/plain": [
       "([], [])"
      ]
     },
     "execution_count": 25,
     "metadata": {},
     "output_type": "execute_result"
    },
    {
     "data": {
      "image/png": "[encoded data removed]",
      "text/plain": [
       "<Figure size 432x288 with 1 Axes>"
      ]
     },
     "metadata": {},
     "output_type": "display_data"
    }
   ],
   "source": [
    "# Small Room\n",
    "with open(\"../Data/hls206.pickle\" , 'rb') as handle:\n",
    "    layout = pickle.load(handle)\n",
    "\n",
    "small_pixels_per_foot = (2014-1260)/15\n",
    "small_volume = 222004\n",
    "\n",
    "x_coord = [i.x for i in layout['Middles']]\n",
    "y_coord = [i.y for i in layout['Middles']]\n",
    "room = pd.DataFrame(np.column_stack((x_coord,y_coord)), columns = ['x','y'])\n",
    "room['UnvaxSpot'] = layout['In Solution']\n",
    "\n",
    "\n",
    "small_plan = room.copy()\n",
    "\n",
    "\n",
    "plt.figure()\n",
    "plt.scatter(small_plan[small_plan['UnvaxSpot'] == 0]['x'],small_plan[small_plan['UnvaxSpot'] == 0]['y'])\n",
    "plt.scatter(small_plan[small_plan['UnvaxSpot'] == 1]['x'],small_plan[small_plan['UnvaxSpot'] == 1]['y'],  label = 'Available Seat')\n",
    "plt.title('Holister 206 Seating Plan')\n",
    "plt.legend()\n",
    "plt.xticks([])\n",
    "plt.yticks([])\n",
    "\n",
    "#print([small_pixels_per_foot,small_volume,small_plan])"
   ]
  },
  {
   "cell_type": "code",
   "execution_count": 26,
   "metadata": {
    "scrolled": false
   },
   "outputs": [
    {
     "name": "stdout",
     "output_type": "stream",
     "text": [
      "V    35\n",
      "U    15\n",
      "E     6\n",
      "Name: seating, dtype: int64\n",
      "V    35\n",
      "E    27\n",
      "U    15\n",
      "Name: seating, dtype: int64\n",
      "V    35\n",
      "U    15\n",
      "E     2\n",
      "Name: seating, dtype: int64\n",
      "V    35\n",
      "U    15\n",
      "E     6\n",
      "Name: seating, dtype: int64\n",
      "V    35\n",
      "E    27\n",
      "U    15\n",
      "Name: seating, dtype: int64\n",
      "V    35\n",
      "U    15\n",
      "E     2\n",
      "Name: seating, dtype: int64\n"
     ]
    },
    {
     "data": {
      "image/png": "[encoded data removed]",
      "text/plain": [
       "<Figure size 432x288 with 1 Axes>"
      ]
     },
     "metadata": {},
     "output_type": "display_data"
    },
    {
     "data": {
      "image/png": "[encoded data removed]",
      "text/plain": [
       "<Figure size 432x288 with 1 Axes>"
      ]
     },
     "metadata": {},
     "output_type": "display_data"
    },
    {
     "data": {
      "image/png": "[encoded data removed]",
      "text/plain": [
       "<Figure size 432x288 with 1 Axes>"
      ]
     },
     "metadata": {},
     "output_type": "display_data"
    },
    {
     "data": {
      "image/png": "[encoded data removed]",
      "text/plain": [
       "<Figure size 432x288 with 1 Axes>"
      ]
     },
     "metadata": {},
     "output_type": "display_data"
    },
    {
     "data": {
      "image/png": "[encoded data removed]",
      "text/plain": [
       "<Figure size 432x288 with 1 Axes>"
      ]
     },
     "metadata": {},
     "output_type": "display_data"
    },
    {
     "data": {
      "image/png": "[encoded data removed]",
      "text/plain": [
       "<Figure size 432x288 with 1 Axes>"
      ]
     },
     "metadata": {},
     "output_type": "display_data"
    }
   ],
   "source": [
    "grid = generate_clumpy_plan(50,.7,big_plan,3)\n",
    "plt.figure()\n",
    "plt.scatter(grid[grid['seating'] == 'U']['x'],grid[grid['seating'] == 'U']['y'], label = 'Unvax',color = 'red')\n",
    "plt.scatter(grid[grid['seating'] == 'V']['x'],grid[grid['seating'] == 'V']['y'], label = 'Vax',color = 'blue')\n",
    "plt.scatter(grid[grid['seating'] == 'E']['x'],grid[grid['seating'] == 'E']['y'], label = 'Empty',color = 'grey')\n",
    "plt.scatter(FA2020room[FA2020room['UnvaxSpot'] == 0]['x'],FA2020room[FA2020room['UnvaxSpot'] == 0]['y'],color = 'grey')\n",
    "plt.title('Big Room '+ 'Clump Seating')\n",
    "plt.legend()\n",
    "plt.xticks([])\n",
    "plt.yticks([])\n",
    "print(grid['seating'].value_counts())\n",
    "\n",
    "grid = generate_clumpy_plan(50,.7,medium_plan,3)\n",
    "plt.figure()\n",
    "plt.scatter(grid[grid['seating'] == 'U']['x'],grid[grid['seating'] == 'U']['y'], label = 'Unvax',color = 'red')\n",
    "plt.scatter(grid[grid['seating'] == 'V']['x'],grid[grid['seating'] == 'V']['y'], label = 'Vax',color = 'blue')\n",
    "plt.scatter(grid[grid['seating'] == 'E']['x'],grid[grid['seating'] == 'E']['y'], label = 'Empty',color = 'grey')\n",
    "plt.title('Medium Room '+ 'Clump Seating')\n",
    "plt.legend()\n",
    "plt.xticks([])\n",
    "plt.yticks([])\n",
    "print(grid['seating'].value_counts())\n",
    "\n",
    "\n",
    "grid = generate_clumpy_plan(50,.7,small_plan,3)\n",
    "plt.figure()\n",
    "plt.scatter(grid[grid['seating'] == 'U']['x'],grid[grid['seating'] == 'U']['y'], label = 'Unvax',color = 'red')\n",
    "plt.scatter(grid[grid['seating'] == 'V']['x'],grid[grid['seating'] == 'V']['y'], label = 'Vax',color = 'blue')\n",
    "plt.scatter(grid[grid['seating'] == 'E']['x'],grid[grid['seating'] == 'E']['y'], label = 'Empty',color = 'grey')\n",
    "plt.title('Small Room '+ 'Clump Seating')\n",
    "plt.legend()\n",
    "plt.xticks([])\n",
    "plt.yticks([])\n",
    "print(grid['seating'].value_counts())\n",
    "\n",
    "grid = generate_random_plan(50,.7,big_plan)\n",
    "plt.figure()\n",
    "plt.scatter(grid[grid['seating'] == 'U']['x'],grid[grid['seating'] == 'U']['y'], label = 'Unvax',color = 'red')\n",
    "plt.scatter(grid[grid['seating'] == 'V']['x'],grid[grid['seating'] == 'V']['y'], label = 'Vax',color = 'blue')\n",
    "plt.scatter(grid[grid['seating'] == 'E']['x'],grid[grid['seating'] == 'E']['y'], label = 'Empty',color = 'grey')\n",
    "plt.scatter(FA2020room[FA2020room['UnvaxSpot'] == 0]['x'],FA2020room[FA2020room['UnvaxSpot'] == 0]['y'],color = 'grey')\n",
    "plt.title('Big Room '+ 'Random Seating')\n",
    "plt.legend()\n",
    "plt.xticks([])\n",
    "plt.yticks([])\n",
    "print(grid['seating'].value_counts())\n",
    "\n",
    "grid = generate_random_plan(50,.7,medium_plan)\n",
    "plt.figure()\n",
    "plt.scatter(grid[grid['seating'] == 'U']['x'],grid[grid['seating'] == 'U']['y'], label = 'Unvax',color = 'red')\n",
    "plt.scatter(grid[grid['seating'] == 'V']['x'],grid[grid['seating'] == 'V']['y'], label = 'Vax',color = 'blue')\n",
    "plt.scatter(grid[grid['seating'] == 'E']['x'],grid[grid['seating'] == 'E']['y'], label = 'Empty',color = 'grey')\n",
    "plt.title('Medium Room '+ 'Random Seating')\n",
    "plt.legend()\n",
    "plt.xticks([])\n",
    "plt.yticks([])\n",
    "print(grid['seating'].value_counts())\n",
    "\n",
    "grid = generate_random_plan(50,.7,small_plan)\n",
    "plt.figure()\n",
    "plt.scatter(grid[grid['seating'] == 'U']['x'],grid[grid['seating'] == 'U']['y'], label = 'Unvax',color = 'red')\n",
    "plt.scatter(grid[grid['seating'] == 'V']['x'],grid[grid['seating'] == 'V']['y'], label = 'Vax',color = 'blue')\n",
    "plt.scatter(grid[grid['seating'] == 'E']['x'],grid[grid['seating'] == 'E']['y'], label = 'Empty',color = 'grey')\n",
    "plt.title('Small Room '+ 'Random Seating')\n",
    "plt.legend()\n",
    "plt.xticks([])\n",
    "plt.yticks([])\n",
    "print(grid['seating'].value_counts())"
   ]
  },
  {
   "cell_type": "markdown",
   "metadata": {},
   "source": [
    "### Simulator"
   ]
  },
  {
   "cell_type": "code",
   "execution_count": 27,
   "metadata": {},
   "outputs": [],
   "source": [
    "#General Parameters\n",
    "seating_function = generate_clumpy_plan\n",
    "p_range = [0.5,0.6,0.7,0.8,0.9,1.0]\n",
    "\n",
    "N = 50\n",
    "angle = 15\n",
    "time = 1\n",
    "\n",
    "\n",
    "class_risk_params = {\n",
    "    'prevalence': 5*10**(-4),\n",
    "    'vax_effectiveness': .715,\n",
    "    'sensitivity': 0.6,\n",
    "    'mask_efficacy': 0.4\n",
    "}\n",
    "\n",
    "\n",
    "aerosol_params = {\n",
    "    'inhale_air_rate': 6.8,\n",
    "    'dose_response_constant': 1440,\n",
    "    \n",
    "    'nominal_breathe_virus_emitted_hourly': 3300,# corresponding to 10^8 copies / mL\n",
    "    'nominal_talk_virus_emitted_hourly' : 27300,\n",
    "    'nominal_sing_virus_emitted_hourly' : 330000,\n",
    "    'nominal_heavy_breathe_virus_emitted_hourly': 3300*15,\n",
    "\n",
    "    'viral_load_distribution': [0.12, 0.22, 0.3, 0.23, 0.103, 0.0236, 0.0034] # over orders of magnitude from 10^5 to 10^11\n",
    "}\n",
    "\n",
    "\n",
    "\n",
    "\n",
    "big_height = 20\n",
    "medium_height = 15\n",
    "small_height = 10\n",
    "\n",
    "\n",
    "args = [\n",
    "    \n",
    "    [False,big_plan,big_height,big_pixels_per_foot,'no_aerosol',2,'distanced_outside_nomask'],\n",
    "    [True,big_plan,big_height,big_pixels_per_foot,'no_aerosol',2,'distanced_outside_unvaxmask'],\n",
    "    \n",
    "    [False,big_plan,big_height,big_pixels_per_foot,'breathe',2,'distanced_breathe_nomask_2x'],\n",
    "    [False,big_plan,big_height,big_pixels_per_foot,'breathe',4,'distanced_breathe_nomask_4x'],\n",
    "    \n",
    "    [True,big_plan,big_height,big_pixels_per_foot,'breathe',2,'distanced_breathe_unvaxmask_2x'],\n",
    "    [True,big_plan,big_height,big_pixels_per_foot,'breathe',4,'distanced_breathe_unvaxmask_4x'],\n",
    "    \n",
    "    [False,big_plan,big_height,big_pixels_per_foot,'speak',2,'distanced_speak_nomask_2x'],\n",
    "    [False,big_plan,big_height,big_pixels_per_foot,'speak',4,'distanced_speak_nomask_4x'],\n",
    "    \n",
    "    [True,big_plan,big_height,big_pixels_per_foot,'speak',2,'distanced_speak_unvaxmask_2x'],\n",
    "    [True,big_plan,big_height,big_pixels_per_foot,'speak',4,'distanced_speak_unvaxmask_4x'],\n",
    "    \n",
    "    \n",
    "    [False,big_plan,big_height,big_pixels_per_foot,'sing',2,'distanced_sing_nomask_2x'],  ###\n",
    "    [False,big_plan,big_height,big_pixels_per_foot,'sing',4,'distanced_sing_nomask_4x'], ###\n",
    "    \n",
    "    [True,big_plan,big_height,big_pixels_per_foot,'sing',2,'distanced_sing_unvaxmask_2x'], ###\n",
    "    [True,big_plan,big_height,big_pixels_per_foot,'sing',4,'distanced_sing_unvaxmask_4x'], ###\n",
    "    \n",
    "    \n",
    "    #############################################################################################\n",
    "    \n",
    "    [False,medium_plan,medium_height,medium_pixels_per_foot,'no_aerosol',2,'moderate_outside_nomask'],\n",
    "    [True,medium_plan,medium_height,medium_pixels_per_foot,'no_aerosol',2,'moderate_outside_unvaxmask'],\n",
    "    \n",
    "    [False,medium_plan,medium_height,medium_pixels_per_foot,'breathe',2,'moderate_breathe_nomask_2x'],\n",
    "    [False,medium_plan,medium_height,medium_pixels_per_foot,'breathe',4,'moderate_breathe_nomask_4x'],\n",
    "    \n",
    "    [True,medium_plan,medium_height,medium_pixels_per_foot,'breathe',2,'moderate_breathe_unvaxmask_2x'],\n",
    "    [True,medium_plan,medium_height,medium_pixels_per_foot,'breathe',4,'moderate_breathe_unvaxmask_4x'],\n",
    "    \n",
    "    [False,medium_plan,medium_height,medium_pixels_per_foot,'speak',2,'moderate_speak_nomask_2x'],\n",
    "    [False,medium_plan,medium_height,medium_pixels_per_foot,'speak',4,'moderate_speak_nomask_4x'],\n",
    "    \n",
    "    [True,medium_plan,medium_height,medium_pixels_per_foot,'speak',2,'moderate_speak_unvaxmask_2x'],\n",
    "    [True,medium_plan,medium_height,medium_pixels_per_foot,'speak',4,'moderate_speak_unvaxmask_4x'],\n",
    "    \n",
    "    \n",
    "    [False,medium_plan,medium_height,medium_pixels_per_foot,'sing',2,'moderate_sing_nomask_2x'],  ###\n",
    "    [False,medium_plan,medium_height,medium_pixels_per_foot,'sing',4,'moderate_sing_nomask_4x'], ###\n",
    "    \n",
    "    [True,medium_plan,medium_height,medium_pixels_per_foot,'sing',2,'moderate_sing_unvaxmask_2x'], ###\n",
    "    [True,medium_plan,medium_height,medium_pixels_per_foot,'sing',4,'moderate_sing_unvaxmask_4x'], ###\n",
    "    \n",
    "    \n",
    "    \n",
    "    #############################################################################################\n",
    "    \n",
    "    [False,small_plan,small_height,small_pixels_per_foot,'no_aerosol',2,'dense_outside_nomask'],\n",
    "    [True,small_plan,small_height,small_pixels_per_foot,'no_aerosol',2,'dense_outside_unvaxmask'],\n",
    "    \n",
    "    [False,small_plan,small_height,small_pixels_per_foot,'breathe',2,'dense_breathe_nomask_2x'],\n",
    "    [False,small_plan,small_height,small_pixels_per_foot,'breathe',4,'dense_breathe_nomask_4x'],\n",
    "    \n",
    "    [True,small_plan,small_height,small_pixels_per_foot,'breathe',2,'dense_breathe_unvaxmask_2x'],\n",
    "    [True,small_plan,small_height,small_pixels_per_foot,'breathe',4,'dense_breathe_unvaxmask_4x'],\n",
    "    \n",
    "    [False,small_plan,small_height,small_pixels_per_foot,'speak',2,'dense_speak_nomask_2x'],\n",
    "    [False,small_plan,small_height,small_pixels_per_foot,'speak',4,'dense_speak_nomask_4x'],\n",
    "    \n",
    "    [True,small_plan,small_height,small_pixels_per_foot,'speak',2,'dense_speak_unvaxmask_2x'],\n",
    "    [True,small_plan,small_height,small_pixels_per_foot,'speak',4,'dense_speak_unvaxmask_4x'],\n",
    "    \n",
    "    \n",
    "    [False,small_plan,small_height,small_pixels_per_foot,'sing',2,'dense_sing_nomask_2x'],  ###\n",
    "    [False,small_plan,small_height,small_pixels_per_foot,'sing',4,'dense_sing_nomask_4x'], ###\n",
    "    \n",
    "    [True,small_plan,small_height,small_pixels_per_foot,'sing',2,'dense_sing_unvaxmask_2x'], ###\n",
    "    [True,small_plan,small_height,small_pixels_per_foot,'sing',4,'dense_sing_unvaxmask_4x'], ###\n",
    "    \n",
    "       ]\n",
    "\n"
   ]
  },
  {
   "cell_type": "code",
   "execution_count": 28,
   "metadata": {},
   "outputs": [],
   "source": [
    "@ray.remote\n",
    "def parallel_wrapper(p):\n",
    "    trial = 0\n",
    "    results = []\n",
    "    results_aerosol = []\n",
    "    while trial < 500:\n",
    "        grid = seating_function(N,p,room)\n",
    "        p_generate = (1-class_risk_params['vax_effectiveness'])*p/(1-class_risk_params['vax_effectiveness']*p)\n",
    "        ind = flip(p_generate)\n",
    "        if sum(grid['seating'] == 'V') == 0:\n",
    "            ind = 0\n",
    "        elif sum(grid['seating'] == 'U') == 0:\n",
    "            ind = 1\n",
    "        \n",
    "        infect,aerosol = simulate_class_single_aerosol(grid,ind, 1-ind, time,angle,masked_status,class_type,room_height,N,pixels_per_foot,air_exchanges_per_hour)\n",
    "        results.append(infect)\n",
    "        results_aerosol.append(aerosol)\n",
    "        trial = trial + 1\n",
    "    return [p,np.mean(results),np.std(results), np.mean(results_aerosol)]"
   ]
  },
  {
   "cell_type": "code",
   "execution_count": 29,
   "metadata": {
    "scrolled": true
   },
   "outputs": [
    {
     "name": "stdout",
     "output_type": "stream",
     "text": [
      "distanced_outside_nomask\n"
     ]
    },
    {
     "name": "stderr",
     "output_type": "stream",
     "text": [
      "2021-08-16 20:48:15,585\tINFO services.py:1245 -- View the Ray dashboard at \u001b[1m\u001b[32mhttp://127.0.0.1:8265\u001b[39m\u001b[22m\n"
     ]
    },
    {
     "name": "stdout",
     "output_type": "stream",
     "text": [
      "distanced_outside_unvaxmask\n"
     ]
    },
    {
     "name": "stderr",
     "output_type": "stream",
     "text": [
      "2021-08-16 20:49:40,544\tINFO services.py:1245 -- View the Ray dashboard at \u001b[1m\u001b[32mhttp://127.0.0.1:8265\u001b[39m\u001b[22m\n"
     ]
    },
    {
     "name": "stdout",
     "output_type": "stream",
     "text": [
      "distanced_breathe_nomask_2x\n"
     ]
    },
    {
     "name": "stderr",
     "output_type": "stream",
     "text": [
      "2021-08-16 20:51:03,002\tINFO services.py:1245 -- View the Ray dashboard at \u001b[1m\u001b[32mhttp://127.0.0.1:8265\u001b[39m\u001b[22m\n"
     ]
    },
    {
     "name": "stdout",
     "output_type": "stream",
     "text": [
      "distanced_breathe_nomask_4x\n"
     ]
    },
    {
     "name": "stderr",
     "output_type": "stream",
     "text": [
      "2021-08-16 20:52:23,913\tINFO services.py:1245 -- View the Ray dashboard at \u001b[1m\u001b[32mhttp://127.0.0.1:8265\u001b[39m\u001b[22m\n"
     ]
    },
    {
     "name": "stdout",
     "output_type": "stream",
     "text": [
      "distanced_breathe_unvaxmask_2x\n"
     ]
    },
    {
     "name": "stderr",
     "output_type": "stream",
     "text": [
      "2021-08-16 20:53:50,190\tINFO services.py:1245 -- View the Ray dashboard at \u001b[1m\u001b[32mhttp://127.0.0.1:8265\u001b[39m\u001b[22m\n"
     ]
    },
    {
     "name": "stdout",
     "output_type": "stream",
     "text": [
      "distanced_breathe_unvaxmask_4x\n"
     ]
    },
    {
     "name": "stderr",
     "output_type": "stream",
     "text": [
      "2021-08-16 20:55:15,136\tINFO services.py:1245 -- View the Ray dashboard at \u001b[1m\u001b[32mhttp://127.0.0.1:8265\u001b[39m\u001b[22m\n"
     ]
    },
    {
     "name": "stdout",
     "output_type": "stream",
     "text": [
      "distanced_speak_nomask_2x\n"
     ]
    },
    {
     "name": "stderr",
     "output_type": "stream",
     "text": [
      "2021-08-16 20:56:38,118\tINFO services.py:1245 -- View the Ray dashboard at \u001b[1m\u001b[32mhttp://127.0.0.1:8265\u001b[39m\u001b[22m\n"
     ]
    },
    {
     "name": "stdout",
     "output_type": "stream",
     "text": [
      "distanced_speak_nomask_4x\n"
     ]
    },
    {
     "name": "stderr",
     "output_type": "stream",
     "text": [
      "2021-08-16 20:57:53,906\tINFO services.py:1245 -- View the Ray dashboard at \u001b[1m\u001b[32mhttp://127.0.0.1:8265\u001b[39m\u001b[22m\n"
     ]
    },
    {
     "name": "stdout",
     "output_type": "stream",
     "text": [
      "distanced_speak_unvaxmask_2x\n"
     ]
    },
    {
     "name": "stderr",
     "output_type": "stream",
     "text": [
      "2021-08-16 20:59:09,372\tINFO services.py:1245 -- View the Ray dashboard at \u001b[1m\u001b[32mhttp://127.0.0.1:8265\u001b[39m\u001b[22m\n"
     ]
    },
    {
     "name": "stdout",
     "output_type": "stream",
     "text": [
      "distanced_speak_unvaxmask_4x\n"
     ]
    },
    {
     "name": "stderr",
     "output_type": "stream",
     "text": [
      "2021-08-16 21:00:25,435\tINFO services.py:1245 -- View the Ray dashboard at \u001b[1m\u001b[32mhttp://127.0.0.1:8265\u001b[39m\u001b[22m\n"
     ]
    },
    {
     "name": "stdout",
     "output_type": "stream",
     "text": [
      "distanced_sing_nomask_2x\n"
     ]
    },
    {
     "name": "stderr",
     "output_type": "stream",
     "text": [
      "2021-08-16 21:01:42,417\tINFO services.py:1245 -- View the Ray dashboard at \u001b[1m\u001b[32mhttp://127.0.0.1:8265\u001b[39m\u001b[22m\n"
     ]
    },
    {
     "name": "stdout",
     "output_type": "stream",
     "text": [
      "distanced_sing_nomask_4x\n"
     ]
    },
    {
     "name": "stderr",
     "output_type": "stream",
     "text": [
      "2021-08-16 21:03:01,040\tINFO services.py:1245 -- View the Ray dashboard at \u001b[1m\u001b[32mhttp://127.0.0.1:8265\u001b[39m\u001b[22m\n"
     ]
    },
    {
     "name": "stdout",
     "output_type": "stream",
     "text": [
      "distanced_sing_unvaxmask_2x\n"
     ]
    },
    {
     "name": "stderr",
     "output_type": "stream",
     "text": [
      "2021-08-16 21:04:15,805\tINFO services.py:1245 -- View the Ray dashboard at \u001b[1m\u001b[32mhttp://127.0.0.1:8265\u001b[39m\u001b[22m\n"
     ]
    },
    {
     "name": "stdout",
     "output_type": "stream",
     "text": [
      "distanced_sing_unvaxmask_4x\n"
     ]
    },
    {
     "name": "stderr",
     "output_type": "stream",
     "text": [
      "2021-08-16 21:05:29,643\tINFO services.py:1245 -- View the Ray dashboard at \u001b[1m\u001b[32mhttp://127.0.0.1:8265\u001b[39m\u001b[22m\n"
     ]
    },
    {
     "name": "stdout",
     "output_type": "stream",
     "text": [
      "moderate_outside_nomask\n"
     ]
    },
    {
     "name": "stderr",
     "output_type": "stream",
     "text": [
      "2021-08-16 21:06:44,372\tINFO services.py:1245 -- View the Ray dashboard at \u001b[1m\u001b[32mhttp://127.0.0.1:8265\u001b[39m\u001b[22m\n"
     ]
    },
    {
     "name": "stdout",
     "output_type": "stream",
     "text": [
      "moderate_outside_unvaxmask\n"
     ]
    },
    {
     "name": "stderr",
     "output_type": "stream",
     "text": [
      "2021-08-16 21:07:57,497\tINFO services.py:1245 -- View the Ray dashboard at \u001b[1m\u001b[32mhttp://127.0.0.1:8265\u001b[39m\u001b[22m\n"
     ]
    },
    {
     "name": "stdout",
     "output_type": "stream",
     "text": [
      "moderate_breathe_nomask_2x\n"
     ]
    },
    {
     "name": "stderr",
     "output_type": "stream",
     "text": [
      "2021-08-16 21:09:12,300\tINFO services.py:1245 -- View the Ray dashboard at \u001b[1m\u001b[32mhttp://127.0.0.1:8265\u001b[39m\u001b[22m\n"
     ]
    },
    {
     "name": "stdout",
     "output_type": "stream",
     "text": [
      "moderate_breathe_nomask_4x\n"
     ]
    },
    {
     "name": "stderr",
     "output_type": "stream",
     "text": [
      "2021-08-16 21:10:25,314\tINFO services.py:1245 -- View the Ray dashboard at \u001b[1m\u001b[32mhttp://127.0.0.1:8265\u001b[39m\u001b[22m\n"
     ]
    },
    {
     "name": "stdout",
     "output_type": "stream",
     "text": [
      "moderate_breathe_unvaxmask_2x\n"
     ]
    },
    {
     "name": "stderr",
     "output_type": "stream",
     "text": [
      "2021-08-16 21:11:37,997\tINFO services.py:1245 -- View the Ray dashboard at \u001b[1m\u001b[32mhttp://127.0.0.1:8265\u001b[39m\u001b[22m\n"
     ]
    },
    {
     "name": "stdout",
     "output_type": "stream",
     "text": [
      "moderate_breathe_unvaxmask_4x\n"
     ]
    },
    {
     "name": "stderr",
     "output_type": "stream",
     "text": [
      "2021-08-16 21:12:51,493\tINFO services.py:1245 -- View the Ray dashboard at \u001b[1m\u001b[32mhttp://127.0.0.1:8265\u001b[39m\u001b[22m\n"
     ]
    },
    {
     "name": "stdout",
     "output_type": "stream",
     "text": [
      "moderate_speak_nomask_2x\n"
     ]
    },
    {
     "name": "stderr",
     "output_type": "stream",
     "text": [
      "2021-08-16 21:14:04,090\tINFO services.py:1245 -- View the Ray dashboard at \u001b[1m\u001b[32mhttp://127.0.0.1:8265\u001b[39m\u001b[22m\n"
     ]
    },
    {
     "name": "stdout",
     "output_type": "stream",
     "text": [
      "moderate_speak_nomask_4x\n"
     ]
    },
    {
     "name": "stderr",
     "output_type": "stream",
     "text": [
      "2021-08-16 21:39:20,408\tINFO services.py:1245 -- View the Ray dashboard at \u001b[1m\u001b[32mhttp://127.0.0.1:8265\u001b[39m\u001b[22m\n"
     ]
    },
    {
     "name": "stdout",
     "output_type": "stream",
     "text": [
      "moderate_speak_unvaxmask_2x\n"
     ]
    },
    {
     "name": "stderr",
     "output_type": "stream",
     "text": [
      "2021-08-16 21:58:01,262\tINFO services.py:1245 -- View the Ray dashboard at \u001b[1m\u001b[32mhttp://127.0.0.1:8265\u001b[39m\u001b[22m\n"
     ]
    },
    {
     "name": "stdout",
     "output_type": "stream",
     "text": [
      "moderate_speak_unvaxmask_4x\n"
     ]
    },
    {
     "name": "stderr",
     "output_type": "stream",
     "text": [
      "2021-08-16 22:33:24,143\tINFO services.py:1245 -- View the Ray dashboard at \u001b[1m\u001b[32mhttp://127.0.0.1:8265\u001b[39m\u001b[22m\n"
     ]
    },
    {
     "name": "stdout",
     "output_type": "stream",
     "text": [
      "moderate_sing_nomask_2x\n"
     ]
    },
    {
     "name": "stderr",
     "output_type": "stream",
     "text": [
      "2021-08-16 23:09:33,920\tINFO services.py:1245 -- View the Ray dashboard at \u001b[1m\u001b[32mhttp://127.0.0.1:8265\u001b[39m\u001b[22m\n"
     ]
    },
    {
     "name": "stdout",
     "output_type": "stream",
     "text": [
      "moderate_sing_nomask_4x\n"
     ]
    },
    {
     "name": "stderr",
     "output_type": "stream",
     "text": [
      "2021-08-16 23:10:57,902\tINFO services.py:1245 -- View the Ray dashboard at \u001b[1m\u001b[32mhttp://127.0.0.1:8265\u001b[39m\u001b[22m\n"
     ]
    },
    {
     "name": "stdout",
     "output_type": "stream",
     "text": [
      "moderate_sing_unvaxmask_2x\n"
     ]
    },
    {
     "name": "stderr",
     "output_type": "stream",
     "text": [
      "2021-08-16 23:13:12,735\tINFO services.py:1245 -- View the Ray dashboard at \u001b[1m\u001b[32mhttp://127.0.0.1:8265\u001b[39m\u001b[22m\n"
     ]
    },
    {
     "name": "stdout",
     "output_type": "stream",
     "text": [
      "moderate_sing_unvaxmask_4x\n"
     ]
    },
    {
     "name": "stderr",
     "output_type": "stream",
     "text": [
      "2021-08-16 23:15:00,199\tINFO services.py:1245 -- View the Ray dashboard at \u001b[1m\u001b[32mhttp://127.0.0.1:8265\u001b[39m\u001b[22m\n"
     ]
    },
    {
     "name": "stdout",
     "output_type": "stream",
     "text": [
      "dense_outside_nomask\n"
     ]
    },
    {
     "name": "stderr",
     "output_type": "stream",
     "text": [
      "2021-08-16 23:28:34,775\tINFO services.py:1245 -- View the Ray dashboard at \u001b[1m\u001b[32mhttp://127.0.0.1:8265\u001b[39m\u001b[22m\n"
     ]
    },
    {
     "name": "stdout",
     "output_type": "stream",
     "text": [
      "dense_outside_unvaxmask\n"
     ]
    },
    {
     "name": "stderr",
     "output_type": "stream",
     "text": [
      "2021-08-16 23:30:10,497\tINFO services.py:1245 -- View the Ray dashboard at \u001b[1m\u001b[32mhttp://127.0.0.1:8265\u001b[39m\u001b[22m\n"
     ]
    },
    {
     "name": "stdout",
     "output_type": "stream",
     "text": [
      "dense_breathe_nomask_2x\n"
     ]
    },
    {
     "name": "stderr",
     "output_type": "stream",
     "text": [
      "2021-08-16 23:31:33,471\tINFO services.py:1245 -- View the Ray dashboard at \u001b[1m\u001b[32mhttp://127.0.0.1:8265\u001b[39m\u001b[22m\n"
     ]
    },
    {
     "name": "stdout",
     "output_type": "stream",
     "text": [
      "dense_breathe_nomask_4x\n"
     ]
    },
    {
     "name": "stderr",
     "output_type": "stream",
     "text": [
      "2021-08-16 23:32:51,773\tINFO services.py:1245 -- View the Ray dashboard at \u001b[1m\u001b[32mhttp://127.0.0.1:8265\u001b[39m\u001b[22m\n"
     ]
    },
    {
     "name": "stdout",
     "output_type": "stream",
     "text": [
      "dense_breathe_unvaxmask_2x\n"
     ]
    },
    {
     "name": "stderr",
     "output_type": "stream",
     "text": [
      "2021-08-16 23:34:09,771\tINFO services.py:1245 -- View the Ray dashboard at \u001b[1m\u001b[32mhttp://127.0.0.1:8265\u001b[39m\u001b[22m\n"
     ]
    },
    {
     "name": "stdout",
     "output_type": "stream",
     "text": [
      "dense_breathe_unvaxmask_4x\n"
     ]
    },
    {
     "name": "stderr",
     "output_type": "stream",
     "text": [
      "2021-08-16 23:35:24,735\tINFO services.py:1245 -- View the Ray dashboard at \u001b[1m\u001b[32mhttp://127.0.0.1:8265\u001b[39m\u001b[22m\n"
     ]
    },
    {
     "name": "stdout",
     "output_type": "stream",
     "text": [
      "dense_speak_nomask_2x\n"
     ]
    },
    {
     "name": "stderr",
     "output_type": "stream",
     "text": [
      "2021-08-16 23:36:46,157\tINFO services.py:1245 -- View the Ray dashboard at \u001b[1m\u001b[32mhttp://127.0.0.1:8265\u001b[39m\u001b[22m\n"
     ]
    },
    {
     "name": "stdout",
     "output_type": "stream",
     "text": [
      "dense_speak_nomask_4x\n"
     ]
    },
    {
     "name": "stderr",
     "output_type": "stream",
     "text": [
      "2021-08-16 23:38:04,906\tINFO services.py:1245 -- View the Ray dashboard at \u001b[1m\u001b[32mhttp://127.0.0.1:8265\u001b[39m\u001b[22m\n"
     ]
    },
    {
     "name": "stdout",
     "output_type": "stream",
     "text": [
      "dense_speak_unvaxmask_2x\n"
     ]
    },
    {
     "name": "stderr",
     "output_type": "stream",
     "text": [
      "2021-08-16 23:39:23,074\tINFO services.py:1245 -- View the Ray dashboard at \u001b[1m\u001b[32mhttp://127.0.0.1:8265\u001b[39m\u001b[22m\n"
     ]
    },
    {
     "name": "stdout",
     "output_type": "stream",
     "text": [
      "dense_speak_unvaxmask_4x\n"
     ]
    },
    {
     "name": "stderr",
     "output_type": "stream",
     "text": [
      "2021-08-16 23:40:42,463\tINFO services.py:1245 -- View the Ray dashboard at \u001b[1m\u001b[32mhttp://127.0.0.1:8265\u001b[39m\u001b[22m\n"
     ]
    },
    {
     "name": "stdout",
     "output_type": "stream",
     "text": [
      "dense_sing_nomask_2x\n"
     ]
    },
    {
     "name": "stderr",
     "output_type": "stream",
     "text": [
      "2021-08-16 23:42:00,817\tINFO services.py:1245 -- View the Ray dashboard at \u001b[1m\u001b[32mhttp://127.0.0.1:8265\u001b[39m\u001b[22m\n"
     ]
    },
    {
     "name": "stdout",
     "output_type": "stream",
     "text": [
      "dense_sing_nomask_4x\n"
     ]
    },
    {
     "name": "stderr",
     "output_type": "stream",
     "text": [
      "2021-08-16 23:43:18,558\tINFO services.py:1245 -- View the Ray dashboard at \u001b[1m\u001b[32mhttp://127.0.0.1:8265\u001b[39m\u001b[22m\n"
     ]
    },
    {
     "name": "stdout",
     "output_type": "stream",
     "text": [
      "dense_sing_unvaxmask_2x\n"
     ]
    },
    {
     "name": "stderr",
     "output_type": "stream",
     "text": [
      "2021-08-16 23:44:42,125\tINFO services.py:1245 -- View the Ray dashboard at \u001b[1m\u001b[32mhttp://127.0.0.1:8265\u001b[39m\u001b[22m\n"
     ]
    },
    {
     "name": "stdout",
     "output_type": "stream",
     "text": [
      "dense_sing_unvaxmask_4x\n"
     ]
    },
    {
     "name": "stderr",
     "output_type": "stream",
     "text": [
      "2021-08-16 23:45:59,792\tINFO services.py:1245 -- View the Ray dashboard at \u001b[1m\u001b[32mhttp://127.0.0.1:8265\u001b[39m\u001b[22m\n"
     ]
    }
   ],
   "source": [
    "import warnings\n",
    "warnings.filterwarnings(\"ignore\")\n",
    "final_results = {}\n",
    "for arg in args:\n",
    "    print(arg[-1])\n",
    "    masked_status = arg[0]\n",
    "    room = arg[1]\n",
    "    room_height = arg[2]\n",
    "    pixels_per_foot = arg[3]\n",
    "    class_type = arg[4]\n",
    "    air_exchanges_per_hour = arg[5]\n",
    "    label = arg[6]\n",
    "    \n",
    "    \n",
    "    ray.shutdown()\n",
    "    ray.init(log_to_driver=False)\n",
    "    result_ids = []\n",
    "    for p in p_range:\n",
    "        result_ids.append(parallel_wrapper.remote(p))    \n",
    "    results = ray.get(result_ids)  \n",
    "    ray.shutdown()\n",
    "    results = pd.DataFrame(results, columns = ['p','mean','std','unvax_aerosol'])\n",
    "    final_results[label] = results\n",
    "    gc.collect()"
   ]
  },
  {
   "cell_type": "code",
   "execution_count": 30,
   "metadata": {},
   "outputs": [
    {
     "data": {
      "text/plain": [
       "{'distanced_outside_nomask':      p      mean       std  unvax_aerosol\n",
       " 0  0.5  0.009890  0.006030            0.0\n",
       " 1  0.6  0.008154  0.005403            0.0\n",
       " 2  0.7  0.006798  0.005049            0.0\n",
       " 3  0.8  0.004961  0.004175            0.0\n",
       " 4  0.9  0.003279  0.003228            0.0\n",
       " 5  1.0  0.001299  0.000546            0.0,\n",
       " 'distanced_outside_unvaxmask':      p      mean       std  unvax_aerosol\n",
       " 0  0.5  0.002239  0.000883            0.0\n",
       " 1  0.6  0.002160  0.000851            0.0\n",
       " 2  0.7  0.001976  0.000818            0.0\n",
       " 3  0.8  0.001793  0.000778            0.0\n",
       " 4  0.9  0.001614  0.000699            0.0\n",
       " 5  1.0  0.001361  0.000482            0.0,\n",
       " 'distanced_breathe_nomask_2x':      p      mean       std  unvax_aerosol\n",
       " 0  0.5  0.009821  0.006020   2.970003e-07\n",
       " 1  0.6  0.008560  0.005346   2.517114e-07\n",
       " 2  0.7  0.007056  0.005191   2.413324e-07\n",
       " 3  0.8  0.005565  0.004675   1.663287e-07\n",
       " 4  0.9  0.003200  0.003164   1.647556e-07\n",
       " 5  1.0  0.001391  0.000494   8.742844e-08,\n",
       " 'distanced_breathe_nomask_4x':      p      mean       std  unvax_aerosol\n",
       " 0  0.5  0.009472  0.005615   1.256371e-07\n",
       " 1  0.6  0.008486  0.005583   1.158538e-07\n",
       " 2  0.7  0.006756  0.005058   1.215364e-07\n",
       " 3  0.8  0.005303  0.004312   1.097481e-07\n",
       " 4  0.9  0.003117  0.003036   8.596566e-08\n",
       " 5  1.0  0.001352  0.000519   4.930014e-08,\n",
       " 'distanced_breathe_unvaxmask_2x':      p      mean       std  unvax_aerosol\n",
       " 0  0.5  0.002257  0.000931   1.251242e-07\n",
       " 1  0.6  0.002095  0.000897   1.106486e-07\n",
       " 2  0.7  0.001924  0.000838   1.057201e-07\n",
       " 3  0.8  0.001778  0.000767   1.201968e-07\n",
       " 4  0.9  0.001589  0.000732   1.047117e-07\n",
       " 5  1.0  0.001304  0.000546   1.070335e-07,\n",
       " 'distanced_breathe_unvaxmask_4x':      p      mean       std  unvax_aerosol\n",
       " 0  0.5  0.002213  0.000896   6.825947e-08\n",
       " 1  0.6  0.002039  0.000873   6.497112e-08\n",
       " 2  0.7  0.002004  0.000825   5.247479e-08\n",
       " 3  0.8  0.001793  0.000772   6.076286e-08\n",
       " 4  0.9  0.001593  0.000727   5.441155e-08\n",
       " 5  1.0  0.001352  0.000524   4.772141e-08,\n",
       " 'distanced_speak_nomask_2x':      p      mean       std  unvax_aerosol\n",
       " 0  0.5  0.009959  0.006033   2.239480e-06\n",
       " 1  0.6  0.008446  0.005599   2.236730e-06\n",
       " 2  0.7  0.007538  0.005289   1.602631e-06\n",
       " 3  0.8  0.005223  0.004322   1.498773e-06\n",
       " 4  0.9  0.003010  0.002931   1.334223e-06\n",
       " 5  1.0  0.001340  0.000531   8.496845e-07,\n",
       " 'distanced_speak_nomask_4x':      p      mean       std  unvax_aerosol\n",
       " 0  0.5  0.009831  0.005909   1.335218e-06\n",
       " 1  0.6  0.008536  0.005571   9.203426e-07\n",
       " 2  0.7  0.006943  0.005062   1.009687e-06\n",
       " 3  0.8  0.005239  0.004473   8.684622e-07\n",
       " 4  0.9  0.003157  0.003054   5.809922e-07\n",
       " 5  1.0  0.001335  0.000504   3.798340e-07,\n",
       " 'distanced_speak_unvaxmask_2x':      p      mean       std  unvax_aerosol\n",
       " 0  0.5  0.002238  0.000891   1.025257e-06\n",
       " 1  0.6  0.002092  0.000863   1.043270e-06\n",
       " 2  0.7  0.001927  0.000832   8.825152e-07\n",
       " 3  0.8  0.001728  0.000770   1.002407e-06\n",
       " 4  0.9  0.001582  0.000751   8.875457e-07\n",
       " 5  1.0  0.001359  0.000533   8.061447e-07,\n",
       " 'distanced_speak_unvaxmask_4x':      p      mean       std  unvax_aerosol\n",
       " 0  0.5  0.002218  0.000901   5.015610e-07\n",
       " 1  0.6  0.002166  0.000860   4.897189e-07\n",
       " 2  0.7  0.001952  0.000808   4.991670e-07\n",
       " 3  0.8  0.001807  0.000805   5.083276e-07\n",
       " 4  0.9  0.001631  0.000717   4.410683e-07\n",
       " 5  1.0  0.001380  0.000513   4.202021e-07,\n",
       " 'distanced_sing_nomask_2x':      p      mean       std  unvax_aerosol\n",
       " 0  0.5  0.010440  0.006074       0.000027\n",
       " 1  0.6  0.008221  0.005322       0.000027\n",
       " 2  0.7  0.007403  0.005201       0.000023\n",
       " 3  0.8  0.005237  0.004458       0.000018\n",
       " 4  0.9  0.003366  0.003177       0.000016\n",
       " 5  1.0  0.001402  0.000533       0.000009,\n",
       " 'distanced_sing_nomask_4x':      p      mean       std  unvax_aerosol\n",
       " 0  0.5  0.009899  0.005810       0.000013\n",
       " 1  0.6  0.008517  0.005676       0.000012\n",
       " 2  0.7  0.007478  0.005151       0.000012\n",
       " 3  0.8  0.005311  0.004453       0.000011\n",
       " 4  0.9  0.003254  0.003183       0.000008\n",
       " 5  1.0  0.001382  0.000536       0.000005,\n",
       " 'distanced_sing_unvaxmask_2x':      p      mean       std  unvax_aerosol\n",
       " 0  0.5  0.002286  0.000912       0.000013\n",
       " 1  0.6  0.002170  0.000853       0.000013\n",
       " 2  0.7  0.001995  0.000829       0.000013\n",
       " 3  0.8  0.001871  0.000783       0.000012\n",
       " 4  0.9  0.001645  0.000687       0.000009\n",
       " 5  1.0  0.001419  0.000540       0.000009,\n",
       " 'distanced_sing_unvaxmask_4x':      p      mean       std  unvax_aerosol\n",
       " 0  0.5  0.002181  0.000935       0.000007\n",
       " 1  0.6  0.002126  0.000902       0.000007\n",
       " 2  0.7  0.002056  0.000858       0.000006\n",
       " 3  0.8  0.001798  0.000754       0.000005\n",
       " 4  0.9  0.001586  0.000675       0.000006\n",
       " 5  1.0  0.001364  0.000537       0.000005,\n",
       " 'moderate_outside_nomask':      p      mean       std  unvax_aerosol\n",
       " 0  0.5  0.037417  0.021381            0.0\n",
       " 1  0.6  0.032885  0.019968            0.0\n",
       " 2  0.7  0.027459  0.018782            0.0\n",
       " 3  0.8  0.019445  0.016668            0.0\n",
       " 4  0.9  0.012532  0.012157            0.0\n",
       " 5  1.0  0.005001  0.001715            0.0,\n",
       " 'moderate_outside_unvaxmask':      p      mean       std  unvax_aerosol\n",
       " 0  0.5  0.008219  0.003146            0.0\n",
       " 1  0.6  0.007816  0.003107            0.0\n",
       " 2  0.7  0.007472  0.003096            0.0\n",
       " 3  0.8  0.006694  0.002878            0.0\n",
       " 4  0.9  0.005746  0.002504            0.0\n",
       " 5  1.0  0.004964  0.001780            0.0,\n",
       " 'moderate_breathe_nomask_2x':      p      mean       std  unvax_aerosol\n",
       " 0  0.5  0.037320  0.021402   4.172109e-07\n",
       " 1  0.6  0.033012  0.020559   4.819843e-07\n",
       " 2  0.7  0.027417  0.018923   3.188233e-07\n",
       " 3  0.8  0.019913  0.016243   3.061523e-07\n",
       " 4  0.9  0.011826  0.010956   2.600753e-07\n",
       " 5  1.0  0.004864  0.001831   1.036359e-07,\n",
       " 'moderate_breathe_nomask_4x':      p      mean       std  unvax_aerosol\n",
       " 0  0.5  0.039143  0.020993   2.307874e-07\n",
       " 1  0.6  0.033681  0.020188   1.840619e-07\n",
       " 2  0.7  0.026808  0.017950   1.471323e-07\n",
       " 3  0.8  0.019734  0.015965   1.378797e-07\n",
       " 4  0.9  0.011761  0.011323   8.590731e-08\n",
       " 5  1.0  0.004824  0.001850   7.318189e-08,\n",
       " 'moderate_breathe_unvaxmask_2x':      p      mean       std  unvax_aerosol\n",
       " 0  0.5  0.008607  0.003130   2.048560e-07\n",
       " 1  0.6  0.007716  0.003162   1.935319e-07\n",
       " 2  0.7  0.007352  0.003012   1.723277e-07\n",
       " 3  0.8  0.006911  0.002877   1.283490e-07\n",
       " 4  0.9  0.005805  0.002409   1.421923e-07\n",
       " 5  1.0  0.004918  0.001906   1.608429e-07,\n",
       " 'moderate_breathe_unvaxmask_4x':      p      mean       std  unvax_aerosol\n",
       " 0  0.5  0.008556  0.003093   9.226401e-08\n",
       " 1  0.6  0.007816  0.003248   9.635799e-08\n",
       " 2  0.7  0.007530  0.003091   1.033941e-07\n",
       " 3  0.8  0.006780  0.002812   8.634655e-08\n",
       " 4  0.9  0.005913  0.002501   6.821241e-08\n",
       " 5  1.0  0.004987  0.001707   7.345965e-08,\n",
       " 'moderate_speak_nomask_2x':      p      mean       std  unvax_aerosol\n",
       " 0  0.5  0.037139  0.021656       0.000004\n",
       " 1  0.6  0.033081  0.019934       0.000004\n",
       " 2  0.7  0.027673  0.018792       0.000003\n",
       " 3  0.8  0.020202  0.016389       0.000003\n",
       " 4  0.9  0.012523  0.011872       0.000002\n",
       " 5  1.0  0.004914  0.001855       0.000001,\n",
       " 'moderate_speak_nomask_4x':      p      mean       std  unvax_aerosol\n",
       " 0  0.5  0.039751  0.021615   1.840063e-06\n",
       " 1  0.6  0.031557  0.019879   1.863262e-06\n",
       " 2  0.7  0.027194  0.018723   1.631224e-06\n",
       " 3  0.8  0.019121  0.016317   1.233106e-06\n",
       " 4  0.9  0.012546  0.011997   1.128263e-06\n",
       " 5  1.0  0.004992  0.001820   5.917937e-07,\n",
       " 'moderate_speak_unvaxmask_2x':      p      mean       std  unvax_aerosol\n",
       " 0  0.5  0.008450  0.003130       0.000002\n",
       " 1  0.6  0.008185  0.003103       0.000001\n",
       " 2  0.7  0.007437  0.002922       0.000002\n",
       " 3  0.8  0.006700  0.002776       0.000001\n",
       " 4  0.9  0.005757  0.002598       0.000002\n",
       " 5  1.0  0.004955  0.001841       0.000001,\n",
       " 'moderate_speak_unvaxmask_4x':      p      mean       std  unvax_aerosol\n",
       " 0  0.5  0.008653  0.003053   7.692010e-07\n",
       " 1  0.6  0.007752  0.003165   8.032681e-07\n",
       " 2  0.7  0.007372  0.002879   7.072131e-07\n",
       " 3  0.8  0.006718  0.002844   6.374418e-07\n",
       " 4  0.9  0.005764  0.002406   6.161531e-07\n",
       " 5  1.0  0.004983  0.001768   4.662641e-07,\n",
       " 'moderate_sing_nomask_2x':      p      mean       std  unvax_aerosol\n",
       " 0  0.5  0.041972  0.021449       0.000044\n",
       " 1  0.6  0.033840  0.020420       0.000039\n",
       " 2  0.7  0.027912  0.019106       0.000038\n",
       " 3  0.8  0.021651  0.017204       0.000028\n",
       " 4  0.9  0.013293  0.012024       0.000021\n",
       " 5  1.0  0.005094  0.001789       0.000016,\n",
       " 'moderate_sing_nomask_4x':      p      mean       std  unvax_aerosol\n",
       " 0  0.5  0.039727  0.020829       0.000027\n",
       " 1  0.6  0.032626  0.020106       0.000019\n",
       " 2  0.7  0.025969  0.018441       0.000021\n",
       " 3  0.8  0.020352  0.016492       0.000017\n",
       " 4  0.9  0.012180  0.011671       0.000009\n",
       " 5  1.0  0.004970  0.001758       0.000007,\n",
       " 'moderate_sing_unvaxmask_2x':      p      mean       std  unvax_aerosol\n",
       " 0  0.5  0.008360  0.003444       0.000020\n",
       " 1  0.6  0.008099  0.003251       0.000017\n",
       " 2  0.7  0.007786  0.003124       0.000021\n",
       " 3  0.8  0.006872  0.002811       0.000016\n",
       " 4  0.9  0.005963  0.002447       0.000015\n",
       " 5  1.0  0.005106  0.001755       0.000014,\n",
       " 'moderate_sing_unvaxmask_4x':      p      mean       std  unvax_aerosol\n",
       " 0  0.5  0.008419  0.003126       0.000012\n",
       " 1  0.6  0.008051  0.003128       0.000009\n",
       " 2  0.7  0.007493  0.002987       0.000009\n",
       " 3  0.8  0.006940  0.002746       0.000010\n",
       " 4  0.9  0.005974  0.002430       0.000007\n",
       " 5  1.0  0.004926  0.001907       0.000006,\n",
       " 'dense_outside_nomask':      p      mean       std  unvax_aerosol\n",
       " 0  0.5  0.097407  0.052351            0.0\n",
       " 1  0.6  0.079014  0.047271            0.0\n",
       " 2  0.7  0.065488  0.045840            0.0\n",
       " 3  0.8  0.048899  0.038623            0.0\n",
       " 4  0.9  0.031232  0.028683            0.0\n",
       " 5  1.0  0.013242  0.004464            0.0,\n",
       " 'dense_outside_unvaxmask':      p      mean       std  unvax_aerosol\n",
       " 0  0.5  0.021702  0.007668            0.0\n",
       " 1  0.6  0.020582  0.007410            0.0\n",
       " 2  0.7  0.019415  0.007086            0.0\n",
       " 3  0.8  0.017432  0.006955            0.0\n",
       " 4  0.9  0.015367  0.005631            0.0\n",
       " 5  1.0  0.012942  0.004605            0.0,\n",
       " 'dense_breathe_nomask_2x':      p      mean       std  unvax_aerosol\n",
       " 0  0.5  0.093738  0.050628   1.077379e-06\n",
       " 1  0.6  0.082072  0.048297   8.505301e-07\n",
       " 2  0.7  0.071130  0.047188   6.856595e-07\n",
       " 3  0.8  0.050179  0.038924   5.610756e-07\n",
       " 4  0.9  0.029614  0.028607   5.273892e-07\n",
       " 5  1.0  0.013560  0.004472   2.983480e-07,\n",
       " 'dense_breathe_nomask_4x':      p      mean       std  unvax_aerosol\n",
       " 0  0.5  0.095243  0.049657   4.497136e-07\n",
       " 1  0.6  0.081997  0.050280   4.106507e-07\n",
       " 2  0.7  0.069722  0.045123   4.513725e-07\n",
       " 3  0.8  0.054984  0.040561   4.423071e-07\n",
       " 4  0.9  0.031260  0.028295   2.458458e-07\n",
       " 5  1.0  0.013093  0.004734   1.407740e-07,\n",
       " 'dense_breathe_unvaxmask_2x':      p      mean       std  unvax_aerosol\n",
       " 0  0.5  0.021346  0.007948   3.569862e-07\n",
       " 1  0.6  0.020463  0.007770   4.286418e-07\n",
       " 2  0.7  0.018967  0.007582   4.085974e-07\n",
       " 3  0.8  0.016911  0.006841   3.586894e-07\n",
       " 4  0.9  0.015085  0.006254   3.423337e-07\n",
       " 5  1.0  0.013114  0.004783   3.012121e-07,\n",
       " 'dense_breathe_unvaxmask_4x':      p      mean       std  unvax_aerosol\n",
       " 0  0.5  0.020736  0.008162   2.056925e-07\n",
       " 1  0.6  0.019693  0.007692   2.066561e-07\n",
       " 2  0.7  0.018721  0.007093   1.785964e-07\n",
       " 3  0.8  0.017490  0.006782   1.892012e-07\n",
       " 4  0.9  0.015549  0.005987   1.797491e-07\n",
       " 5  1.0  0.012995  0.004753   1.356151e-07,\n",
       " 'dense_speak_nomask_2x':      p      mean       std  unvax_aerosol\n",
       " 0  0.5  0.095374  0.051097       0.000008\n",
       " 1  0.6  0.082407  0.048632       0.000008\n",
       " 2  0.7  0.066104  0.045442       0.000006\n",
       " 3  0.8  0.050164  0.039637       0.000005\n",
       " 4  0.9  0.031469  0.027403       0.000004\n",
       " 5  1.0  0.013203  0.004659       0.000002,\n",
       " 'dense_speak_nomask_4x':      p      mean       std  unvax_aerosol\n",
       " 0  0.5  0.100676  0.050303       0.000005\n",
       " 1  0.6  0.080848  0.047513       0.000003\n",
       " 2  0.7  0.065384  0.045727       0.000003\n",
       " 3  0.8  0.047300  0.036776       0.000003\n",
       " 4  0.9  0.030852  0.028112       0.000002\n",
       " 5  1.0  0.013254  0.004527       0.000001,\n",
       " 'dense_speak_unvaxmask_2x':      p      mean       std  unvax_aerosol\n",
       " 0  0.5  0.021444  0.007799       0.000003\n",
       " 1  0.6  0.020193  0.007687       0.000004\n",
       " 2  0.7  0.018403  0.007277       0.000003\n",
       " 3  0.8  0.017916  0.006915       0.000002\n",
       " 4  0.9  0.015647  0.006402       0.000003\n",
       " 5  1.0  0.013333  0.004596       0.000002,\n",
       " 'dense_speak_unvaxmask_4x':      p      mean       std  unvax_aerosol\n",
       " 0  0.5  0.021246  0.007883       0.000002\n",
       " 1  0.6  0.020253  0.007809       0.000002\n",
       " 2  0.7  0.019420  0.007745       0.000001\n",
       " 3  0.8  0.017250  0.006858       0.000002\n",
       " 4  0.9  0.015734  0.006319       0.000001\n",
       " 5  1.0  0.012936  0.004585       0.000002,\n",
       " 'dense_sing_nomask_2x':      p      mean       std  unvax_aerosol\n",
       " 0  0.5  0.094853  0.052712       0.000076\n",
       " 1  0.6  0.079189  0.048324       0.000077\n",
       " 2  0.7  0.066141  0.046118       0.000069\n",
       " 3  0.8  0.053828  0.041244       0.000073\n",
       " 4  0.9  0.031195  0.027730       0.000056\n",
       " 5  1.0  0.013090  0.004567       0.000028,\n",
       " 'dense_sing_nomask_4x':      p      mean       std  unvax_aerosol\n",
       " 0  0.5  0.095560  0.050455       0.000044\n",
       " 1  0.6  0.081614  0.047627       0.000043\n",
       " 2  0.7  0.064187  0.045337       0.000033\n",
       " 3  0.8  0.049623  0.041000       0.000029\n",
       " 4  0.9  0.031176  0.028401       0.000025\n",
       " 5  1.0  0.013304  0.004617       0.000012,\n",
       " 'dense_sing_unvaxmask_2x':      p      mean       std  unvax_aerosol\n",
       " 0  0.5  0.021209  0.007980       0.000036\n",
       " 1  0.6  0.020314  0.007491       0.000040\n",
       " 2  0.7  0.019368  0.007584       0.000033\n",
       " 3  0.8  0.017562  0.006924       0.000035\n",
       " 4  0.9  0.015557  0.005974       0.000034\n",
       " 5  1.0  0.013356  0.004632       0.000030,\n",
       " 'dense_sing_unvaxmask_4x':      p      mean       std  unvax_aerosol\n",
       " 0  0.5  0.021342  0.007965       0.000022\n",
       " 1  0.6  0.020268  0.007773       0.000020\n",
       " 2  0.7  0.019593  0.007342       0.000017\n",
       " 3  0.8  0.017326  0.006887       0.000018\n",
       " 4  0.9  0.015443  0.005919       0.000020\n",
       " 5  1.0  0.012869  0.004694       0.000015}"
      ]
     },
     "execution_count": 30,
     "metadata": {},
     "output_type": "execute_result"
    }
   ],
   "source": [
    "final_results"
   ]
  },
  {
   "cell_type": "code",
   "execution_count": 31,
   "metadata": {},
   "outputs": [],
   "source": [
    "with open('sim_results/COVID_delta_sims_events_updated_aerosol.pickle', 'wb') as handle:\n",
    "    pickle.dump(final_results, handle, protocol=pickle.HIGHEST_PROTOCOL)"
   ]
  },
  {
   "cell_type": "code",
   "execution_count": null,
   "metadata": {},
   "outputs": [],
   "source": []
  }
 ],
 "metadata": {
  "kernelspec": {
   "display_name": "Python 3",
   "language": "python",
   "name": "python3"
  },
  "language_info": {
   "codemirror_mode": {
    "name": "ipython",
    "version": 3
   },
   "file_extension": ".py",
   "mimetype": "text/x-python",
   "name": "python",
   "nbconvert_exporter": "python",
   "pygments_lexer": "ipython3",
   "version": "3.8.8"
  }
 },
 "nbformat": 4,
 "nbformat_minor": 4
}
